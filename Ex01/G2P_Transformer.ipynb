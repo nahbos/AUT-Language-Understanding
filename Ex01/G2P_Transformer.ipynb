{
  "nbformat": 4,
  "nbformat_minor": 0,
  "metadata": {
    "colab": {
      "provenance": [],
      "collapsed_sections": [],
      "include_colab_link": true
    },
    "kernelspec": {
      "name": "python3",
      "display_name": "Python 3"
    },
    "language_info": {
      "name": "python"
    },
    "accelerator": "GPU",
    "gpuClass": "standard",
    "widgets": {
      "application/vnd.jupyter.widget-state+json": {
        "4507233dd9df41a5a33e4a90100c8dd9": {
          "model_module": "@jupyter-widgets/controls",
          "model_name": "HBoxModel",
          "model_module_version": "1.5.0",
          "state": {
            "_dom_classes": [],
            "_model_module": "@jupyter-widgets/controls",
            "_model_module_version": "1.5.0",
            "_model_name": "HBoxModel",
            "_view_count": null,
            "_view_module": "@jupyter-widgets/controls",
            "_view_module_version": "1.5.0",
            "_view_name": "HBoxView",
            "box_style": "",
            "children": [
              "IPY_MODEL_7d2aa8d33c2d40b891893f0fd247ddc3",
              "IPY_MODEL_bd8ffa3ea0aa48e2a8af4e873a44cd48",
              "IPY_MODEL_d0019a5b14ff48eb897f45678abebf72"
            ],
            "layout": "IPY_MODEL_e97160c9b6d947cd88fdeee1f1ae16a4"
          }
        },
        "7d2aa8d33c2d40b891893f0fd247ddc3": {
          "model_module": "@jupyter-widgets/controls",
          "model_name": "HTMLModel",
          "model_module_version": "1.5.0",
          "state": {
            "_dom_classes": [],
            "_model_module": "@jupyter-widgets/controls",
            "_model_module_version": "1.5.0",
            "_model_name": "HTMLModel",
            "_view_count": null,
            "_view_module": "@jupyter-widgets/controls",
            "_view_module_version": "1.5.0",
            "_view_name": "HTMLView",
            "description": "",
            "description_tooltip": null,
            "layout": "IPY_MODEL_26d38d08e2e946b4bee0a5593c5681c2",
            "placeholder": "​",
            "style": "IPY_MODEL_afa5e3207e844d6e970dd27f70fce7b2",
            "value": "100%"
          }
        },
        "bd8ffa3ea0aa48e2a8af4e873a44cd48": {
          "model_module": "@jupyter-widgets/controls",
          "model_name": "FloatProgressModel",
          "model_module_version": "1.5.0",
          "state": {
            "_dom_classes": [],
            "_model_module": "@jupyter-widgets/controls",
            "_model_module_version": "1.5.0",
            "_model_name": "FloatProgressModel",
            "_view_count": null,
            "_view_module": "@jupyter-widgets/controls",
            "_view_module_version": "1.5.0",
            "_view_name": "ProgressView",
            "bar_style": "success",
            "description": "",
            "description_tooltip": null,
            "layout": "IPY_MODEL_e3b48f6b1c874d65a0128d8eccf5ed09",
            "max": 10164,
            "min": 0,
            "orientation": "horizontal",
            "style": "IPY_MODEL_de1a531dfc6e4f47b360d5aea083f731",
            "value": 10164
          }
        },
        "d0019a5b14ff48eb897f45678abebf72": {
          "model_module": "@jupyter-widgets/controls",
          "model_name": "HTMLModel",
          "model_module_version": "1.5.0",
          "state": {
            "_dom_classes": [],
            "_model_module": "@jupyter-widgets/controls",
            "_model_module_version": "1.5.0",
            "_model_name": "HTMLModel",
            "_view_count": null,
            "_view_module": "@jupyter-widgets/controls",
            "_view_module_version": "1.5.0",
            "_view_name": "HTMLView",
            "description": "",
            "description_tooltip": null,
            "layout": "IPY_MODEL_121d5c98932943778f2869d58ce03f93",
            "placeholder": "​",
            "style": "IPY_MODEL_5a0126489d5e4d058765af7aafa231aa",
            "value": " 10164/10164 [02:28&lt;00:00, 63.71it/s]"
          }
        },
        "e97160c9b6d947cd88fdeee1f1ae16a4": {
          "model_module": "@jupyter-widgets/base",
          "model_name": "LayoutModel",
          "model_module_version": "1.2.0",
          "state": {
            "_model_module": "@jupyter-widgets/base",
            "_model_module_version": "1.2.0",
            "_model_name": "LayoutModel",
            "_view_count": null,
            "_view_module": "@jupyter-widgets/base",
            "_view_module_version": "1.2.0",
            "_view_name": "LayoutView",
            "align_content": null,
            "align_items": null,
            "align_self": null,
            "border": null,
            "bottom": null,
            "display": null,
            "flex": null,
            "flex_flow": null,
            "grid_area": null,
            "grid_auto_columns": null,
            "grid_auto_flow": null,
            "grid_auto_rows": null,
            "grid_column": null,
            "grid_gap": null,
            "grid_row": null,
            "grid_template_areas": null,
            "grid_template_columns": null,
            "grid_template_rows": null,
            "height": null,
            "justify_content": null,
            "justify_items": null,
            "left": null,
            "margin": null,
            "max_height": null,
            "max_width": null,
            "min_height": null,
            "min_width": null,
            "object_fit": null,
            "object_position": null,
            "order": null,
            "overflow": null,
            "overflow_x": null,
            "overflow_y": null,
            "padding": null,
            "right": null,
            "top": null,
            "visibility": null,
            "width": null
          }
        },
        "26d38d08e2e946b4bee0a5593c5681c2": {
          "model_module": "@jupyter-widgets/base",
          "model_name": "LayoutModel",
          "model_module_version": "1.2.0",
          "state": {
            "_model_module": "@jupyter-widgets/base",
            "_model_module_version": "1.2.0",
            "_model_name": "LayoutModel",
            "_view_count": null,
            "_view_module": "@jupyter-widgets/base",
            "_view_module_version": "1.2.0",
            "_view_name": "LayoutView",
            "align_content": null,
            "align_items": null,
            "align_self": null,
            "border": null,
            "bottom": null,
            "display": null,
            "flex": null,
            "flex_flow": null,
            "grid_area": null,
            "grid_auto_columns": null,
            "grid_auto_flow": null,
            "grid_auto_rows": null,
            "grid_column": null,
            "grid_gap": null,
            "grid_row": null,
            "grid_template_areas": null,
            "grid_template_columns": null,
            "grid_template_rows": null,
            "height": null,
            "justify_content": null,
            "justify_items": null,
            "left": null,
            "margin": null,
            "max_height": null,
            "max_width": null,
            "min_height": null,
            "min_width": null,
            "object_fit": null,
            "object_position": null,
            "order": null,
            "overflow": null,
            "overflow_x": null,
            "overflow_y": null,
            "padding": null,
            "right": null,
            "top": null,
            "visibility": null,
            "width": null
          }
        },
        "afa5e3207e844d6e970dd27f70fce7b2": {
          "model_module": "@jupyter-widgets/controls",
          "model_name": "DescriptionStyleModel",
          "model_module_version": "1.5.0",
          "state": {
            "_model_module": "@jupyter-widgets/controls",
            "_model_module_version": "1.5.0",
            "_model_name": "DescriptionStyleModel",
            "_view_count": null,
            "_view_module": "@jupyter-widgets/base",
            "_view_module_version": "1.2.0",
            "_view_name": "StyleView",
            "description_width": ""
          }
        },
        "e3b48f6b1c874d65a0128d8eccf5ed09": {
          "model_module": "@jupyter-widgets/base",
          "model_name": "LayoutModel",
          "model_module_version": "1.2.0",
          "state": {
            "_model_module": "@jupyter-widgets/base",
            "_model_module_version": "1.2.0",
            "_model_name": "LayoutModel",
            "_view_count": null,
            "_view_module": "@jupyter-widgets/base",
            "_view_module_version": "1.2.0",
            "_view_name": "LayoutView",
            "align_content": null,
            "align_items": null,
            "align_self": null,
            "border": null,
            "bottom": null,
            "display": null,
            "flex": null,
            "flex_flow": null,
            "grid_area": null,
            "grid_auto_columns": null,
            "grid_auto_flow": null,
            "grid_auto_rows": null,
            "grid_column": null,
            "grid_gap": null,
            "grid_row": null,
            "grid_template_areas": null,
            "grid_template_columns": null,
            "grid_template_rows": null,
            "height": null,
            "justify_content": null,
            "justify_items": null,
            "left": null,
            "margin": null,
            "max_height": null,
            "max_width": null,
            "min_height": null,
            "min_width": null,
            "object_fit": null,
            "object_position": null,
            "order": null,
            "overflow": null,
            "overflow_x": null,
            "overflow_y": null,
            "padding": null,
            "right": null,
            "top": null,
            "visibility": null,
            "width": null
          }
        },
        "de1a531dfc6e4f47b360d5aea083f731": {
          "model_module": "@jupyter-widgets/controls",
          "model_name": "ProgressStyleModel",
          "model_module_version": "1.5.0",
          "state": {
            "_model_module": "@jupyter-widgets/controls",
            "_model_module_version": "1.5.0",
            "_model_name": "ProgressStyleModel",
            "_view_count": null,
            "_view_module": "@jupyter-widgets/base",
            "_view_module_version": "1.2.0",
            "_view_name": "StyleView",
            "bar_color": null,
            "description_width": ""
          }
        },
        "121d5c98932943778f2869d58ce03f93": {
          "model_module": "@jupyter-widgets/base",
          "model_name": "LayoutModel",
          "model_module_version": "1.2.0",
          "state": {
            "_model_module": "@jupyter-widgets/base",
            "_model_module_version": "1.2.0",
            "_model_name": "LayoutModel",
            "_view_count": null,
            "_view_module": "@jupyter-widgets/base",
            "_view_module_version": "1.2.0",
            "_view_name": "LayoutView",
            "align_content": null,
            "align_items": null,
            "align_self": null,
            "border": null,
            "bottom": null,
            "display": null,
            "flex": null,
            "flex_flow": null,
            "grid_area": null,
            "grid_auto_columns": null,
            "grid_auto_flow": null,
            "grid_auto_rows": null,
            "grid_column": null,
            "grid_gap": null,
            "grid_row": null,
            "grid_template_areas": null,
            "grid_template_columns": null,
            "grid_template_rows": null,
            "height": null,
            "justify_content": null,
            "justify_items": null,
            "left": null,
            "margin": null,
            "max_height": null,
            "max_width": null,
            "min_height": null,
            "min_width": null,
            "object_fit": null,
            "object_position": null,
            "order": null,
            "overflow": null,
            "overflow_x": null,
            "overflow_y": null,
            "padding": null,
            "right": null,
            "top": null,
            "visibility": null,
            "width": null
          }
        },
        "5a0126489d5e4d058765af7aafa231aa": {
          "model_module": "@jupyter-widgets/controls",
          "model_name": "DescriptionStyleModel",
          "model_module_version": "1.5.0",
          "state": {
            "_model_module": "@jupyter-widgets/controls",
            "_model_module_version": "1.5.0",
            "_model_name": "DescriptionStyleModel",
            "_view_count": null,
            "_view_module": "@jupyter-widgets/base",
            "_view_module_version": "1.2.0",
            "_view_name": "StyleView",
            "description_width": ""
          }
        }
      }
    }
  },
  "cells": [
    {
      "cell_type": "markdown",
      "metadata": {
        "id": "view-in-github",
        "colab_type": "text"
      },
      "source": [
        "<a href=\"https://colab.research.google.com/github/nahbos/AUT-Language-Understanding/blob/main/Ex01/G2P_Transformer.ipynb\" target=\"_parent\"><img src=\"https://colab.research.google.com/assets/colab-badge.svg\" alt=\"Open In Colab\"/></a>"
      ]
    },
    {
      "cell_type": "code",
      "execution_count": 71,
      "metadata": {
        "id": "zUrrYaeke-MF",
        "colab": {
          "base_uri": "https://localhost:8080/"
        },
        "outputId": "dd186571-1210-411a-e1ff-1be75105fa88"
      },
      "outputs": [
        {
          "output_type": "stream",
          "name": "stdout",
          "text": [
            "Looking in indexes: https://pypi.org/simple, https://us-python.pkg.dev/colab-wheels/public/simple/\n",
            "Requirement already satisfied: python-Levenshtein in /usr/local/lib/python3.7/dist-packages (0.20.8)\n",
            "Requirement already satisfied: Levenshtein==0.20.8 in /usr/local/lib/python3.7/dist-packages (from python-Levenshtein) (0.20.8)\n",
            "Requirement already satisfied: rapidfuzz<3.0.0,>=2.3.0 in /usr/local/lib/python3.7/dist-packages (from Levenshtein==0.20.8->python-Levenshtein) (2.13.2)\n"
          ]
        }
      ],
      "source": [
        "!pip install python-Levenshtein"
      ]
    },
    {
      "cell_type": "code",
      "source": [
        "!wget -nc https://raw.githubusercontent.com/nahbos/AUT-Language-Understanding/main/Ex01/HW01/data/train_data.txt\n",
        "!wget -nc https://raw.githubusercontent.com/nahbos/AUT-Language-Understanding/main/Ex01/HW01/data/test_data.txt"
      ],
      "metadata": {
        "colab": {
          "base_uri": "https://localhost:8080/"
        },
        "id": "KIC638vzjiMu",
        "outputId": "2c48008d-f7e3-45c0-a70d-ca373efc353a"
      },
      "execution_count": 72,
      "outputs": [
        {
          "output_type": "stream",
          "name": "stdout",
          "text": [
            "File ‘train_data.txt’ already there; not retrieving.\n",
            "\n",
            "File ‘test_data.txt’ already there; not retrieving.\n",
            "\n"
          ]
        }
      ]
    },
    {
      "cell_type": "code",
      "source": [
        "# Replicated by @SobhanMoradianDaghigh on 11-5-2022\n",
        "\n",
        "\n",
        "# Import Libraries -------------------------\n",
        "import os\n",
        "import time\n",
        "import argparse\n",
        "import random\n",
        "import math\n",
        "\n",
        "\n",
        "import Levenshtein  # for PER I prefer to use Levenshtein rather to jiwer: https://github.com/ztane/python-Levenshtein/\n",
        "\n",
        "\n",
        "# Torch libs\n",
        "import torch\n",
        "import torch.nn as nn\n",
        "import torch.nn.functional as F\n",
        "from torch.autograd import Variable\n",
        "import torch.optim as optim\n",
        "from torch.nn.utils import clip_grad_norm\n",
        "import torchtext.data as data\n",
        "\n",
        "\n",
        "# Checking if the CUDA is available on the Local system: Sobhans' GTX1050 > returned True\n",
        "# print(torch.cuda.is_available())\n",
        "\n",
        "\n",
        "# Setting the args\n",
        "parser = {\n",
        "    'data_path': './',\n",
        "\n",
        "    'epochs': 50,\n",
        "    'batch_size': 256,\n",
        "\n",
        "    'max_len': 40,  # max length of grapheme/phoneme sequences\n",
        "\n",
        "    'lr_decay': 0.5,  # decay lr when not observing improvement in val_loss\n",
        "    'lr_min': 1e-5,  # stop when lr is too low\n",
        "    'n_bad_loss': 3,  # number of bad val_loss before decaying\n",
        "    'clip': 2.3,  # clip gradient, to avoid exploding gradient\n",
        "\n",
        "    'log_every': 200,  # number of iterations to log and validate training\n",
        "    \n",
        "    'cuda': True,  # using gpu or not\n",
        "    'seed': 5,  # initial seed\n",
        "    'intermediate_path': './',  # path to save models\n",
        "}\n",
        "args = argparse.Namespace(**parser)\n",
        "\n",
        "args.cuda = args.cuda and torch.cuda.is_available()\n",
        "if not os.path.isdir(args.intermediate_path):\n",
        "    os.makedirs(args.intermediate_path)\n",
        "\n",
        "torch.manual_seed(args.seed)\n",
        "if args.cuda:\n",
        "    torch.cuda.manual_seed(args.seed)\n",
        "\n",
        "random.seed(args.seed)\n",
        "torch.manual_seed(args.seed)\n",
        "torch.cuda.manual_seed(args.seed)\n",
        "\n",
        "\n",
        "config = args\n",
        "config.best_model = os.path.join(config.intermediate_path, \"best_model_adagrad_attn.pth\")\n",
        "device = torch.device('cuda') if args.cuda else torch.device('cpu')\n",
        "\n",
        "\n",
        "def phoneme_error_rate(p_seq1, p_seq2):\n",
        "    p_vocab = set(p_seq1 + p_seq2)\n",
        "    p2c = dict(zip(p_vocab, range(len(p_vocab))))\n",
        "    c_seq1 = [chr(p2c[p]) for p in p_seq1]\n",
        "    c_seq2 = [chr(p2c[p]) for p in p_seq2]\n",
        "    return Levenshtein.distance(''.join(c_seq1), ''.join(c_seq2)) / len(c_seq2)"
      ],
      "metadata": {
        "id": "xo6wZ8RUjiKa"
      },
      "execution_count": 73,
      "outputs": []
    },
    {
      "cell_type": "code",
      "source": [],
      "metadata": {
        "id": "CcAIGYUISPIx"
      },
      "execution_count": 73,
      "outputs": []
    },
    {
      "cell_type": "code",
      "source": [
        "graphemes = ['PAD', 'SOS'] + ['EOS']\n",
        "phonemes  = ['PAD', 'SOS'] + ['EOS']\n",
        "\n",
        "with open('./train_data.txt', 'r') as f:\n",
        "    data = f.read().strip().split('\\n')\n",
        "    for ele in data:\n",
        "        temp = ele.split('\\t')\n",
        "        for g in list(temp[0]):\n",
        "            graphemes.insert(-1, g)\n",
        "\n",
        "        for p in list(temp[1]):\n",
        "            phonemes.insert(-1, p)\n",
        "\n",
        "graphemes = sorted(set(graphemes), key=graphemes.index)\n",
        "phonemes  = sorted(set(phonemes),  key=phonemes.index)\n",
        "\n",
        "g2idx = {g: idx for idx, g in enumerate(graphemes)}\n",
        "idx2g = {idx: g for idx, g in enumerate(graphemes)}\n",
        "\n",
        "p2idx = {p: idx for idx, p in enumerate(phonemes)}\n",
        "idx2p = {idx: p for idx, p in enumerate(phonemes)}\n",
        "\n",
        "def g2seq(s):\n",
        "    return [g2idx['SOS']] + [g2idx[i] for i in s if i in g2idx.keys()] + [g2idx['EOS']]\n",
        "    \n",
        "def seq2g(s):\n",
        "    return [idx2g[i] for i in s if idx2g[i]]\n",
        "\n",
        "def p2seq(s):\n",
        "    return [p2idx['SOS']] + [p2idx[i] for i in s if i in p2idx.keys()] + [p2idx['EOS']]\n",
        "\n",
        "def seq2p(s):\n",
        "    return [idx2p[i] for i in s]"
      ],
      "metadata": {
        "id": "q4yCvnZxRMQ6"
      },
      "execution_count": 74,
      "outputs": []
    },
    {
      "cell_type": "code",
      "source": [
        "len(graphemes), len(phonemes)"
      ],
      "metadata": {
        "colab": {
          "base_uri": "https://localhost:8080/"
        },
        "id": "kUEYe77TWgCa",
        "outputId": "bc5adfb5-9107-4cdf-9cba-1affef885f3b"
      },
      "execution_count": 75,
      "outputs": [
        {
          "output_type": "execute_result",
          "data": {
            "text/plain": [
              "(44, 32)"
            ]
          },
          "metadata": {},
          "execution_count": 75
        }
      ]
    },
    {
      "cell_type": "code",
      "source": [
        "class TextLoader(torch.utils.data.Dataset):\n",
        "    def __init__(self, path):\n",
        "        self.x, self.y = [], []\n",
        "        with open(path, 'r') as f:\n",
        "            data = f.read().strip().split('\\n')\n",
        "        for line in data:\n",
        "            x, y = line.split(maxsplit=1)\n",
        "            self.x.append(g2seq(x))\n",
        "            self.y.append(p2seq(y))\n",
        "\n",
        "    def __getitem__(self, index):\n",
        "        return (torch.LongTensor(self.x[index]), torch.LongTensor(self.y[index]))\n",
        "\n",
        "    def __len__(self):\n",
        "        return len(self.x)\n",
        "\n",
        "\n",
        "class TextCollate():\n",
        "    def __call__(self, batch):\n",
        "        max_x_len = max([i[0].size(0) for i in batch])\n",
        "        x_padded = torch.LongTensor(max_x_len, len(batch))\n",
        "        x_padded.zero_()\n",
        "\n",
        "        max_y_len = max([i[1].size(0) for i in batch])\n",
        "        y_padded = torch.LongTensor(max_y_len, len(batch))\n",
        "        y_padded.zero_()\n",
        "\n",
        "        for i in range(len(batch)):\n",
        "            x = batch[i][0]\n",
        "            x_padded[:x.size(0), i] = x\n",
        "            y = batch[i][1]\n",
        "            y_padded[:y.size(0), i] = y\n",
        "\n",
        "        return x_padded, y_padded"
      ],
      "metadata": {
        "id": "EBtXa7cMa-ue"
      },
      "execution_count": 76,
      "outputs": []
    },
    {
      "cell_type": "code",
      "source": [
        "pin_memory = True\n",
        "num_workers = 2\n",
        "\n",
        "train_data = TextLoader(path='./train_data.txt')\n",
        "testset = TextLoader(path='./test_data.txt')\n",
        "\n",
        "\n",
        "def splits(trainset):\n",
        "\n",
        "    train = []\n",
        "    for ele in trainset:\n",
        "        train.append(ele)\n",
        "\n",
        "    random.shuffle(train)\n",
        "\n",
        "    trainset, valset = [], []\n",
        "\n",
        "    for i, line in enumerate(train):\n",
        "        if i % 60 < 1:  # Try to separate about 1084 val from 65000\n",
        "            valset.append(line)\n",
        "        else:\n",
        "            trainset.append(line)\n",
        "\n",
        "    print((len(trainset), len(valset)))\n",
        "    # Returned: (63916, 1084)\n",
        "\n",
        "    return trainset, valset\n",
        "\n",
        "trainset, valset = splits(train_data)\n",
        "\n",
        "collate_fn = TextCollate()\n",
        "\n",
        "train_loader = torch.utils.data.DataLoader(trainset, num_workers=num_workers, shuffle=True, batch_size=args.batch_size, pin_memory=pin_memory, drop_last=True, collate_fn=collate_fn)\n",
        "\n",
        "val_loader = torch.utils.data.DataLoader(valset, num_workers=2, shuffle=False, batch_size=1, pin_memory=False, drop_last=False, collate_fn=collate_fn)\n",
        "\n",
        "test_loader = torch.utils.data.DataLoader(testset, num_workers=num_workers, shuffle=False, batch_size=1, pin_memory=pin_memory, drop_last=False, collate_fn=collate_fn)"
      ],
      "metadata": {
        "id": "rde_KZMCbHgv",
        "colab": {
          "base_uri": "https://localhost:8080/"
        },
        "outputId": "dac44ea7-8f4d-4569-d9cf-a553d900970c"
      },
      "execution_count": 77,
      "outputs": [
        {
          "output_type": "stream",
          "name": "stdout",
          "text": [
            "(63916, 1084)\n"
          ]
        }
      ]
    },
    {
      "cell_type": "code",
      "source": [
        "class PositionalEncoding(nn.Module):\n",
        "    def __init__(self, d_model, dropout=0.1, max_len=50):\n",
        "        super(PositionalEncoding, self).__init__()\n",
        "        self.dropout = nn.Dropout(p=dropout)\n",
        "        self.scale = nn.Parameter(torch.ones(1))\n",
        "\n",
        "        pe = torch.zeros(max_len, d_model)\n",
        "        position = torch.arange(0, max_len, dtype=torch.float).unsqueeze(1)\n",
        "        div_term = torch.exp(torch.arange(\n",
        "            0, d_model, 2).float() * (-math.log(10000.0) / d_model))\n",
        "        pe[:, 0::2] = torch.sin(position * div_term)\n",
        "        pe[:, 1::2] = torch.cos(position * div_term)\n",
        "        pe = pe.unsqueeze(0).transpose(0, 1)\n",
        "        self.register_buffer('pe', pe)\n",
        "\n",
        "    def forward(self, x):\n",
        "        x = x + self.scale * self.pe[:x.size(0), :]\n",
        "        return self.dropout(x)\n",
        "\n",
        "\n",
        "class TransformerModel(nn.Module):\n",
        "    def __init__(self, intoken, outtoken, hidden, enc_layers=3, dec_layers=1, dropout=0.1):\n",
        "        super(TransformerModel, self).__init__()\n",
        "        nhead = hidden//64\n",
        "        \n",
        "        self.encoder = nn.Embedding(intoken, hidden)\n",
        "        self.pos_encoder = PositionalEncoding(hidden, dropout)\n",
        "\n",
        "        self.decoder = nn.Embedding(outtoken, hidden)\n",
        "        self.pos_decoder = PositionalEncoding(hidden, dropout)\n",
        "\n",
        "        self.transformer = nn.Transformer(d_model=hidden, nhead=nhead, num_encoder_layers=enc_layers, num_decoder_layers=dec_layers, dim_feedforward=hidden*4, dropout=dropout, activation='relu')\n",
        "        self.fc_out = nn.Linear(hidden, outtoken)\n",
        "\n",
        "        self.src_mask = None\n",
        "        self.trg_mask = None\n",
        "        self.memory_mask = None\n",
        "\n",
        "    def generate_square_subsequent_mask(self, sz):\n",
        "        mask = torch.triu(torch.ones(sz, sz), 1)\n",
        "        mask = mask.masked_fill(mask==1, float('-inf'))\n",
        "        return mask\n",
        "\n",
        "    def make_len_mask(self, inp):\n",
        "        return (inp == 0).transpose(0, 1)\n",
        "\n",
        "    def forward(self, src, trg):\n",
        "        if self.trg_mask is None or self.trg_mask.size(0) != len(trg):\n",
        "            self.trg_mask = self.generate_square_subsequent_mask(len(trg)).to(trg.device)\n",
        "\n",
        "        src_pad_mask = self.make_len_mask(src)\n",
        "        trg_pad_mask = self.make_len_mask(trg)\n",
        "\n",
        "        src = self.encoder(src)\n",
        "        src = self.pos_encoder(src)\n",
        "\n",
        "        trg = self.decoder(trg)\n",
        "        trg = self.pos_decoder(trg)\n",
        "\n",
        "        output = self.transformer(src, trg, src_mask=self.src_mask, tgt_mask=self.trg_mask, memory_mask=self.memory_mask,\n",
        "                                  src_key_padding_mask=src_pad_mask, tgt_key_padding_mask=trg_pad_mask, memory_key_padding_mask=src_pad_mask)\n",
        "        output = self.fc_out(output)\n",
        "\n",
        "        return output"
      ],
      "metadata": {
        "id": "udgJZE0FAO-A"
      },
      "execution_count": 78,
      "outputs": []
    },
    {
      "cell_type": "code",
      "source": [
        "INPUT_DIM = len(graphemes)\n",
        "OUTPUT_DIM = len(phonemes)\n",
        "\n",
        "model = TransformerModel(INPUT_DIM, OUTPUT_DIM, hidden=128, enc_layers=3, dec_layers=1).to(device)\n",
        "\n",
        "def count_parameters(model):\n",
        "    return sum(p.numel() for p in model.parameters() if p.requires_grad)\n",
        "\n",
        "print(f'The model has {count_parameters(model):,} trainable parameters')\n",
        "print(model)"
      ],
      "metadata": {
        "id": "urdvrn-KbSNW",
        "colab": {
          "base_uri": "https://localhost:8080/"
        },
        "outputId": "427eb729-3565-4c50-faf1-f8ee5c40c2ae"
      },
      "execution_count": 79,
      "outputs": [
        {
          "output_type": "stream",
          "name": "stdout",
          "text": [
            "The model has 873,762 trainable parameters\n",
            "TransformerModel(\n",
            "  (encoder): Embedding(44, 128)\n",
            "  (pos_encoder): PositionalEncoding(\n",
            "    (dropout): Dropout(p=0.1, inplace=False)\n",
            "  )\n",
            "  (decoder): Embedding(32, 128)\n",
            "  (pos_decoder): PositionalEncoding(\n",
            "    (dropout): Dropout(p=0.1, inplace=False)\n",
            "  )\n",
            "  (transformer): Transformer(\n",
            "    (encoder): TransformerEncoder(\n",
            "      (layers): ModuleList(\n",
            "        (0): TransformerEncoderLayer(\n",
            "          (self_attn): MultiheadAttention(\n",
            "            (out_proj): NonDynamicallyQuantizableLinear(in_features=128, out_features=128, bias=True)\n",
            "          )\n",
            "          (linear1): Linear(in_features=128, out_features=512, bias=True)\n",
            "          (dropout): Dropout(p=0.1, inplace=False)\n",
            "          (linear2): Linear(in_features=512, out_features=128, bias=True)\n",
            "          (norm1): LayerNorm((128,), eps=1e-05, elementwise_affine=True)\n",
            "          (norm2): LayerNorm((128,), eps=1e-05, elementwise_affine=True)\n",
            "          (dropout1): Dropout(p=0.1, inplace=False)\n",
            "          (dropout2): Dropout(p=0.1, inplace=False)\n",
            "        )\n",
            "        (1): TransformerEncoderLayer(\n",
            "          (self_attn): MultiheadAttention(\n",
            "            (out_proj): NonDynamicallyQuantizableLinear(in_features=128, out_features=128, bias=True)\n",
            "          )\n",
            "          (linear1): Linear(in_features=128, out_features=512, bias=True)\n",
            "          (dropout): Dropout(p=0.1, inplace=False)\n",
            "          (linear2): Linear(in_features=512, out_features=128, bias=True)\n",
            "          (norm1): LayerNorm((128,), eps=1e-05, elementwise_affine=True)\n",
            "          (norm2): LayerNorm((128,), eps=1e-05, elementwise_affine=True)\n",
            "          (dropout1): Dropout(p=0.1, inplace=False)\n",
            "          (dropout2): Dropout(p=0.1, inplace=False)\n",
            "        )\n",
            "        (2): TransformerEncoderLayer(\n",
            "          (self_attn): MultiheadAttention(\n",
            "            (out_proj): NonDynamicallyQuantizableLinear(in_features=128, out_features=128, bias=True)\n",
            "          )\n",
            "          (linear1): Linear(in_features=128, out_features=512, bias=True)\n",
            "          (dropout): Dropout(p=0.1, inplace=False)\n",
            "          (linear2): Linear(in_features=512, out_features=128, bias=True)\n",
            "          (norm1): LayerNorm((128,), eps=1e-05, elementwise_affine=True)\n",
            "          (norm2): LayerNorm((128,), eps=1e-05, elementwise_affine=True)\n",
            "          (dropout1): Dropout(p=0.1, inplace=False)\n",
            "          (dropout2): Dropout(p=0.1, inplace=False)\n",
            "        )\n",
            "      )\n",
            "      (norm): LayerNorm((128,), eps=1e-05, elementwise_affine=True)\n",
            "    )\n",
            "    (decoder): TransformerDecoder(\n",
            "      (layers): ModuleList(\n",
            "        (0): TransformerDecoderLayer(\n",
            "          (self_attn): MultiheadAttention(\n",
            "            (out_proj): NonDynamicallyQuantizableLinear(in_features=128, out_features=128, bias=True)\n",
            "          )\n",
            "          (multihead_attn): MultiheadAttention(\n",
            "            (out_proj): NonDynamicallyQuantizableLinear(in_features=128, out_features=128, bias=True)\n",
            "          )\n",
            "          (linear1): Linear(in_features=128, out_features=512, bias=True)\n",
            "          (dropout): Dropout(p=0.1, inplace=False)\n",
            "          (linear2): Linear(in_features=512, out_features=128, bias=True)\n",
            "          (norm1): LayerNorm((128,), eps=1e-05, elementwise_affine=True)\n",
            "          (norm2): LayerNorm((128,), eps=1e-05, elementwise_affine=True)\n",
            "          (norm3): LayerNorm((128,), eps=1e-05, elementwise_affine=True)\n",
            "          (dropout1): Dropout(p=0.1, inplace=False)\n",
            "          (dropout2): Dropout(p=0.1, inplace=False)\n",
            "          (dropout3): Dropout(p=0.1, inplace=False)\n",
            "        )\n",
            "      )\n",
            "      (norm): LayerNorm((128,), eps=1e-05, elementwise_affine=True)\n",
            "    )\n",
            "  )\n",
            "  (fc_out): Linear(in_features=128, out_features=32, bias=True)\n",
            ")\n"
          ]
        }
      ]
    },
    {
      "cell_type": "code",
      "source": [
        "optimizer = optim.AdamW(model.parameters())\n",
        "TRG_PAD_IDX = p2idx['PAD']\n",
        "criterion = nn.CrossEntropyLoss(ignore_index=TRG_PAD_IDX)"
      ],
      "metadata": {
        "id": "OIsqWXGjbiR2"
      },
      "execution_count": 80,
      "outputs": []
    },
    {
      "cell_type": "code",
      "source": [
        "def train(model, optimizer, criterion, iterator, val_iter, epoch):\n",
        "    \n",
        "    global iteration, n_total, train_loss, n_bad_loss\n",
        "    global init, best_val_loss, stop, train_loss_history, val_loss_history\n",
        "\n",
        "\n",
        "    print(\"=> EPOCH {}\".format(epoch))\n",
        "\n",
        "    for batch in iterator:\n",
        "\n",
        "        model.train()\n",
        "\n",
        "        src, trg = batch\n",
        "        src, trg = src.cuda(), trg.cuda()\n",
        "        \n",
        "        optimizer.zero_grad()\n",
        "        output = model(src, trg[:-1,:])\n",
        "        loss = criterion(output.transpose(0, 1).transpose(1, 2), trg[1:,:].transpose(0, 1))\n",
        "        loss.backward()\n",
        "        torch.nn.utils.clip_grad_norm_(model.parameters(), 1.0)\n",
        "        optimizer.step()\n",
        "\n",
        "        train_loss += loss.data.item()\n",
        "        train_loss_history.append(train_loss)\n",
        "\n",
        "\n",
        "        if iteration % config.log_every == 0:\n",
        "            val_loss = evaluate(model, criterion, val_iter)\n",
        "            val_loss_history.append(val_loss)\n",
        "\n",
        "            print(\"   % Time: {:5.0f} | Iteration: {:5} | Train loss: {:.4f} | Val loss: {:.4f}\"\n",
        "                  .format(time.time() - init, iteration, train_loss, val_loss))\n",
        "\n",
        "            \n",
        "            # test for val_loss improvement\n",
        "            if val_loss < best_val_loss:\n",
        "                best_val_loss = val_loss\n",
        "                n_bad_loss = 0\n",
        "                torch.save(model.state_dict(), config.best_model)\n",
        "            else:\n",
        "                n_bad_loss += 1\n",
        "                \n",
        "            if n_bad_loss == config.n_bad_loss:\n",
        "                best_val_loss = val_loss\n",
        "                n_bad_loss = 0\n",
        "                adjust_learning_rate(optimizer, config.lr_decay)\n",
        "                new_lr = optimizer.param_groups[0]['lr']\n",
        "                print(\"=> Adjust learning rate to: {}\".format(new_lr))\n",
        "                if new_lr < config.lr_min:\n",
        "                    stop = True\n",
        "                    break\n",
        "\n",
        "        train_loss = 0\n",
        "        iteration += 1"
      ],
      "metadata": {
        "id": "IDD0FgwmdSce"
      },
      "execution_count": 81,
      "outputs": []
    },
    {
      "cell_type": "code",
      "source": [
        "def adjust_learning_rate(optimizer, lr_decay):\n",
        "    for param_group in optimizer.param_groups:\n",
        "        param_group['lr'] *= lr_decay\n",
        "\n",
        "\n",
        "def evaluate(model, criterion, iterator):\n",
        "\n",
        "    model.eval()\n",
        "    epoch_loss = 0\n",
        "    \n",
        "    with torch.no_grad():    \n",
        "        for i, batch in enumerate(iterator):\n",
        "            src, trg = batch\n",
        "            src, trg = src.cuda(), trg.cuda()\n",
        "\n",
        "            output = model(src, trg[:-1,:])\n",
        "            loss = criterion(output.transpose(0, 1).transpose(1, 2), trg[1:,:].transpose(0, 1))\n",
        "            epoch_loss += loss.item()\n",
        "\n",
        "    return epoch_loss / len(iterator)"
      ],
      "metadata": {
        "id": "SFoSuXyXdvKu"
      },
      "execution_count": 82,
      "outputs": []
    },
    {
      "cell_type": "code",
      "source": [
        "from tqdm.notebook import tqdm\n",
        "\n",
        "def test(model, dataloader, show=10):\n",
        "    model.eval()\n",
        "    error_w = 0\n",
        "    error_p = 0\n",
        "    random_tests = random.sample(range(0, len(dataloader)), 50)\n",
        "    all_output = []\n",
        "\n",
        "    with torch.no_grad():\n",
        "        for idx, batch in enumerate(tqdm(dataloader)):\n",
        "            src, trg = batch\n",
        "            src, trg = src.cuda(), trg.cuda()\n",
        "            real_p = seq2p(trg.squeeze(1).tolist())\n",
        "            real_g = seq2g(src.squeeze(1).tolist()[1:-1])\n",
        "\n",
        "            memory = model.transformer.encoder(model.pos_encoder(model.encoder(src)))\n",
        "\n",
        "            out_indexes = [p2idx['SOS'], ]\n",
        "\n",
        "            for i in range(args.max_len):\n",
        "                trg_tensor = torch.LongTensor(out_indexes).unsqueeze(1).to(device)\n",
        "\n",
        "                output = model.fc_out(model.transformer.decoder(model.pos_decoder(model.decoder(trg_tensor)), memory))\n",
        "                out_token = output.argmax(2)[-1].item()\n",
        "                out_indexes.append(out_token)\n",
        "                if out_token == p2idx['EOS']:\n",
        "                    break\n",
        "\n",
        "            out_p = seq2p(out_indexes)\n",
        "            error_w += int(real_p != out_p)\n",
        "            error_p += phoneme_error_rate(real_p, out_p)\n",
        "\n",
        "            all_output.append([''.join(real_g), ''.join(real_p[1:-1]), ''.join(out_p[1:-1])])\n",
        "            \n",
        "            # if idx in random_tests:\n",
        "            #     print('>', ''.join(real_g))\n",
        "            #     print('=', ''.join(real_p[1:-1]))\n",
        "            #     print('<', ''.join(out_p[1:-1]))\n",
        "            #     print()\n",
        "            \n",
        "    test_per = error_p / len(dataloader) * 100\n",
        "    test_wer = error_w / len(dataloader) * 100\n",
        "    print(\"Phoneme error rate (PER): {:.2f}\\nWord error rate (WER): {:.2f}\"\n",
        "          .format(test_per, test_wer))\n",
        "    \n",
        "    return all_output"
      ],
      "metadata": {
        "id": "A4gC4fwjmqCL"
      },
      "execution_count": 83,
      "outputs": []
    },
    {
      "cell_type": "code",
      "source": [
        "train_loss_history, val_loss_history = [], []\n",
        "best_val_loss = 10\n",
        "iteration = n_total = train_loss = n_bad_loss = 0\n",
        "init = time.time()\n",
        "stop = False\n",
        "\n",
        "for epoch in range(args.epochs):\n",
        "    train(model, optimizer, criterion, train_loader, val_loader, epoch + 1)\n",
        "    if stop:\n",
        "        break"
      ],
      "metadata": {
        "id": "-Mp2s-56d4Yt",
        "colab": {
          "base_uri": "https://localhost:8080/"
        },
        "outputId": "4fe3b221-1567-4724-956c-4c6ee015df93"
      },
      "execution_count": 84,
      "outputs": [
        {
          "output_type": "stream",
          "name": "stdout",
          "text": [
            "=> EPOCH 1\n",
            "   % Time:     6 | Iteration:     0 | Train loss: 3.6109 | Val loss: 3.2093\n",
            "   % Time:    17 | Iteration:   200 | Train loss: 0.5703 | Val loss: 0.3965\n",
            "=> EPOCH 2\n",
            "   % Time:    34 | Iteration:   400 | Train loss: 0.4772 | Val loss: 0.3122\n",
            "=> EPOCH 3\n",
            "   % Time:    45 | Iteration:   600 | Train loss: 0.4202 | Val loss: 0.2814\n",
            "=> EPOCH 4\n",
            "   % Time:    56 | Iteration:   800 | Train loss: 0.3559 | Val loss: 0.2606\n",
            "=> EPOCH 5\n",
            "   % Time:    68 | Iteration:  1000 | Train loss: 0.3238 | Val loss: 0.2658\n",
            "   % Time:    79 | Iteration:  1200 | Train loss: 0.3333 | Val loss: 0.2462\n",
            "=> EPOCH 6\n",
            "   % Time:    90 | Iteration:  1400 | Train loss: 0.2980 | Val loss: 0.2388\n",
            "=> EPOCH 7\n",
            "   % Time:   102 | Iteration:  1600 | Train loss: 0.3031 | Val loss: 0.2373\n",
            "=> EPOCH 8\n",
            "   % Time:   113 | Iteration:  1800 | Train loss: 0.2890 | Val loss: 0.2351\n",
            "=> EPOCH 9\n",
            "   % Time:   124 | Iteration:  2000 | Train loss: 0.2966 | Val loss: 0.2271\n",
            "   % Time:   136 | Iteration:  2200 | Train loss: 0.2971 | Val loss: 0.2220\n",
            "=> EPOCH 10\n",
            "   % Time:   147 | Iteration:  2400 | Train loss: 0.2875 | Val loss: 0.2245\n",
            "=> EPOCH 11\n",
            "   % Time:   158 | Iteration:  2600 | Train loss: 0.2754 | Val loss: 0.2218\n",
            "=> EPOCH 12\n",
            "   % Time:   169 | Iteration:  2800 | Train loss: 0.2814 | Val loss: 0.2133\n",
            "=> EPOCH 13\n",
            "   % Time:   181 | Iteration:  3000 | Train loss: 0.2619 | Val loss: 0.2090\n",
            "   % Time:   192 | Iteration:  3200 | Train loss: 0.2503 | Val loss: 0.2102\n",
            "=> EPOCH 14\n",
            "   % Time:   203 | Iteration:  3400 | Train loss: 0.2715 | Val loss: 0.2062\n",
            "=> EPOCH 15\n",
            "   % Time:   214 | Iteration:  3600 | Train loss: 0.2488 | Val loss: 0.2026\n",
            "=> EPOCH 16\n",
            "   % Time:   225 | Iteration:  3800 | Train loss: 0.2363 | Val loss: 0.1984\n",
            "=> EPOCH 17\n",
            "   % Time:   236 | Iteration:  4000 | Train loss: 0.2572 | Val loss: 0.2012\n",
            "   % Time:   247 | Iteration:  4200 | Train loss: 0.2857 | Val loss: 0.1935\n",
            "=> EPOCH 18\n",
            "   % Time:   258 | Iteration:  4400 | Train loss: 0.2645 | Val loss: 0.1964\n",
            "=> EPOCH 19\n",
            "   % Time:   270 | Iteration:  4600 | Train loss: 0.2308 | Val loss: 0.1929\n",
            "=> EPOCH 20\n",
            "   % Time:   281 | Iteration:  4800 | Train loss: 0.2339 | Val loss: 0.1922\n",
            "=> EPOCH 21\n",
            "   % Time:   292 | Iteration:  5000 | Train loss: 0.2432 | Val loss: 0.1885\n",
            "   % Time:   303 | Iteration:  5200 | Train loss: 0.2251 | Val loss: 0.1835\n",
            "=> EPOCH 22\n",
            "   % Time:   314 | Iteration:  5400 | Train loss: 0.2296 | Val loss: 0.1835\n",
            "=> EPOCH 23\n",
            "   % Time:   326 | Iteration:  5600 | Train loss: 0.2317 | Val loss: 0.1852\n",
            "=> EPOCH 24\n",
            "   % Time:   337 | Iteration:  5800 | Train loss: 0.2324 | Val loss: 0.1841\n",
            "=> EPOCH 25\n",
            "   % Time:   348 | Iteration:  6000 | Train loss: 0.2409 | Val loss: 0.1838\n",
            "=> Adjust learning rate to: 0.0005\n",
            "   % Time:   359 | Iteration:  6200 | Train loss: 0.2286 | Val loss: 0.1745\n",
            "=> EPOCH 26\n",
            "   % Time:   370 | Iteration:  6400 | Train loss: 0.1992 | Val loss: 0.1683\n",
            "=> EPOCH 27\n",
            "   % Time:   381 | Iteration:  6600 | Train loss: 0.2293 | Val loss: 0.1684\n",
            "=> EPOCH 28\n",
            "   % Time:   392 | Iteration:  6800 | Train loss: 0.1813 | Val loss: 0.1685\n",
            "=> EPOCH 29\n",
            "   % Time:   404 | Iteration:  7000 | Train loss: 0.1826 | Val loss: 0.1673\n",
            "   % Time:   415 | Iteration:  7200 | Train loss: 0.2010 | Val loss: 0.1648\n",
            "=> EPOCH 30\n",
            "   % Time:   426 | Iteration:  7400 | Train loss: 0.1887 | Val loss: 0.1647\n",
            "=> EPOCH 31\n",
            "   % Time:   437 | Iteration:  7600 | Train loss: 0.1849 | Val loss: 0.1634\n",
            "=> EPOCH 32\n",
            "   % Time:   448 | Iteration:  7800 | Train loss: 0.1804 | Val loss: 0.1621\n",
            "=> EPOCH 33\n",
            "   % Time:   459 | Iteration:  8000 | Train loss: 0.1939 | Val loss: 0.1613\n",
            "   % Time:   470 | Iteration:  8200 | Train loss: 0.1684 | Val loss: 0.1644\n",
            "=> EPOCH 34\n",
            "   % Time:   481 | Iteration:  8400 | Train loss: 0.1827 | Val loss: 0.1637\n",
            "=> EPOCH 35\n",
            "   % Time:   493 | Iteration:  8600 | Train loss: 0.1793 | Val loss: 0.1616\n",
            "=> Adjust learning rate to: 0.00025\n",
            "=> EPOCH 36\n",
            "   % Time:   504 | Iteration:  8800 | Train loss: 0.1746 | Val loss: 0.1586\n",
            "=> EPOCH 37\n",
            "   % Time:   515 | Iteration:  9000 | Train loss: 0.1843 | Val loss: 0.1563\n",
            "   % Time:   526 | Iteration:  9200 | Train loss: 0.1504 | Val loss: 0.1568\n",
            "=> EPOCH 38\n",
            "   % Time:   537 | Iteration:  9400 | Train loss: 0.1811 | Val loss: 0.1577\n",
            "=> EPOCH 39\n",
            "   % Time:   548 | Iteration:  9600 | Train loss: 0.1786 | Val loss: 0.1571\n",
            "=> Adjust learning rate to: 0.000125\n",
            "=> EPOCH 40\n",
            "   % Time:   559 | Iteration:  9800 | Train loss: 0.1619 | Val loss: 0.1522\n",
            "=> EPOCH 41\n",
            "   % Time:   571 | Iteration: 10000 | Train loss: 0.1763 | Val loss: 0.1530\n",
            "   % Time:   582 | Iteration: 10200 | Train loss: 0.1607 | Val loss: 0.1536\n",
            "=> EPOCH 42\n",
            "   % Time:   593 | Iteration: 10400 | Train loss: 0.1815 | Val loss: 0.1522\n",
            "=> Adjust learning rate to: 6.25e-05\n",
            "=> EPOCH 43\n",
            "   % Time:   604 | Iteration: 10600 | Train loss: 0.1557 | Val loss: 0.1510\n",
            "=> EPOCH 44\n",
            "   % Time:   616 | Iteration: 10800 | Train loss: 0.1495 | Val loss: 0.1522\n",
            "=> EPOCH 45\n",
            "   % Time:   627 | Iteration: 11000 | Train loss: 0.1707 | Val loss: 0.1511\n",
            "   % Time:   638 | Iteration: 11200 | Train loss: 0.1558 | Val loss: 0.1512\n",
            "=> Adjust learning rate to: 3.125e-05\n",
            "=> EPOCH 46\n",
            "   % Time:   649 | Iteration: 11400 | Train loss: 0.1525 | Val loss: 0.1509\n",
            "=> EPOCH 47\n",
            "   % Time:   660 | Iteration: 11600 | Train loss: 0.1675 | Val loss: 0.1509\n",
            "=> EPOCH 48\n",
            "   % Time:   671 | Iteration: 11800 | Train loss: 0.1713 | Val loss: 0.1500\n",
            "=> EPOCH 49\n",
            "   % Time:   682 | Iteration: 12000 | Train loss: 0.1615 | Val loss: 0.1499\n",
            "   % Time:   693 | Iteration: 12200 | Train loss: 0.1612 | Val loss: 0.1503\n",
            "=> EPOCH 50\n",
            "   % Time:   704 | Iteration: 12400 | Train loss: 0.1426 | Val loss: 0.1495\n"
          ]
        }
      ]
    },
    {
      "cell_type": "code",
      "source": [
        "all_output = test(model, test_loader, show=50)"
      ],
      "metadata": {
        "id": "wfvouwGroJYM",
        "colab": {
          "base_uri": "https://localhost:8080/",
          "height": 85,
          "referenced_widgets": [
            "4507233dd9df41a5a33e4a90100c8dd9",
            "7d2aa8d33c2d40b891893f0fd247ddc3",
            "bd8ffa3ea0aa48e2a8af4e873a44cd48",
            "d0019a5b14ff48eb897f45678abebf72",
            "e97160c9b6d947cd88fdeee1f1ae16a4",
            "26d38d08e2e946b4bee0a5593c5681c2",
            "afa5e3207e844d6e970dd27f70fce7b2",
            "e3b48f6b1c874d65a0128d8eccf5ed09",
            "de1a531dfc6e4f47b360d5aea083f731",
            "121d5c98932943778f2869d58ce03f93",
            "5a0126489d5e4d058765af7aafa231aa"
          ]
        },
        "outputId": "83d86249-b0a5-4c4d-904c-7aae5d699b5c"
      },
      "execution_count": 85,
      "outputs": [
        {
          "output_type": "display_data",
          "data": {
            "text/plain": [
              "  0%|          | 0/10164 [00:00<?, ?it/s]"
            ],
            "application/vnd.jupyter.widget-view+json": {
              "version_major": 2,
              "version_minor": 0,
              "model_id": "4507233dd9df41a5a33e4a90100c8dd9"
            }
          },
          "metadata": {}
        },
        {
          "output_type": "stream",
          "name": "stdout",
          "text": [
            "Phoneme error rate (PER): 5.84\n",
            "Word error rate (WER): 33.21\n"
          ]
        }
      ]
    },
    {
      "cell_type": "code",
      "source": [],
      "metadata": {
        "id": "wnvnyu-IoQKM"
      },
      "execution_count": 85,
      "outputs": []
    },
    {
      "cell_type": "code",
      "source": [
        "string = 'سلام نام من سبحان مرادیان دقیق است'\n",
        "outputs = []\n",
        "\n",
        "for ele in string.split(' '):\n",
        "  src = torch.tensor(g2seq(ele)).unsqueeze(1).cuda()\n",
        "\n",
        "  memory = model.transformer.encoder(model.pos_encoder(model.encoder(src)))\n",
        "\n",
        "  out_indexes = [p2idx['SOS'], ]\n",
        "\n",
        "  for i in range(args.max_len):\n",
        "      trg_tensor = torch.LongTensor(out_indexes).unsqueeze(1).to(device)\n",
        "\n",
        "      output = model.fc_out(model.transformer.decoder(model.pos_decoder(model.decoder(trg_tensor)), memory))\n",
        "      out_token = output.argmax(2)[-1].item()\n",
        "      out_indexes.append(out_token)\n",
        "      if out_token == p2idx['EOS']:\n",
        "          outputs.append(seq2p(out_indexes)[1:-1])\n",
        "          break\n",
        "\n",
        "' '.join([''.join(chars) for chars in outputs])"
      ],
      "metadata": {
        "id": "FXdN033NezeG",
        "colab": {
          "base_uri": "https://localhost:8080/",
          "height": 35
        },
        "outputId": "cad99997-6796-48cf-ed32-743d1ead0d12"
      },
      "execution_count": 86,
      "outputs": [
        {
          "output_type": "execute_result",
          "data": {
            "text/plain": [
              "\"salAm nAm man sobhAn morAdiyAn daqiq 'est\""
            ],
            "application/vnd.google.colaboratory.intrinsic+json": {
              "type": "string"
            }
          },
          "metadata": {},
          "execution_count": 86
        }
      ]
    },
    {
      "cell_type": "code",
      "source": [],
      "metadata": {
        "id": "WEOjX23dezZS"
      },
      "execution_count": 86,
      "outputs": []
    },
    {
      "cell_type": "code",
      "source": [
        "import matplotlib.pyplot as plt\n",
        "plt.plot(train_loss_history)"
      ],
      "metadata": {
        "id": "Dj7QeAaYodwj",
        "colab": {
          "base_uri": "https://localhost:8080/",
          "height": 283
        },
        "outputId": "83d21c91-071a-4c3a-c639-556f48783f4c"
      },
      "execution_count": 87,
      "outputs": [
        {
          "output_type": "execute_result",
          "data": {
            "text/plain": [
              "[<matplotlib.lines.Line2D at 0x7fc2807ea150>]"
            ]
          },
          "metadata": {},
          "execution_count": 87
        },
        {
          "output_type": "display_data",
          "data": {
            "text/plain": [
              "<Figure size 432x288 with 1 Axes>"
            ],
            "image/png": "[encoded data removed]"
          },
          "metadata": {
            "needs_background": "light"
          }
        }
      ]
    },
    {
      "cell_type": "code",
      "source": [
        "plt.plot(train_loss_history[500::260])"
      ],
      "metadata": {
        "id": "bF1jdXx5oduA",
        "colab": {
          "base_uri": "https://localhost:8080/",
          "height": 283
        },
        "outputId": "b909581c-7ba4-4873-8f53-4e8fb8bbea79"
      },
      "execution_count": 99,
      "outputs": [
        {
          "output_type": "execute_result",
          "data": {
            "text/plain": [
              "[<matplotlib.lines.Line2D at 0x7fc26759c1d0>]"
            ]
          },
          "metadata": {},
          "execution_count": 99
        },
        {
          "output_type": "display_data",
          "data": {
            "text/plain": [
              "<Figure size 432x288 with 1 Axes>"
            ],
            "image/png": "[encoded data removed]"
          },
          "metadata": {
            "needs_background": "light"
          }
        }
      ]
    },
    {
      "cell_type": "code",
      "source": [
        "plt.plot(val_loss_history)"
      ],
      "metadata": {
        "id": "7R-ImtQAodrp",
        "colab": {
          "base_uri": "https://localhost:8080/",
          "height": 283
        },
        "outputId": "604175a5-61db-4df2-88e6-c398322022ea"
      },
      "execution_count": 89,
      "outputs": [
        {
          "output_type": "execute_result",
          "data": {
            "text/plain": [
              "[<matplotlib.lines.Line2D at 0x7fc26805ed50>]"
            ]
          },
          "metadata": {},
          "execution_count": 89
        },
        {
          "output_type": "display_data",
          "data": {
            "text/plain": [
              "<Figure size 432x288 with 1 Axes>"
            ],
            "image/png": "[encoded data removed]"
          },
          "metadata": {
            "needs_background": "light"
          }
        }
      ]
    },
    {
      "cell_type": "code",
      "source": [
        "plt.plot(val_loss_history[5:])"
      ],
      "metadata": {
        "id": "nN-95yV-owxj",
        "colab": {
          "base_uri": "https://localhost:8080/",
          "height": 283
        },
        "outputId": "b643b6d0-5b78-4464-b613-188d1a69214c"
      },
      "execution_count": 100,
      "outputs": [
        {
          "output_type": "execute_result",
          "data": {
            "text/plain": [
              "[<matplotlib.lines.Line2D at 0x7fc268dcea50>]"
            ]
          },
          "metadata": {},
          "execution_count": 100
        },
        {
          "output_type": "display_data",
          "data": {
            "text/plain": [
              "<Figure size 432x288 with 1 Axes>"
            ],
            "image/png": "[encoded data removed]"
          },
          "metadata": {
            "needs_background": "light"
          }
        }
      ]
    },
    {
      "cell_type": "code",
      "source": [],
      "metadata": {
        "id": "ZoZ7k4FykKS_"
      },
      "execution_count": 90,
      "outputs": []
    },
    {
      "cell_type": "code",
      "source": [
        "words = ['بی‌خس', 'سورن']\n",
        "\n",
        "for g, r_p, p_p in all_output:\n",
        "  if g in words:\n",
        "    print(g, r_p, p_p)"
      ],
      "metadata": {
        "id": "eRlXlpxZjhUp",
        "colab": {
          "base_uri": "https://localhost:8080/"
        },
        "outputId": "d0c1c682-b874-4800-f3da-91d0196ebdb5"
      },
      "execution_count": 109,
      "outputs": [
        {
          "output_type": "stream",
          "name": "stdout",
          "text": [
            "بی‌خس bixas bixas\n",
            "سورن suran suran\n"
          ]
        }
      ]
    },
    {
      "cell_type": "code",
      "source": [],
      "metadata": {
        "id": "b2USAiY2jhRC"
      },
      "execution_count": 91,
      "outputs": []
    },
    {
      "cell_type": "code",
      "source": [],
      "metadata": {
        "id": "PLpZkj54Yu9_"
      },
      "execution_count": null,
      "outputs": []
    },
    {
      "cell_type": "markdown",
      "source": [
        "Finito))"
      ],
      "metadata": {
        "id": "Q2C9Qe9MYvVk"
      }
    }
  ]
}