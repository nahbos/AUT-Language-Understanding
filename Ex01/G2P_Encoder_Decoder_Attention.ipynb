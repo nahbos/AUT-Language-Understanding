{
  "cells": [
    {
      "cell_type": "markdown",
      "metadata": {
        "id": "view-in-github",
        "colab_type": "text"
      },
      "source": [
        "<a href=\"https://colab.research.google.com/github/nahbos/AUT-Language-Understanding/blob/main/Ex01/G2P_Encoder_Decoder_Attention.ipynb\" target=\"_parent\"><img src=\"https://colab.research.google.com/assets/colab-badge.svg\" alt=\"Open In Colab\"/></a>"
      ]
    },
    {
      "cell_type": "code",
      "execution_count": 1,
      "metadata": {
        "colab": {
          "base_uri": "https://localhost:8080/"
        },
        "id": "6NR0wBqi-pzZ",
        "outputId": "6a34cbbf-f618-4d5d-9cef-3c81a206f60d"
      },
      "outputs": [
        {
          "output_type": "stream",
          "name": "stdout",
          "text": [
            "Looking in indexes: https://pypi.org/simple, https://us-python.pkg.dev/colab-wheels/public/simple/\n",
            "Collecting python-Levenshtein\n",
            "  Downloading python_Levenshtein-0.20.8-py3-none-any.whl (9.4 kB)\n",
            "Collecting Levenshtein==0.20.8\n",
            "  Downloading Levenshtein-0.20.8-cp37-cp37m-manylinux_2_17_x86_64.manylinux2014_x86_64.whl (175 kB)\n",
            "\u001b[K     |████████████████████████████████| 175 kB 37.2 MB/s \n",
            "\u001b[?25hCollecting rapidfuzz<3.0.0,>=2.3.0\n",
            "  Downloading rapidfuzz-2.13.0-cp37-cp37m-manylinux_2_17_x86_64.manylinux2014_x86_64.whl (2.2 MB)\n",
            "\u001b[K     |████████████████████████████████| 2.2 MB 54.1 MB/s \n",
            "\u001b[?25hInstalling collected packages: rapidfuzz, Levenshtein, python-Levenshtein\n",
            "Successfully installed Levenshtein-0.20.8 python-Levenshtein-0.20.8 rapidfuzz-2.13.0\n"
          ]
        }
      ],
      "source": [
        "!pip install python-Levenshtein"
      ]
    },
    {
      "cell_type": "code",
      "execution_count": 2,
      "metadata": {
        "colab": {
          "base_uri": "https://localhost:8080/"
        },
        "id": "7WSMgI17_FOr",
        "outputId": "6501926c-8ab0-4bdd-c6a2-2cf8f68b42c4"
      },
      "outputs": [
        {
          "output_type": "stream",
          "name": "stdout",
          "text": [
            "Looking in indexes: https://pypi.org/simple, https://us-python.pkg.dev/colab-wheels/public/simple/\n",
            "Collecting torchtext==0.6.0\n",
            "  Downloading torchtext-0.6.0-py3-none-any.whl (64 kB)\n",
            "\u001b[K     |████████████████████████████████| 64 kB 2.8 MB/s \n",
            "\u001b[?25hRequirement already satisfied: torch in /usr/local/lib/python3.7/dist-packages (from torchtext==0.6.0) (1.12.1+cu113)\n",
            "Collecting sentencepiece\n",
            "  Downloading sentencepiece-0.1.97-cp37-cp37m-manylinux_2_17_x86_64.manylinux2014_x86_64.whl (1.3 MB)\n",
            "\u001b[K     |████████████████████████████████| 1.3 MB 54.0 MB/s \n",
            "\u001b[?25hRequirement already satisfied: six in /usr/local/lib/python3.7/dist-packages (from torchtext==0.6.0) (1.15.0)\n",
            "Requirement already satisfied: tqdm in /usr/local/lib/python3.7/dist-packages (from torchtext==0.6.0) (4.64.1)\n",
            "Requirement already satisfied: requests in /usr/local/lib/python3.7/dist-packages (from torchtext==0.6.0) (2.23.0)\n",
            "Requirement already satisfied: numpy in /usr/local/lib/python3.7/dist-packages (from torchtext==0.6.0) (1.21.6)\n",
            "Requirement already satisfied: idna<3,>=2.5 in /usr/local/lib/python3.7/dist-packages (from requests->torchtext==0.6.0) (2.10)\n",
            "Requirement already satisfied: chardet<4,>=3.0.2 in /usr/local/lib/python3.7/dist-packages (from requests->torchtext==0.6.0) (3.0.4)\n",
            "Requirement already satisfied: urllib3!=1.25.0,!=1.25.1,<1.26,>=1.21.1 in /usr/local/lib/python3.7/dist-packages (from requests->torchtext==0.6.0) (1.24.3)\n",
            "Requirement already satisfied: certifi>=2017.4.17 in /usr/local/lib/python3.7/dist-packages (from requests->torchtext==0.6.0) (2022.9.24)\n",
            "Requirement already satisfied: typing-extensions in /usr/local/lib/python3.7/dist-packages (from torch->torchtext==0.6.0) (4.1.1)\n",
            "Installing collected packages: sentencepiece, torchtext\n",
            "  Attempting uninstall: torchtext\n",
            "    Found existing installation: torchtext 0.13.1\n",
            "    Uninstalling torchtext-0.13.1:\n",
            "      Successfully uninstalled torchtext-0.13.1\n",
            "Successfully installed sentencepiece-0.1.97 torchtext-0.6.0\n"
          ]
        }
      ],
      "source": [
        "!pip install torchtext==0.6.0"
      ]
    },
    {
      "cell_type": "code",
      "execution_count": 3,
      "metadata": {
        "colab": {
          "base_uri": "https://localhost:8080/"
        },
        "id": "uwUqIF_gc8z-",
        "outputId": "ce262863-2f75-4e92-af14-33e72ba391fb"
      },
      "outputs": [
        {
          "output_type": "stream",
          "name": "stdout",
          "text": [
            "--2022-11-03 15:13:07--  https://raw.githubusercontent.com/nahbos/AUT-Language-Understanding/main/Ex01/HW01/data/train_data.txt\n",
            "Resolving raw.githubusercontent.com (raw.githubusercontent.com)... 185.199.108.133, 185.199.109.133, 185.199.110.133, ...\n",
            "Connecting to raw.githubusercontent.com (raw.githubusercontent.com)|185.199.108.133|:443... connected.\n",
            "HTTP request sent, awaiting response... 200 OK\n",
            "Length: 1505929 (1.4M) [text/plain]\n",
            "Saving to: ‘train_data.txt’\n",
            "\n",
            "\rtrain_data.txt        0%[                    ]       0  --.-KB/s               \rtrain_data.txt      100%[===================>]   1.44M  --.-KB/s    in 0.008s  \n",
            "\n",
            "2022-11-03 15:13:07 (189 MB/s) - ‘train_data.txt’ saved [1505929/1505929]\n",
            "\n",
            "--2022-11-03 15:13:07--  https://raw.githubusercontent.com/nahbos/AUT-Language-Understanding/main/Ex01/HW01/data/test_data.txt\n",
            "Resolving raw.githubusercontent.com (raw.githubusercontent.com)... 185.199.108.133, 185.199.109.133, 185.199.110.133, ...\n",
            "Connecting to raw.githubusercontent.com (raw.githubusercontent.com)|185.199.108.133|:443... connected.\n",
            "HTTP request sent, awaiting response... 200 OK\n",
            "Length: 233991 (229K) [text/plain]\n",
            "Saving to: ‘test_data.txt’\n",
            "\n",
            "test_data.txt       100%[===================>] 228.51K  --.-KB/s    in 0.004s  \n",
            "\n",
            "2022-11-03 15:13:07 (54.9 MB/s) - ‘test_data.txt’ saved [233991/233991]\n",
            "\n"
          ]
        }
      ],
      "source": [
        "!wget -nc https://raw.githubusercontent.com/nahbos/AUT-Language-Understanding/main/Ex01/HW01/data/train_data.txt\n",
        "!wget -nc https://raw.githubusercontent.com/nahbos/AUT-Language-Understanding/main/Ex01/HW01/data/test_data.txt"
      ]
    },
    {
      "cell_type": "code",
      "execution_count": 59,
      "metadata": {
        "colab": {
          "base_uri": "https://localhost:8080/"
        },
        "id": "t-J0XNylc8mi",
        "outputId": "0325ed82-54ac-4972-cecb-1b9f5f4328e6"
      },
      "outputs": [
        {
          "output_type": "stream",
          "name": "stdout",
          "text": [
            "(63916, 1084, 10164)\n",
            "=> EPOCH 1\n",
            "   % Time:     4 | Iteration:     0 | Batch:    1/999 | Train loss: 3.4676 | Val loss: 4.8688\n",
            "   % Time:    12 | Iteration:   200 | Batch:  201/999 | Train loss: 0.2161 | Val loss: 0.4443\n",
            "   % Time:    19 | Iteration:   400 | Batch:  401/999 | Train loss: 0.1895 | Val loss: 0.3924\n",
            "   % Time:    27 | Iteration:   600 | Batch:  601/999 | Train loss: 0.1116 | Val loss: 0.3085\n",
            "   % Time:    34 | Iteration:   800 | Batch:  801/999 | Train loss: 0.1353 | Val loss: 0.2795\n",
            "=> EPOCH 2\n",
            "   % Time:    42 | Iteration:  1000 | Batch:    2/999 | Train loss: 0.1460 | Val loss: 0.2644\n",
            "   % Time:    49 | Iteration:  1200 | Batch:  202/999 | Train loss: 0.1063 | Val loss: 0.2657\n",
            "   % Time:    56 | Iteration:  1400 | Batch:  402/999 | Train loss: 0.1235 | Val loss: 0.2542\n",
            "   % Time:    64 | Iteration:  1600 | Batch:  602/999 | Train loss: 0.1457 | Val loss: 0.2442\n",
            "   % Time:    71 | Iteration:  1800 | Batch:  802/999 | Train loss: 0.0964 | Val loss: 0.2332\n",
            "=> EPOCH 3\n",
            "   % Time:    79 | Iteration:  2000 | Batch:    3/999 | Train loss: 0.0669 | Val loss: 0.2262\n",
            "   % Time:    86 | Iteration:  2200 | Batch:  203/999 | Train loss: 0.1028 | Val loss: 0.2257\n",
            "   % Time:    94 | Iteration:  2400 | Batch:  403/999 | Train loss: 0.1098 | Val loss: 0.2286\n",
            "   % Time:   101 | Iteration:  2600 | Batch:  603/999 | Train loss: 0.1104 | Val loss: 0.2324\n",
            "   % Time:   109 | Iteration:  2800 | Batch:  803/999 | Train loss: 0.0954 | Val loss: 0.2171\n",
            "=> EPOCH 4\n",
            "   % Time:   116 | Iteration:  3000 | Batch:    4/999 | Train loss: 0.0722 | Val loss: 0.2182\n",
            "   % Time:   124 | Iteration:  3200 | Batch:  204/999 | Train loss: 0.0817 | Val loss: 0.2187\n",
            "   % Time:   131 | Iteration:  3400 | Batch:  404/999 | Train loss: 0.0693 | Val loss: 0.2109\n",
            "   % Time:   138 | Iteration:  3600 | Batch:  604/999 | Train loss: 0.0825 | Val loss: 0.2110\n",
            "   % Time:   146 | Iteration:  3800 | Batch:  804/999 | Train loss: 0.0802 | Val loss: 0.2087\n",
            "=> EPOCH 5\n",
            "   % Time:   153 | Iteration:  4000 | Batch:    5/999 | Train loss: 0.0817 | Val loss: 0.2050\n",
            "   % Time:   161 | Iteration:  4200 | Batch:  205/999 | Train loss: 0.0786 | Val loss: 0.2094\n",
            "   % Time:   168 | Iteration:  4400 | Batch:  405/999 | Train loss: 0.1018 | Val loss: 0.2092\n",
            "   % Time:   175 | Iteration:  4600 | Batch:  605/999 | Train loss: 0.1211 | Val loss: 0.2034\n",
            "   % Time:   183 | Iteration:  4800 | Batch:  805/999 | Train loss: 0.0697 | Val loss: 0.2049\n",
            "=> EPOCH 6\n",
            "   % Time:   191 | Iteration:  5000 | Batch:    6/999 | Train loss: 0.0567 | Val loss: 0.1989\n",
            "   % Time:   198 | Iteration:  5200 | Batch:  206/999 | Train loss: 0.0650 | Val loss: 0.2081\n",
            "   % Time:   205 | Iteration:  5400 | Batch:  406/999 | Train loss: 0.0880 | Val loss: 0.1998\n",
            "   % Time:   213 | Iteration:  5600 | Batch:  606/999 | Train loss: 0.0540 | Val loss: 0.2017\n",
            "=> Adjust learning rate to: 0.004\n",
            "   % Time:   220 | Iteration:  5800 | Batch:  806/999 | Train loss: 0.0584 | Val loss: 0.1932\n",
            "=> EPOCH 7\n",
            "   % Time:   228 | Iteration:  6000 | Batch:    7/999 | Train loss: 0.0682 | Val loss: 0.1926\n",
            "   % Time:   235 | Iteration:  6200 | Batch:  207/999 | Train loss: 0.0476 | Val loss: 0.1956\n",
            "   % Time:   243 | Iteration:  6400 | Batch:  407/999 | Train loss: 0.0855 | Val loss: 0.1933\n",
            "   % Time:   250 | Iteration:  6600 | Batch:  607/999 | Train loss: 0.0625 | Val loss: 0.1945\n",
            "=> Adjust learning rate to: 0.002\n",
            "   % Time:   257 | Iteration:  6800 | Batch:  807/999 | Train loss: 0.0582 | Val loss: 0.1945\n"
          ]
        }
      ],
      "source": [
        "# Copyright @fehiepsi: available at [https://fehiepsi.github.io/blog/grapheme-to-phoneme/]\n",
        "# Replicated by @SobhanMoradianDaghigh on 10-27-2022\n",
        "\n",
        "\n",
        "# Import Libraries -------------------------\n",
        "import os\n",
        "import time\n",
        "import argparse\n",
        "import random\n",
        "\n",
        "import Levenshtein  # for PER I prefer to use Levenshtein rather to jiwer: https://github.com/ztane/python-Levenshtein/\n",
        "\n",
        "\n",
        "# Torch libs\n",
        "import torch\n",
        "import torch.nn as nn\n",
        "import torch.nn.functional as F\n",
        "from torch.autograd import Variable\n",
        "import torch.optim as optim\n",
        "from torch.nn.utils import clip_grad_norm\n",
        "import torchtext.data as data\n",
        "\n",
        "\n",
        "# Checking if the CUDA is available on the Local system: Sobhans' GTX1050 > returned True\n",
        "# print(torch.cuda.is_available())\n",
        "\n",
        "\n",
        "# Setting the args\n",
        "parser = {\n",
        "    'data_path': './', #TODO: input()\n",
        "\n",
        "    'epochs': 7,\n",
        "    'batch_size': 64,\n",
        "\n",
        "    'max_len': 40,  # max length of grapheme/phoneme sequences\n",
        "    'beam_size': 3,  # size of beam for beam-search\n",
        "    'd_embed': 500,  # embedding dimension\n",
        "    'd_hidden': 500,  # hidden dimension\n",
        "\n",
        "    'attention': True,  # use attention or not\n",
        "\n",
        "    'log_every': 200,  # number of iterations to log and validate training\n",
        "\n",
        "    'lr': 0.008,  # initial learning rate\n",
        "    'lr_decay': 0.5,  # decay lr when not observing improvement in val_loss\n",
        "    'lr_min': 1e-5,  # stop when lr is too low\n",
        "    'n_bad_loss': 3,  # number of bad val_loss before decaying\n",
        "    'clip': 2.3,  # clip gradient, to avoid exploding gradient\n",
        "\n",
        "    'cuda': True,  # using gpu or not\n",
        "    'seed': 5,  # initial seed\n",
        "    'intermediate_path': './',  # path to save models\n",
        "}\n",
        "args = argparse.Namespace(**parser)\n",
        "\n",
        "\n",
        "args.cuda = args.cuda and torch.cuda.is_available()\n",
        "if not os.path.isdir(args.intermediate_path):\n",
        "    os.makedirs(args.intermediate_path)\n",
        "\n",
        "torch.manual_seed(args.seed)\n",
        "if args.cuda:\n",
        "    torch.cuda.manual_seed(args.seed)\n",
        "\n",
        "\n",
        "class Encoder(nn.Module):\n",
        "\n",
        "    def __init__(self, vocab_size, d_embed, d_hidden):\n",
        "        super(Encoder, self).__init__()\n",
        "        self.embedding = nn.Embedding(vocab_size, d_embed)\n",
        "        self.lstm = nn.LSTMCell(d_embed, d_hidden)\n",
        "        self.d_hidden = d_hidden\n",
        "\n",
        "    def forward(self, x_seq, cuda=False):\n",
        "        o = []\n",
        "        e_seq = self.embedding(x_seq)  # seq x batch x dim\n",
        "        tt = torch.cuda if cuda else torch  # use cuda tensor or not\n",
        "        # create initial hidden state and initial cell state\n",
        "        h = Variable(tt.FloatTensor(e_seq.size(1), self.d_hidden).zero_())\n",
        "        c = Variable(tt.FloatTensor(e_seq.size(1), self.d_hidden).zero_())\n",
        "\n",
        "        for e in e_seq.chunk(e_seq.size(0), 0):\n",
        "            e = e.squeeze(0)\n",
        "            h, c = self.lstm(e, (h, c))\n",
        "            o.append(h)\n",
        "        return torch.stack(o, 0), h, c\n",
        "\n",
        "\n",
        "class Attention(nn.Module):\n",
        "\n",
        "    def __init__(self, dim):\n",
        "        super(Attention, self).__init__()\n",
        "        self.linear = nn.Linear(dim * 2, dim, bias=False)\n",
        "\n",
        "    def forward(self, x, context=None):\n",
        "        if context is None:\n",
        "            return x\n",
        "        assert x.size(0) == context.size(0)  # x: batch x dim\n",
        "        assert x.size(1) == context.size(2)  # context: batch x seq x dim\n",
        "        attn = F.softmax(context.bmm(x.unsqueeze(2)).squeeze(2), dim=1)\n",
        "        weighted_context = attn.unsqueeze(1).bmm(context).squeeze(1)\n",
        "        o = self.linear(torch.cat((x, weighted_context), 1))\n",
        "        return torch.tanh(o)\n",
        "\n",
        "\n",
        "class Decoder(nn.Module):\n",
        "\n",
        "    def __init__(self, vocab_size, d_embed, d_hidden):\n",
        "        super(Decoder, self).__init__()\n",
        "        self.embedding = nn.Embedding(vocab_size, d_embed)\n",
        "        self.lstm = nn.LSTMCell(d_embed, d_hidden)\n",
        "        self.attn = Attention(d_hidden)\n",
        "        self.linear = nn.Linear(d_hidden, vocab_size)\n",
        "\n",
        "    def forward(self, x_seq, h, c, context=None):\n",
        "        o = []\n",
        "        e_seq = self.embedding(x_seq)\n",
        "        for e in e_seq.chunk(e_seq.size(0), 0):\n",
        "            e = e.squeeze(0)\n",
        "            h, c = self.lstm(e, (h, c))\n",
        "            o.append(self.attn(h, context))\n",
        "        o = torch.stack(o, 0)\n",
        "        o = self.linear(o.view(-1, h.size(1)))\n",
        "        return F.log_softmax(o, dim=1).view(x_seq.size(0), -1, o.size(1)), h, c\n",
        "\n",
        "\n",
        "class Beam(object):\n",
        "    def __init__(self, size, pad=1, bos=2, eos=3, cuda=False):\n",
        "        \"\"\"Initialize params.\"\"\"\n",
        "        self.size = size\n",
        "        self.done = False\n",
        "        self.pad = pad\n",
        "        self.bos = bos\n",
        "        self.eos = eos\n",
        "        self.tt = torch.cuda if cuda else torch\n",
        "\n",
        "        # The score for each translation on the beam.\n",
        "        self.scores = self.tt.FloatTensor(size).zero_()\n",
        "\n",
        "        # The backPointers at each time-step.\n",
        "        self.prevKs = []\n",
        "\n",
        "        # The outputs at each time-step.\n",
        "        self.nextYs = [self.tt.LongTensor(size).fill_(self.pad)]\n",
        "        self.nextYs[0][0] = self.bos\n",
        "\n",
        "    # Get the outputs for the current timestep.\n",
        "    def get_current_state(self):\n",
        "        \"\"\"Get state of beam.\"\"\"\n",
        "        return self.nextYs[-1]\n",
        "\n",
        "    # Get the backPointers for the current timestep.\n",
        "    def get_current_origin(self):\n",
        "        \"\"\"Get the backpointer to the beam at this step.\"\"\"\n",
        "        return self.prevKs[-1]\n",
        "\n",
        "    def advance(self, workd_lk):\n",
        "        \"\"\"Advance the beam.\"\"\"\n",
        "        num_words = workd_lk.size(1)\n",
        "\n",
        "        # Sum the previous scores.\n",
        "        if len(self.prevKs) > 0:\n",
        "            beam_lk = workd_lk + self.scores.unsqueeze(1).expand_as(workd_lk)\n",
        "        else:\n",
        "            beam_lk = workd_lk[0]\n",
        "\n",
        "        flat_beam_lk = beam_lk.view(-1)\n",
        "\n",
        "        bestScores, bestScoresId = flat_beam_lk.topk(self.size, 0, True, True)\n",
        "        self.scores = bestScores\n",
        "\n",
        "        # bestScoresId is flattened beam x word array, so calculate which\n",
        "        # word and beam each score came from\n",
        "        prev_k = torch.div(bestScoresId, num_words, rounding_mode='floor')\n",
        "        self.prevKs.append(prev_k)\n",
        "        self.nextYs.append(bestScoresId - prev_k * num_words)\n",
        "        # End condition is when top-of-beam is EOS.\n",
        "        if self.nextYs[-1][0] == self.eos:\n",
        "            self.done = True\n",
        "        return self.done\n",
        "\n",
        "    def get_hyp(self, k):\n",
        "        \"\"\"Get hypotheses.\"\"\"\n",
        "        hyp = []\n",
        "        # print(len(self.prevKs), len(self.nextYs), len(self.attn))\n",
        "        for j in range(len(self.prevKs) - 1, -1, -1):\n",
        "            hyp.append(self.nextYs[j + 1][k])\n",
        "            k = self.prevKs[j][k]\n",
        "        return hyp[::-1]\n",
        "\n",
        "\n",
        "class G2P(nn.Module):\n",
        "\n",
        "    def __init__(self, config):\n",
        "        super(G2P, self).__init__()\n",
        "        self.encoder = Encoder(config.g_size, config.d_embed, config.d_hidden)\n",
        "        self.decoder = Decoder(config.p_size, config.d_embed, config.d_hidden)\n",
        "        self.config = config\n",
        "\n",
        "    def forward(self, g_seq, p_seq=None):\n",
        "        o, h, c = self.encoder(g_seq, self.config.cuda)\n",
        "        context = o.transpose(0, 1) if self.config.attention else None\n",
        "        if p_seq is not None:  # not generate\n",
        "            return self.decoder(p_seq, h, c, context)\n",
        "        else:\n",
        "            assert g_seq.size(1) == 1  # make sure batch_size = 1\n",
        "            return self._generate(h, c, context)\n",
        "\n",
        "    def _generate(self, h, c, context):\n",
        "        beam = Beam(self.config.beam_size, cuda=self.config.cuda)\n",
        "        # Make a beam_size batch.\n",
        "        h = h.expand(beam.size, h.size(1))\n",
        "        c = c.expand(beam.size, c.size(1))\n",
        "        context = context.expand(beam.size, context.size(1), context.size(2))\n",
        "\n",
        "        for i in range(self.config.max_len):  # max_len = 40\n",
        "            x = beam.get_current_state()\n",
        "            o, h, c = self.decoder(Variable(x.unsqueeze(0)), h, c, context)\n",
        "            if beam.advance(o.data.squeeze(0)):\n",
        "                break\n",
        "            h.data.copy_(h.data.index_select(0, beam.get_current_origin()))\n",
        "            c.data.copy_(c.data.index_select(0, beam.get_current_origin()))\n",
        "        tt = torch.cuda if self.config.cuda else torch\n",
        "        return Variable(tt.LongTensor(beam.get_hyp(0)))\n",
        "\n",
        "\n",
        "def phoneme_error_rate(p_seq1, p_seq2):\n",
        "    p_vocab = set(p_seq1 + p_seq2)\n",
        "    p2c = dict(zip(p_vocab, range(len(p_vocab))))\n",
        "    c_seq1 = [chr(p2c[p]) for p in p_seq1]\n",
        "    c_seq2 = [chr(p2c[p]) for p in p_seq2]\n",
        "    return Levenshtein.distance(''.join(c_seq1), ''.join(c_seq2)) / len(c_seq2)\n",
        "\n",
        "\n",
        "def adjust_learning_rate(optimizer, lr_decay):\n",
        "    for param_group in optimizer.param_groups:\n",
        "        param_group['lr'] *= lr_decay\n",
        "\n",
        "\n",
        "train_loss_history, val_loss_history = [], []\n",
        "\n",
        "def train(config, train_iter, model, criterion, optimizer, epoch):\n",
        "    global iteration, n_total, train_loss, n_bad_loss\n",
        "    global init, best_val_loss, stop, train_loss_history, val_loss_history\n",
        "\n",
        "    print(\"=> EPOCH {}\".format(epoch))\n",
        "    train_iter.init_epoch()\n",
        "\n",
        "    for batch in train_iter:\n",
        "        model.train()\n",
        "\n",
        "        output, _, __ = model(batch.grapheme, batch.phoneme[:-1].detach())\n",
        "        target = batch.phoneme[1:]\n",
        "        loss = criterion(output.view(output.size(0) * output.size(1), -1), target.view(target.size(0) * target.size(1)))\n",
        "\n",
        "        optimizer.zero_grad()\n",
        "        loss.backward()\n",
        "        torch.nn.utils.clip_grad_norm_(model.parameters(), config.clip, 'inf')\n",
        "        optimizer.step()\n",
        "\n",
        "        train_loss += loss.data.item()\n",
        "\n",
        "        train_loss_history.append(train_loss)\n",
        "\n",
        "        if iteration % config.log_every == 0:\n",
        "\n",
        "            val_loss = validate(val_iter, model, criterion)\n",
        "            val_loss_history.append(val_loss)\n",
        "\n",
        "            print(\"   % Time: {:5.0f} | Iteration: {:5} | Batch: {:4}/{}\"\n",
        "                  \" | Train loss: {:.4f} | Val loss: {:.4f}\"\n",
        "                  .format(time.time() - init, iteration, train_iter.iterations,\n",
        "                          len(train_iter), train_loss, val_loss))\n",
        "\n",
        "            # test for val_loss improvement\n",
        "            if val_loss < best_val_loss:\n",
        "                best_val_loss = val_loss\n",
        "                n_bad_loss = 0\n",
        "                torch.save(model.state_dict(), config.best_model)\n",
        "            else:\n",
        "                n_bad_loss += 1\n",
        "            if n_bad_loss == config.n_bad_loss:\n",
        "                best_val_loss = val_loss\n",
        "                n_bad_loss = 0\n",
        "                adjust_learning_rate(optimizer, config.lr_decay)\n",
        "                new_lr = optimizer.param_groups[0]['lr']\n",
        "                print(\"=> Adjust learning rate to: {}\".format(new_lr))\n",
        "                if new_lr < config.lr_min:\n",
        "                    stop = True\n",
        "                    break\n",
        "                    \n",
        "        train_loss = 0\n",
        "        iteration += 1\n",
        "\n",
        "\n",
        "def validate(val_iter, model, criterion):\n",
        "    model.eval()\n",
        "    val_loss = 0\n",
        "    val_iter.init_epoch()\n",
        "    for batch in val_iter:\n",
        "        output, _, __ = model(batch.grapheme, batch.phoneme[:-1])\n",
        "        target = batch.phoneme[1:]\n",
        "        loss = criterion(output.squeeze(1), target.squeeze(1))\n",
        "        val_loss += loss.data.item() * batch.batch_size\n",
        "    return val_loss / len(val_iter.dataset)\n",
        "\n",
        "\n",
        "def test(test_iter, model, criterion):\n",
        "    model.eval()\n",
        "    test_iter.init_epoch()\n",
        "    test_per = test_wer = 0\n",
        "    for batch in test_iter:\n",
        "        output = model(batch.grapheme).data.tolist()\n",
        "        target = batch.phoneme[1:].squeeze(1).data.tolist()\n",
        "        # calculate per, wer here\n",
        "        per = phoneme_error_rate(output, target)\n",
        "        wer = int(output != target)\n",
        "        test_per += per  # batch_size = 1\n",
        "        test_wer += wer\n",
        "\n",
        "    test_per = test_per / len(test_iter.dataset) * 100\n",
        "    test_wer = test_wer / len(test_iter.dataset) * 100\n",
        "    print(\"Phoneme error rate (PER): {:.2f}\\nWord error rate (WER): {:.2f}\"\n",
        "          .format(test_per, test_wer))\n",
        "\n",
        "\n",
        "def show(batch, model):\n",
        "    assert batch.batch_size == 1\n",
        "    g_field = batch.dataset.fields['grapheme']\n",
        "    p_field = batch.dataset.fields['phoneme']\n",
        "    prediction = model(batch.grapheme).data.tolist()[:-1]\n",
        "    grapheme = batch.grapheme.squeeze(1).data.tolist()[1:][::-1]\n",
        "    phoneme = batch.phoneme.squeeze(1).data.tolist()[1:-1]\n",
        "    print(\"> {}\\n= {}\\n< {}\\n\".format(\n",
        "        ''.join([g_field.vocab.itos[g] for g in grapheme][::-1]),\n",
        "        ''.join([p_field.vocab.itos[p] for p in phoneme][::-1]),\n",
        "        ''.join([p_field.vocab.itos[p] for p in prediction][::-1])))\n",
        "\n",
        "\n",
        "g_field = data.Field(init_token='<s>', tokenize=(lambda x: list(x)))\n",
        "p_field = data.Field(init_token='<os>', eos_token='</os>', tokenize=(lambda x: list(x)[::-1]))\n",
        "\n",
        "class G2PPersianDataset(data.Dataset):\n",
        "\n",
        "    def __init__(self, data_lines, g_field, p_field):\n",
        "        fields = [('grapheme', g_field), ('phoneme', p_field)]\n",
        "        examples = []\n",
        "        for line in data_lines:\n",
        "            grapheme, phoneme = line.split(maxsplit=1)\n",
        "            examples.append(data.Example.fromlist([grapheme, phoneme], fields))\n",
        "        self.sort_key = lambda x: len(x.grapheme)\n",
        "        super(G2PPersianDataset, self).__init__(examples, fields)\n",
        "\n",
        "    @classmethod\n",
        "    def splits(cls, train_path, test_path, g_field, p_field, seed=None):\n",
        "        import random\n",
        "\n",
        "        if seed is not None:\n",
        "            random.seed(seed)\n",
        "\n",
        "        with open(train_path) as f1:\n",
        "            tr_lines = f1.readlines()\n",
        "\n",
        "        with open(test_path) as f2:\n",
        "            ts_lines = f2.readlines()\n",
        "\n",
        "        random.shuffle(tr_lines)\n",
        "\n",
        "        train_lines, val_lines, test_lines = [], [], []\n",
        "\n",
        "        for i, line in enumerate(tr_lines):\n",
        "            if i % 60 < 1:  # Try to separate about 5% val from 65000\n",
        "                val_lines.append(line)\n",
        "            else:\n",
        "                train_lines.append(line)\n",
        "\n",
        "        for i, line in enumerate(ts_lines):\n",
        "            test_lines.append(line)\n",
        "\n",
        "        print((len(train_lines), len(val_lines), len(test_lines)))\n",
        "        # Returned: (61750, 3250, 10164)\n",
        "\n",
        "        train_data = cls(train_lines, g_field, p_field)\n",
        "        val_data = cls(val_lines, g_field, p_field)\n",
        "        test_data = cls(test_lines, g_field, p_field)\n",
        "\n",
        "        return train_data, val_data, test_data\n",
        "\n",
        "\n",
        "tr_filepath = os.path.join(args.data_path, 'train_data.txt')\n",
        "ts_filepath = os.path.join(args.data_path, 'test_data.txt')\n",
        "\n",
        "train_data, val_data, test_data = G2PPersianDataset.splits(tr_filepath, ts_filepath, g_field, p_field, args.seed)\n",
        "\n",
        "g_field.build_vocab(train_data, val_data, test_data)\n",
        "p_field.build_vocab(train_data, val_data, test_data)\n",
        "\n",
        "device = torch.device('cuda') if args.cuda else torch.device('cpu')\n",
        "train_iter = data.BucketIterator(train_data, batch_size=args.batch_size, repeat=False, device=device)\n",
        "val_iter = data.Iterator(val_data, batch_size=1, train=False, sort=False, device=device)\n",
        "test_iter = data.Iterator(test_data, batch_size=1, train=False, shuffle=True, device=device)\n",
        "\n",
        "config = args\n",
        "config.g_size = len(g_field.vocab)\n",
        "config.p_size = len(p_field.vocab)\n",
        "config.best_model = os.path.join(config.intermediate_path, \"best_model_adagrad_attn.pth\")\n",
        "\n",
        "model = G2P(config)\n",
        "criterion = nn.NLLLoss()\n",
        "if config.cuda:\n",
        "    model.cuda()\n",
        "    criterion.cuda()\n",
        "optimizer = optim.Adagrad(model.parameters(), lr=config.lr)  # use Adagrad\n",
        "\n",
        "if 1 == 1:  # change to True to train\n",
        "    iteration = n_total = train_loss = n_bad_loss = 0\n",
        "    stop = False\n",
        "    best_val_loss = 10\n",
        "    init = time.time()\n",
        "    for epoch in range(1, config.epochs + 1):\n",
        "        train(config, train_iter, model, criterion, optimizer, epoch)\n",
        "        if stop:\n",
        "            break\n"
      ]
    },
    {
      "cell_type": "code",
      "source": [],
      "metadata": {
        "id": "Lo6ZvBlGgh2N"
      },
      "execution_count": null,
      "outputs": []
    },
    {
      "cell_type": "code",
      "source": [
        "import matplotlib.pyplot as plt\n",
        "plt.plot(train_loss_history)"
      ],
      "metadata": {
        "colab": {
          "base_uri": "https://localhost:8080/",
          "height": 282
        },
        "id": "YYcO47TXvGT3",
        "outputId": "361c4339-c8b7-46d7-beb0-d6af0b214c42"
      },
      "execution_count": 60,
      "outputs": [
        {
          "output_type": "execute_result",
          "data": {
            "text/plain": [
              "[<matplotlib.lines.Line2D at 0x7f9a31f464d0>]"
            ]
          },
          "metadata": {},
          "execution_count": 60
        },
        {
          "output_type": "display_data",
          "data": {
            "text/plain": [
              "<Figure size 432x288 with 1 Axes>"
            ],
            "image/png": "[encoded data removed]"
          },
          "metadata": {
            "needs_background": "light"
          }
        }
      ]
    },
    {
      "cell_type": "code",
      "source": [
        "plt.plot(train_loss_history[200::500])"
      ],
      "metadata": {
        "colab": {
          "base_uri": "https://localhost:8080/",
          "height": 282
        },
        "id": "puKTXgRzIRii",
        "outputId": "e4edce3c-c06e-4316-f5ad-80e2e8b2074a"
      },
      "execution_count": 61,
      "outputs": [
        {
          "output_type": "execute_result",
          "data": {
            "text/plain": [
              "[<matplotlib.lines.Line2D at 0x7f9a330eacd0>]"
            ]
          },
          "metadata": {},
          "execution_count": 61
        },
        {
          "output_type": "display_data",
          "data": {
            "text/plain": [
              "<Figure size 432x288 with 1 Axes>"
            ],
            "image/png": "[encoded data removed]"
          },
          "metadata": {
            "needs_background": "light"
          }
        }
      ]
    },
    {
      "cell_type": "code",
      "source": [
        "plt.plot(val_loss_history)"
      ],
      "metadata": {
        "colab": {
          "base_uri": "https://localhost:8080/",
          "height": 282
        },
        "id": "hIif2WJxIOrU",
        "outputId": "3e5ccc68-b371-4a41-9bc9-f6c655ff946a"
      },
      "execution_count": 62,
      "outputs": [
        {
          "output_type": "execute_result",
          "data": {
            "text/plain": [
              "[<matplotlib.lines.Line2D at 0x7f99dd179390>]"
            ]
          },
          "metadata": {},
          "execution_count": 62
        },
        {
          "output_type": "display_data",
          "data": {
            "text/plain": [
              "<Figure size 432x288 with 1 Axes>"
            ],
            "image/png": "[encoded data removed]"
          },
          "metadata": {
            "needs_background": "light"
          }
        }
      ]
    },
    {
      "cell_type": "code",
      "source": [
        "plt.plot(val_loss_history[3:])"
      ],
      "metadata": {
        "colab": {
          "base_uri": "https://localhost:8080/",
          "height": 282
        },
        "id": "JGe5yYR8x_-f",
        "outputId": "fdedb083-eb2f-47c0-9cc3-2b66b58c825e"
      },
      "execution_count": 66,
      "outputs": [
        {
          "output_type": "execute_result",
          "data": {
            "text/plain": [
              "[<matplotlib.lines.Line2D at 0x7f99ccb84610>]"
            ]
          },
          "metadata": {},
          "execution_count": 66
        },
        {
          "output_type": "display_data",
          "data": {
            "text/plain": [
              "<Figure size 432x288 with 1 Axes>"
            ],
            "image/png": "[encoded data removed]"
          },
          "metadata": {
            "needs_background": "light"
          }
        }
      ]
    },
    {
      "cell_type": "code",
      "source": [],
      "metadata": {
        "id": "Fws78YwkghxU"
      },
      "execution_count": null,
      "outputs": []
    },
    {
      "cell_type": "code",
      "execution_count": 65,
      "metadata": {
        "colab": {
          "base_uri": "https://localhost:8080/"
        },
        "id": "BatXV0dO-e2K",
        "outputId": "d366931c-b9c6-44c9-b3a1-57c92da947a8"
      },
      "outputs": [
        {
          "output_type": "stream",
          "name": "stdout",
          "text": [
            "Phoneme error rate (PER): 7.23\n",
            "Word error rate (WER): 37.52\n"
          ]
        }
      ],
      "source": [
        "model.load_state_dict(torch.load(config.best_model))\n",
        "test(test_iter, model, criterion)"
      ]
    },
    {
      "cell_type": "code",
      "source": [
        "test_iter.init_epoch()\n",
        "random_tests = random.sample(range(0, len(test_iter)), 50)\n",
        "for i, batch in enumerate(test_iter):\n",
        "    if i in random_tests:\n",
        "        show(batch, model)"
      ],
      "metadata": {
        "id": "BU-Kn-YYmQzN",
        "colab": {
          "base_uri": "https://localhost:8080/"
        },
        "outputId": "064c6bc1-8e1b-4d2a-ff76-c30995379812"
      },
      "execution_count": 64,
      "outputs": [
        {
          "output_type": "stream",
          "name": "stdout",
          "text": [
            "> ازت\n",
            "= 'azot\n",
            "< 'azet\n",
            "\n",
            "> بطم\n",
            "= botm\n",
            "< botm\n",
            "\n",
            "> خرز\n",
            "= xarz\n",
            "< xarz\n",
            "\n",
            "> سرو\n",
            "= serv\n",
            "< sarv\n",
            "\n",
            "> سورن\n",
            "= suran\n",
            "< suren\n",
            "\n",
            "> فرجه\n",
            "= forje\n",
            "< farje\n",
            "\n",
            "> قاری\n",
            "= qAri\n",
            "< qAri\n",
            "\n",
            "> مسجد\n",
            "= masjed\n",
            "< masjed\n",
            "\n",
            "> مضیع\n",
            "= mozayye'\n",
            "< mazi'\n",
            "\n",
            "> وهله\n",
            "= vahle\n",
            "< vahle\n",
            "\n",
            "> بی‌خس\n",
            "= bixas\n",
            "< bixos\n",
            "\n",
            "> تفریع\n",
            "= tafri'\n",
            "< tafri'\n",
            "\n",
            "> تقارن\n",
            "= taqAron\n",
            "< taqAron\n",
            "\n",
            "> ره‌گو\n",
            "= rahgu\n",
            "< rahgu\n",
            "\n",
            "> شارشک\n",
            "= SAraSk\n",
            "< SArSek\n",
            "\n",
            "> متعبد\n",
            "= mota'abbed\n",
            "< mote'abbed\n",
            "\n",
            "> مکثار\n",
            "= meksAr\n",
            "< moksAr\n",
            "\n",
            "> پوشپر\n",
            "= puSpar\n",
            "< puSpar\n",
            "\n",
            "> یک‌دم\n",
            "= yekdam\n",
            "< yekdam\n",
            "\n",
            "> درباره\n",
            "= darbAre\n",
            "< darbAre\n",
            "\n",
            "> رهابنه\n",
            "= rahAbene\n",
            "< rahAbene\n",
            "\n",
            "> سردوشی\n",
            "= sarduSi\n",
            "< sarduSi\n",
            "\n",
            "> شیرونه\n",
            "= Sirune\n",
            "< Sirune\n",
            "\n",
            "> برومندی\n",
            "= borumandi\n",
            "< borumandi\n",
            "\n",
            "> تفصیلاً\n",
            "= tafsilan\n",
            "< tafsilan\n",
            "\n",
            "> دراننده\n",
            "= darAnande\n",
            "< darAnande\n",
            "\n",
            "> سلحشوری\n",
            "= salahSuri\n",
            "< solhSuri\n",
            "\n",
            "> شبکه‌ای\n",
            "= Sabake'i\n",
            "< Sabke'i\n",
            "\n",
            "> فوت‌شده\n",
            "= fotSode\n",
            "< futSode\n",
            "\n",
            "> ناشتائی\n",
            "= nAStA'i\n",
            "< nAStA'i\n",
            "\n",
            "> هلفدانی\n",
            "= holofdAni\n",
            "< halafdAni\n",
            "\n",
            "> پراگندن\n",
            "= parAgandan\n",
            "< parAgandan\n",
            "\n",
            "> پریکارد\n",
            "= perikArd\n",
            "< perikArd\n",
            "\n",
            "> اسپکولوم\n",
            "= 'espekulom\n",
            "< 'espekolom\n",
            "\n",
            "> به‌گزارش\n",
            "= begozAreSe\n",
            "< begozAreS\n",
            "\n",
            "> سه‌فرسخی\n",
            "= sefarsaxi\n",
            "< sefarsaxi\n",
            "\n",
            "> سوارکاری\n",
            "= savArkAri\n",
            "< savArkAri\n",
            "\n",
            "> نابرادری\n",
            "= nAbarAdari\n",
            "< nAbarAdari\n",
            "\n",
            "> ولفرامیت\n",
            "= volferAmit\n",
            "< volfrAmiyyat\n",
            "\n",
            "> انفیه‌دان\n",
            "= 'anfiyedAn\n",
            "< 'anfiyedAn\n",
            "\n",
            "> لباس‌شخصی\n",
            "= lebAsSaxsi\n",
            "< lebAsSaxsi\n",
            "\n",
            "> معمارزاده\n",
            "= me'mArzAde\n",
            "< mo'mArezAde\n",
            "\n",
            "> پخش‌کننده\n",
            "= paxSkonande\n",
            "< paxSkonande\n",
            "\n",
            "> چهارکلاسه\n",
            "= CAhArkelAse\n",
            "< CAhArkelAse\n",
            "\n",
            "> گورکانیان\n",
            "= gurkAniyAn\n",
            "< gurkAniyAn\n",
            "\n",
            "> مورچه‌خوار\n",
            "= murCexAr\n",
            "< murCexAr\n",
            "\n",
            "> میرزاآقاسی\n",
            "= mirzA'AqAsi\n",
            "< mirzA'AqAsi\n",
            "\n",
            "> پنجاه‌ساله\n",
            "= panjAhsAle\n",
            "< panjAhsAle\n",
            "\n",
            "> یزدانی‌نیا\n",
            "= yazdAniniyA\n",
            "< yazdAniniyA\n",
            "\n",
            "> ادراک‌کننده\n",
            "= 'edrAkkonande\n",
            "< 'edrAkkonande\n",
            "\n"
          ]
        }
      ]
    },
    {
      "cell_type": "code",
      "source": [],
      "metadata": {
        "id": "ZsO3pJHxghu7"
      },
      "execution_count": null,
      "outputs": []
    },
    {
      "cell_type": "code",
      "source": [],
      "metadata": {
        "id": "KEh2ewUvghk7"
      },
      "execution_count": null,
      "outputs": []
    },
    {
      "cell_type": "markdown",
      "source": [
        "Finito))"
      ],
      "metadata": {
        "id": "vwo4nCpbd-M2"
      }
    }
  ],
  "metadata": {
    "accelerator": "GPU",
    "colab": {
      "provenance": [],
      "collapsed_sections": [],
      "authorship_tag": "ABX9TyPbPPi6iwYT39dtTKiqy4Tn",
      "include_colab_link": true
    },
    "gpuClass": "standard",
    "kernelspec": {
      "display_name": "Python 3",
      "name": "python3"
    },
    "language_info": {
      "name": "python"
    }
  },
  "nbformat": 4,
  "nbformat_minor": 0
}