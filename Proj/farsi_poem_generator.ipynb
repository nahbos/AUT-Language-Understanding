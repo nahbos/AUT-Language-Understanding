{
  "nbformat": 4,
  "nbformat_minor": 0,
  "metadata": {
    "colab": {
      "provenance": [],
      "toc_visible": true,
      "authorship_tag": "ABX9TyNLS6Vx8GVtyyfhKRKDNdgt",
      "include_colab_link": true
    },
    "kernelspec": {
      "name": "python3",
      "display_name": "Python 3"
    },
    "language_info": {
      "name": "python"
    },
    "accelerator": "GPU",
    "gpuClass": "standard",
    "widgets": {
      "application/vnd.jupyter.widget-state+json": {
        "d0750d8a85704dc182cd964c697c2916": {
          "model_module": "@jupyter-widgets/controls",
          "model_name": "HBoxModel",
          "model_module_version": "1.5.0",
          "state": {
            "_dom_classes": [],
            "_model_module": "@jupyter-widgets/controls",
            "_model_module_version": "1.5.0",
            "_model_name": "HBoxModel",
            "_view_count": null,
            "_view_module": "@jupyter-widgets/controls",
            "_view_module_version": "1.5.0",
            "_view_name": "HBoxView",
            "box_style": "",
            "children": [
              "IPY_MODEL_b115f43e13554fc8ad5beb27fcb61846",
              "IPY_MODEL_a06c2c6f9d114476bdf26fe13390cc88",
              "IPY_MODEL_46514bd43c784ef2b5e705aece0d2f6a"
            ],
            "layout": "IPY_MODEL_bc8b32c8b52949139228fea2f54b8c77"
          }
        },
        "b115f43e13554fc8ad5beb27fcb61846": {
          "model_module": "@jupyter-widgets/controls",
          "model_name": "HTMLModel",
          "model_module_version": "1.5.0",
          "state": {
            "_dom_classes": [],
            "_model_module": "@jupyter-widgets/controls",
            "_model_module_version": "1.5.0",
            "_model_name": "HTMLModel",
            "_view_count": null,
            "_view_module": "@jupyter-widgets/controls",
            "_view_module_version": "1.5.0",
            "_view_name": "HTMLView",
            "description": "",
            "description_tooltip": null,
            "layout": "IPY_MODEL_450cfc148b8d473f8219d484a6b97fb6",
            "placeholder": "​",
            "style": "IPY_MODEL_95362a605fc041e393dcfb18882a16d4",
            "value": "Downloading (…)okenizer_config.json: 100%"
          }
        },
        "a06c2c6f9d114476bdf26fe13390cc88": {
          "model_module": "@jupyter-widgets/controls",
          "model_name": "FloatProgressModel",
          "model_module_version": "1.5.0",
          "state": {
            "_dom_classes": [],
            "_model_module": "@jupyter-widgets/controls",
            "_model_module_version": "1.5.0",
            "_model_name": "FloatProgressModel",
            "_view_count": null,
            "_view_module": "@jupyter-widgets/controls",
            "_view_module_version": "1.5.0",
            "_view_name": "ProgressView",
            "bar_style": "success",
            "description": "",
            "description_tooltip": null,
            "layout": "IPY_MODEL_ad225732abfd48cfa57449d9cb959d61",
            "max": 728,
            "min": 0,
            "orientation": "horizontal",
            "style": "IPY_MODEL_1f258a7b55b14f20a3240b7957881392",
            "value": 728
          }
        },
        "46514bd43c784ef2b5e705aece0d2f6a": {
          "model_module": "@jupyter-widgets/controls",
          "model_name": "HTMLModel",
          "model_module_version": "1.5.0",
          "state": {
            "_dom_classes": [],
            "_model_module": "@jupyter-widgets/controls",
            "_model_module_version": "1.5.0",
            "_model_name": "HTMLModel",
            "_view_count": null,
            "_view_module": "@jupyter-widgets/controls",
            "_view_module_version": "1.5.0",
            "_view_name": "HTMLView",
            "description": "",
            "description_tooltip": null,
            "layout": "IPY_MODEL_6c02043768514110aed5884b8c017e28",
            "placeholder": "​",
            "style": "IPY_MODEL_90eb30ebdb3d48bb9a9a658ee78a4c67",
            "value": " 728/728 [00:00&lt;00:00, 16.0kB/s]"
          }
        },
        "bc8b32c8b52949139228fea2f54b8c77": {
          "model_module": "@jupyter-widgets/base",
          "model_name": "LayoutModel",
          "model_module_version": "1.2.0",
          "state": {
            "_model_module": "@jupyter-widgets/base",
            "_model_module_version": "1.2.0",
            "_model_name": "LayoutModel",
            "_view_count": null,
            "_view_module": "@jupyter-widgets/base",
            "_view_module_version": "1.2.0",
            "_view_name": "LayoutView",
            "align_content": null,
            "align_items": null,
            "align_self": null,
            "border": null,
            "bottom": null,
            "display": null,
            "flex": null,
            "flex_flow": null,
            "grid_area": null,
            "grid_auto_columns": null,
            "grid_auto_flow": null,
            "grid_auto_rows": null,
            "grid_column": null,
            "grid_gap": null,
            "grid_row": null,
            "grid_template_areas": null,
            "grid_template_columns": null,
            "grid_template_rows": null,
            "height": null,
            "justify_content": null,
            "justify_items": null,
            "left": null,
            "margin": null,
            "max_height": null,
            "max_width": null,
            "min_height": null,
            "min_width": null,
            "object_fit": null,
            "object_position": null,
            "order": null,
            "overflow": null,
            "overflow_x": null,
            "overflow_y": null,
            "padding": null,
            "right": null,
            "top": null,
            "visibility": null,
            "width": null
          }
        },
        "450cfc148b8d473f8219d484a6b97fb6": {
          "model_module": "@jupyter-widgets/base",
          "model_name": "LayoutModel",
          "model_module_version": "1.2.0",
          "state": {
            "_model_module": "@jupyter-widgets/base",
            "_model_module_version": "1.2.0",
            "_model_name": "LayoutModel",
            "_view_count": null,
            "_view_module": "@jupyter-widgets/base",
            "_view_module_version": "1.2.0",
            "_view_name": "LayoutView",
            "align_content": null,
            "align_items": null,
            "align_self": null,
            "border": null,
            "bottom": null,
            "display": null,
            "flex": null,
            "flex_flow": null,
            "grid_area": null,
            "grid_auto_columns": null,
            "grid_auto_flow": null,
            "grid_auto_rows": null,
            "grid_column": null,
            "grid_gap": null,
            "grid_row": null,
            "grid_template_areas": null,
            "grid_template_columns": null,
            "grid_template_rows": null,
            "height": null,
            "justify_content": null,
            "justify_items": null,
            "left": null,
            "margin": null,
            "max_height": null,
            "max_width": null,
            "min_height": null,
            "min_width": null,
            "object_fit": null,
            "object_position": null,
            "order": null,
            "overflow": null,
            "overflow_x": null,
            "overflow_y": null,
            "padding": null,
            "right": null,
            "top": null,
            "visibility": null,
            "width": null
          }
        },
        "95362a605fc041e393dcfb18882a16d4": {
          "model_module": "@jupyter-widgets/controls",
          "model_name": "DescriptionStyleModel",
          "model_module_version": "1.5.0",
          "state": {
            "_model_module": "@jupyter-widgets/controls",
            "_model_module_version": "1.5.0",
            "_model_name": "DescriptionStyleModel",
            "_view_count": null,
            "_view_module": "@jupyter-widgets/base",
            "_view_module_version": "1.2.0",
            "_view_name": "StyleView",
            "description_width": ""
          }
        },
        "ad225732abfd48cfa57449d9cb959d61": {
          "model_module": "@jupyter-widgets/base",
          "model_name": "LayoutModel",
          "model_module_version": "1.2.0",
          "state": {
            "_model_module": "@jupyter-widgets/base",
            "_model_module_version": "1.2.0",
            "_model_name": "LayoutModel",
            "_view_count": null,
            "_view_module": "@jupyter-widgets/base",
            "_view_module_version": "1.2.0",
            "_view_name": "LayoutView",
            "align_content": null,
            "align_items": null,
            "align_self": null,
            "border": null,
            "bottom": null,
            "display": null,
            "flex": null,
            "flex_flow": null,
            "grid_area": null,
            "grid_auto_columns": null,
            "grid_auto_flow": null,
            "grid_auto_rows": null,
            "grid_column": null,
            "grid_gap": null,
            "grid_row": null,
            "grid_template_areas": null,
            "grid_template_columns": null,
            "grid_template_rows": null,
            "height": null,
            "justify_content": null,
            "justify_items": null,
            "left": null,
            "margin": null,
            "max_height": null,
            "max_width": null,
            "min_height": null,
            "min_width": null,
            "object_fit": null,
            "object_position": null,
            "order": null,
            "overflow": null,
            "overflow_x": null,
            "overflow_y": null,
            "padding": null,
            "right": null,
            "top": null,
            "visibility": null,
            "width": null
          }
        },
        "1f258a7b55b14f20a3240b7957881392": {
          "model_module": "@jupyter-widgets/controls",
          "model_name": "ProgressStyleModel",
          "model_module_version": "1.5.0",
          "state": {
            "_model_module": "@jupyter-widgets/controls",
            "_model_module_version": "1.5.0",
            "_model_name": "ProgressStyleModel",
            "_view_count": null,
            "_view_module": "@jupyter-widgets/base",
            "_view_module_version": "1.2.0",
            "_view_name": "StyleView",
            "bar_color": null,
            "description_width": ""
          }
        },
        "6c02043768514110aed5884b8c017e28": {
          "model_module": "@jupyter-widgets/base",
          "model_name": "LayoutModel",
          "model_module_version": "1.2.0",
          "state": {
            "_model_module": "@jupyter-widgets/base",
            "_model_module_version": "1.2.0",
            "_model_name": "LayoutModel",
            "_view_count": null,
            "_view_module": "@jupyter-widgets/base",
            "_view_module_version": "1.2.0",
            "_view_name": "LayoutView",
            "align_content": null,
            "align_items": null,
            "align_self": null,
            "border": null,
            "bottom": null,
            "display": null,
            "flex": null,
            "flex_flow": null,
            "grid_area": null,
            "grid_auto_columns": null,
            "grid_auto_flow": null,
            "grid_auto_rows": null,
            "grid_column": null,
            "grid_gap": null,
            "grid_row": null,
            "grid_template_areas": null,
            "grid_template_columns": null,
            "grid_template_rows": null,
            "height": null,
            "justify_content": null,
            "justify_items": null,
            "left": null,
            "margin": null,
            "max_height": null,
            "max_width": null,
            "min_height": null,
            "min_width": null,
            "object_fit": null,
            "object_position": null,
            "order": null,
            "overflow": null,
            "overflow_x": null,
            "overflow_y": null,
            "padding": null,
            "right": null,
            "top": null,
            "visibility": null,
            "width": null
          }
        },
        "90eb30ebdb3d48bb9a9a658ee78a4c67": {
          "model_module": "@jupyter-widgets/controls",
          "model_name": "DescriptionStyleModel",
          "model_module_version": "1.5.0",
          "state": {
            "_model_module": "@jupyter-widgets/controls",
            "_model_module_version": "1.5.0",
            "_model_name": "DescriptionStyleModel",
            "_view_count": null,
            "_view_module": "@jupyter-widgets/base",
            "_view_module_version": "1.2.0",
            "_view_name": "StyleView",
            "description_width": ""
          }
        },
        "77b9765a98e744dd8a966f682ebbde01": {
          "model_module": "@jupyter-widgets/controls",
          "model_name": "HBoxModel",
          "model_module_version": "1.5.0",
          "state": {
            "_dom_classes": [],
            "_model_module": "@jupyter-widgets/controls",
            "_model_module_version": "1.5.0",
            "_model_name": "HBoxModel",
            "_view_count": null,
            "_view_module": "@jupyter-widgets/controls",
            "_view_module_version": "1.5.0",
            "_view_name": "HBoxView",
            "box_style": "",
            "children": [
              "IPY_MODEL_6f27704f5f684d548ada31e1fac7054f",
              "IPY_MODEL_59e1c77c2f0b4626aab43d6b02866baf",
              "IPY_MODEL_7a810fde685b45659a599bd27593a051"
            ],
            "layout": "IPY_MODEL_e3dfb6350af24fd9b9f0dbb0f872ded4"
          }
        },
        "6f27704f5f684d548ada31e1fac7054f": {
          "model_module": "@jupyter-widgets/controls",
          "model_name": "HTMLModel",
          "model_module_version": "1.5.0",
          "state": {
            "_dom_classes": [],
            "_model_module": "@jupyter-widgets/controls",
            "_model_module_version": "1.5.0",
            "_model_name": "HTMLModel",
            "_view_count": null,
            "_view_module": "@jupyter-widgets/controls",
            "_view_module_version": "1.5.0",
            "_view_name": "HTMLView",
            "description": "",
            "description_tooltip": null,
            "layout": "IPY_MODEL_95aa144b41ef47bc914383739ca24280",
            "placeholder": "​",
            "style": "IPY_MODEL_56fc149f9ea1412abf53c3192fc14768",
            "value": "Downloading (…)lve/main/config.json: 100%"
          }
        },
        "59e1c77c2f0b4626aab43d6b02866baf": {
          "model_module": "@jupyter-widgets/controls",
          "model_name": "FloatProgressModel",
          "model_module_version": "1.5.0",
          "state": {
            "_dom_classes": [],
            "_model_module": "@jupyter-widgets/controls",
            "_model_module_version": "1.5.0",
            "_model_name": "FloatProgressModel",
            "_view_count": null,
            "_view_module": "@jupyter-widgets/controls",
            "_view_module_version": "1.5.0",
            "_view_name": "ProgressView",
            "bar_style": "success",
            "description": "",
            "description_tooltip": null,
            "layout": "IPY_MODEL_78e0ca827f694dddb1ee536e390a9bc7",
            "max": 808,
            "min": 0,
            "orientation": "horizontal",
            "style": "IPY_MODEL_27243b7d301f4eb69f79596d61466593",
            "value": 808
          }
        },
        "7a810fde685b45659a599bd27593a051": {
          "model_module": "@jupyter-widgets/controls",
          "model_name": "HTMLModel",
          "model_module_version": "1.5.0",
          "state": {
            "_dom_classes": [],
            "_model_module": "@jupyter-widgets/controls",
            "_model_module_version": "1.5.0",
            "_model_name": "HTMLModel",
            "_view_count": null,
            "_view_module": "@jupyter-widgets/controls",
            "_view_module_version": "1.5.0",
            "_view_name": "HTMLView",
            "description": "",
            "description_tooltip": null,
            "layout": "IPY_MODEL_8626f7107cb041c5af27645806c89bc0",
            "placeholder": "​",
            "style": "IPY_MODEL_5cca4b2970734794acdecb84537b37e6",
            "value": " 808/808 [00:00&lt;00:00, 22.7kB/s]"
          }
        },
        "e3dfb6350af24fd9b9f0dbb0f872ded4": {
          "model_module": "@jupyter-widgets/base",
          "model_name": "LayoutModel",
          "model_module_version": "1.2.0",
          "state": {
            "_model_module": "@jupyter-widgets/base",
            "_model_module_version": "1.2.0",
            "_model_name": "LayoutModel",
            "_view_count": null,
            "_view_module": "@jupyter-widgets/base",
            "_view_module_version": "1.2.0",
            "_view_name": "LayoutView",
            "align_content": null,
            "align_items": null,
            "align_self": null,
            "border": null,
            "bottom": null,
            "display": null,
            "flex": null,
            "flex_flow": null,
            "grid_area": null,
            "grid_auto_columns": null,
            "grid_auto_flow": null,
            "grid_auto_rows": null,
            "grid_column": null,
            "grid_gap": null,
            "grid_row": null,
            "grid_template_areas": null,
            "grid_template_columns": null,
            "grid_template_rows": null,
            "height": null,
            "justify_content": null,
            "justify_items": null,
            "left": null,
            "margin": null,
            "max_height": null,
            "max_width": null,
            "min_height": null,
            "min_width": null,
            "object_fit": null,
            "object_position": null,
            "order": null,
            "overflow": null,
            "overflow_x": null,
            "overflow_y": null,
            "padding": null,
            "right": null,
            "top": null,
            "visibility": null,
            "width": null
          }
        },
        "95aa144b41ef47bc914383739ca24280": {
          "model_module": "@jupyter-widgets/base",
          "model_name": "LayoutModel",
          "model_module_version": "1.2.0",
          "state": {
            "_model_module": "@jupyter-widgets/base",
            "_model_module_version": "1.2.0",
            "_model_name": "LayoutModel",
            "_view_count": null,
            "_view_module": "@jupyter-widgets/base",
            "_view_module_version": "1.2.0",
            "_view_name": "LayoutView",
            "align_content": null,
            "align_items": null,
            "align_self": null,
            "border": null,
            "bottom": null,
            "display": null,
            "flex": null,
            "flex_flow": null,
            "grid_area": null,
            "grid_auto_columns": null,
            "grid_auto_flow": null,
            "grid_auto_rows": null,
            "grid_column": null,
            "grid_gap": null,
            "grid_row": null,
            "grid_template_areas": null,
            "grid_template_columns": null,
            "grid_template_rows": null,
            "height": null,
            "justify_content": null,
            "justify_items": null,
            "left": null,
            "margin": null,
            "max_height": null,
            "max_width": null,
            "min_height": null,
            "min_width": null,
            "object_fit": null,
            "object_position": null,
            "order": null,
            "overflow": null,
            "overflow_x": null,
            "overflow_y": null,
            "padding": null,
            "right": null,
            "top": null,
            "visibility": null,
            "width": null
          }
        },
        "56fc149f9ea1412abf53c3192fc14768": {
          "model_module": "@jupyter-widgets/controls",
          "model_name": "DescriptionStyleModel",
          "model_module_version": "1.5.0",
          "state": {
            "_model_module": "@jupyter-widgets/controls",
            "_model_module_version": "1.5.0",
            "_model_name": "DescriptionStyleModel",
            "_view_count": null,
            "_view_module": "@jupyter-widgets/base",
            "_view_module_version": "1.2.0",
            "_view_name": "StyleView",
            "description_width": ""
          }
        },
        "78e0ca827f694dddb1ee536e390a9bc7": {
          "model_module": "@jupyter-widgets/base",
          "model_name": "LayoutModel",
          "model_module_version": "1.2.0",
          "state": {
            "_model_module": "@jupyter-widgets/base",
            "_model_module_version": "1.2.0",
            "_model_name": "LayoutModel",
            "_view_count": null,
            "_view_module": "@jupyter-widgets/base",
            "_view_module_version": "1.2.0",
            "_view_name": "LayoutView",
            "align_content": null,
            "align_items": null,
            "align_self": null,
            "border": null,
            "bottom": null,
            "display": null,
            "flex": null,
            "flex_flow": null,
            "grid_area": null,
            "grid_auto_columns": null,
            "grid_auto_flow": null,
            "grid_auto_rows": null,
            "grid_column": null,
            "grid_gap": null,
            "grid_row": null,
            "grid_template_areas": null,
            "grid_template_columns": null,
            "grid_template_rows": null,
            "height": null,
            "justify_content": null,
            "justify_items": null,
            "left": null,
            "margin": null,
            "max_height": null,
            "max_width": null,
            "min_height": null,
            "min_width": null,
            "object_fit": null,
            "object_position": null,
            "order": null,
            "overflow": null,
            "overflow_x": null,
            "overflow_y": null,
            "padding": null,
            "right": null,
            "top": null,
            "visibility": null,
            "width": null
          }
        },
        "27243b7d301f4eb69f79596d61466593": {
          "model_module": "@jupyter-widgets/controls",
          "model_name": "ProgressStyleModel",
          "model_module_version": "1.5.0",
          "state": {
            "_model_module": "@jupyter-widgets/controls",
            "_model_module_version": "1.5.0",
            "_model_name": "ProgressStyleModel",
            "_view_count": null,
            "_view_module": "@jupyter-widgets/base",
            "_view_module_version": "1.2.0",
            "_view_name": "StyleView",
            "bar_color": null,
            "description_width": ""
          }
        },
        "8626f7107cb041c5af27645806c89bc0": {
          "model_module": "@jupyter-widgets/base",
          "model_name": "LayoutModel",
          "model_module_version": "1.2.0",
          "state": {
            "_model_module": "@jupyter-widgets/base",
            "_model_module_version": "1.2.0",
            "_model_name": "LayoutModel",
            "_view_count": null,
            "_view_module": "@jupyter-widgets/base",
            "_view_module_version": "1.2.0",
            "_view_name": "LayoutView",
            "align_content": null,
            "align_items": null,
            "align_self": null,
            "border": null,
            "bottom": null,
            "display": null,
            "flex": null,
            "flex_flow": null,
            "grid_area": null,
            "grid_auto_columns": null,
            "grid_auto_flow": null,
            "grid_auto_rows": null,
            "grid_column": null,
            "grid_gap": null,
            "grid_row": null,
            "grid_template_areas": null,
            "grid_template_columns": null,
            "grid_template_rows": null,
            "height": null,
            "justify_content": null,
            "justify_items": null,
            "left": null,
            "margin": null,
            "max_height": null,
            "max_width": null,
            "min_height": null,
            "min_width": null,
            "object_fit": null,
            "object_position": null,
            "order": null,
            "overflow": null,
            "overflow_x": null,
            "overflow_y": null,
            "padding": null,
            "right": null,
            "top": null,
            "visibility": null,
            "width": null
          }
        },
        "5cca4b2970734794acdecb84537b37e6": {
          "model_module": "@jupyter-widgets/controls",
          "model_name": "DescriptionStyleModel",
          "model_module_version": "1.5.0",
          "state": {
            "_model_module": "@jupyter-widgets/controls",
            "_model_module_version": "1.5.0",
            "_model_name": "DescriptionStyleModel",
            "_view_count": null,
            "_view_module": "@jupyter-widgets/base",
            "_view_module_version": "1.2.0",
            "_view_name": "StyleView",
            "description_width": ""
          }
        },
        "7344c9dba19f4976833480d3df83bdb7": {
          "model_module": "@jupyter-widgets/controls",
          "model_name": "HBoxModel",
          "model_module_version": "1.5.0",
          "state": {
            "_dom_classes": [],
            "_model_module": "@jupyter-widgets/controls",
            "_model_module_version": "1.5.0",
            "_model_name": "HBoxModel",
            "_view_count": null,
            "_view_module": "@jupyter-widgets/controls",
            "_view_module_version": "1.5.0",
            "_view_name": "HBoxView",
            "box_style": "",
            "children": [
              "IPY_MODEL_8e3b63fe71bb421784bff35a13fde352",
              "IPY_MODEL_7da57d54070745dcbf02e559fa79a40b",
              "IPY_MODEL_c90def7228434c53887bea76de9df5f6"
            ],
            "layout": "IPY_MODEL_f2f289c29ed443cab8f0fcf938b35479"
          }
        },
        "8e3b63fe71bb421784bff35a13fde352": {
          "model_module": "@jupyter-widgets/controls",
          "model_name": "HTMLModel",
          "model_module_version": "1.5.0",
          "state": {
            "_dom_classes": [],
            "_model_module": "@jupyter-widgets/controls",
            "_model_module_version": "1.5.0",
            "_model_name": "HTMLModel",
            "_view_count": null,
            "_view_module": "@jupyter-widgets/controls",
            "_view_module_version": "1.5.0",
            "_view_name": "HTMLView",
            "description": "",
            "description_tooltip": null,
            "layout": "IPY_MODEL_7aed8d2d8e3d4319bf9df57db103b00d",
            "placeholder": "​",
            "style": "IPY_MODEL_fe1540892c674a1380784b3bb1268795",
            "value": "Downloading (…)olve/main/vocab.json: 100%"
          }
        },
        "7da57d54070745dcbf02e559fa79a40b": {
          "model_module": "@jupyter-widgets/controls",
          "model_name": "FloatProgressModel",
          "model_module_version": "1.5.0",
          "state": {
            "_dom_classes": [],
            "_model_module": "@jupyter-widgets/controls",
            "_model_module_version": "1.5.0",
            "_model_name": "FloatProgressModel",
            "_view_count": null,
            "_view_module": "@jupyter-widgets/controls",
            "_view_module_version": "1.5.0",
            "_view_name": "ProgressView",
            "bar_style": "success",
            "description": "",
            "description_tooltip": null,
            "layout": "IPY_MODEL_c5984784b7df42ecb2229f63b279b7c5",
            "max": 1159342,
            "min": 0,
            "orientation": "horizontal",
            "style": "IPY_MODEL_01065a5bb08041ef9e8c7656e418e920",
            "value": 1159342
          }
        },
        "c90def7228434c53887bea76de9df5f6": {
          "model_module": "@jupyter-widgets/controls",
          "model_name": "HTMLModel",
          "model_module_version": "1.5.0",
          "state": {
            "_dom_classes": [],
            "_model_module": "@jupyter-widgets/controls",
            "_model_module_version": "1.5.0",
            "_model_name": "HTMLModel",
            "_view_count": null,
            "_view_module": "@jupyter-widgets/controls",
            "_view_module_version": "1.5.0",
            "_view_name": "HTMLView",
            "description": "",
            "description_tooltip": null,
            "layout": "IPY_MODEL_ba13c264434945aabb9b8f73ec3f2488",
            "placeholder": "​",
            "style": "IPY_MODEL_6cccc3d3b7b74f139fd2b67d2ccd3e10",
            "value": " 1.16M/1.16M [00:00&lt;00:00, 6.63MB/s]"
          }
        },
        "f2f289c29ed443cab8f0fcf938b35479": {
          "model_module": "@jupyter-widgets/base",
          "model_name": "LayoutModel",
          "model_module_version": "1.2.0",
          "state": {
            "_model_module": "@jupyter-widgets/base",
            "_model_module_version": "1.2.0",
            "_model_name": "LayoutModel",
            "_view_count": null,
            "_view_module": "@jupyter-widgets/base",
            "_view_module_version": "1.2.0",
            "_view_name": "LayoutView",
            "align_content": null,
            "align_items": null,
            "align_self": null,
            "border": null,
            "bottom": null,
            "display": null,
            "flex": null,
            "flex_flow": null,
            "grid_area": null,
            "grid_auto_columns": null,
            "grid_auto_flow": null,
            "grid_auto_rows": null,
            "grid_column": null,
            "grid_gap": null,
            "grid_row": null,
            "grid_template_areas": null,
            "grid_template_columns": null,
            "grid_template_rows": null,
            "height": null,
            "justify_content": null,
            "justify_items": null,
            "left": null,
            "margin": null,
            "max_height": null,
            "max_width": null,
            "min_height": null,
            "min_width": null,
            "object_fit": null,
            "object_position": null,
            "order": null,
            "overflow": null,
            "overflow_x": null,
            "overflow_y": null,
            "padding": null,
            "right": null,
            "top": null,
            "visibility": null,
            "width": null
          }
        },
        "7aed8d2d8e3d4319bf9df57db103b00d": {
          "model_module": "@jupyter-widgets/base",
          "model_name": "LayoutModel",
          "model_module_version": "1.2.0",
          "state": {
            "_model_module": "@jupyter-widgets/base",
            "_model_module_version": "1.2.0",
            "_model_name": "LayoutModel",
            "_view_count": null,
            "_view_module": "@jupyter-widgets/base",
            "_view_module_version": "1.2.0",
            "_view_name": "LayoutView",
            "align_content": null,
            "align_items": null,
            "align_self": null,
            "border": null,
            "bottom": null,
            "display": null,
            "flex": null,
            "flex_flow": null,
            "grid_area": null,
            "grid_auto_columns": null,
            "grid_auto_flow": null,
            "grid_auto_rows": null,
            "grid_column": null,
            "grid_gap": null,
            "grid_row": null,
            "grid_template_areas": null,
            "grid_template_columns": null,
            "grid_template_rows": null,
            "height": null,
            "justify_content": null,
            "justify_items": null,
            "left": null,
            "margin": null,
            "max_height": null,
            "max_width": null,
            "min_height": null,
            "min_width": null,
            "object_fit": null,
            "object_position": null,
            "order": null,
            "overflow": null,
            "overflow_x": null,
            "overflow_y": null,
            "padding": null,
            "right": null,
            "top": null,
            "visibility": null,
            "width": null
          }
        },
        "fe1540892c674a1380784b3bb1268795": {
          "model_module": "@jupyter-widgets/controls",
          "model_name": "DescriptionStyleModel",
          "model_module_version": "1.5.0",
          "state": {
            "_model_module": "@jupyter-widgets/controls",
            "_model_module_version": "1.5.0",
            "_model_name": "DescriptionStyleModel",
            "_view_count": null,
            "_view_module": "@jupyter-widgets/base",
            "_view_module_version": "1.2.0",
            "_view_name": "StyleView",
            "description_width": ""
          }
        },
        "c5984784b7df42ecb2229f63b279b7c5": {
          "model_module": "@jupyter-widgets/base",
          "model_name": "LayoutModel",
          "model_module_version": "1.2.0",
          "state": {
            "_model_module": "@jupyter-widgets/base",
            "_model_module_version": "1.2.0",
            "_model_name": "LayoutModel",
            "_view_count": null,
            "_view_module": "@jupyter-widgets/base",
            "_view_module_version": "1.2.0",
            "_view_name": "LayoutView",
            "align_content": null,
            "align_items": null,
            "align_self": null,
            "border": null,
            "bottom": null,
            "display": null,
            "flex": null,
            "flex_flow": null,
            "grid_area": null,
            "grid_auto_columns": null,
            "grid_auto_flow": null,
            "grid_auto_rows": null,
            "grid_column": null,
            "grid_gap": null,
            "grid_row": null,
            "grid_template_areas": null,
            "grid_template_columns": null,
            "grid_template_rows": null,
            "height": null,
            "justify_content": null,
            "justify_items": null,
            "left": null,
            "margin": null,
            "max_height": null,
            "max_width": null,
            "min_height": null,
            "min_width": null,
            "object_fit": null,
            "object_position": null,
            "order": null,
            "overflow": null,
            "overflow_x": null,
            "overflow_y": null,
            "padding": null,
            "right": null,
            "top": null,
            "visibility": null,
            "width": null
          }
        },
        "01065a5bb08041ef9e8c7656e418e920": {
          "model_module": "@jupyter-widgets/controls",
          "model_name": "ProgressStyleModel",
          "model_module_version": "1.5.0",
          "state": {
            "_model_module": "@jupyter-widgets/controls",
            "_model_module_version": "1.5.0",
            "_model_name": "ProgressStyleModel",
            "_view_count": null,
            "_view_module": "@jupyter-widgets/base",
            "_view_module_version": "1.2.0",
            "_view_name": "StyleView",
            "bar_color": null,
            "description_width": ""
          }
        },
        "ba13c264434945aabb9b8f73ec3f2488": {
          "model_module": "@jupyter-widgets/base",
          "model_name": "LayoutModel",
          "model_module_version": "1.2.0",
          "state": {
            "_model_module": "@jupyter-widgets/base",
            "_model_module_version": "1.2.0",
            "_model_name": "LayoutModel",
            "_view_count": null,
            "_view_module": "@jupyter-widgets/base",
            "_view_module_version": "1.2.0",
            "_view_name": "LayoutView",
            "align_content": null,
            "align_items": null,
            "align_self": null,
            "border": null,
            "bottom": null,
            "display": null,
            "flex": null,
            "flex_flow": null,
            "grid_area": null,
            "grid_auto_columns": null,
            "grid_auto_flow": null,
            "grid_auto_rows": null,
            "grid_column": null,
            "grid_gap": null,
            "grid_row": null,
            "grid_template_areas": null,
            "grid_template_columns": null,
            "grid_template_rows": null,
            "height": null,
            "justify_content": null,
            "justify_items": null,
            "left": null,
            "margin": null,
            "max_height": null,
            "max_width": null,
            "min_height": null,
            "min_width": null,
            "object_fit": null,
            "object_position": null,
            "order": null,
            "overflow": null,
            "overflow_x": null,
            "overflow_y": null,
            "padding": null,
            "right": null,
            "top": null,
            "visibility": null,
            "width": null
          }
        },
        "6cccc3d3b7b74f139fd2b67d2ccd3e10": {
          "model_module": "@jupyter-widgets/controls",
          "model_name": "DescriptionStyleModel",
          "model_module_version": "1.5.0",
          "state": {
            "_model_module": "@jupyter-widgets/controls",
            "_model_module_version": "1.5.0",
            "_model_name": "DescriptionStyleModel",
            "_view_count": null,
            "_view_module": "@jupyter-widgets/base",
            "_view_module_version": "1.2.0",
            "_view_name": "StyleView",
            "description_width": ""
          }
        },
        "580527b5f1a341db8fe4fd34cde81de3": {
          "model_module": "@jupyter-widgets/controls",
          "model_name": "HBoxModel",
          "model_module_version": "1.5.0",
          "state": {
            "_dom_classes": [],
            "_model_module": "@jupyter-widgets/controls",
            "_model_module_version": "1.5.0",
            "_model_name": "HBoxModel",
            "_view_count": null,
            "_view_module": "@jupyter-widgets/controls",
            "_view_module_version": "1.5.0",
            "_view_name": "HBoxView",
            "box_style": "",
            "children": [
              "IPY_MODEL_1728c72f294d49f7b265fe0dbed018a2",
              "IPY_MODEL_1dda5d847d67400ab40a47a5980c7a0b",
              "IPY_MODEL_e672d636e5444b8b9c35fe27ada26b44"
            ],
            "layout": "IPY_MODEL_df45b636180e4a49a22e4b7be06de519"
          }
        },
        "1728c72f294d49f7b265fe0dbed018a2": {
          "model_module": "@jupyter-widgets/controls",
          "model_name": "HTMLModel",
          "model_module_version": "1.5.0",
          "state": {
            "_dom_classes": [],
            "_model_module": "@jupyter-widgets/controls",
            "_model_module_version": "1.5.0",
            "_model_name": "HTMLModel",
            "_view_count": null,
            "_view_module": "@jupyter-widgets/controls",
            "_view_module_version": "1.5.0",
            "_view_name": "HTMLView",
            "description": "",
            "description_tooltip": null,
            "layout": "IPY_MODEL_e7384335dd2c4521bc44ef422387e578",
            "placeholder": "​",
            "style": "IPY_MODEL_2540b140843243169c47f8c25ebd8000",
            "value": "Downloading (…)olve/main/merges.txt: 100%"
          }
        },
        "1dda5d847d67400ab40a47a5980c7a0b": {
          "model_module": "@jupyter-widgets/controls",
          "model_name": "FloatProgressModel",
          "model_module_version": "1.5.0",
          "state": {
            "_dom_classes": [],
            "_model_module": "@jupyter-widgets/controls",
            "_model_module_version": "1.5.0",
            "_model_name": "FloatProgressModel",
            "_view_count": null,
            "_view_module": "@jupyter-widgets/controls",
            "_view_module_version": "1.5.0",
            "_view_name": "ProgressView",
            "bar_style": "success",
            "description": "",
            "description_tooltip": null,
            "layout": "IPY_MODEL_48febb43fa2546938d1eee412cb93505",
            "max": 875476,
            "min": 0,
            "orientation": "horizontal",
            "style": "IPY_MODEL_a80eef172ed247c4a3bfdd32856ab0de",
            "value": 875476
          }
        },
        "e672d636e5444b8b9c35fe27ada26b44": {
          "model_module": "@jupyter-widgets/controls",
          "model_name": "HTMLModel",
          "model_module_version": "1.5.0",
          "state": {
            "_dom_classes": [],
            "_model_module": "@jupyter-widgets/controls",
            "_model_module_version": "1.5.0",
            "_model_name": "HTMLModel",
            "_view_count": null,
            "_view_module": "@jupyter-widgets/controls",
            "_view_module_version": "1.5.0",
            "_view_name": "HTMLView",
            "description": "",
            "description_tooltip": null,
            "layout": "IPY_MODEL_cd19f9e7988f4c32943323342564b84c",
            "placeholder": "​",
            "style": "IPY_MODEL_875a073a6af84488b93bf57956c8e30a",
            "value": " 875k/875k [00:00&lt;00:00, 5.97MB/s]"
          }
        },
        "df45b636180e4a49a22e4b7be06de519": {
          "model_module": "@jupyter-widgets/base",
          "model_name": "LayoutModel",
          "model_module_version": "1.2.0",
          "state": {
            "_model_module": "@jupyter-widgets/base",
            "_model_module_version": "1.2.0",
            "_model_name": "LayoutModel",
            "_view_count": null,
            "_view_module": "@jupyter-widgets/base",
            "_view_module_version": "1.2.0",
            "_view_name": "LayoutView",
            "align_content": null,
            "align_items": null,
            "align_self": null,
            "border": null,
            "bottom": null,
            "display": null,
            "flex": null,
            "flex_flow": null,
            "grid_area": null,
            "grid_auto_columns": null,
            "grid_auto_flow": null,
            "grid_auto_rows": null,
            "grid_column": null,
            "grid_gap": null,
            "grid_row": null,
            "grid_template_areas": null,
            "grid_template_columns": null,
            "grid_template_rows": null,
            "height": null,
            "justify_content": null,
            "justify_items": null,
            "left": null,
            "margin": null,
            "max_height": null,
            "max_width": null,
            "min_height": null,
            "min_width": null,
            "object_fit": null,
            "object_position": null,
            "order": null,
            "overflow": null,
            "overflow_x": null,
            "overflow_y": null,
            "padding": null,
            "right": null,
            "top": null,
            "visibility": null,
            "width": null
          }
        },
        "e7384335dd2c4521bc44ef422387e578": {
          "model_module": "@jupyter-widgets/base",
          "model_name": "LayoutModel",
          "model_module_version": "1.2.0",
          "state": {
            "_model_module": "@jupyter-widgets/base",
            "_model_module_version": "1.2.0",
            "_model_name": "LayoutModel",
            "_view_count": null,
            "_view_module": "@jupyter-widgets/base",
            "_view_module_version": "1.2.0",
            "_view_name": "LayoutView",
            "align_content": null,
            "align_items": null,
            "align_self": null,
            "border": null,
            "bottom": null,
            "display": null,
            "flex": null,
            "flex_flow": null,
            "grid_area": null,
            "grid_auto_columns": null,
            "grid_auto_flow": null,
            "grid_auto_rows": null,
            "grid_column": null,
            "grid_gap": null,
            "grid_row": null,
            "grid_template_areas": null,
            "grid_template_columns": null,
            "grid_template_rows": null,
            "height": null,
            "justify_content": null,
            "justify_items": null,
            "left": null,
            "margin": null,
            "max_height": null,
            "max_width": null,
            "min_height": null,
            "min_width": null,
            "object_fit": null,
            "object_position": null,
            "order": null,
            "overflow": null,
            "overflow_x": null,
            "overflow_y": null,
            "padding": null,
            "right": null,
            "top": null,
            "visibility": null,
            "width": null
          }
        },
        "2540b140843243169c47f8c25ebd8000": {
          "model_module": "@jupyter-widgets/controls",
          "model_name": "DescriptionStyleModel",
          "model_module_version": "1.5.0",
          "state": {
            "_model_module": "@jupyter-widgets/controls",
            "_model_module_version": "1.5.0",
            "_model_name": "DescriptionStyleModel",
            "_view_count": null,
            "_view_module": "@jupyter-widgets/base",
            "_view_module_version": "1.2.0",
            "_view_name": "StyleView",
            "description_width": ""
          }
        },
        "48febb43fa2546938d1eee412cb93505": {
          "model_module": "@jupyter-widgets/base",
          "model_name": "LayoutModel",
          "model_module_version": "1.2.0",
          "state": {
            "_model_module": "@jupyter-widgets/base",
            "_model_module_version": "1.2.0",
            "_model_name": "LayoutModel",
            "_view_count": null,
            "_view_module": "@jupyter-widgets/base",
            "_view_module_version": "1.2.0",
            "_view_name": "LayoutView",
            "align_content": null,
            "align_items": null,
            "align_self": null,
            "border": null,
            "bottom": null,
            "display": null,
            "flex": null,
            "flex_flow": null,
            "grid_area": null,
            "grid_auto_columns": null,
            "grid_auto_flow": null,
            "grid_auto_rows": null,
            "grid_column": null,
            "grid_gap": null,
            "grid_row": null,
            "grid_template_areas": null,
            "grid_template_columns": null,
            "grid_template_rows": null,
            "height": null,
            "justify_content": null,
            "justify_items": null,
            "left": null,
            "margin": null,
            "max_height": null,
            "max_width": null,
            "min_height": null,
            "min_width": null,
            "object_fit": null,
            "object_position": null,
            "order": null,
            "overflow": null,
            "overflow_x": null,
            "overflow_y": null,
            "padding": null,
            "right": null,
            "top": null,
            "visibility": null,
            "width": null
          }
        },
        "a80eef172ed247c4a3bfdd32856ab0de": {
          "model_module": "@jupyter-widgets/controls",
          "model_name": "ProgressStyleModel",
          "model_module_version": "1.5.0",
          "state": {
            "_model_module": "@jupyter-widgets/controls",
            "_model_module_version": "1.5.0",
            "_model_name": "ProgressStyleModel",
            "_view_count": null,
            "_view_module": "@jupyter-widgets/base",
            "_view_module_version": "1.2.0",
            "_view_name": "StyleView",
            "bar_color": null,
            "description_width": ""
          }
        },
        "cd19f9e7988f4c32943323342564b84c": {
          "model_module": "@jupyter-widgets/base",
          "model_name": "LayoutModel",
          "model_module_version": "1.2.0",
          "state": {
            "_model_module": "@jupyter-widgets/base",
            "_model_module_version": "1.2.0",
            "_model_name": "LayoutModel",
            "_view_count": null,
            "_view_module": "@jupyter-widgets/base",
            "_view_module_version": "1.2.0",
            "_view_name": "LayoutView",
            "align_content": null,
            "align_items": null,
            "align_self": null,
            "border": null,
            "bottom": null,
            "display": null,
            "flex": null,
            "flex_flow": null,
            "grid_area": null,
            "grid_auto_columns": null,
            "grid_auto_flow": null,
            "grid_auto_rows": null,
            "grid_column": null,
            "grid_gap": null,
            "grid_row": null,
            "grid_template_areas": null,
            "grid_template_columns": null,
            "grid_template_rows": null,
            "height": null,
            "justify_content": null,
            "justify_items": null,
            "left": null,
            "margin": null,
            "max_height": null,
            "max_width": null,
            "min_height": null,
            "min_width": null,
            "object_fit": null,
            "object_position": null,
            "order": null,
            "overflow": null,
            "overflow_x": null,
            "overflow_y": null,
            "padding": null,
            "right": null,
            "top": null,
            "visibility": null,
            "width": null
          }
        },
        "875a073a6af84488b93bf57956c8e30a": {
          "model_module": "@jupyter-widgets/controls",
          "model_name": "DescriptionStyleModel",
          "model_module_version": "1.5.0",
          "state": {
            "_model_module": "@jupyter-widgets/controls",
            "_model_module_version": "1.5.0",
            "_model_name": "DescriptionStyleModel",
            "_view_count": null,
            "_view_module": "@jupyter-widgets/base",
            "_view_module_version": "1.2.0",
            "_view_name": "StyleView",
            "description_width": ""
          }
        },
        "35a4a32e4e13435b87ea1d2092fde7c6": {
          "model_module": "@jupyter-widgets/controls",
          "model_name": "HBoxModel",
          "model_module_version": "1.5.0",
          "state": {
            "_dom_classes": [],
            "_model_module": "@jupyter-widgets/controls",
            "_model_module_version": "1.5.0",
            "_model_name": "HBoxModel",
            "_view_count": null,
            "_view_module": "@jupyter-widgets/controls",
            "_view_module_version": "1.5.0",
            "_view_name": "HBoxView",
            "box_style": "",
            "children": [
              "IPY_MODEL_08f28e5b673442809192ebb123b22876",
              "IPY_MODEL_da8dbc78934348b1a5de2b35e33eaa0b",
              "IPY_MODEL_c92898214ec0445c987e9f85caf1c036"
            ],
            "layout": "IPY_MODEL_db3c0bc89cc9421cafda1cd65ecc8830"
          }
        },
        "08f28e5b673442809192ebb123b22876": {
          "model_module": "@jupyter-widgets/controls",
          "model_name": "HTMLModel",
          "model_module_version": "1.5.0",
          "state": {
            "_dom_classes": [],
            "_model_module": "@jupyter-widgets/controls",
            "_model_module_version": "1.5.0",
            "_model_name": "HTMLModel",
            "_view_count": null,
            "_view_module": "@jupyter-widgets/controls",
            "_view_module_version": "1.5.0",
            "_view_name": "HTMLView",
            "description": "",
            "description_tooltip": null,
            "layout": "IPY_MODEL_4cf467438b234958b9445b942f39c852",
            "placeholder": "​",
            "style": "IPY_MODEL_06561cf22826417280ad3ac599846d42",
            "value": "Downloading (…)/main/tokenizer.json: 100%"
          }
        },
        "da8dbc78934348b1a5de2b35e33eaa0b": {
          "model_module": "@jupyter-widgets/controls",
          "model_name": "FloatProgressModel",
          "model_module_version": "1.5.0",
          "state": {
            "_dom_classes": [],
            "_model_module": "@jupyter-widgets/controls",
            "_model_module_version": "1.5.0",
            "_model_name": "FloatProgressModel",
            "_view_count": null,
            "_view_module": "@jupyter-widgets/controls",
            "_view_module_version": "1.5.0",
            "_view_name": "ProgressView",
            "bar_style": "success",
            "description": "",
            "description_tooltip": null,
            "layout": "IPY_MODEL_62732240d3224a10be54581caef63fb3",
            "max": 2748949,
            "min": 0,
            "orientation": "horizontal",
            "style": "IPY_MODEL_f37a65df82c34810b47008ae9522e235",
            "value": 2748949
          }
        },
        "c92898214ec0445c987e9f85caf1c036": {
          "model_module": "@jupyter-widgets/controls",
          "model_name": "HTMLModel",
          "model_module_version": "1.5.0",
          "state": {
            "_dom_classes": [],
            "_model_module": "@jupyter-widgets/controls",
            "_model_module_version": "1.5.0",
            "_model_name": "HTMLModel",
            "_view_count": null,
            "_view_module": "@jupyter-widgets/controls",
            "_view_module_version": "1.5.0",
            "_view_name": "HTMLView",
            "description": "",
            "description_tooltip": null,
            "layout": "IPY_MODEL_ca039bc600d6429cbc5d53bbcbe33094",
            "placeholder": "​",
            "style": "IPY_MODEL_740b9dd333304c559206bd570d4886f2",
            "value": " 2.75M/2.75M [00:01&lt;00:00, 1.82MB/s]"
          }
        },
        "db3c0bc89cc9421cafda1cd65ecc8830": {
          "model_module": "@jupyter-widgets/base",
          "model_name": "LayoutModel",
          "model_module_version": "1.2.0",
          "state": {
            "_model_module": "@jupyter-widgets/base",
            "_model_module_version": "1.2.0",
            "_model_name": "LayoutModel",
            "_view_count": null,
            "_view_module": "@jupyter-widgets/base",
            "_view_module_version": "1.2.0",
            "_view_name": "LayoutView",
            "align_content": null,
            "align_items": null,
            "align_self": null,
            "border": null,
            "bottom": null,
            "display": null,
            "flex": null,
            "flex_flow": null,
            "grid_area": null,
            "grid_auto_columns": null,
            "grid_auto_flow": null,
            "grid_auto_rows": null,
            "grid_column": null,
            "grid_gap": null,
            "grid_row": null,
            "grid_template_areas": null,
            "grid_template_columns": null,
            "grid_template_rows": null,
            "height": null,
            "justify_content": null,
            "justify_items": null,
            "left": null,
            "margin": null,
            "max_height": null,
            "max_width": null,
            "min_height": null,
            "min_width": null,
            "object_fit": null,
            "object_position": null,
            "order": null,
            "overflow": null,
            "overflow_x": null,
            "overflow_y": null,
            "padding": null,
            "right": null,
            "top": null,
            "visibility": null,
            "width": null
          }
        },
        "4cf467438b234958b9445b942f39c852": {
          "model_module": "@jupyter-widgets/base",
          "model_name": "LayoutModel",
          "model_module_version": "1.2.0",
          "state": {
            "_model_module": "@jupyter-widgets/base",
            "_model_module_version": "1.2.0",
            "_model_name": "LayoutModel",
            "_view_count": null,
            "_view_module": "@jupyter-widgets/base",
            "_view_module_version": "1.2.0",
            "_view_name": "LayoutView",
            "align_content": null,
            "align_items": null,
            "align_self": null,
            "border": null,
            "bottom": null,
            "display": null,
            "flex": null,
            "flex_flow": null,
            "grid_area": null,
            "grid_auto_columns": null,
            "grid_auto_flow": null,
            "grid_auto_rows": null,
            "grid_column": null,
            "grid_gap": null,
            "grid_row": null,
            "grid_template_areas": null,
            "grid_template_columns": null,
            "grid_template_rows": null,
            "height": null,
            "justify_content": null,
            "justify_items": null,
            "left": null,
            "margin": null,
            "max_height": null,
            "max_width": null,
            "min_height": null,
            "min_width": null,
            "object_fit": null,
            "object_position": null,
            "order": null,
            "overflow": null,
            "overflow_x": null,
            "overflow_y": null,
            "padding": null,
            "right": null,
            "top": null,
            "visibility": null,
            "width": null
          }
        },
        "06561cf22826417280ad3ac599846d42": {
          "model_module": "@jupyter-widgets/controls",
          "model_name": "DescriptionStyleModel",
          "model_module_version": "1.5.0",
          "state": {
            "_model_module": "@jupyter-widgets/controls",
            "_model_module_version": "1.5.0",
            "_model_name": "DescriptionStyleModel",
            "_view_count": null,
            "_view_module": "@jupyter-widgets/base",
            "_view_module_version": "1.2.0",
            "_view_name": "StyleView",
            "description_width": ""
          }
        },
        "62732240d3224a10be54581caef63fb3": {
          "model_module": "@jupyter-widgets/base",
          "model_name": "LayoutModel",
          "model_module_version": "1.2.0",
          "state": {
            "_model_module": "@jupyter-widgets/base",
            "_model_module_version": "1.2.0",
            "_model_name": "LayoutModel",
            "_view_count": null,
            "_view_module": "@jupyter-widgets/base",
            "_view_module_version": "1.2.0",
            "_view_name": "LayoutView",
            "align_content": null,
            "align_items": null,
            "align_self": null,
            "border": null,
            "bottom": null,
            "display": null,
            "flex": null,
            "flex_flow": null,
            "grid_area": null,
            "grid_auto_columns": null,
            "grid_auto_flow": null,
            "grid_auto_rows": null,
            "grid_column": null,
            "grid_gap": null,
            "grid_row": null,
            "grid_template_areas": null,
            "grid_template_columns": null,
            "grid_template_rows": null,
            "height": null,
            "justify_content": null,
            "justify_items": null,
            "left": null,
            "margin": null,
            "max_height": null,
            "max_width": null,
            "min_height": null,
            "min_width": null,
            "object_fit": null,
            "object_position": null,
            "order": null,
            "overflow": null,
            "overflow_x": null,
            "overflow_y": null,
            "padding": null,
            "right": null,
            "top": null,
            "visibility": null,
            "width": null
          }
        },
        "f37a65df82c34810b47008ae9522e235": {
          "model_module": "@jupyter-widgets/controls",
          "model_name": "ProgressStyleModel",
          "model_module_version": "1.5.0",
          "state": {
            "_model_module": "@jupyter-widgets/controls",
            "_model_module_version": "1.5.0",
            "_model_name": "ProgressStyleModel",
            "_view_count": null,
            "_view_module": "@jupyter-widgets/base",
            "_view_module_version": "1.2.0",
            "_view_name": "StyleView",
            "bar_color": null,
            "description_width": ""
          }
        },
        "ca039bc600d6429cbc5d53bbcbe33094": {
          "model_module": "@jupyter-widgets/base",
          "model_name": "LayoutModel",
          "model_module_version": "1.2.0",
          "state": {
            "_model_module": "@jupyter-widgets/base",
            "_model_module_version": "1.2.0",
            "_model_name": "LayoutModel",
            "_view_count": null,
            "_view_module": "@jupyter-widgets/base",
            "_view_module_version": "1.2.0",
            "_view_name": "LayoutView",
            "align_content": null,
            "align_items": null,
            "align_self": null,
            "border": null,
            "bottom": null,
            "display": null,
            "flex": null,
            "flex_flow": null,
            "grid_area": null,
            "grid_auto_columns": null,
            "grid_auto_flow": null,
            "grid_auto_rows": null,
            "grid_column": null,
            "grid_gap": null,
            "grid_row": null,
            "grid_template_areas": null,
            "grid_template_columns": null,
            "grid_template_rows": null,
            "height": null,
            "justify_content": null,
            "justify_items": null,
            "left": null,
            "margin": null,
            "max_height": null,
            "max_width": null,
            "min_height": null,
            "min_width": null,
            "object_fit": null,
            "object_position": null,
            "order": null,
            "overflow": null,
            "overflow_x": null,
            "overflow_y": null,
            "padding": null,
            "right": null,
            "top": null,
            "visibility": null,
            "width": null
          }
        },
        "740b9dd333304c559206bd570d4886f2": {
          "model_module": "@jupyter-widgets/controls",
          "model_name": "DescriptionStyleModel",
          "model_module_version": "1.5.0",
          "state": {
            "_model_module": "@jupyter-widgets/controls",
            "_model_module_version": "1.5.0",
            "_model_name": "DescriptionStyleModel",
            "_view_count": null,
            "_view_module": "@jupyter-widgets/base",
            "_view_module_version": "1.2.0",
            "_view_name": "StyleView",
            "description_width": ""
          }
        },
        "f570fb0e0461498e8b908c13c9183303": {
          "model_module": "@jupyter-widgets/controls",
          "model_name": "HBoxModel",
          "model_module_version": "1.5.0",
          "state": {
            "_dom_classes": [],
            "_model_module": "@jupyter-widgets/controls",
            "_model_module_version": "1.5.0",
            "_model_name": "HBoxModel",
            "_view_count": null,
            "_view_module": "@jupyter-widgets/controls",
            "_view_module_version": "1.5.0",
            "_view_name": "HBoxView",
            "box_style": "",
            "children": [
              "IPY_MODEL_47f3240028bd4f41b0bf58900d014f0e",
              "IPY_MODEL_794068c5422340e1b59b0c002a2738c6",
              "IPY_MODEL_ca52184cff5f434cb8b3359cd26eef2c"
            ],
            "layout": "IPY_MODEL_7bb8eeb0b12b4d4a8cabb89be0ae707f"
          }
        },
        "47f3240028bd4f41b0bf58900d014f0e": {
          "model_module": "@jupyter-widgets/controls",
          "model_name": "HTMLModel",
          "model_module_version": "1.5.0",
          "state": {
            "_dom_classes": [],
            "_model_module": "@jupyter-widgets/controls",
            "_model_module_version": "1.5.0",
            "_model_name": "HTMLModel",
            "_view_count": null,
            "_view_module": "@jupyter-widgets/controls",
            "_view_module_version": "1.5.0",
            "_view_name": "HTMLView",
            "description": "",
            "description_tooltip": null,
            "layout": "IPY_MODEL_7a3fc0a7f255414fb1a18f946c3fb4f5",
            "placeholder": "​",
            "style": "IPY_MODEL_86c8332b3c024e9ba333993600b32507",
            "value": "Downloading (…)in/added_tokens.json: 100%"
          }
        },
        "794068c5422340e1b59b0c002a2738c6": {
          "model_module": "@jupyter-widgets/controls",
          "model_name": "FloatProgressModel",
          "model_module_version": "1.5.0",
          "state": {
            "_dom_classes": [],
            "_model_module": "@jupyter-widgets/controls",
            "_model_module_version": "1.5.0",
            "_model_name": "FloatProgressModel",
            "_view_count": null,
            "_view_module": "@jupyter-widgets/controls",
            "_view_module_version": "1.5.0",
            "_view_name": "ProgressView",
            "bar_style": "success",
            "description": "",
            "description_tooltip": null,
            "layout": "IPY_MODEL_c101603850904ef69ae51dfc90ad1e8d",
            "max": 14,
            "min": 0,
            "orientation": "horizontal",
            "style": "IPY_MODEL_3ed5b1412f6c4775a100d60bb08218a3",
            "value": 14
          }
        },
        "ca52184cff5f434cb8b3359cd26eef2c": {
          "model_module": "@jupyter-widgets/controls",
          "model_name": "HTMLModel",
          "model_module_version": "1.5.0",
          "state": {
            "_dom_classes": [],
            "_model_module": "@jupyter-widgets/controls",
            "_model_module_version": "1.5.0",
            "_model_name": "HTMLModel",
            "_view_count": null,
            "_view_module": "@jupyter-widgets/controls",
            "_view_module_version": "1.5.0",
            "_view_name": "HTMLView",
            "description": "",
            "description_tooltip": null,
            "layout": "IPY_MODEL_a804b6c4901c48b7be92ac6aa38ceae9",
            "placeholder": "​",
            "style": "IPY_MODEL_3c8531c6ae8645dda1a3cccd8e9c60b0",
            "value": " 14.0/14.0 [00:00&lt;00:00, 808B/s]"
          }
        },
        "7bb8eeb0b12b4d4a8cabb89be0ae707f": {
          "model_module": "@jupyter-widgets/base",
          "model_name": "LayoutModel",
          "model_module_version": "1.2.0",
          "state": {
            "_model_module": "@jupyter-widgets/base",
            "_model_module_version": "1.2.0",
            "_model_name": "LayoutModel",
            "_view_count": null,
            "_view_module": "@jupyter-widgets/base",
            "_view_module_version": "1.2.0",
            "_view_name": "LayoutView",
            "align_content": null,
            "align_items": null,
            "align_self": null,
            "border": null,
            "bottom": null,
            "display": null,
            "flex": null,
            "flex_flow": null,
            "grid_area": null,
            "grid_auto_columns": null,
            "grid_auto_flow": null,
            "grid_auto_rows": null,
            "grid_column": null,
            "grid_gap": null,
            "grid_row": null,
            "grid_template_areas": null,
            "grid_template_columns": null,
            "grid_template_rows": null,
            "height": null,
            "justify_content": null,
            "justify_items": null,
            "left": null,
            "margin": null,
            "max_height": null,
            "max_width": null,
            "min_height": null,
            "min_width": null,
            "object_fit": null,
            "object_position": null,
            "order": null,
            "overflow": null,
            "overflow_x": null,
            "overflow_y": null,
            "padding": null,
            "right": null,
            "top": null,
            "visibility": null,
            "width": null
          }
        },
        "7a3fc0a7f255414fb1a18f946c3fb4f5": {
          "model_module": "@jupyter-widgets/base",
          "model_name": "LayoutModel",
          "model_module_version": "1.2.0",
          "state": {
            "_model_module": "@jupyter-widgets/base",
            "_model_module_version": "1.2.0",
            "_model_name": "LayoutModel",
            "_view_count": null,
            "_view_module": "@jupyter-widgets/base",
            "_view_module_version": "1.2.0",
            "_view_name": "LayoutView",
            "align_content": null,
            "align_items": null,
            "align_self": null,
            "border": null,
            "bottom": null,
            "display": null,
            "flex": null,
            "flex_flow": null,
            "grid_area": null,
            "grid_auto_columns": null,
            "grid_auto_flow": null,
            "grid_auto_rows": null,
            "grid_column": null,
            "grid_gap": null,
            "grid_row": null,
            "grid_template_areas": null,
            "grid_template_columns": null,
            "grid_template_rows": null,
            "height": null,
            "justify_content": null,
            "justify_items": null,
            "left": null,
            "margin": null,
            "max_height": null,
            "max_width": null,
            "min_height": null,
            "min_width": null,
            "object_fit": null,
            "object_position": null,
            "order": null,
            "overflow": null,
            "overflow_x": null,
            "overflow_y": null,
            "padding": null,
            "right": null,
            "top": null,
            "visibility": null,
            "width": null
          }
        },
        "86c8332b3c024e9ba333993600b32507": {
          "model_module": "@jupyter-widgets/controls",
          "model_name": "DescriptionStyleModel",
          "model_module_version": "1.5.0",
          "state": {
            "_model_module": "@jupyter-widgets/controls",
            "_model_module_version": "1.5.0",
            "_model_name": "DescriptionStyleModel",
            "_view_count": null,
            "_view_module": "@jupyter-widgets/base",
            "_view_module_version": "1.2.0",
            "_view_name": "StyleView",
            "description_width": ""
          }
        },
        "c101603850904ef69ae51dfc90ad1e8d": {
          "model_module": "@jupyter-widgets/base",
          "model_name": "LayoutModel",
          "model_module_version": "1.2.0",
          "state": {
            "_model_module": "@jupyter-widgets/base",
            "_model_module_version": "1.2.0",
            "_model_name": "LayoutModel",
            "_view_count": null,
            "_view_module": "@jupyter-widgets/base",
            "_view_module_version": "1.2.0",
            "_view_name": "LayoutView",
            "align_content": null,
            "align_items": null,
            "align_self": null,
            "border": null,
            "bottom": null,
            "display": null,
            "flex": null,
            "flex_flow": null,
            "grid_area": null,
            "grid_auto_columns": null,
            "grid_auto_flow": null,
            "grid_auto_rows": null,
            "grid_column": null,
            "grid_gap": null,
            "grid_row": null,
            "grid_template_areas": null,
            "grid_template_columns": null,
            "grid_template_rows": null,
            "height": null,
            "justify_content": null,
            "justify_items": null,
            "left": null,
            "margin": null,
            "max_height": null,
            "max_width": null,
            "min_height": null,
            "min_width": null,
            "object_fit": null,
            "object_position": null,
            "order": null,
            "overflow": null,
            "overflow_x": null,
            "overflow_y": null,
            "padding": null,
            "right": null,
            "top": null,
            "visibility": null,
            "width": null
          }
        },
        "3ed5b1412f6c4775a100d60bb08218a3": {
          "model_module": "@jupyter-widgets/controls",
          "model_name": "ProgressStyleModel",
          "model_module_version": "1.5.0",
          "state": {
            "_model_module": "@jupyter-widgets/controls",
            "_model_module_version": "1.5.0",
            "_model_name": "ProgressStyleModel",
            "_view_count": null,
            "_view_module": "@jupyter-widgets/base",
            "_view_module_version": "1.2.0",
            "_view_name": "StyleView",
            "bar_color": null,
            "description_width": ""
          }
        },
        "a804b6c4901c48b7be92ac6aa38ceae9": {
          "model_module": "@jupyter-widgets/base",
          "model_name": "LayoutModel",
          "model_module_version": "1.2.0",
          "state": {
            "_model_module": "@jupyter-widgets/base",
            "_model_module_version": "1.2.0",
            "_model_name": "LayoutModel",
            "_view_count": null,
            "_view_module": "@jupyter-widgets/base",
            "_view_module_version": "1.2.0",
            "_view_name": "LayoutView",
            "align_content": null,
            "align_items": null,
            "align_self": null,
            "border": null,
            "bottom": null,
            "display": null,
            "flex": null,
            "flex_flow": null,
            "grid_area": null,
            "grid_auto_columns": null,
            "grid_auto_flow": null,
            "grid_auto_rows": null,
            "grid_column": null,
            "grid_gap": null,
            "grid_row": null,
            "grid_template_areas": null,
            "grid_template_columns": null,
            "grid_template_rows": null,
            "height": null,
            "justify_content": null,
            "justify_items": null,
            "left": null,
            "margin": null,
            "max_height": null,
            "max_width": null,
            "min_height": null,
            "min_width": null,
            "object_fit": null,
            "object_position": null,
            "order": null,
            "overflow": null,
            "overflow_x": null,
            "overflow_y": null,
            "padding": null,
            "right": null,
            "top": null,
            "visibility": null,
            "width": null
          }
        },
        "3c8531c6ae8645dda1a3cccd8e9c60b0": {
          "model_module": "@jupyter-widgets/controls",
          "model_name": "DescriptionStyleModel",
          "model_module_version": "1.5.0",
          "state": {
            "_model_module": "@jupyter-widgets/controls",
            "_model_module_version": "1.5.0",
            "_model_name": "DescriptionStyleModel",
            "_view_count": null,
            "_view_module": "@jupyter-widgets/base",
            "_view_module_version": "1.2.0",
            "_view_name": "StyleView",
            "description_width": ""
          }
        },
        "6374c5117b784476bca3e7f6e2f5e81d": {
          "model_module": "@jupyter-widgets/controls",
          "model_name": "HBoxModel",
          "model_module_version": "1.5.0",
          "state": {
            "_dom_classes": [],
            "_model_module": "@jupyter-widgets/controls",
            "_model_module_version": "1.5.0",
            "_model_name": "HBoxModel",
            "_view_count": null,
            "_view_module": "@jupyter-widgets/controls",
            "_view_module_version": "1.5.0",
            "_view_name": "HBoxView",
            "box_style": "",
            "children": [
              "IPY_MODEL_6e97780674234b27ba4bbf2864ada8a4",
              "IPY_MODEL_74532e5e08904f2487d9b0baecc9a863",
              "IPY_MODEL_30dd5c67a4334ec8bfbdae1111aa8673"
            ],
            "layout": "IPY_MODEL_4cb7430fd16f4a90b2cce52fb54b7839"
          }
        },
        "6e97780674234b27ba4bbf2864ada8a4": {
          "model_module": "@jupyter-widgets/controls",
          "model_name": "HTMLModel",
          "model_module_version": "1.5.0",
          "state": {
            "_dom_classes": [],
            "_model_module": "@jupyter-widgets/controls",
            "_model_module_version": "1.5.0",
            "_model_name": "HTMLModel",
            "_view_count": null,
            "_view_module": "@jupyter-widgets/controls",
            "_view_module_version": "1.5.0",
            "_view_name": "HTMLView",
            "description": "",
            "description_tooltip": null,
            "layout": "IPY_MODEL_e4389cd1ce3c4092b0045584ae153a1a",
            "placeholder": "​",
            "style": "IPY_MODEL_44c566e86e9d4405840adf4a83d8b1e4",
            "value": "Downloading (…)cial_tokens_map.json: 100%"
          }
        },
        "74532e5e08904f2487d9b0baecc9a863": {
          "model_module": "@jupyter-widgets/controls",
          "model_name": "FloatProgressModel",
          "model_module_version": "1.5.0",
          "state": {
            "_dom_classes": [],
            "_model_module": "@jupyter-widgets/controls",
            "_model_module_version": "1.5.0",
            "_model_name": "FloatProgressModel",
            "_view_count": null,
            "_view_module": "@jupyter-widgets/controls",
            "_view_module_version": "1.5.0",
            "_view_name": "ProgressView",
            "bar_style": "success",
            "description": "",
            "description_tooltip": null,
            "layout": "IPY_MODEL_b236dd50ec534135b54fed70e3ee956d",
            "max": 104,
            "min": 0,
            "orientation": "horizontal",
            "style": "IPY_MODEL_48db17f306c446a986aebbeaeccd1bac",
            "value": 104
          }
        },
        "30dd5c67a4334ec8bfbdae1111aa8673": {
          "model_module": "@jupyter-widgets/controls",
          "model_name": "HTMLModel",
          "model_module_version": "1.5.0",
          "state": {
            "_dom_classes": [],
            "_model_module": "@jupyter-widgets/controls",
            "_model_module_version": "1.5.0",
            "_model_name": "HTMLModel",
            "_view_count": null,
            "_view_module": "@jupyter-widgets/controls",
            "_view_module_version": "1.5.0",
            "_view_name": "HTMLView",
            "description": "",
            "description_tooltip": null,
            "layout": "IPY_MODEL_9bbdccd3c6a441138f524195ac805379",
            "placeholder": "​",
            "style": "IPY_MODEL_04792f74f51f4a9db16bb43c85559b56",
            "value": " 104/104 [00:00&lt;00:00, 4.98kB/s]"
          }
        },
        "4cb7430fd16f4a90b2cce52fb54b7839": {
          "model_module": "@jupyter-widgets/base",
          "model_name": "LayoutModel",
          "model_module_version": "1.2.0",
          "state": {
            "_model_module": "@jupyter-widgets/base",
            "_model_module_version": "1.2.0",
            "_model_name": "LayoutModel",
            "_view_count": null,
            "_view_module": "@jupyter-widgets/base",
            "_view_module_version": "1.2.0",
            "_view_name": "LayoutView",
            "align_content": null,
            "align_items": null,
            "align_self": null,
            "border": null,
            "bottom": null,
            "display": null,
            "flex": null,
            "flex_flow": null,
            "grid_area": null,
            "grid_auto_columns": null,
            "grid_auto_flow": null,
            "grid_auto_rows": null,
            "grid_column": null,
            "grid_gap": null,
            "grid_row": null,
            "grid_template_areas": null,
            "grid_template_columns": null,
            "grid_template_rows": null,
            "height": null,
            "justify_content": null,
            "justify_items": null,
            "left": null,
            "margin": null,
            "max_height": null,
            "max_width": null,
            "min_height": null,
            "min_width": null,
            "object_fit": null,
            "object_position": null,
            "order": null,
            "overflow": null,
            "overflow_x": null,
            "overflow_y": null,
            "padding": null,
            "right": null,
            "top": null,
            "visibility": null,
            "width": null
          }
        },
        "e4389cd1ce3c4092b0045584ae153a1a": {
          "model_module": "@jupyter-widgets/base",
          "model_name": "LayoutModel",
          "model_module_version": "1.2.0",
          "state": {
            "_model_module": "@jupyter-widgets/base",
            "_model_module_version": "1.2.0",
            "_model_name": "LayoutModel",
            "_view_count": null,
            "_view_module": "@jupyter-widgets/base",
            "_view_module_version": "1.2.0",
            "_view_name": "LayoutView",
            "align_content": null,
            "align_items": null,
            "align_self": null,
            "border": null,
            "bottom": null,
            "display": null,
            "flex": null,
            "flex_flow": null,
            "grid_area": null,
            "grid_auto_columns": null,
            "grid_auto_flow": null,
            "grid_auto_rows": null,
            "grid_column": null,
            "grid_gap": null,
            "grid_row": null,
            "grid_template_areas": null,
            "grid_template_columns": null,
            "grid_template_rows": null,
            "height": null,
            "justify_content": null,
            "justify_items": null,
            "left": null,
            "margin": null,
            "max_height": null,
            "max_width": null,
            "min_height": null,
            "min_width": null,
            "object_fit": null,
            "object_position": null,
            "order": null,
            "overflow": null,
            "overflow_x": null,
            "overflow_y": null,
            "padding": null,
            "right": null,
            "top": null,
            "visibility": null,
            "width": null
          }
        },
        "44c566e86e9d4405840adf4a83d8b1e4": {
          "model_module": "@jupyter-widgets/controls",
          "model_name": "DescriptionStyleModel",
          "model_module_version": "1.5.0",
          "state": {
            "_model_module": "@jupyter-widgets/controls",
            "_model_module_version": "1.5.0",
            "_model_name": "DescriptionStyleModel",
            "_view_count": null,
            "_view_module": "@jupyter-widgets/base",
            "_view_module_version": "1.2.0",
            "_view_name": "StyleView",
            "description_width": ""
          }
        },
        "b236dd50ec534135b54fed70e3ee956d": {
          "model_module": "@jupyter-widgets/base",
          "model_name": "LayoutModel",
          "model_module_version": "1.2.0",
          "state": {
            "_model_module": "@jupyter-widgets/base",
            "_model_module_version": "1.2.0",
            "_model_name": "LayoutModel",
            "_view_count": null,
            "_view_module": "@jupyter-widgets/base",
            "_view_module_version": "1.2.0",
            "_view_name": "LayoutView",
            "align_content": null,
            "align_items": null,
            "align_self": null,
            "border": null,
            "bottom": null,
            "display": null,
            "flex": null,
            "flex_flow": null,
            "grid_area": null,
            "grid_auto_columns": null,
            "grid_auto_flow": null,
            "grid_auto_rows": null,
            "grid_column": null,
            "grid_gap": null,
            "grid_row": null,
            "grid_template_areas": null,
            "grid_template_columns": null,
            "grid_template_rows": null,
            "height": null,
            "justify_content": null,
            "justify_items": null,
            "left": null,
            "margin": null,
            "max_height": null,
            "max_width": null,
            "min_height": null,
            "min_width": null,
            "object_fit": null,
            "object_position": null,
            "order": null,
            "overflow": null,
            "overflow_x": null,
            "overflow_y": null,
            "padding": null,
            "right": null,
            "top": null,
            "visibility": null,
            "width": null
          }
        },
        "48db17f306c446a986aebbeaeccd1bac": {
          "model_module": "@jupyter-widgets/controls",
          "model_name": "ProgressStyleModel",
          "model_module_version": "1.5.0",
          "state": {
            "_model_module": "@jupyter-widgets/controls",
            "_model_module_version": "1.5.0",
            "_model_name": "ProgressStyleModel",
            "_view_count": null,
            "_view_module": "@jupyter-widgets/base",
            "_view_module_version": "1.2.0",
            "_view_name": "StyleView",
            "bar_color": null,
            "description_width": ""
          }
        },
        "9bbdccd3c6a441138f524195ac805379": {
          "model_module": "@jupyter-widgets/base",
          "model_name": "LayoutModel",
          "model_module_version": "1.2.0",
          "state": {
            "_model_module": "@jupyter-widgets/base",
            "_model_module_version": "1.2.0",
            "_model_name": "LayoutModel",
            "_view_count": null,
            "_view_module": "@jupyter-widgets/base",
            "_view_module_version": "1.2.0",
            "_view_name": "LayoutView",
            "align_content": null,
            "align_items": null,
            "align_self": null,
            "border": null,
            "bottom": null,
            "display": null,
            "flex": null,
            "flex_flow": null,
            "grid_area": null,
            "grid_auto_columns": null,
            "grid_auto_flow": null,
            "grid_auto_rows": null,
            "grid_column": null,
            "grid_gap": null,
            "grid_row": null,
            "grid_template_areas": null,
            "grid_template_columns": null,
            "grid_template_rows": null,
            "height": null,
            "justify_content": null,
            "justify_items": null,
            "left": null,
            "margin": null,
            "max_height": null,
            "max_width": null,
            "min_height": null,
            "min_width": null,
            "object_fit": null,
            "object_position": null,
            "order": null,
            "overflow": null,
            "overflow_x": null,
            "overflow_y": null,
            "padding": null,
            "right": null,
            "top": null,
            "visibility": null,
            "width": null
          }
        },
        "04792f74f51f4a9db16bb43c85559b56": {
          "model_module": "@jupyter-widgets/controls",
          "model_name": "DescriptionStyleModel",
          "model_module_version": "1.5.0",
          "state": {
            "_model_module": "@jupyter-widgets/controls",
            "_model_module_version": "1.5.0",
            "_model_name": "DescriptionStyleModel",
            "_view_count": null,
            "_view_module": "@jupyter-widgets/base",
            "_view_module_version": "1.2.0",
            "_view_name": "StyleView",
            "description_width": ""
          }
        }
      }
    }
  },
  "cells": [
    {
      "cell_type": "markdown",
      "metadata": {
        "id": "view-in-github",
        "colab_type": "text"
      },
      "source": [
        "<a href=\"https://colab.research.google.com/github/nahbos/AUT-Language-Understanding/blob/main/Proj/farsi_poem_generator.ipynb\" target=\"_parent\"><img src=\"https://colab.research.google.com/assets/colab-badge.svg\" alt=\"Open In Colab\"/></a>"
      ]
    },
    {
      "cell_type": "markdown",
      "source": [
        "# Sobhan Moradian Daghigh\n",
        "Project: NLG - Poem"
      ],
      "metadata": {
        "id": "6zsxJiww35Us"
      }
    },
    {
      "cell_type": "code",
      "execution_count": 1,
      "metadata": {
        "id": "itdI-HOd30UX",
        "colab": {
          "base_uri": "https://localhost:8080/"
        },
        "outputId": "938e60af-1329-43de-d922-0a2a9b9fd475"
      },
      "outputs": [
        {
          "output_type": "stream",
          "name": "stdout",
          "text": [
            "Looking in indexes: https://pypi.org/simple, https://us-python.pkg.dev/colab-wheels/public/simple/\n",
            "Collecting transformers\n",
            "  Downloading transformers-4.26.1-py3-none-any.whl (6.3 MB)\n",
            "\u001b[2K     \u001b[90m━━━━━━━━━━━━━━━━━━━━━━━━━━━━━━━━━━━━━━━━\u001b[0m \u001b[32m6.3/6.3 MB\u001b[0m \u001b[31m41.3 MB/s\u001b[0m eta \u001b[36m0:00:00\u001b[0m\n",
            "\u001b[?25hRequirement already satisfied: regex!=2019.12.17 in /usr/local/lib/python3.8/dist-packages (from transformers) (2022.6.2)\n",
            "Requirement already satisfied: filelock in /usr/local/lib/python3.8/dist-packages (from transformers) (3.9.0)\n",
            "Requirement already satisfied: packaging>=20.0 in /usr/local/lib/python3.8/dist-packages (from transformers) (23.0)\n",
            "Requirement already satisfied: pyyaml>=5.1 in /usr/local/lib/python3.8/dist-packages (from transformers) (6.0)\n",
            "Collecting tokenizers!=0.11.3,<0.14,>=0.11.1\n",
            "  Downloading tokenizers-0.13.2-cp38-cp38-manylinux_2_17_x86_64.manylinux2014_x86_64.whl (7.6 MB)\n",
            "\u001b[2K     \u001b[90m━━━━━━━━━━━━━━━━━━━━━━━━━━━━━━━━━━━━━━━━\u001b[0m \u001b[32m7.6/7.6 MB\u001b[0m \u001b[31m35.8 MB/s\u001b[0m eta \u001b[36m0:00:00\u001b[0m\n",
            "\u001b[?25hRequirement already satisfied: tqdm>=4.27 in /usr/local/lib/python3.8/dist-packages (from transformers) (4.64.1)\n",
            "Collecting huggingface-hub<1.0,>=0.11.0\n",
            "  Downloading huggingface_hub-0.12.1-py3-none-any.whl (190 kB)\n",
            "\u001b[2K     \u001b[90m━━━━━━━━━━━━━━━━━━━━━━━━━━━━━━━━━━━━━━\u001b[0m \u001b[32m190.3/190.3 KB\u001b[0m \u001b[31m14.2 MB/s\u001b[0m eta \u001b[36m0:00:00\u001b[0m\n",
            "\u001b[?25hRequirement already satisfied: requests in /usr/local/lib/python3.8/dist-packages (from transformers) (2.25.1)\n",
            "Requirement already satisfied: numpy>=1.17 in /usr/local/lib/python3.8/dist-packages (from transformers) (1.22.4)\n",
            "Requirement already satisfied: typing-extensions>=3.7.4.3 in /usr/local/lib/python3.8/dist-packages (from huggingface-hub<1.0,>=0.11.0->transformers) (4.5.0)\n",
            "Requirement already satisfied: chardet<5,>=3.0.2 in /usr/local/lib/python3.8/dist-packages (from requests->transformers) (4.0.0)\n",
            "Requirement already satisfied: urllib3<1.27,>=1.21.1 in /usr/local/lib/python3.8/dist-packages (from requests->transformers) (1.24.3)\n",
            "Requirement already satisfied: certifi>=2017.4.17 in /usr/local/lib/python3.8/dist-packages (from requests->transformers) (2022.12.7)\n",
            "Requirement already satisfied: idna<3,>=2.5 in /usr/local/lib/python3.8/dist-packages (from requests->transformers) (2.10)\n",
            "Installing collected packages: tokenizers, huggingface-hub, transformers\n",
            "Successfully installed huggingface-hub-0.12.1 tokenizers-0.13.2 transformers-4.26.1\n"
          ]
        }
      ],
      "source": [
        "!pip install transformers"
      ]
    },
    {
      "cell_type": "code",
      "source": [
        "import json\n",
        "import os\n",
        "import glob\n",
        "\n",
        "import numpy as np\n",
        "import pandas as pd\n",
        "\n",
        "from tqdm import tqdm"
      ],
      "metadata": {
        "id": "ETpjJRyVRLdy"
      },
      "execution_count": 2,
      "outputs": []
    },
    {
      "cell_type": "code",
      "source": [
        "!wget -nc https://raw.githubusercontent.com/nahbos/AUT-Language-Understanding/main/Proj/Datasets/train.csv\n",
        "!wget -nc https://raw.githubusercontent.com/nahbos/AUT-Language-Understanding/main/Proj/Datasets/test.csv"
      ],
      "metadata": {
        "colab": {
          "base_uri": "https://localhost:8080/"
        },
        "id": "9Iff5btsWXtZ",
        "outputId": "f9896c09-ad9a-4966-9841-ecc340995a28"
      },
      "execution_count": 3,
      "outputs": [
        {
          "output_type": "stream",
          "name": "stdout",
          "text": [
            "--2023-02-23 14:50:18--  https://raw.githubusercontent.com/nahbos/AUT-Language-Understanding/main/Proj/Datasets/train.csv\n",
            "Resolving raw.githubusercontent.com (raw.githubusercontent.com)... 185.199.111.133, 185.199.108.133, 185.199.109.133, ...\n",
            "Connecting to raw.githubusercontent.com (raw.githubusercontent.com)|185.199.111.133|:443... connected.\n",
            "HTTP request sent, awaiting response... 200 OK\n",
            "Length: 705449 (689K) [text/plain]\n",
            "Saving to: ‘train.csv’\n",
            "\n",
            "train.csv           100%[===================>] 688.92K  --.-KB/s    in 0.05s   \n",
            "\n",
            "2023-02-23 14:50:18 (14.7 MB/s) - ‘train.csv’ saved [705449/705449]\n",
            "\n",
            "--2023-02-23 14:50:19--  https://raw.githubusercontent.com/nahbos/AUT-Language-Understanding/main/Proj/Datasets/test.csv\n",
            "Resolving raw.githubusercontent.com (raw.githubusercontent.com)... 185.199.108.133, 185.199.109.133, 185.199.110.133, ...\n",
            "Connecting to raw.githubusercontent.com (raw.githubusercontent.com)|185.199.108.133|:443... connected.\n",
            "HTTP request sent, awaiting response... 200 OK\n",
            "Length: 81522 (80K) [text/plain]\n",
            "Saving to: ‘test.csv’\n",
            "\n",
            "test.csv            100%[===================>]  79.61K  --.-KB/s    in 0.01s   \n",
            "\n",
            "2023-02-23 14:50:19 (5.39 MB/s) - ‘test.csv’ saved [81522/81522]\n",
            "\n"
          ]
        }
      ]
    },
    {
      "cell_type": "code",
      "source": [
        "train = pd.read_csv('./train.csv')\n",
        "test = pd.read_csv('./test.csv')"
      ],
      "metadata": {
        "id": "c1u8xjw44QPq"
      },
      "execution_count": 4,
      "outputs": []
    },
    {
      "cell_type": "code",
      "source": [
        "train.head()"
      ],
      "metadata": {
        "id": "QfOuvoiz4QNM",
        "colab": {
          "base_uri": "https://localhost:8080/",
          "height": 206
        },
        "outputId": "e9dbb828-bb20-4744-c36c-b81f23d2caca"
      },
      "execution_count": 5,
      "outputs": [
        {
          "output_type": "execute_result",
          "data": {
            "text/plain": [
              "  cat_title  v_order  v_position                         poem_text poet_name  \\\n",
              "0     رباعی        1           0      جز نقش تو در نظر نیامد ما را      حافظ   \n",
              "1     رباعی        2           1       جز کوی تو رهگذر نیامد ما را      حافظ   \n",
              "2     رباعی        3           0  خواب ارچه خوش آمد همه را در عهدت      حافظ   \n",
              "3     رباعی        4           1      حقا که به چشم در نیامد ما را      حافظ   \n",
              "4     رباعی        1           0       بر گیر شراب طرب‌انگیز و بیا      حافظ   \n",
              "\n",
              "   poem_id  \n",
              "0        1  \n",
              "1        1  \n",
              "2        1  \n",
              "3        1  \n",
              "4        2  "
            ],
            "text/html": [
              "\n",
              "  <div id=\"df-b3c92aa9-3d8d-4f2d-8c65-61d5ed03d321\">\n",
              "    <div class=\"colab-df-container\">\n",
              "      <div>\n",
              "<style scoped>\n",
              "    .dataframe tbody tr th:only-of-type {\n",
              "        vertical-align: middle;\n",
              "    }\n",
              "\n",
              "    .dataframe tbody tr th {\n",
              "        vertical-align: top;\n",
              "    }\n",
              "\n",
              "    .dataframe thead th {\n",
              "        text-align: right;\n",
              "    }\n",
              "</style>\n",
              "<table border=\"1\" class=\"dataframe\">\n",
              "  <thead>\n",
              "    <tr style=\"text-align: right;\">\n",
              "      <th></th>\n",
              "      <th>cat_title</th>\n",
              "      <th>v_order</th>\n",
              "      <th>v_position</th>\n",
              "      <th>poem_text</th>\n",
              "      <th>poet_name</th>\n",
              "      <th>poem_id</th>\n",
              "    </tr>\n",
              "  </thead>\n",
              "  <tbody>\n",
              "    <tr>\n",
              "      <th>0</th>\n",
              "      <td>رباعی</td>\n",
              "      <td>1</td>\n",
              "      <td>0</td>\n",
              "      <td>جز نقش تو در نظر نیامد ما را</td>\n",
              "      <td>حافظ</td>\n",
              "      <td>1</td>\n",
              "    </tr>\n",
              "    <tr>\n",
              "      <th>1</th>\n",
              "      <td>رباعی</td>\n",
              "      <td>2</td>\n",
              "      <td>1</td>\n",
              "      <td>جز کوی تو رهگذر نیامد ما را</td>\n",
              "      <td>حافظ</td>\n",
              "      <td>1</td>\n",
              "    </tr>\n",
              "    <tr>\n",
              "      <th>2</th>\n",
              "      <td>رباعی</td>\n",
              "      <td>3</td>\n",
              "      <td>0</td>\n",
              "      <td>خواب ارچه خوش آمد همه را در عهدت</td>\n",
              "      <td>حافظ</td>\n",
              "      <td>1</td>\n",
              "    </tr>\n",
              "    <tr>\n",
              "      <th>3</th>\n",
              "      <td>رباعی</td>\n",
              "      <td>4</td>\n",
              "      <td>1</td>\n",
              "      <td>حقا که به چشم در نیامد ما را</td>\n",
              "      <td>حافظ</td>\n",
              "      <td>1</td>\n",
              "    </tr>\n",
              "    <tr>\n",
              "      <th>4</th>\n",
              "      <td>رباعی</td>\n",
              "      <td>1</td>\n",
              "      <td>0</td>\n",
              "      <td>بر گیر شراب طرب‌انگیز و بیا</td>\n",
              "      <td>حافظ</td>\n",
              "      <td>2</td>\n",
              "    </tr>\n",
              "  </tbody>\n",
              "</table>\n",
              "</div>\n",
              "      <button class=\"colab-df-convert\" onclick=\"convertToInteractive('df-b3c92aa9-3d8d-4f2d-8c65-61d5ed03d321')\"\n",
              "              title=\"Convert this dataframe to an interactive table.\"\n",
              "              style=\"display:none;\">\n",
              "        \n",
              "  <svg xmlns=\"http://www.w3.org/2000/svg\" height=\"24px\"viewBox=\"0 0 24 24\"\n",
              "       width=\"24px\">\n",
              "    <path d=\"M0 0h24v24H0V0z\" fill=\"none\"/>\n",
              "    <path d=\"M18.56 5.44l.94 2.06.94-2.06 2.06-.94-2.06-.94-.94-2.06-.94 2.06-2.06.94zm-11 1L8.5 8.5l.94-2.06 2.06-.94-2.06-.94L8.5 2.5l-.94 2.06-2.06.94zm10 10l.94 2.06.94-2.06 2.06-.94-2.06-.94-.94-2.06-.94 2.06-2.06.94z\"/><path d=\"M17.41 7.96l-1.37-1.37c-.4-.4-.92-.59-1.43-.59-.52 0-1.04.2-1.43.59L10.3 9.45l-7.72 7.72c-.78.78-.78 2.05 0 2.83L4 21.41c.39.39.9.59 1.41.59.51 0 1.02-.2 1.41-.59l7.78-7.78 2.81-2.81c.8-.78.8-2.07 0-2.86zM5.41 20L4 18.59l7.72-7.72 1.47 1.35L5.41 20z\"/>\n",
              "  </svg>\n",
              "      </button>\n",
              "      \n",
              "  <style>\n",
              "    .colab-df-container {\n",
              "      display:flex;\n",
              "      flex-wrap:wrap;\n",
              "      gap: 12px;\n",
              "    }\n",
              "\n",
              "    .colab-df-convert {\n",
              "      background-color: #E8F0FE;\n",
              "      border: none;\n",
              "      border-radius: 50%;\n",
              "      cursor: pointer;\n",
              "      display: none;\n",
              "      fill: #1967D2;\n",
              "      height: 32px;\n",
              "      padding: 0 0 0 0;\n",
              "      width: 32px;\n",
              "    }\n",
              "\n",
              "    .colab-df-convert:hover {\n",
              "      background-color: #E2EBFA;\n",
              "      box-shadow: 0px 1px 2px rgba(60, 64, 67, 0.3), 0px 1px 3px 1px rgba(60, 64, 67, 0.15);\n",
              "      fill: #174EA6;\n",
              "    }\n",
              "\n",
              "    [theme=dark] .colab-df-convert {\n",
              "      background-color: #3B4455;\n",
              "      fill: #D2E3FC;\n",
              "    }\n",
              "\n",
              "    [theme=dark] .colab-df-convert:hover {\n",
              "      background-color: #434B5C;\n",
              "      box-shadow: 0px 1px 3px 1px rgba(0, 0, 0, 0.15);\n",
              "      filter: drop-shadow(0px 1px 2px rgba(0, 0, 0, 0.3));\n",
              "      fill: #FFFFFF;\n",
              "    }\n",
              "  </style>\n",
              "\n",
              "      <script>\n",
              "        const buttonEl =\n",
              "          document.querySelector('#df-b3c92aa9-3d8d-4f2d-8c65-61d5ed03d321 button.colab-df-convert');\n",
              "        buttonEl.style.display =\n",
              "          google.colab.kernel.accessAllowed ? 'block' : 'none';\n",
              "\n",
              "        async function convertToInteractive(key) {\n",
              "          const element = document.querySelector('#df-b3c92aa9-3d8d-4f2d-8c65-61d5ed03d321');\n",
              "          const dataTable =\n",
              "            await google.colab.kernel.invokeFunction('convertToInteractive',\n",
              "                                                     [key], {});\n",
              "          if (!dataTable) return;\n",
              "\n",
              "          const docLinkHtml = 'Like what you see? Visit the ' +\n",
              "            '<a target=\"_blank\" href=https://colab.research.google.com/notebooks/data_table.ipynb>data table notebook</a>'\n",
              "            + ' to learn more about interactive tables.';\n",
              "          element.innerHTML = '';\n",
              "          dataTable['output_type'] = 'display_data';\n",
              "          await google.colab.output.renderOutput(dataTable, element);\n",
              "          const docLink = document.createElement('div');\n",
              "          docLink.innerHTML = docLinkHtml;\n",
              "          element.appendChild(docLink);\n",
              "        }\n",
              "      </script>\n",
              "    </div>\n",
              "  </div>\n",
              "  "
            ]
          },
          "metadata": {},
          "execution_count": 5
        }
      ]
    },
    {
      "cell_type": "code",
      "source": [
        "poets = list(train['cat_title'].unique())\n",
        "poets"
      ],
      "metadata": {
        "id": "DiDbv0xs4QLA",
        "colab": {
          "base_uri": "https://localhost:8080/"
        },
        "outputId": "ac1dd2d6-ff45-4380-b190-cd8cd354a46d"
      },
      "execution_count": 6,
      "outputs": [
        {
          "output_type": "execute_result",
          "data": {
            "text/plain": [
              "['رباعی', 'قطعه', 'قصیده', 'غزل', '<unk>']"
            ]
          },
          "metadata": {},
          "execution_count": 6
        }
      ]
    },
    {
      "cell_type": "code",
      "source": [
        "train.info()"
      ],
      "metadata": {
        "id": "3DljMdBA4QIg",
        "colab": {
          "base_uri": "https://localhost:8080/"
        },
        "outputId": "65fc3b9f-dcf0-43b0-9f37-90e3f92656b8"
      },
      "execution_count": 7,
      "outputs": [
        {
          "output_type": "stream",
          "name": "stdout",
          "text": [
            "<class 'pandas.core.frame.DataFrame'>\n",
            "RangeIndex: 8610 entries, 0 to 8609\n",
            "Data columns (total 6 columns):\n",
            " #   Column      Non-Null Count  Dtype \n",
            "---  ------      --------------  ----- \n",
            " 0   cat_title   8610 non-null   object\n",
            " 1   v_order     8610 non-null   int64 \n",
            " 2   v_position  8610 non-null   int64 \n",
            " 3   poem_text   8610 non-null   object\n",
            " 4   poet_name   8610 non-null   object\n",
            " 5   poem_id     8610 non-null   int64 \n",
            "dtypes: int64(3), object(3)\n",
            "memory usage: 403.7+ KB\n"
          ]
        }
      ]
    },
    {
      "cell_type": "code",
      "source": [
        "list(train['cat_title']).count('<unk>')"
      ],
      "metadata": {
        "id": "Ww1or9V34QGW",
        "colab": {
          "base_uri": "https://localhost:8080/"
        },
        "outputId": "bef4667f-129f-45be-a37c-aa7847b814a4"
      },
      "execution_count": 8,
      "outputs": [
        {
          "output_type": "execute_result",
          "data": {
            "text/plain": [
              "496"
            ]
          },
          "metadata": {},
          "execution_count": 8
        }
      ]
    },
    {
      "cell_type": "code",
      "source": [
        "import pandas as pd\n",
        "import numpy as np\n",
        "\n",
        "from pathlib import Path\n",
        "\n",
        "import torch\n",
        "from transformers import AutoTokenizer, AutoConfig, AutoModelWithLMHead\n",
        "from transformers import AutoTokenizer, GPT2LMHeadModel, GPT2Config\n",
        "\n",
        "from IPython import display"
      ],
      "metadata": {
        "id": "QWmpo6L34QDL"
      },
      "execution_count": 9,
      "outputs": []
    },
    {
      "cell_type": "code",
      "source": [
        "model_name_or_path = \"HooshvareLab/gpt2-fa\"\n",
        "\n",
        "tokenizer = AutoTokenizer.from_pretrained(model_name_or_path)\n",
        "\n",
        "tokenizer.add_special_tokens({\n",
        "    \"bos_token\": '<bos>',\n",
        "    \"eos_token\": '<eos>', \n",
        "    \"pad_token\": '<pad>',\n",
        "    \"unk_token\": '<unk>'\n",
        "})"
      ],
      "metadata": {
        "id": "RkTvr9XS4QAd",
        "colab": {
          "base_uri": "https://localhost:8080/",
          "height": 259,
          "referenced_widgets": [
            "d0750d8a85704dc182cd964c697c2916",
            "b115f43e13554fc8ad5beb27fcb61846",
            "a06c2c6f9d114476bdf26fe13390cc88",
            "46514bd43c784ef2b5e705aece0d2f6a",
            "bc8b32c8b52949139228fea2f54b8c77",
            "450cfc148b8d473f8219d484a6b97fb6",
            "95362a605fc041e393dcfb18882a16d4",
            "ad225732abfd48cfa57449d9cb959d61",
            "1f258a7b55b14f20a3240b7957881392",
            "6c02043768514110aed5884b8c017e28",
            "90eb30ebdb3d48bb9a9a658ee78a4c67",
            "77b9765a98e744dd8a966f682ebbde01",
            "6f27704f5f684d548ada31e1fac7054f",
            "59e1c77c2f0b4626aab43d6b02866baf",
            "7a810fde685b45659a599bd27593a051",
            "e3dfb6350af24fd9b9f0dbb0f872ded4",
            "95aa144b41ef47bc914383739ca24280",
            "56fc149f9ea1412abf53c3192fc14768",
            "78e0ca827f694dddb1ee536e390a9bc7",
            "27243b7d301f4eb69f79596d61466593",
            "8626f7107cb041c5af27645806c89bc0",
            "5cca4b2970734794acdecb84537b37e6",
            "7344c9dba19f4976833480d3df83bdb7",
            "8e3b63fe71bb421784bff35a13fde352",
            "7da57d54070745dcbf02e559fa79a40b",
            "c90def7228434c53887bea76de9df5f6",
            "f2f289c29ed443cab8f0fcf938b35479",
            "7aed8d2d8e3d4319bf9df57db103b00d",
            "fe1540892c674a1380784b3bb1268795",
            "c5984784b7df42ecb2229f63b279b7c5",
            "01065a5bb08041ef9e8c7656e418e920",
            "ba13c264434945aabb9b8f73ec3f2488",
            "6cccc3d3b7b74f139fd2b67d2ccd3e10",
            "580527b5f1a341db8fe4fd34cde81de3",
            "1728c72f294d49f7b265fe0dbed018a2",
            "1dda5d847d67400ab40a47a5980c7a0b",
            "e672d636e5444b8b9c35fe27ada26b44",
            "df45b636180e4a49a22e4b7be06de519",
            "e7384335dd2c4521bc44ef422387e578",
            "2540b140843243169c47f8c25ebd8000",
            "48febb43fa2546938d1eee412cb93505",
            "a80eef172ed247c4a3bfdd32856ab0de",
            "cd19f9e7988f4c32943323342564b84c",
            "875a073a6af84488b93bf57956c8e30a",
            "35a4a32e4e13435b87ea1d2092fde7c6",
            "08f28e5b673442809192ebb123b22876",
            "da8dbc78934348b1a5de2b35e33eaa0b",
            "c92898214ec0445c987e9f85caf1c036",
            "db3c0bc89cc9421cafda1cd65ecc8830",
            "4cf467438b234958b9445b942f39c852",
            "06561cf22826417280ad3ac599846d42",
            "62732240d3224a10be54581caef63fb3",
            "f37a65df82c34810b47008ae9522e235",
            "ca039bc600d6429cbc5d53bbcbe33094",
            "740b9dd333304c559206bd570d4886f2",
            "f570fb0e0461498e8b908c13c9183303",
            "47f3240028bd4f41b0bf58900d014f0e",
            "794068c5422340e1b59b0c002a2738c6",
            "ca52184cff5f434cb8b3359cd26eef2c",
            "7bb8eeb0b12b4d4a8cabb89be0ae707f",
            "7a3fc0a7f255414fb1a18f946c3fb4f5",
            "86c8332b3c024e9ba333993600b32507",
            "c101603850904ef69ae51dfc90ad1e8d",
            "3ed5b1412f6c4775a100d60bb08218a3",
            "a804b6c4901c48b7be92ac6aa38ceae9",
            "3c8531c6ae8645dda1a3cccd8e9c60b0",
            "6374c5117b784476bca3e7f6e2f5e81d",
            "6e97780674234b27ba4bbf2864ada8a4",
            "74532e5e08904f2487d9b0baecc9a863",
            "30dd5c67a4334ec8bfbdae1111aa8673",
            "4cb7430fd16f4a90b2cce52fb54b7839",
            "e4389cd1ce3c4092b0045584ae153a1a",
            "44c566e86e9d4405840adf4a83d8b1e4",
            "b236dd50ec534135b54fed70e3ee956d",
            "48db17f306c446a986aebbeaeccd1bac",
            "9bbdccd3c6a441138f524195ac805379",
            "04792f74f51f4a9db16bb43c85559b56"
          ]
        },
        "outputId": "d1ff81c6-195f-46bf-e52e-0d25fcf6544e"
      },
      "execution_count": 10,
      "outputs": [
        {
          "output_type": "display_data",
          "data": {
            "text/plain": [
              "Downloading (…)okenizer_config.json:   0%|          | 0.00/728 [00:00<?, ?B/s]"
            ],
            "application/vnd.jupyter.widget-view+json": {
              "version_major": 2,
              "version_minor": 0,
              "model_id": "d0750d8a85704dc182cd964c697c2916"
            }
          },
          "metadata": {}
        },
        {
          "output_type": "display_data",
          "data": {
            "text/plain": [
              "Downloading (…)lve/main/config.json:   0%|          | 0.00/808 [00:00<?, ?B/s]"
            ],
            "application/vnd.jupyter.widget-view+json": {
              "version_major": 2,
              "version_minor": 0,
              "model_id": "77b9765a98e744dd8a966f682ebbde01"
            }
          },
          "metadata": {}
        },
        {
          "output_type": "display_data",
          "data": {
            "text/plain": [
              "Downloading (…)olve/main/vocab.json:   0%|          | 0.00/1.16M [00:00<?, ?B/s]"
            ],
            "application/vnd.jupyter.widget-view+json": {
              "version_major": 2,
              "version_minor": 0,
              "model_id": "7344c9dba19f4976833480d3df83bdb7"
            }
          },
          "metadata": {}
        },
        {
          "output_type": "display_data",
          "data": {
            "text/plain": [
              "Downloading (…)olve/main/merges.txt:   0%|          | 0.00/875k [00:00<?, ?B/s]"
            ],
            "application/vnd.jupyter.widget-view+json": {
              "version_major": 2,
              "version_minor": 0,
              "model_id": "580527b5f1a341db8fe4fd34cde81de3"
            }
          },
          "metadata": {}
        },
        {
          "output_type": "display_data",
          "data": {
            "text/plain": [
              "Downloading (…)/main/tokenizer.json:   0%|          | 0.00/2.75M [00:00<?, ?B/s]"
            ],
            "application/vnd.jupyter.widget-view+json": {
              "version_major": 2,
              "version_minor": 0,
              "model_id": "35a4a32e4e13435b87ea1d2092fde7c6"
            }
          },
          "metadata": {}
        },
        {
          "output_type": "display_data",
          "data": {
            "text/plain": [
              "Downloading (…)in/added_tokens.json:   0%|          | 0.00/14.0 [00:00<?, ?B/s]"
            ],
            "application/vnd.jupyter.widget-view+json": {
              "version_major": 2,
              "version_minor": 0,
              "model_id": "f570fb0e0461498e8b908c13c9183303"
            }
          },
          "metadata": {}
        },
        {
          "output_type": "display_data",
          "data": {
            "text/plain": [
              "Downloading (…)cial_tokens_map.json:   0%|          | 0.00/104 [00:00<?, ?B/s]"
            ],
            "application/vnd.jupyter.widget-view+json": {
              "version_major": 2,
              "version_minor": 0,
              "model_id": "6374c5117b784476bca3e7f6e2f5e81d"
            }
          },
          "metadata": {}
        },
        {
          "output_type": "execute_result",
          "data": {
            "text/plain": [
              "2"
            ]
          },
          "metadata": {},
          "execution_count": 10
        }
      ]
    },
    {
      "cell_type": "code",
      "source": [
        "tokenizer.encode('<bos>')[0]"
      ],
      "metadata": {
        "colab": {
          "base_uri": "https://localhost:8080/"
        },
        "id": "GdGxH66pigVP",
        "outputId": "42b8396c-8f7b-4732-dc7c-ff4ffe3d2889"
      },
      "execution_count": 11,
      "outputs": [
        {
          "output_type": "execute_result",
          "data": {
            "text/plain": [
              "42001"
            ]
          },
          "metadata": {},
          "execution_count": 11
        }
      ]
    },
    {
      "cell_type": "code",
      "source": [
        "print(tokenizer.encode(\"به به حسین اقا حال شما چطوره؟\"))\n",
        "print(tokenizer.encode(\"\"))\n",
        "print(tokenizer.encode(\"\"))\n",
        "print(tokenizer.encode(\"\"))\n",
        "print(tokenizer.encode(\"<|startoftext|>\"))\n",
        "print(tokenizer.encode(\"\"))"
      ],
      "metadata": {
        "id": "malm9HMd4P9s",
        "colab": {
          "base_uri": "https://localhost:8080/"
        },
        "outputId": "2a6a7809-cb14-40ca-a9b3-f40144260e49"
      },
      "execution_count": 12,
      "outputs": [
        {
          "output_type": "stream",
          "name": "stdout",
          "text": [
            "[490, 303, 3357, 35343, 532, 512, 34505, 677]\n",
            "[]\n",
            "[]\n",
            "[]\n",
            "[6]\n",
            "[]\n"
          ]
        }
      ]
    },
    {
      "cell_type": "code",
      "source": [
        "texts = train['poem_text'].values.tolist()\n",
        "max_seq = max([len(tokenizer.encode(text)) for text in texts])\n",
        "\n",
        "print(f'The longest text is {max_seq} tokens long.')\n",
        "print('This is for one hemistich!')"
      ],
      "metadata": {
        "id": "o0UqdhIM4P4U",
        "colab": {
          "base_uri": "https://localhost:8080/"
        },
        "outputId": "f39c7b47-992e-4e72-c516-7f5d291fe128"
      },
      "execution_count": 13,
      "outputs": [
        {
          "output_type": "stream",
          "name": "stdout",
          "text": [
            "The longest text is 15 tokens long.\n",
            "This is for one hemistich!\n"
          ]
        }
      ]
    },
    {
      "cell_type": "code",
      "source": [
        "max_seq = 15"
      ],
      "metadata": {
        "id": "rKjYlYHz4P1t"
      },
      "execution_count": 48,
      "outputs": []
    },
    {
      "cell_type": "code",
      "source": [
        "from torch.utils.data import Dataset\n",
        "import torch\n",
        "torch.manual_seed(42)\n",
        "\n",
        "\n",
        "class MTGDataset(Dataset):\n",
        "    def __init__(self, hemistichs1, hemistichs2, tokenizer, max_length=1024):\n",
        "\n",
        "        self.tokenizer = tokenizer\n",
        "        self.input_ids = []\n",
        "        self.attn_masks = []\n",
        "\n",
        "        for hemistich1, hemistich2 in zip(hemistichs1, hemistichs2):\n",
        "            encodings_dict = tokenizer('' + hemistich1 + '<sep>' + hemistich2 + '',\n",
        "                                       truncation=True,\n",
        "                                       max_length=max_length,\n",
        "                                       padding=\"max_length\")\n",
        "\n",
        "            self.input_ids.append(torch.tensor(encodings_dict['input_ids']))\n",
        "            self.attn_masks.append(torch.tensor(encodings_dict['attention_mask']))\n",
        "\n",
        "    def __len__(self):\n",
        "        return len(self.input_ids)\n",
        "\n",
        "    def __getitem__(self, idx):\n",
        "        return self.input_ids[idx], self.attn_masks[idx]"
      ],
      "metadata": {
        "id": "RSE2_6_q4PzX"
      },
      "execution_count": 15,
      "outputs": []
    },
    {
      "cell_type": "code",
      "source": [
        "groups = train.groupby(by='v_position')\n",
        "hemistichs1, hemistichs2 = [], []\n",
        "for grp, pdf in groups:\n",
        "    if grp == 0:\n",
        "        hemistichs1 = list(pdf['poem_text'])\n",
        "    else:\n",
        "        hemistichs2 = list(pdf['poem_text'])"
      ],
      "metadata": {
        "id": "YYHRXj2Dfego"
      },
      "execution_count": 16,
      "outputs": []
    },
    {
      "cell_type": "code",
      "source": [
        "hemistichs1[0]"
      ],
      "metadata": {
        "colab": {
          "base_uri": "https://localhost:8080/",
          "height": 36
        },
        "id": "4oJWeQGKgYBG",
        "outputId": "59394869-2e51-4f74-f08b-da54f6c1ff4e"
      },
      "execution_count": 17,
      "outputs": [
        {
          "output_type": "execute_result",
          "data": {
            "text/plain": [
              "'جز نقش تو در نظر نیامد ما را'"
            ],
            "application/vnd.google.colaboratory.intrinsic+json": {
              "type": "string"
            }
          },
          "metadata": {},
          "execution_count": 17
        }
      ]
    },
    {
      "cell_type": "code",
      "source": [
        "hemistichs2[0]"
      ],
      "metadata": {
        "colab": {
          "base_uri": "https://localhost:8080/",
          "height": 36
        },
        "id": "KgHMkdlxg0Ef",
        "outputId": "536434a1-fd9d-4109-b13d-716a1850df5c"
      },
      "execution_count": 18,
      "outputs": [
        {
          "output_type": "execute_result",
          "data": {
            "text/plain": [
              "'جز کوی تو رهگذر نیامد ما را'"
            ],
            "application/vnd.google.colaboratory.intrinsic+json": {
              "type": "string"
            }
          },
          "metadata": {},
          "execution_count": 18
        }
      ]
    },
    {
      "cell_type": "code",
      "source": [
        "from torch.utils.data import random_split\n",
        "\n",
        "dataset = MTGDataset(hemistichs1, hemistichs2, tokenizer, max_length=max_seq)\n",
        "\n",
        "# Split into training and validation sets\n",
        "train_size = int(0.9 * len(dataset))\n",
        "val_size = len(dataset) - train_size\n",
        "train_dataset, val_dataset = random_split(dataset, [train_size, val_size])\n",
        "\n",
        "f'There are {len(train_dataset)} samples for training, and {len(val_dataset)} samples for validation testing'"
      ],
      "metadata": {
        "id": "eytMXhU94Pww",
        "colab": {
          "base_uri": "https://localhost:8080/",
          "height": 36
        },
        "outputId": "01097982-b411-4a19-8976-89633948e60b"
      },
      "execution_count": 19,
      "outputs": [
        {
          "output_type": "execute_result",
          "data": {
            "text/plain": [
              "'There are 3874 samples for training, and 431 samples for validation testing'"
            ],
            "application/vnd.google.colaboratory.intrinsic+json": {
              "type": "string"
            }
          },
          "metadata": {},
          "execution_count": 19
        }
      ]
    },
    {
      "cell_type": "code",
      "source": [
        "from torch.utils.data import DataLoader, RandomSampler, SequentialSampler\n",
        "\n",
        "train_dataloader = DataLoader(\n",
        "    train_dataset,\n",
        "    sampler=RandomSampler(train_dataset),\n",
        "    batch_size=8\n",
        ")\n",
        "\n",
        "validation_dataloader = DataLoader(\n",
        "    val_dataset,\n",
        "    sampler=SequentialSampler(val_dataset),\n",
        "    batch_size=8\n",
        ")"
      ],
      "metadata": {
        "id": "4nErXhn14PuF"
      },
      "execution_count": 20,
      "outputs": []
    },
    {
      "cell_type": "code",
      "source": [
        "config = AutoConfig.from_pretrained(\n",
        "    model_name_or_path,\n",
        "    bos_token_id=tokenizer.encode('<bos>')[0], \n",
        "    eos_token_id=tokenizer.encode('<eos>')[0], \n",
        "    pad_token_id=tokenizer.encode('<pad>')[0],\n",
        "    unk_token_id=tokenizer.encode('<unk>')[0],\n",
        ")"
      ],
      "metadata": {
        "id": "JfcMzRuUiYcv"
      },
      "execution_count": 21,
      "outputs": []
    },
    {
      "cell_type": "code",
      "source": [
        "!wget \"https://huggingface.co/HooshvareLab/gpt2-fa/resolve/main/pytorch_model.bin\" -P /content/gpt2/\n",
        "!wget \"https://huggingface.co/HooshvareLab/gpt2-fa/resolve/main/config.json\" -P /content/gpt2/"
      ],
      "metadata": {
        "colab": {
          "base_uri": "https://localhost:8080/"
        },
        "id": "ewSGkvGQi6S_",
        "outputId": "63f7fce7-5945-4b51-936d-fd50c13998f7"
      },
      "execution_count": 22,
      "outputs": [
        {
          "output_type": "stream",
          "name": "stdout",
          "text": [
            "--2023-02-23 14:50:32--  https://huggingface.co/HooshvareLab/gpt2-fa/resolve/main/pytorch_model.bin\n",
            "Resolving huggingface.co (huggingface.co)... 3.231.67.228, 54.235.118.239, 2600:1f18:147f:e800:671:b733:ecf3:a585, ...\n",
            "Connecting to huggingface.co (huggingface.co)|3.231.67.228|:443... connected.\n",
            "HTTP request sent, awaiting response... 302 Found\n",
            "Location: https://cdn-lfs.huggingface.co/HooshvareLab/gpt2-fa/46b0b806c740a0f0a9f056f5574c5fa896166fe844945fd3c849bf34365e5060?response-content-disposition=attachment%3B+filename*%3DUTF-8%27%27pytorch_model.bin%3B+filename%3D%22pytorch_model.bin%22%3B&Expires=1677423032&Policy=eyJTdGF0ZW1lbnQiOlt7IlJlc291cmNlIjoiaHR0cHM6Ly9jZG4tbGZzLmh1Z2dpbmdmYWNlLmNvL0hvb3NodmFyZUxhYi9ncHQyLWZhLzQ2YjBiODA2Yzc0MGEwZjBhOWYwNTZmNTU3NGM1ZmE4OTYxNjZmZTg0NDk0NWZkM2M4NDliZjM0MzY1ZTUwNjA%7EcmVzcG9uc2UtY29udGVudC1kaXNwb3NpdGlvbj0qIiwiQ29uZGl0aW9uIjp7IkRhdGVMZXNzVGhhbiI6eyJBV1M6RXBvY2hUaW1lIjoxNjc3NDIzMDMyfX19XX0_&Signature=H3GNEXrULK9kVaoXZTTS0iLjh9vRdzqd6cfdcT4X9rRIf7-uVPK6%7EfzGmpsaykbPmHrpr-5NXBrAfg8typjTIKCx2A-eXfkrHLOy-pi7Voxr7jZoiwLHWFjaAkLmUXQyZPM7-e3XK445U3%7EGA0oGiXWS--uI6CUTOPfcI0CEmTXPb3Adw13Ar0g47ypuQbDii0-T05UNU7MlFMlMgIxRfOKNiJS4NY6mY2dJh9gNh%7EbZ9pAh7gguWgwfyIWYRQMs8IlGlmq7tzezeWggKL0wYdBh0LpJM9sLpcq90H3q07SnIauuzO5fsUuCkoTtv7l9U0ZvprqJmgUZgRbCKkIhsw__&Key-Pair-Id=KVTP0A1DKRTAX [following]\n",
            "--2023-02-23 14:50:32--  https://cdn-lfs.huggingface.co/HooshvareLab/gpt2-fa/46b0b806c740a0f0a9f056f5574c5fa896166fe844945fd3c849bf34365e5060?response-content-disposition=attachment%3B+filename*%3DUTF-8%27%27pytorch_model.bin%3B+filename%3D%22pytorch_model.bin%22%3B&Expires=1677423032&Policy=eyJTdGF0ZW1lbnQiOlt7IlJlc291cmNlIjoiaHR0cHM6Ly9jZG4tbGZzLmh1Z2dpbmdmYWNlLmNvL0hvb3NodmFyZUxhYi9ncHQyLWZhLzQ2YjBiODA2Yzc0MGEwZjBhOWYwNTZmNTU3NGM1ZmE4OTYxNjZmZTg0NDk0NWZkM2M4NDliZjM0MzY1ZTUwNjA%7EcmVzcG9uc2UtY29udGVudC1kaXNwb3NpdGlvbj0qIiwiQ29uZGl0aW9uIjp7IkRhdGVMZXNzVGhhbiI6eyJBV1M6RXBvY2hUaW1lIjoxNjc3NDIzMDMyfX19XX0_&Signature=H3GNEXrULK9kVaoXZTTS0iLjh9vRdzqd6cfdcT4X9rRIf7-uVPK6%7EfzGmpsaykbPmHrpr-5NXBrAfg8typjTIKCx2A-eXfkrHLOy-pi7Voxr7jZoiwLHWFjaAkLmUXQyZPM7-e3XK445U3%7EGA0oGiXWS--uI6CUTOPfcI0CEmTXPb3Adw13Ar0g47ypuQbDii0-T05UNU7MlFMlMgIxRfOKNiJS4NY6mY2dJh9gNh%7EbZ9pAh7gguWgwfyIWYRQMs8IlGlmq7tzezeWggKL0wYdBh0LpJM9sLpcq90H3q07SnIauuzO5fsUuCkoTtv7l9U0ZvprqJmgUZgRbCKkIhsw__&Key-Pair-Id=KVTP0A1DKRTAX\n",
            "Resolving cdn-lfs.huggingface.co (cdn-lfs.huggingface.co)... 13.249.85.23, 13.249.85.12, 13.249.85.116, ...\n",
            "Connecting to cdn-lfs.huggingface.co (cdn-lfs.huggingface.co)|13.249.85.23|:443... connected.\n",
            "HTTP request sent, awaiting response... 200 OK\n",
            "Length: 485044198 (463M) [application/zip]\n",
            "Saving to: ‘/content/gpt2/pytorch_model.bin’\n",
            "\n",
            "pytorch_model.bin   100%[===================>] 462.57M   123MB/s    in 3.6s    \n",
            "\n",
            "2023-02-23 14:50:36 (130 MB/s) - ‘/content/gpt2/pytorch_model.bin’ saved [485044198/485044198]\n",
            "\n",
            "--2023-02-23 14:50:36--  https://huggingface.co/HooshvareLab/gpt2-fa/resolve/main/config.json\n",
            "Resolving huggingface.co (huggingface.co)... 3.231.67.228, 54.235.118.239, 2600:1f18:147f:e800:671:b733:ecf3:a585, ...\n",
            "Connecting to huggingface.co (huggingface.co)|3.231.67.228|:443... connected.\n",
            "HTTP request sent, awaiting response... 200 OK\n",
            "Length: 808 [text/plain]\n",
            "Saving to: ‘/content/gpt2/config.json’\n",
            "\n",
            "config.json         100%[===================>]     808  --.-KB/s    in 0s      \n",
            "\n",
            "2023-02-23 14:50:36 (144 MB/s) - ‘/content/gpt2/config.json’ saved [808/808]\n",
            "\n"
          ]
        }
      ]
    },
    {
      "cell_type": "code",
      "source": [
        "!wget \"https://huggingface.co/HooshvareLab/gpt2-fa/resolve/main/config.json\" -P /content/gpt2/"
      ],
      "metadata": {
        "colab": {
          "base_uri": "https://localhost:8080/"
        },
        "id": "vMtmPp1xvl3N",
        "outputId": "51c39b00-695b-45ac-9abf-8a0b0561a418"
      },
      "execution_count": 23,
      "outputs": [
        {
          "output_type": "stream",
          "name": "stdout",
          "text": [
            "--2023-02-23 14:50:36--  https://huggingface.co/HooshvareLab/gpt2-fa/resolve/main/config.json\n",
            "Resolving huggingface.co (huggingface.co)... 3.231.67.228, 54.235.118.239, 2600:1f18:147f:e800:671:b733:ecf3:a585, ...\n",
            "Connecting to huggingface.co (huggingface.co)|3.231.67.228|:443... connected.\n",
            "HTTP request sent, awaiting response... 200 OK\n",
            "Length: 808 [text/plain]\n",
            "Saving to: ‘/content/gpt2/config.json.1’\n",
            "\n",
            "\rconfig.json.1         0%[                    ]       0  --.-KB/s               \rconfig.json.1       100%[===================>]     808  --.-KB/s    in 0s      \n",
            "\n",
            "2023-02-23 14:50:36 (209 MB/s) - ‘/content/gpt2/config.json.1’ saved [808/808]\n",
            "\n"
          ]
        }
      ]
    },
    {
      "cell_type": "code",
      "source": [
        "import random\n",
        "from transformers import GPT2LMHeadModel, GPT2Config\n",
        "import numpy as np\n",
        "\n",
        "# Loading the model configuration and setting it to the GPT2 standard settings.\n",
        "configuration = GPT2Config.from_pretrained('./gpt2', output_hidden_states=False)\n",
        "\n",
        "# Create the instance of the model and set the token size embedding length\n",
        "model = GPT2LMHeadModel.from_pretrained(\"./gpt2\", config=configuration)\n",
        "model.resize_token_embeddings(len(tokenizer))\n",
        "\n",
        "# Tell pytorch to run this model on the GPU.\n",
        "device = torch.device(\"cuda\")\n",
        "model.cuda()\n",
        "\n",
        "# This step is optional but will enable reproducible runs.\n",
        "seed_val = 42\n",
        "\n",
        "random.seed(seed_val)\n",
        "np.random.seed(seed_val)\n",
        "torch.manual_seed(seed_val)\n",
        "torch.cuda.manual_seed_all(seed_val)"
      ],
      "metadata": {
        "id": "M0OuEZx24PrV"
      },
      "execution_count": 24,
      "outputs": []
    },
    {
      "cell_type": "code",
      "source": [
        "epochs = 14\n",
        "warmup_steps = 1e2\n",
        "sample_every = 100"
      ],
      "metadata": {
        "id": "PXDrinT44Po8"
      },
      "execution_count": 75,
      "outputs": []
    },
    {
      "cell_type": "code",
      "source": [
        "from transformers import AdamW\n",
        "\n",
        "# AdamW is a class from the huggingface library, it is the optimizer we will be using, and we will only be instantiating it with the default parameters.\n",
        "optimizer = AdamW(\n",
        "    model.parameters(),\n",
        "    lr=5e-4,\n",
        "    eps=1e-8\n",
        ")"
      ],
      "metadata": {
        "id": "M45afMNw4Pn2",
        "colab": {
          "base_uri": "https://localhost:8080/"
        },
        "outputId": "36809431-ed6d-4f65-8800-1dde35edff66"
      },
      "execution_count": 26,
      "outputs": [
        {
          "output_type": "stream",
          "name": "stderr",
          "text": [
            "/usr/local/lib/python3.8/dist-packages/transformers/optimization.py:306: FutureWarning: This implementation of AdamW is deprecated and will be removed in a future version. Use the PyTorch implementation torch.optim.AdamW instead, or set `no_deprecation_warning=True` to disable this warning\n",
            "  warnings.warn(\n"
          ]
        }
      ]
    },
    {
      "cell_type": "code",
      "source": [
        "from transformers import get_linear_schedule_with_warmup\n",
        "\n",
        "total_steps = len(train_dataloader) * epochs\n",
        "\n",
        "scheduler = get_linear_schedule_with_warmup(\n",
        "    optimizer,\n",
        "    num_warmup_steps=warmup_steps,\n",
        "    num_training_steps=total_steps)"
      ],
      "metadata": {
        "id": "65ucZPR64Pja"
      },
      "execution_count": 27,
      "outputs": []
    },
    {
      "cell_type": "code",
      "source": [
        "h1 = hemistichs1[np.random.randint(0, len(hemistichs1))]\n",
        "sample_input = f\"{h1}<|startoftext|>\"\n",
        "print(sample_input)\n",
        "sample_input_ids = torch.tensor(tokenizer([sample_input])[\"input_ids\"])\n",
        "sample_input_ids = sample_input_ids.to(device)\n",
        "\n",
        "sample_outputs = model.generate(\n",
        "    input_ids=sample_input_ids,\n",
        "    # bos_token_id=random.randint(1, len(tokenizer.get_vocab())),\n",
        "    do_sample=True,\n",
        "    top_k=50,\n",
        "    max_length=50,\n",
        "    top_p=0.95,\n",
        "    num_return_sequences=1\n",
        ")\n",
        "# for i, sample_output in enumerate(sample_outputs):\n",
        "gen_sample_output = tokenizer.decode(sample_outputs[0], skip_special_tokens=False)\n",
        "    # gen_sample_output = gen_sample_output.replace(\"<|startoftext|>\", \"\\n\")\n",
        "    # gen_sample_output = gen_sample_output.replace(\"\", \"\")\n",
        "    # gen_sample_output = gen_sample_output.replace(\"\", \"\")\n",
        "    # gen_sample_output = gen_sample_output.replace(\"\", \"\\n\")\n",
        "\n",
        "print(f'Example output: {gen_sample_output}')"
      ],
      "metadata": {
        "id": "QcqKbKwV4Pgy",
        "colab": {
          "base_uri": "https://localhost:8080/"
        },
        "outputId": "01931e16-589d-40a7-bab9-8641c88800eb"
      },
      "execution_count": 36,
      "outputs": [
        {
          "output_type": "stream",
          "name": "stderr",
          "text": [
            "The attention mask and the pad token id were not set. As a consequence, you may observe unexpected behavior. Please pass your input's `attention_mask` to obtain reliable results.\n",
            "Setting `pad_token_id` to `eos_token_id`:5 for open-end generation.\n"
          ]
        },
        {
          "output_type": "stream",
          "name": "stdout",
          "text": [
            "ای نسیم سحر آرامگه یار کجاست<|startoftext|>\n",
            "Example output: ای نسیم سحر آرامگه یار کجاست<|startoftext|> منان، از بس که عاشق آن دو هستم، به دور از هر گونه قضاوت و قضاوت، هر جا که هستی، جایی، کسی مرا نمی‌شناسد. چون مرا به یاد دارند که به یاد داشته\n"
          ]
        }
      ]
    },
    {
      "cell_type": "code",
      "source": [],
      "metadata": {
        "id": "FKpDg4uo4PZA"
      },
      "execution_count": 24,
      "outputs": []
    },
    {
      "cell_type": "code",
      "source": [
        "import random\n",
        "import time\n",
        "import datetime\n",
        "from tqdm import tqdm\n",
        "\n",
        "\n",
        "def format_time(elapsed):\n",
        "    return str(datetime.timedelta(seconds=int(round((elapsed)))))\n",
        "\n",
        "\n",
        "total_t0 = time.time()\n",
        "\n",
        "training_stats = []\n",
        "\n",
        "model = model.to(device)\n",
        "\n",
        "for epoch_i in tqdm(range(0, epochs), position=0):\n",
        "\n",
        "    print(f'Beginning epoch {epoch_i + 1} of {epochs}')\n",
        "\n",
        "    t0 = time.time()\n",
        "\n",
        "    total_train_loss = 0\n",
        "\n",
        "    model.train()\n",
        "\n",
        "    for step, batch in tqdm(enumerate(train_dataloader), total=len(train_dataloader), position=0):\n",
        "\n",
        "        b_input_ids = batch[0].to(device)\n",
        "        b_labels = batch[0].to(device)\n",
        "        b_masks = batch[1].to(device)\n",
        "\n",
        "        model.zero_grad()\n",
        "\n",
        "        outputs = model(b_input_ids, labels=b_labels, attention_mask=b_masks, token_type_ids=None)\n",
        "\n",
        "        loss = outputs[0]\n",
        "\n",
        "        batch_loss = loss.item()\n",
        "        total_train_loss += batch_loss\n",
        "\n",
        "        # Get sample every 100 batches.\n",
        "        if step % sample_every == 0 and not step == 0:\n",
        "\n",
        "            elapsed = format_time(time.time() - t0)\n",
        "            print()\n",
        "            print(f'Batch {step} of {len(train_dataloader)}. Loss:{batch_loss}. Time:{elapsed}')\n",
        "\n",
        "            model.eval()\n",
        "\n",
        "            sample_h1 = hemistichs1[np.random.randint(0, len(hemistichs1))]\n",
        "            sample_input = f\"{sample_h1}<|startoftext|>\"\n",
        "            sample_input_ids = torch.tensor(tokenizer([sample_input])[\"input_ids\"])\n",
        "            sample_input_ids = sample_input_ids.to(device)\n",
        "\n",
        "            sample_outputs = model.generate(\n",
        "                input_ids=sample_input_ids,\n",
        "                do_sample=True,\n",
        "                top_k=50,\n",
        "                max_length=max_seq,\n",
        "                top_p=0.95,\n",
        "                num_return_sequences=1,\n",
        "                pad_token_id=tokenizer.eos_token_id\n",
        "            )\n",
        "            \n",
        "            for i, output in enumerate(sample_outputs):\n",
        "                o = tokenizer.decode(output, skip_special_tokens=False)\n",
        "                o = o.replace(\"<|startoftext|>\", \"    \")\n",
        "\n",
        "            print()\n",
        "            print(f'Example output: {o}')\n",
        "\n",
        "            model.train()\n",
        "\n",
        "        loss.backward()\n",
        "        optimizer.step()\n",
        "        scheduler.step()\n",
        "\n",
        "    # Calculate the average loss over all of the batches.\n",
        "    avg_train_loss = total_train_loss / len(train_dataloader)\n",
        "\n",
        "    # Measure how long this epoch took.\n",
        "    training_time = format_time(time.time() - t0)\n",
        "\n",
        "    print()\n",
        "    print(f'Average Training Loss: {avg_train_loss}. Epoch time: {training_time}')\n",
        "    print()\n",
        "\n",
        "    t0 = time.time()\n",
        "\n",
        "    model.eval()\n",
        "\n",
        "    total_eval_loss = 0\n",
        "    nb_eval_steps = 0\n",
        "\n",
        "    # Evaluate data for one epoch\n",
        "    for batch in tqdm(validation_dataloader, total=len(validation_dataloader), position=0):\n",
        "\n",
        "        b_input_ids = batch[0].to(device)\n",
        "        b_labels = batch[0].to(device)\n",
        "        b_masks = batch[1].to(device)\n",
        "\n",
        "        with torch.no_grad():\n",
        "\n",
        "            outputs = model(b_input_ids, attention_mask=b_masks, labels=b_labels)\n",
        "\n",
        "            loss = outputs[0]\n",
        "\n",
        "        batch_loss = loss.item()\n",
        "        total_eval_loss += batch_loss\n",
        "\n",
        "    avg_val_loss = total_eval_loss / len(validation_dataloader)\n",
        "\n",
        "    validation_time = format_time(time.time() - t0)\n",
        "\n",
        "    print()\n",
        "    print(f'Validation loss: {avg_val_loss}. Validation Time: {validation_time}')\n",
        "    print()\n",
        "\n",
        "    # Record all statistics from this epoch.\n",
        "    training_stats.append(\n",
        "        {\n",
        "            'epoch': epoch_i + 1,\n",
        "            'Training Loss': avg_train_loss,\n",
        "            'Valid. Loss': avg_val_loss,\n",
        "            'Training Time': training_time,\n",
        "            'Validation Time': validation_time\n",
        "        }\n",
        "    )\n",
        "\n",
        "print(f'Total training took {format_time(time.time()-total_t0)}')"
      ],
      "metadata": {
        "id": "q2MnqQB24PWa",
        "colab": {
          "base_uri": "https://localhost:8080/"
        },
        "outputId": "04ee6771-8e71-401c-993e-d9a9074b541a"
      },
      "execution_count": 76,
      "outputs": [
        {
          "output_type": "stream",
          "name": "stderr",
          "text": [
            "\r  0%|          | 0/14 [00:00<?, ?it/s]"
          ]
        },
        {
          "output_type": "stream",
          "name": "stdout",
          "text": [
            "Beginning epoch 1 of 14\n"
          ]
        },
        {
          "output_type": "stream",
          "name": "stderr",
          "text": [
            " 21%|██        | 101/485 [00:16<01:07,  5.69it/s]"
          ]
        },
        {
          "output_type": "stream",
          "name": "stdout",
          "text": [
            "\n",
            "Batch 100 of 485. Loss:0.5142054557800293. Time:0:00:16\n",
            "\n",
            "Example output: ببرد از من قرار و طاقت و هوش    کان تحمل رنج بیهوده را\n"
          ]
        },
        {
          "output_type": "stream",
          "name": "stderr",
          "text": [
            " 41%|████▏     | 201/485 [00:32<00:50,  5.65it/s]"
          ]
        },
        {
          "output_type": "stream",
          "name": "stdout",
          "text": [
            "\n",
            "Batch 200 of 485. Loss:0.44974657893180847. Time:0:00:33\n",
            "\n",
            "Example output: سر ما فرونیاید به کمان ابروی کس    که در گوشه ابرو وع\n"
          ]
        },
        {
          "output_type": "stream",
          "name": "stderr",
          "text": [
            " 62%|██████▏   | 301/485 [00:49<00:33,  5.44it/s]"
          ]
        },
        {
          "output_type": "stream",
          "name": "stdout",
          "text": [
            "\n",
            "Batch 300 of 485. Loss:0.5555804371833801. Time:0:00:49\n",
            "\n",
            "Example output: این نقطه سیاه که آمد مدار نور    این دیده چو ماه در آن گرفت\n"
          ]
        },
        {
          "output_type": "stream",
          "name": "stderr",
          "text": [
            " 83%|████████▎ | 401/485 [01:05<00:16,  5.20it/s]"
          ]
        },
        {
          "output_type": "stream",
          "name": "stdout",
          "text": [
            "\n",
            "Batch 400 of 485. Loss:0.5604161024093628. Time:0:01:05\n",
            "\n",
            "Example output: مغنی کجایی به گلبانگ رود    می ده که بی می و معشوق\n"
          ]
        },
        {
          "output_type": "stream",
          "name": "stderr",
          "text": [
            "100%|██████████| 485/485 [01:18<00:00,  6.15it/s]\n"
          ]
        },
        {
          "output_type": "stream",
          "name": "stdout",
          "text": [
            "\n",
            "Average Training Loss: 0.5070715450134474. Epoch time: 0:01:19\n",
            "\n"
          ]
        },
        {
          "output_type": "stream",
          "name": "stderr",
          "text": [
            "100%|██████████| 54/54 [00:02<00:00, 24.18it/s]\n",
            "  7%|▋         | 1/14 [01:21<17:35, 81.17s/it]"
          ]
        },
        {
          "output_type": "stream",
          "name": "stdout",
          "text": [
            "\n",
            "Validation loss: 1.7046456403202481. Validation Time: 0:00:02\n",
            "\n",
            "Beginning epoch 2 of 14\n"
          ]
        },
        {
          "output_type": "stream",
          "name": "stderr",
          "text": [
            " 21%|██        | 101/485 [00:16<01:05,  5.89it/s]"
          ]
        },
        {
          "output_type": "stream",
          "name": "stdout",
          "text": [
            "\n",
            "Batch 100 of 485. Loss:0.5071312785148621. Time:0:00:16\n",
            "\n",
            "Example output: حافظ به زیر خرقه قدح تا به کی کشی    گر تو را\n"
          ]
        },
        {
          "output_type": "stream",
          "name": "stderr",
          "text": [
            " 41%|████▏     | 201/485 [00:32<00:49,  5.77it/s]"
          ]
        },
        {
          "output_type": "stream",
          "name": "stdout",
          "text": [
            "\n",
            "Batch 200 of 485. Loss:0.5480011105537415. Time:0:00:32\n",
            "\n",
            "Example output: حافظ از باد خزان در چمن دهر مرنج    گل‌افشانی کن\n"
          ]
        },
        {
          "output_type": "stream",
          "name": "stderr",
          "text": [
            " 62%|██████▏   | 301/485 [00:48<00:35,  5.24it/s]"
          ]
        },
        {
          "output_type": "stream",
          "name": "stdout",
          "text": [
            "\n",
            "Batch 300 of 485. Loss:0.5431488752365112. Time:0:00:49\n",
            "\n",
            "Example output: از دست رفته بود وجود ضعیف من    دلم به تنهایی چو آشوب رفت\n"
          ]
        },
        {
          "output_type": "stream",
          "name": "stderr",
          "text": [
            " 83%|████████▎ | 401/485 [01:05<00:14,  5.72it/s]"
          ]
        },
        {
          "output_type": "stream",
          "name": "stdout",
          "text": [
            "\n",
            "Batch 400 of 485. Loss:0.4858805537223816. Time:0:01:05\n",
            "\n",
            "Example output: فلک چو دید سرم را اسیر چنبر عشق    از دم شمشیر چون\n"
          ]
        },
        {
          "output_type": "stream",
          "name": "stderr",
          "text": [
            "100%|██████████| 485/485 [01:18<00:00,  6.16it/s]\n"
          ]
        },
        {
          "output_type": "stream",
          "name": "stdout",
          "text": [
            "\n",
            "Average Training Loss: 0.5060254759395245. Epoch time: 0:01:19\n",
            "\n"
          ]
        },
        {
          "output_type": "stream",
          "name": "stderr",
          "text": [
            "100%|██████████| 54/54 [00:02<00:00, 24.66it/s]\n",
            " 14%|█▍        | 2/14 [02:42<16:12, 81.06s/it]"
          ]
        },
        {
          "output_type": "stream",
          "name": "stdout",
          "text": [
            "\n",
            "Validation loss: 1.7046456403202481. Validation Time: 0:00:02\n",
            "\n",
            "Beginning epoch 3 of 14\n"
          ]
        },
        {
          "output_type": "stream",
          "name": "stderr",
          "text": [
            " 21%|██        | 101/485 [00:16<01:08,  5.59it/s]"
          ]
        },
        {
          "output_type": "stream",
          "name": "stdout",
          "text": [
            "\n",
            "Batch 100 of 485. Loss:0.4950924217700958. Time:0:00:16\n",
            "\n",
            "Example output: بنمای رخ که خلقی واله شوند و حیران    به خنده گفت که از\n"
          ]
        },
        {
          "output_type": "stream",
          "name": "stderr",
          "text": [
            " 41%|████▏     | 201/485 [00:32<00:51,  5.48it/s]"
          ]
        },
        {
          "output_type": "stream",
          "name": "stdout",
          "text": [
            "\n",
            "Batch 200 of 485. Loss:0.549412727355957. Time:0:00:32\n",
            "\n",
            "Example output: من از بازوی خود دارم بسی شکر    که به شکر پادشاهی تو در نظر\n"
          ]
        },
        {
          "output_type": "stream",
          "name": "stderr",
          "text": [
            " 62%|██████▏   | 301/485 [00:48<00:35,  5.24it/s]"
          ]
        },
        {
          "output_type": "stream",
          "name": "stdout",
          "text": [
            "\n",
            "Batch 300 of 485. Loss:0.5558228492736816. Time:0:00:49\n",
            "\n",
            "Example output: بار غمی که خاطر ما خسته کرده بود    آن خسته و ضعیف به دست\n"
          ]
        },
        {
          "output_type": "stream",
          "name": "stderr",
          "text": [
            " 83%|████████▎ | 401/485 [01:05<00:14,  5.87it/s]"
          ]
        },
        {
          "output_type": "stream",
          "name": "stdout",
          "text": [
            "\n",
            "Batch 400 of 485. Loss:0.42205891013145447. Time:0:01:05\n",
            "\n",
            "Example output: می خور که شیخ و حافظ و مفتی و محتسب    که منع اهل\n"
          ]
        },
        {
          "output_type": "stream",
          "name": "stderr",
          "text": [
            "100%|██████████| 485/485 [01:18<00:00,  6.15it/s]\n"
          ]
        },
        {
          "output_type": "stream",
          "name": "stdout",
          "text": [
            "\n",
            "Average Training Loss: 0.5067314539373535. Epoch time: 0:01:19\n",
            "\n"
          ]
        },
        {
          "output_type": "stream",
          "name": "stderr",
          "text": [
            "100%|██████████| 54/54 [00:02<00:00, 24.35it/s]\n",
            " 21%|██▏       | 3/14 [04:03<14:51, 81.08s/it]"
          ]
        },
        {
          "output_type": "stream",
          "name": "stdout",
          "text": [
            "\n",
            "Validation loss: 1.7046456403202481. Validation Time: 0:00:02\n",
            "\n",
            "Beginning epoch 4 of 14\n"
          ]
        },
        {
          "output_type": "stream",
          "name": "stderr",
          "text": [
            " 21%|██        | 101/485 [00:16<01:04,  5.97it/s]"
          ]
        },
        {
          "output_type": "stream",
          "name": "stdout",
          "text": [
            "\n",
            "Batch 100 of 485. Loss:0.479868620634079. Time:0:00:16\n",
            "\n",
            "Example output: در سه سال آنچه بیندوختم از شاه و وزیر    برگرفت\n"
          ]
        },
        {
          "output_type": "stream",
          "name": "stderr",
          "text": [
            " 41%|████▏     | 201/485 [00:32<00:49,  5.74it/s]"
          ]
        },
        {
          "output_type": "stream",
          "name": "stdout",
          "text": [
            "\n",
            "Batch 200 of 485. Loss:0.5198567509651184. Time:0:00:33\n",
            "\n",
            "Example output: اگر چه در طلبت همعنان باد شمالم    ولی می گو\n"
          ]
        },
        {
          "output_type": "stream",
          "name": "stderr",
          "text": [
            " 62%|██████▏   | 301/485 [00:48<00:31,  5.85it/s]"
          ]
        },
        {
          "output_type": "stream",
          "name": "stdout",
          "text": [
            "\n",
            "Batch 300 of 485. Loss:0.4578373432159424. Time:0:00:49\n",
            "\n",
            "Example output: مگر دیوانه خواهم شد در این سودا که شب تا روز    تا روز توبه\n"
          ]
        },
        {
          "output_type": "stream",
          "name": "stderr",
          "text": [
            " 83%|████████▎ | 401/485 [01:05<00:14,  5.68it/s]"
          ]
        },
        {
          "output_type": "stream",
          "name": "stdout",
          "text": [
            "\n",
            "Batch 400 of 485. Loss:0.5671131610870361. Time:0:01:05\n",
            "\n",
            "Example output: کشته غمزه خود را به زیارت دریاب    ز هر دو دیده خون\n"
          ]
        },
        {
          "output_type": "stream",
          "name": "stderr",
          "text": [
            "100%|██████████| 485/485 [01:18<00:00,  6.16it/s]\n"
          ]
        },
        {
          "output_type": "stream",
          "name": "stdout",
          "text": [
            "\n",
            "Average Training Loss: 0.5063536777938764. Epoch time: 0:01:19\n",
            "\n"
          ]
        },
        {
          "output_type": "stream",
          "name": "stderr",
          "text": [
            "100%|██████████| 54/54 [00:02<00:00, 24.50it/s]\n",
            " 29%|██▊       | 4/14 [05:24<13:30, 81.03s/it]"
          ]
        },
        {
          "output_type": "stream",
          "name": "stdout",
          "text": [
            "\n",
            "Validation loss: 1.7046456403202481. Validation Time: 0:00:02\n",
            "\n",
            "Beginning epoch 5 of 14\n"
          ]
        },
        {
          "output_type": "stream",
          "name": "stderr",
          "text": [
            " 21%|██        | 101/485 [00:16<01:11,  5.40it/s]"
          ]
        },
        {
          "output_type": "stream",
          "name": "stdout",
          "text": [
            "\n",
            "Batch 100 of 485. Loss:0.4332166016101837. Time:0:00:16\n",
            "\n",
            "Example output: روشنی طلعت تو ماه ندارد    کجاست در آن آینه که تو دانی\n"
          ]
        },
        {
          "output_type": "stream",
          "name": "stderr",
          "text": [
            " 41%|████      | 200/485 [00:32<00:46,  6.16it/s]"
          ]
        },
        {
          "output_type": "stream",
          "name": "stdout",
          "text": [
            "\n",
            "Batch 200 of 485. Loss:0.6302171945571899. Time:0:00:33\n",
            "\n",
            "Example output: کسی گیرد خطا بر نظم حافظ    تا آن زمان که باشد شکی بر نظم\n"
          ]
        },
        {
          "output_type": "stream",
          "name": "stderr",
          "text": [
            " 62%|██████▏   | 301/485 [00:49<00:33,  5.55it/s]"
          ]
        },
        {
          "output_type": "stream",
          "name": "stdout",
          "text": [
            "\n",
            "Batch 300 of 485. Loss:0.4046570956707001. Time:0:00:49\n",
            "\n",
            "Example output: درج محبت بر مهر خود نیست    و از جور خواجه جلال الدین کز\n"
          ]
        },
        {
          "output_type": "stream",
          "name": "stderr",
          "text": [
            " 83%|████████▎ | 401/485 [01:05<00:14,  5.82it/s]"
          ]
        },
        {
          "output_type": "stream",
          "name": "stdout",
          "text": [
            "\n",
            "Batch 400 of 485. Loss:0.5019381642341614. Time:0:01:05\n",
            "\n",
            "Example output: گوی خوبی بردی از خوبان خلخ شاد باش    یا رب زین کلک\n"
          ]
        },
        {
          "output_type": "stream",
          "name": "stderr",
          "text": [
            "100%|██████████| 485/485 [01:18<00:00,  6.15it/s]\n"
          ]
        },
        {
          "output_type": "stream",
          "name": "stdout",
          "text": [
            "\n",
            "Average Training Loss: 0.5056979138212105. Epoch time: 0:01:19\n",
            "\n"
          ]
        },
        {
          "output_type": "stream",
          "name": "stderr",
          "text": [
            "100%|██████████| 54/54 [00:02<00:00, 24.39it/s]\n",
            " 36%|███▌      | 5/14 [06:45<12:09, 81.07s/it]"
          ]
        },
        {
          "output_type": "stream",
          "name": "stdout",
          "text": [
            "\n",
            "Validation loss: 1.7046456403202481. Validation Time: 0:00:02\n",
            "\n",
            "Beginning epoch 6 of 14\n"
          ]
        },
        {
          "output_type": "stream",
          "name": "stderr",
          "text": [
            " 21%|██        | 101/485 [00:16<01:08,  5.62it/s]"
          ]
        },
        {
          "output_type": "stream",
          "name": "stdout",
          "text": [
            "\n",
            "Batch 100 of 485. Loss:0.5674662590026855. Time:0:00:16\n",
            "\n",
            "Example output: صد بار بگفتی که دهم زان دهنت کام    گر من چه رسم\n"
          ]
        },
        {
          "output_type": "stream",
          "name": "stderr",
          "text": [
            " 41%|████▏     | 201/485 [00:32<00:49,  5.76it/s]"
          ]
        },
        {
          "output_type": "stream",
          "name": "stdout",
          "text": [
            "\n",
            "Batch 200 of 485. Loss:0.414529949426651. Time:0:00:33\n",
            "\n",
            "Example output: جریده رو که گذرگاه عافیت تنگ است    ز گنج خانه دل\n"
          ]
        },
        {
          "output_type": "stream",
          "name": "stderr",
          "text": [
            " 62%|██████▏   | 301/485 [00:48<00:32,  5.70it/s]"
          ]
        },
        {
          "output_type": "stream",
          "name": "stdout",
          "text": [
            "\n",
            "Batch 300 of 485. Loss:0.44346338510513306. Time:0:00:49\n",
            "\n",
            "Example output: شعر خونبار من ای باد بدان یار رسان    دل فدای تو باد به\n"
          ]
        },
        {
          "output_type": "stream",
          "name": "stderr",
          "text": [
            " 83%|████████▎ | 401/485 [01:05<00:15,  5.33it/s]"
          ]
        },
        {
          "output_type": "stream",
          "name": "stdout",
          "text": [
            "\n",
            "Batch 400 of 485. Loss:0.496404767036438. Time:0:01:05\n",
            "\n",
            "Example output: ز تاب آتش سودای عشقش    و ای مرغ بهشتی آه از باد<pad>که\n"
          ]
        },
        {
          "output_type": "stream",
          "name": "stderr",
          "text": [
            "100%|██████████| 485/485 [01:18<00:00,  6.15it/s]\n"
          ]
        },
        {
          "output_type": "stream",
          "name": "stdout",
          "text": [
            "\n",
            "Average Training Loss: 0.5060606814536852. Epoch time: 0:01:19\n",
            "\n"
          ]
        },
        {
          "output_type": "stream",
          "name": "stderr",
          "text": [
            "100%|██████████| 54/54 [00:02<00:00, 24.30it/s]\n",
            " 43%|████▎     | 6/14 [08:06<10:48, 81.07s/it]"
          ]
        },
        {
          "output_type": "stream",
          "name": "stdout",
          "text": [
            "\n",
            "Validation loss: 1.7046456403202481. Validation Time: 0:00:02\n",
            "\n",
            "Beginning epoch 7 of 14\n"
          ]
        },
        {
          "output_type": "stream",
          "name": "stderr",
          "text": [
            " 21%|██        | 101/485 [00:16<01:06,  5.77it/s]"
          ]
        },
        {
          "output_type": "stream",
          "name": "stdout",
          "text": [
            "\n",
            "Batch 100 of 485. Loss:0.42383360862731934. Time:0:00:16\n",
            "\n",
            "Example output: غم جهان مخور و پند من مبر از یاد    که دل بی‌\n"
          ]
        },
        {
          "output_type": "stream",
          "name": "stderr",
          "text": [
            " 41%|████▏     | 201/485 [00:32<00:47,  5.95it/s]"
          ]
        },
        {
          "output_type": "stream",
          "name": "stdout",
          "text": [
            "\n",
            "Batch 200 of 485. Loss:0.54988694190979. Time:0:00:33\n",
            "\n",
            "Example output: گفت‌وگوهاست در این راه که جان بگدازد    ز سر\n"
          ]
        },
        {
          "output_type": "stream",
          "name": "stderr",
          "text": [
            " 62%|██████▏   | 301/485 [00:48<00:31,  5.77it/s]"
          ]
        },
        {
          "output_type": "stream",
          "name": "stdout",
          "text": [
            "\n",
            "Batch 300 of 485. Loss:0.4650457203388214. Time:0:00:49\n",
            "\n",
            "Example output: مقیم بر سر راهش نشسته‌ام چون گرد    نهال می لعل\n"
          ]
        },
        {
          "output_type": "stream",
          "name": "stderr",
          "text": [
            " 83%|████████▎ | 401/485 [01:05<00:15,  5.47it/s]"
          ]
        },
        {
          "output_type": "stream",
          "name": "stdout",
          "text": [
            "\n",
            "Batch 400 of 485. Loss:0.5484741926193237. Time:0:01:05\n",
            "\n",
            "Example output: ز دلبری نتوان لاف زد به آسانی    ز عاشقی نتوان لاف زد به آسانی\n"
          ]
        },
        {
          "output_type": "stream",
          "name": "stderr",
          "text": [
            "100%|██████████| 485/485 [01:18<00:00,  6.16it/s]\n"
          ]
        },
        {
          "output_type": "stream",
          "name": "stdout",
          "text": [
            "\n",
            "Average Training Loss: 0.506612382598759. Epoch time: 0:01:19\n",
            "\n"
          ]
        },
        {
          "output_type": "stream",
          "name": "stderr",
          "text": [
            "100%|██████████| 54/54 [00:02<00:00, 23.65it/s]\n",
            " 50%|█████     | 7/14 [09:27<09:27, 81.06s/it]"
          ]
        },
        {
          "output_type": "stream",
          "name": "stdout",
          "text": [
            "\n",
            "Validation loss: 1.7046456403202481. Validation Time: 0:00:02\n",
            "\n",
            "Beginning epoch 8 of 14\n"
          ]
        },
        {
          "output_type": "stream",
          "name": "stderr",
          "text": [
            " 21%|██        | 101/485 [00:16<01:09,  5.51it/s]"
          ]
        },
        {
          "output_type": "stream",
          "name": "stdout",
          "text": [
            "\n",
            "Batch 100 of 485. Loss:0.42515847086906433. Time:0:00:16\n",
            "\n",
            "Example output: ترک گدایی مکن که گنج بیابی    وان جا به خاک بسپارند مردم بی\n"
          ]
        },
        {
          "output_type": "stream",
          "name": "stderr",
          "text": [
            " 41%|████▏     | 201/485 [00:32<00:49,  5.70it/s]"
          ]
        },
        {
          "output_type": "stream",
          "name": "stdout",
          "text": [
            "\n",
            "Batch 200 of 485. Loss:0.5849644541740417. Time:0:00:33\n",
            "\n",
            "Example output: چو طفلان تا کی ای زاهد فریبی    که در مذهب رهر\n"
          ]
        },
        {
          "output_type": "stream",
          "name": "stderr",
          "text": [
            " 62%|██████▏   | 301/485 [00:48<00:33,  5.53it/s]"
          ]
        },
        {
          "output_type": "stream",
          "name": "stdout",
          "text": [
            "\n",
            "Batch 300 of 485. Loss:0.500106930732727. Time:0:00:49\n",
            "\n",
            "Example output: دل از جواهر مهرت چو صیقلی دارد    ور نه زیباشناسی نمی‌\n"
          ]
        },
        {
          "output_type": "stream",
          "name": "stderr",
          "text": [
            " 83%|████████▎ | 401/485 [01:05<00:14,  5.60it/s]"
          ]
        },
        {
          "output_type": "stream",
          "name": "stdout",
          "text": [
            "\n",
            "Batch 400 of 485. Loss:0.48476001620292664. Time:0:01:05\n",
            "\n",
            "Example output: هر کس که دید روی تو بوسید چشم من    بر سر زلف تو\n"
          ]
        },
        {
          "output_type": "stream",
          "name": "stderr",
          "text": [
            "100%|██████████| 485/485 [01:18<00:00,  6.16it/s]\n"
          ]
        },
        {
          "output_type": "stream",
          "name": "stdout",
          "text": [
            "\n",
            "Average Training Loss: 0.5059758461013283. Epoch time: 0:01:19\n",
            "\n"
          ]
        },
        {
          "output_type": "stream",
          "name": "stderr",
          "text": [
            "100%|██████████| 54/54 [00:02<00:00, 23.88it/s]\n",
            " 57%|█████▋    | 8/14 [10:48<08:06, 81.06s/it]"
          ]
        },
        {
          "output_type": "stream",
          "name": "stdout",
          "text": [
            "\n",
            "Validation loss: 1.7046456403202481. Validation Time: 0:00:02\n",
            "\n",
            "Beginning epoch 9 of 14\n"
          ]
        },
        {
          "output_type": "stream",
          "name": "stderr",
          "text": [
            " 21%|██        | 101/485 [00:16<01:10,  5.45it/s]"
          ]
        },
        {
          "output_type": "stream",
          "name": "stdout",
          "text": [
            "\n",
            "Batch 100 of 485. Loss:0.3890024423599243. Time:0:00:16\n",
            "\n",
            "Example output: هزار نقد به بازار کائنات آرند    بیار باده که گدا را\n"
          ]
        },
        {
          "output_type": "stream",
          "name": "stderr",
          "text": [
            " 41%|████▏     | 201/485 [00:32<00:49,  5.73it/s]"
          ]
        },
        {
          "output_type": "stream",
          "name": "stdout",
          "text": [
            "\n",
            "Batch 200 of 485. Loss:0.6712942123413086. Time:0:00:33\n",
            "\n",
            "Example output: چگونه دعوی وصلت کنم به جان که شده‌ست    ز لعل نوش لبان\n"
          ]
        },
        {
          "output_type": "stream",
          "name": "stderr",
          "text": [
            " 62%|██████▏   | 301/485 [00:49<00:32,  5.73it/s]"
          ]
        },
        {
          "output_type": "stream",
          "name": "stdout",
          "text": [
            "\n",
            "Batch 300 of 485. Loss:0.5768067240715027. Time:0:00:49\n",
            "\n",
            "Example output: دشمن به قصد حافظ اگر دم زند چه باک    کسی به که نفروش\n"
          ]
        },
        {
          "output_type": "stream",
          "name": "stderr",
          "text": [
            " 83%|████████▎ | 401/485 [01:05<00:14,  5.80it/s]"
          ]
        },
        {
          "output_type": "stream",
          "name": "stdout",
          "text": [
            "\n",
            "Batch 400 of 485. Loss:0.4508685767650604. Time:0:01:05\n",
            "\n",
            "Example output: در آن مقام که خوبان ز غمزه تیغ زنند    چشم بد\n"
          ]
        },
        {
          "output_type": "stream",
          "name": "stderr",
          "text": [
            "100%|██████████| 485/485 [01:18<00:00,  6.15it/s]\n"
          ]
        },
        {
          "output_type": "stream",
          "name": "stdout",
          "text": [
            "\n",
            "Average Training Loss: 0.5063796372757745. Epoch time: 0:01:19\n",
            "\n"
          ]
        },
        {
          "output_type": "stream",
          "name": "stderr",
          "text": [
            "100%|██████████| 54/54 [00:02<00:00, 24.52it/s]\n",
            " 64%|██████▍   | 9/14 [12:09<06:45, 81.08s/it]"
          ]
        },
        {
          "output_type": "stream",
          "name": "stdout",
          "text": [
            "\n",
            "Validation loss: 1.7046456403202481. Validation Time: 0:00:02\n",
            "\n",
            "Beginning epoch 10 of 14\n"
          ]
        },
        {
          "output_type": "stream",
          "name": "stderr",
          "text": [
            " 21%|██        | 101/485 [00:16<01:08,  5.59it/s]"
          ]
        },
        {
          "output_type": "stream",
          "name": "stdout",
          "text": [
            "\n",
            "Batch 100 of 485. Loss:0.6292003393173218. Time:0:00:16\n",
            "\n",
            "Example output: خوبان جهان صید توان کرد به زر    گر نگاهی نه به دریا کنم\n"
          ]
        },
        {
          "output_type": "stream",
          "name": "stderr",
          "text": [
            " 41%|████▏     | 201/485 [00:32<00:46,  6.05it/s]"
          ]
        },
        {
          "output_type": "stream",
          "name": "stdout",
          "text": [
            "\n",
            "Batch 200 of 485. Loss:0.4904116094112396. Time:0:00:33\n",
            "\n",
            "Example output: آن که بی جرم برنجید و به تیغم زد و رفت    در\n"
          ]
        },
        {
          "output_type": "stream",
          "name": "stderr",
          "text": [
            " 62%|██████▏   | 301/485 [00:48<00:34,  5.36it/s]"
          ]
        },
        {
          "output_type": "stream",
          "name": "stdout",
          "text": [
            "\n",
            "Batch 300 of 485. Loss:0.575897216796875. Time:0:00:49\n",
            "\n",
            "Example output: چو ماه نو ره بیچارگان نظاره    تا روز پسین ره بیچار\n"
          ]
        },
        {
          "output_type": "stream",
          "name": "stderr",
          "text": [
            " 83%|████████▎ | 401/485 [01:05<00:14,  5.78it/s]"
          ]
        },
        {
          "output_type": "stream",
          "name": "stdout",
          "text": [
            "\n",
            "Batch 400 of 485. Loss:0.6391237378120422. Time:0:01:05\n",
            "\n",
            "Example output: دریاست مجلس او دریاب وقت و در یاب    ببست رهگذار\n"
          ]
        },
        {
          "output_type": "stream",
          "name": "stderr",
          "text": [
            "100%|██████████| 485/485 [01:18<00:00,  6.16it/s]\n"
          ]
        },
        {
          "output_type": "stream",
          "name": "stdout",
          "text": [
            "\n",
            "Average Training Loss: 0.5056025348373295. Epoch time: 0:01:19\n",
            "\n"
          ]
        },
        {
          "output_type": "stream",
          "name": "stderr",
          "text": [
            "100%|██████████| 54/54 [00:02<00:00, 24.40it/s]\n",
            " 71%|███████▏  | 10/14 [13:30<05:24, 81.06s/it]"
          ]
        },
        {
          "output_type": "stream",
          "name": "stdout",
          "text": [
            "\n",
            "Validation loss: 1.7046456403202481. Validation Time: 0:00:02\n",
            "\n",
            "Beginning epoch 11 of 14\n"
          ]
        },
        {
          "output_type": "stream",
          "name": "stderr",
          "text": [
            " 21%|██        | 101/485 [00:16<01:09,  5.56it/s]"
          ]
        },
        {
          "output_type": "stream",
          "name": "stdout",
          "text": [
            "\n",
            "Batch 100 of 485. Loss:0.5505374073982239. Time:0:00:16\n",
            "\n",
            "Example output: ثوابت باشد ای دارای خرمن    خدایوندا مرا آن که فرزندی\n"
          ]
        },
        {
          "output_type": "stream",
          "name": "stderr",
          "text": [
            " 41%|████▏     | 201/485 [00:32<00:50,  5.58it/s]"
          ]
        },
        {
          "output_type": "stream",
          "name": "stdout",
          "text": [
            "\n",
            "Batch 200 of 485. Loss:0.4762798845767975. Time:0:00:33\n",
            "\n",
            "Example output: چون سر آمد دولت شب‌های وصل    منعم که با سر زلف\n"
          ]
        },
        {
          "output_type": "stream",
          "name": "stderr",
          "text": [
            " 62%|██████▏   | 301/485 [00:48<00:32,  5.61it/s]"
          ]
        },
        {
          "output_type": "stream",
          "name": "stdout",
          "text": [
            "\n",
            "Batch 300 of 485. Loss:0.640448272228241. Time:0:00:49\n",
            "\n",
            "Example output: آن که عمری شد که تا بیمارم از سودای او    به سرمن\n"
          ]
        },
        {
          "output_type": "stream",
          "name": "stderr",
          "text": [
            " 83%|████████▎ | 401/485 [01:05<00:14,  5.76it/s]"
          ]
        },
        {
          "output_type": "stream",
          "name": "stdout",
          "text": [
            "\n",
            "Batch 400 of 485. Loss:0.4012426435947418. Time:0:01:05\n",
            "\n",
            "Example output: شبی می‌گفت چشم کس ندیده‌ست    زانکه تا ن\n"
          ]
        },
        {
          "output_type": "stream",
          "name": "stderr",
          "text": [
            "100%|██████████| 485/485 [01:18<00:00,  6.15it/s]\n"
          ]
        },
        {
          "output_type": "stream",
          "name": "stdout",
          "text": [
            "\n",
            "Average Training Loss: 0.5061700945047988. Epoch time: 0:01:19\n",
            "\n"
          ]
        },
        {
          "output_type": "stream",
          "name": "stderr",
          "text": [
            "100%|██████████| 54/54 [00:02<00:00, 24.39it/s]\n",
            " 79%|███████▊  | 11/14 [14:51<04:03, 81.06s/it]"
          ]
        },
        {
          "output_type": "stream",
          "name": "stdout",
          "text": [
            "\n",
            "Validation loss: 1.7046456403202481. Validation Time: 0:00:02\n",
            "\n",
            "Beginning epoch 12 of 14\n"
          ]
        },
        {
          "output_type": "stream",
          "name": "stderr",
          "text": [
            " 21%|██        | 101/485 [00:16<01:04,  5.96it/s]"
          ]
        },
        {
          "output_type": "stream",
          "name": "stdout",
          "text": [
            "\n",
            "Batch 100 of 485. Loss:0.5524325966835022. Time:0:00:16\n",
            "\n",
            "Example output: چه جرم کرده‌ام ای جان و دل به حضرت تو    که به\n"
          ]
        },
        {
          "output_type": "stream",
          "name": "stderr",
          "text": [
            " 41%|████▏     | 201/485 [00:32<00:52,  5.46it/s]"
          ]
        },
        {
          "output_type": "stream",
          "name": "stdout",
          "text": [
            "\n",
            "Batch 200 of 485. Loss:0.6112379431724548. Time:0:00:33\n",
            "\n",
            "Example output: گریه حافظ چه سنجد پیش استغنای عشق    بگو بسوز که بی\n"
          ]
        },
        {
          "output_type": "stream",
          "name": "stderr",
          "text": [
            " 62%|██████▏   | 301/485 [00:49<00:31,  5.77it/s]"
          ]
        },
        {
          "output_type": "stream",
          "name": "stdout",
          "text": [
            "\n",
            "Batch 300 of 485. Loss:0.5739967226982117. Time:0:00:49\n",
            "\n",
            "Example output: خط ساقی گر از این گونه زند نقش بر آب    نهال می‌\n"
          ]
        },
        {
          "output_type": "stream",
          "name": "stderr",
          "text": [
            " 83%|████████▎ | 401/485 [01:05<00:14,  5.86it/s]"
          ]
        },
        {
          "output_type": "stream",
          "name": "stdout",
          "text": [
            "\n",
            "Batch 400 of 485. Loss:0.5823668837547302. Time:0:01:05\n",
            "\n",
            "Example output: ای معرا اصل عالی جوهرت از حرص و آز    عقل کل چ\n"
          ]
        },
        {
          "output_type": "stream",
          "name": "stderr",
          "text": [
            "100%|██████████| 485/485 [01:18<00:00,  6.15it/s]\n"
          ]
        },
        {
          "output_type": "stream",
          "name": "stdout",
          "text": [
            "\n",
            "Average Training Loss: 0.506418268152119. Epoch time: 0:01:19\n",
            "\n"
          ]
        },
        {
          "output_type": "stream",
          "name": "stderr",
          "text": [
            "100%|██████████| 54/54 [00:02<00:00, 24.44it/s]\n",
            " 86%|████████▌ | 12/14 [16:12<02:42, 81.06s/it]"
          ]
        },
        {
          "output_type": "stream",
          "name": "stdout",
          "text": [
            "\n",
            "Validation loss: 1.7046456403202481. Validation Time: 0:00:02\n",
            "\n",
            "Beginning epoch 13 of 14\n"
          ]
        },
        {
          "output_type": "stream",
          "name": "stderr",
          "text": [
            " 21%|██        | 101/485 [00:16<01:12,  5.32it/s]"
          ]
        },
        {
          "output_type": "stream",
          "name": "stdout",
          "text": [
            "\n",
            "Batch 100 of 485. Loss:0.5560838580131531. Time:0:00:16\n",
            "\n",
            "Example output: ببین هلال محرم بخواه ساغر راح    که من یقتل داء\n"
          ]
        },
        {
          "output_type": "stream",
          "name": "stderr",
          "text": [
            " 41%|████▏     | 201/485 [00:32<00:53,  5.34it/s]"
          ]
        },
        {
          "output_type": "stream",
          "name": "stdout",
          "text": [
            "\n",
            "Batch 200 of 485. Loss:0.4895968735218048. Time:0:00:33\n",
            "\n",
            "Example output: مکن به چشم حقارت نگاه در من مست    که صد گنج در خزانه دارد\n"
          ]
        },
        {
          "output_type": "stream",
          "name": "stderr",
          "text": [
            " 62%|██████▏   | 301/485 [00:48<00:32,  5.70it/s]"
          ]
        },
        {
          "output_type": "stream",
          "name": "stdout",
          "text": [
            "\n",
            "Batch 300 of 485. Loss:0.4568551182746887. Time:0:00:49\n",
            "\n",
            "Example output: در خرقه زن آتش که خم ابروی ساقی    کاین است شرح سرانجام\n"
          ]
        },
        {
          "output_type": "stream",
          "name": "stderr",
          "text": [
            " 83%|████████▎ | 401/485 [01:05<00:14,  5.87it/s]"
          ]
        },
        {
          "output_type": "stream",
          "name": "stdout",
          "text": [
            "\n",
            "Batch 400 of 485. Loss:0.457988977432251. Time:0:01:05\n",
            "\n",
            "Example output: به خرمن دو جهان سر فرو نمی‌آرند    چون گدایی به\n"
          ]
        },
        {
          "output_type": "stream",
          "name": "stderr",
          "text": [
            "100%|██████████| 485/485 [01:18<00:00,  6.15it/s]\n"
          ]
        },
        {
          "output_type": "stream",
          "name": "stdout",
          "text": [
            "\n",
            "Average Training Loss: 0.5059401018717854. Epoch time: 0:01:19\n",
            "\n"
          ]
        },
        {
          "output_type": "stream",
          "name": "stderr",
          "text": [
            "100%|██████████| 54/54 [00:02<00:00, 24.52it/s]\n",
            " 93%|█████████▎| 13/14 [17:33<01:21, 81.05s/it]"
          ]
        },
        {
          "output_type": "stream",
          "name": "stdout",
          "text": [
            "\n",
            "Validation loss: 1.7046456403202481. Validation Time: 0:00:02\n",
            "\n",
            "Beginning epoch 14 of 14\n"
          ]
        },
        {
          "output_type": "stream",
          "name": "stderr",
          "text": [
            " 21%|██        | 101/485 [00:16<01:11,  5.35it/s]"
          ]
        },
        {
          "output_type": "stream",
          "name": "stdout",
          "text": [
            "\n",
            "Batch 100 of 485. Loss:0.4885176420211792. Time:0:00:16\n",
            "\n",
            "Example output: چون کرد در دلم اثر آواز عندلیب    به ضرب اصولم آموخت آن\n"
          ]
        },
        {
          "output_type": "stream",
          "name": "stderr",
          "text": [
            " 41%|████▏     | 201/485 [00:32<00:50,  5.60it/s]"
          ]
        },
        {
          "output_type": "stream",
          "name": "stdout",
          "text": [
            "\n",
            "Batch 200 of 485. Loss:0.47294071316719055. Time:0:00:33\n",
            "\n",
            "Example output: نی من تنها کشم تطاول زلفت    نی کار ما که بر دوش\n"
          ]
        },
        {
          "output_type": "stream",
          "name": "stderr",
          "text": [
            " 62%|██████▏   | 301/485 [00:49<00:31,  5.87it/s]"
          ]
        },
        {
          "output_type": "stream",
          "name": "stdout",
          "text": [
            "\n",
            "Batch 300 of 485. Loss:0.4744347333908081. Time:0:00:49\n",
            "\n",
            "Example output: بارم ده از کرم سوی خود تا به سوز دل    ز شمع سوی\n"
          ]
        },
        {
          "output_type": "stream",
          "name": "stderr",
          "text": [
            " 83%|████████▎ | 401/485 [01:05<00:15,  5.60it/s]"
          ]
        },
        {
          "output_type": "stream",
          "name": "stdout",
          "text": [
            "\n",
            "Batch 400 of 485. Loss:0.5312782526016235. Time:0:01:05\n",
            "\n",
            "Example output: بشد که یاد خوشش باد روزگار وصال    به کام دل دانا بود و\n"
          ]
        },
        {
          "output_type": "stream",
          "name": "stderr",
          "text": [
            "100%|██████████| 485/485 [01:18<00:00,  6.15it/s]\n"
          ]
        },
        {
          "output_type": "stream",
          "name": "stdout",
          "text": [
            "\n",
            "Average Training Loss: 0.5070128160039175. Epoch time: 0:01:19\n",
            "\n"
          ]
        },
        {
          "output_type": "stream",
          "name": "stderr",
          "text": [
            "100%|██████████| 54/54 [00:02<00:00, 24.33it/s]\n",
            "100%|██████████| 14/14 [18:54<00:00, 81.06s/it]"
          ]
        },
        {
          "output_type": "stream",
          "name": "stdout",
          "text": [
            "\n",
            "Validation loss: 1.7046456403202481. Validation Time: 0:00:02\n",
            "\n",
            "Total training took 0:18:55\n"
          ]
        },
        {
          "output_type": "stream",
          "name": "stderr",
          "text": [
            "\n"
          ]
        }
      ]
    },
    {
      "cell_type": "code",
      "source": [],
      "metadata": {
        "id": "xQ20MN-44PT-"
      },
      "execution_count": 24,
      "outputs": []
    },
    {
      "cell_type": "code",
      "source": [
        "def generator(sample_h1, max_length=128, num_return_sequences=3, verbose=0):\n",
        "    model.eval()\n",
        "    prompt = f\"{sample_h1}<|startoftext|>\"\n",
        "\n",
        "    generated = torch.tensor(tokenizer.encode(prompt)).unsqueeze(0)\n",
        "    generated = generated.to(device)\n",
        "\n",
        "    decoded_outputs = model.generate(\n",
        "        generated,\n",
        "        do_sample=True,\n",
        "        top_k=50,\n",
        "        max_length=20, \n",
        "        top_p=0.95,\n",
        "        num_return_sequences=num_return_sequences,\n",
        "        pad_token_id=tokenizer.eos_token_id\n",
        "    )\n",
        "\n",
        "    for i, output in enumerate(decoded_outputs):\n",
        "        o = tokenizer.decode(output, skip_special_tokens=False)\n",
        "        out = o.replace(\"<|startoftext|>\", \"    \")\n",
        "        h2 = o.split(\"<|startoftext|>\")[-1]\n",
        "        if verbose == 0:\n",
        "            print(out)\n",
        "\n",
        "    return h2"
      ],
      "metadata": {
        "id": "HZCgq5L_4PSL"
      },
      "execution_count": 142,
      "outputs": []
    },
    {
      "cell_type": "code",
      "source": [
        "sample_h1 = hemistichs1[1]\n",
        "generator(sample_h1, max_length=max_seq, num_return_sequences=1)"
      ],
      "metadata": {
        "id": "FbQhm5eX4POz",
        "colab": {
          "base_uri": "https://localhost:8080/"
        },
        "outputId": "d94900af-c179-43a4-8f73-b2b296210421"
      },
      "execution_count": 85,
      "outputs": [
        {
          "output_type": "stream",
          "name": "stdout",
          "text": [
            "خواب ارچه خوش آمد همه را در عهدت    به عزم سوی باغ آمد و آمد باغبانی\n"
          ]
        }
      ]
    },
    {
      "cell_type": "code",
      "source": [
        "sample_h1 = hemistichs1[1]\n",
        "generator(sample_h1, max_length=max_seq, num_return_sequences=1)"
      ],
      "metadata": {
        "id": "vwLOIgJb4PMO",
        "colab": {
          "base_uri": "https://localhost:8080/"
        },
        "outputId": "5d058b0e-35f1-47d4-8aee-a7d6d2487950"
      },
      "execution_count": 86,
      "outputs": [
        {
          "output_type": "stream",
          "name": "stdout",
          "text": [
            "خواب ارچه خوش آمد همه را در عهدت    ز لعل لبت در دهان بگردان و\n"
          ]
        }
      ]
    },
    {
      "cell_type": "code",
      "source": [
        "sample_h1 = hemistichs1[1]\n",
        "generator(sample_h1, max_length=max_seq, num_return_sequences=1)"
      ],
      "metadata": {
        "id": "DAt6V4ki4PJq",
        "colab": {
          "base_uri": "https://localhost:8080/"
        },
        "outputId": "35bd2707-1b10-4956-bcd7-cb29a0e6d925"
      },
      "execution_count": 87,
      "outputs": [
        {
          "output_type": "stream",
          "name": "stdout",
          "text": [
            "خواب ارچه خوش آمد همه را در عهدت    بجز خیال آن یار که ننوشد\n"
          ]
        }
      ]
    },
    {
      "cell_type": "code",
      "source": [
        "for _ in range(10):\n",
        "    generator(hemistichs1[1], max_length=max_seq, num_return_sequences=1)"
      ],
      "metadata": {
        "id": "3ZqB4WNh4PHH",
        "colab": {
          "base_uri": "https://localhost:8080/"
        },
        "outputId": "19178e51-c190-4fd1-9122-33c48330e567"
      },
      "execution_count": 89,
      "outputs": [
        {
          "output_type": "stream",
          "name": "stdout",
          "text": [
            "خواب ارچه خوش آمد همه را در عهدت    حیف باشد که بی سر و سامان شوی\n",
            "خواب ارچه خوش آمد همه را در عهدت    به دور دهانت از خواب برنتابم\n",
            "خواب ارچه خوش آمد همه را در عهدت    زین تغابن که گویند همه خواب خوش است\n",
            "خواب ارچه خوش آمد همه را در عهدت    وز آن به که بیاسای تو هر\n",
            "خواب ارچه خوش آمد همه را در عهدت    به یک جرعه با سحر از سحر بگذرم\n",
            "خواب ارچه خوش آمد همه را در عهدت    در میان خواب دوای سحر آه به درن\n",
            "خواب ارچه خوش آمد همه را در عهدت    تزاع کاین دل ارچه خوش شد\n",
            "خواب ارچه خوش آمد همه را در عهدت    از بختت که در خواب خوش آمد<pad>\n",
            "خواب ارچه خوش آمد همه را در عهدت    که من در خواب نهخواب نه به سر\n",
            "خواب ارچه خوش آمد همه را در عهدت    گر چه خوش آمد همه را در عهدت\n"
          ]
        }
      ]
    },
    {
      "cell_type": "code",
      "source": [
        "for _ in range(10):\n",
        "    generator(hemistichs1[3], max_length=max_seq, num_return_sequences=1)"
      ],
      "metadata": {
        "colab": {
          "base_uri": "https://localhost:8080/"
        },
        "id": "MEdEXv3sJRla",
        "outputId": "75e094af-f81a-4403-ea89-0d73f5fda0cd"
      },
      "execution_count": 93,
      "outputs": [
        {
          "output_type": "stream",
          "name": "stdout",
          "text": [
            "مشنو سخن خصم که بنشین و مرو    هر که خوش لهجه ادا می‌گوید زبان\n",
            "مشنو سخن خصم که بنشین و مرو    بشنو ز من ایشان که با ما\n",
            "مشنو سخن خصم که بنشین و مرو    ز زبان من برون آمد و در میان آمد\n",
            "مشنو سخن خصم که بنشین و مرو    گفتمت مگر گو بیا که سوسن آزاده کنی\n",
            "مشنو سخن خصم که بنشین و مرو    تو گویی که در پرده شطرنج جمشید و بهمن\n",
            "مشنو سخن خصم که بنشین و مرو    ز لب من بوسه بر لب یار بخش<pad>\n",
            "مشنو سخن خصم که بنشین و مرو    به یک جرعه نوش و یک پیمانه ننو\n",
            "مشنو سخن خصم که بنشین و مرو    ننهان خور و نه اندیشه آنان که\n",
            "مشنو سخن خصم که بنشین و مرو    بشنو سخن خصم چون بنشین و\n",
            "مشنو سخن خصم که بنشین و مرو    بازآ که دگر سخن خصم که گو\n"
          ]
        }
      ]
    },
    {
      "cell_type": "code",
      "source": [
        "for _ in range(10):\n",
        "    generator(hemistichs1[4], max_length=max_seq, num_return_sequences=1)"
      ],
      "metadata": {
        "colab": {
          "base_uri": "https://localhost:8080/"
        },
        "id": "1d9AHpnSNDFx",
        "outputId": "882b896e-c55c-459c-ae41-19e4376406ad"
      },
      "execution_count": 95,
      "outputs": [
        {
          "output_type": "stream",
          "name": "stdout",
          "text": [
            "ماهی که قدش به سرو می‌ماند راست    بر لب رود از خط هلالی<pad>چو جم\n",
            "ماهی که قدش به سرو می‌ماند راست    چو قدش به سرو خرامان می‌\n",
            "ماهی که قدش به سرو می‌ماند راست    به صد گونه هواداری می‌کند از راست\n",
            "ماهی که قدش به سرو می‌ماند راست    زین بحر می‌گذرد از جویبار حسن<pad>\n",
            "ماهی که قدش به سرو می‌ماند راست    می‌رود چون قدح پربده\n",
            "ماهی که قدش به سرو می‌ماند راست    گرد چمن ناز از خط مشکین نقاب انداز<pad>\n",
            "ماهی که قدش به سرو می‌ماند راست    بلبلان و به آواز زهره می‌\n",
            "ماهی که قدش به سرو می‌ماند راست    ز خوش به دمی که درآید بازآی باز\n",
            "ماهی که قدش به سرو می‌ماند راست    ز قدش به سرو می‌ماند راست\n",
            "ماهی که قدش به سرو می‌ماند راست    زین چمن عارضش به سرو دگر<pad>\n"
          ]
        }
      ]
    },
    {
      "cell_type": "code",
      "source": [],
      "metadata": {
        "id": "Hfsav3ohNDDh"
      },
      "execution_count": null,
      "outputs": []
    },
    {
      "cell_type": "markdown",
      "source": [
        "### Evaluate"
      ],
      "metadata": {
        "id": "fVTjXW8fRUl5"
      }
    },
    {
      "cell_type": "code",
      "source": [
        "groups = test.groupby(by='v_position')\n",
        "hemistichs1_test, hemistichs2_test = [], []\n",
        "for grp, pdf in groups:\n",
        "    if grp == 0:\n",
        "        hemistichs1_test = list(pdf['poem_text'])\n",
        "    else:\n",
        "        hemistichs2_test = list(pdf['poem_text'])"
      ],
      "metadata": {
        "id": "pbx8I1maRS4c"
      },
      "execution_count": 96,
      "outputs": []
    },
    {
      "cell_type": "code",
      "source": [
        "for _ in range(10):\n",
        "    generator(hemistichs1_test[0], max_length=max_seq, num_return_sequences=1)"
      ],
      "metadata": {
        "colab": {
          "base_uri": "https://localhost:8080/"
        },
        "id": "H9srQK8ARS2t",
        "outputId": "6627bae5-d49f-4d43-8087-ff90ec7b9cf8"
      },
      "execution_count": 97,
      "outputs": [
        {
          "output_type": "stream",
          "name": "stdout",
          "text": [
            "گفتم که لبت، گفت لبم آب حیات    گفتا که این قطره‌های شبنم باشد\n",
            "گفتم که لبت، گفت لبم آب حیات    گفت این گفت و شنفتاده‌ام\n",
            "گفتم که لبت، گفت لبم آب حیات    گفتا که در این آب به سر نمی\n",
            "گفتم که لبت، گفت لبم آب حیات    گفتا محض حقیقت تو گویی بکند<pad><pad>\n",
            "گفتم که لبت، گفت لبم آب حیات    گفت حافظ ز آب حیات به من بازرسان<pad>\n",
            "گفتم که لبت، گفت لبم آب حیات    گفتا خوشا دمی که با تو آب\n",
            "گفتم که لبت، گفت لبم آب حیات    گفتا خنک کن و از آب لطف زاده\n",
            "گفتم که لبت، گفت لبم آب حیات    گفت حافظ دیوانه را همین آب حیات است<pad>\n",
            "گفتم که لبت، گفت لبم آب حیات    گفتا که با وی گفت‌وگو آشنا\n",
            "گفتم که لبت، گفت لبم آب حیات    گفتا مگوی غم و حسرت من<pad>\n"
          ]
        }
      ]
    },
    {
      "cell_type": "code",
      "source": [
        "for _ in range(10):\n",
        "    generator(hemistichs1_test[100], max_length=max_seq, num_return_sequences=1)"
      ],
      "metadata": {
        "colab": {
          "base_uri": "https://localhost:8080/"
        },
        "id": "1cy8PCVbRS0T",
        "outputId": "70e3403a-1f59-43af-c35d-08d690c1f344"
      },
      "execution_count": 99,
      "outputs": [
        {
          "output_type": "stream",
          "name": "stdout",
          "text": [
            "رندان تشنه لب را آبی نمی‌دهد کس    به دست کسی که این تشنه نیست این آب\n",
            "رندان تشنه لب را آبی نمی‌دهد کس    ز حقه سر آن دو دیده هیچش به\n",
            "رندان تشنه لب را آبی نمی‌دهد کس    لب تشنه را آب لب جز آب نیست ره\n",
            "رندان تشنه لب را آبی نمی‌دهد کس    بگو بسوز که من در دام این ن\n",
            "رندان تشنه لب را آبی نمی‌دهد کس    ای خضر پی خجسته مدد کن آن قطره خون\n",
            "رندان تشنه لب را آبی نمی‌دهد کس    عاقبت این است خدایا باش که او\n",
            "رندان تشنه لب را آبی نمی‌دهد کس    فغان که ما در این کار بی‌\n",
            "رندان تشنه لب را آبی نمی‌دهد کس    وز لب چشمه زنخدان تشنه می‌\n",
            "رندان تشنه لب را آبی نمی‌دهد کس    ور نه‌ای دل که به جگر تشنه\n",
            "رندان تشنه لب را آبی نمی‌دهد کس    چو لاله کاسه سر چشمه را جوی نمی‌\n"
          ]
        }
      ]
    },
    {
      "cell_type": "code",
      "source": [
        "for _ in range(10):\n",
        "    generator(hemistichs1_test[65], max_length=max_seq, num_return_sequences=1)"
      ],
      "metadata": {
        "colab": {
          "base_uri": "https://localhost:8080/"
        },
        "id": "m-pflug7RSx1",
        "outputId": "44b38a27-2b7d-4956-b09b-510e82ceae5c"
      },
      "execution_count": 117,
      "outputs": [
        {
          "output_type": "stream",
          "name": "stdout",
          "text": [
            "صراحی ای و حریفی گرت به چنگ افتد    که روز قیامت ز می صاف کن راز چو\n",
            "صراحی ای و حریفی گرت به چنگ افتد    اگر به عشوه چنگ آورد سخنی با من\n",
            "صراحی ای و حریفی گرت به چنگ افتد    که به رقص آورد و جامی به خون جگر\n",
            "صراحی ای و حریفی گرت به چنگ افتد    ور از میان من و تو در میانه من\n",
            "صراحی ای و حریفی گرت به چنگ افتد    که من غلام غلام غلام و از سخند\n",
            "صراحی ای و حریفی گرت به چنگ افتد    کز غمش به تنگ آمده به لب جام\n",
            "صراحی ای و حریفی گرت به چنگ افتد    تو سخن سخت و حریف اندر دهان به من\n",
            "صراحی ای و حریفی گرت به چنگ افتد    که در این کار جز به سیم و زر\n",
            "صراحی ای و حریفی گرت به چنگ افتد    چه خوش آمد که این ترانه سر آمد و\n",
            "صراحی ای و حریفی گرت به چنگ افتد    که تا به صبحدم نمی‌آید بوی\n"
          ]
        }
      ]
    },
    {
      "cell_type": "code",
      "source": [],
      "metadata": {
        "id": "-_-cW8pnRStJ"
      },
      "execution_count": null,
      "outputs": []
    },
    {
      "cell_type": "code",
      "source": [
        "from nltk.translate.bleu_score import sentence_bleu\n",
        "\n",
        "def cal_bleu(reference, candidate):\n",
        "    reference = [reference.split()]\n",
        "    candidate = candidate.split()\n",
        "    score = sentence_bleu(reference, candidate, weights=(1, 0, 0, 0))\n",
        "    return score"
      ],
      "metadata": {
        "id": "7-VSDGmoVDkp"
      },
      "execution_count": 169,
      "outputs": []
    },
    {
      "cell_type": "code",
      "source": [
        "scores = []\n",
        "for h1_test, h2_test in zip(hemistichs1_test, hemistichs2_test):\n",
        "    output = generator(h1_test, max_length=max_seq, num_return_sequences=1, verbose=1)\n",
        "    score = cal_bleu(reference=h2_test, candidate=output)\n",
        "    scores.append(score)\n",
        "  \n",
        "np.average(scores)"
      ],
      "metadata": {
        "colab": {
          "base_uri": "https://localhost:8080/"
        },
        "id": "-JyfQj5qTbpa",
        "outputId": "2d2ad97d-005b-4034-d1b3-c163849526fa"
      },
      "execution_count": 145,
      "outputs": [
        {
          "output_type": "execute_result",
          "data": {
            "text/plain": [
              "0.05107688098228099"
            ]
          },
          "metadata": {},
          "execution_count": 145
        }
      ]
    },
    {
      "cell_type": "code",
      "source": [
        "scores = []\n",
        "outputs = []\n",
        "for h1_test, h2_test in zip(hemistichs1_test, hemistichs2_test):\n",
        "    output = generator(h1_test, max_length=max_seq, num_return_sequences=1, verbose=1)\n",
        "    outputs.append(output)\n",
        "    score = cal_bleu(reference=h2_test, candidate=output)\n",
        "    scores.append(score)\n",
        "  \n",
        "round(np.average(scores), 3)"
      ],
      "metadata": {
        "colab": {
          "base_uri": "https://localhost:8080/"
        },
        "id": "3BwqOrZXYiWY",
        "outputId": "c5536b45-1a66-4fbb-897c-4db2122e2ad6"
      },
      "execution_count": 173,
      "outputs": [
        {
          "output_type": "execute_result",
          "data": {
            "text/plain": [
              "0.056"
            ]
          },
          "metadata": {},
          "execution_count": 173
        }
      ]
    },
    {
      "cell_type": "code",
      "source": [
        "ind = np.argmax(scores)\n",
        "hemistichs1_test[ind].replace('\\u200c', ' '), hemistichs2_test[ind], outputs[ind].replace('<pad>', '')"
      ],
      "metadata": {
        "colab": {
          "base_uri": "https://localhost:8080/"
        },
        "id": "5ebNX5RLXv-w",
        "outputId": "451baa0a-0f83-4542-f306-b62e82001311"
      },
      "execution_count": 176,
      "outputs": [
        {
          "output_type": "execute_result",
          "data": {
            "text/plain": [
              "('بکن معامله ای وین دل شکسته بخر',\n",
              " 'که با شکستگی ارزد به صد هزار درست',\n",
              " 'که جام می به صد شعبده باز دهم')"
            ]
          },
          "metadata": {},
          "execution_count": 176
        }
      ]
    },
    {
      "cell_type": "code",
      "source": [],
      "metadata": {
        "id": "Q1gzddDSbVGR"
      },
      "execution_count": null,
      "outputs": []
    },
    {
      "cell_type": "markdown",
      "source": [
        "Finitoo"
      ],
      "metadata": {
        "id": "YIAy2at7ODbU"
      }
    }
  ]
}