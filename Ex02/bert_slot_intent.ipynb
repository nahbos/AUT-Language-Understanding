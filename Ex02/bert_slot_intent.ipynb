{
  "nbformat": 4,
  "nbformat_minor": 0,
  "metadata": {
    "colab": {
      "provenance": [],
      "toc_visible": true,
      "include_colab_link": true
    },
    "kernelspec": {
      "name": "python3",
      "display_name": "Python 3"
    },
    "language_info": {
      "name": "python"
    },
    "accelerator": "GPU",
    "gpuClass": "standard",
    "widgets": {
      "application/vnd.jupyter.widget-state+json": {
        "d14713e75f634e079fb731cb1856bfcf": {
          "model_module": "@jupyter-widgets/controls",
          "model_name": "HBoxModel",
          "model_module_version": "1.5.0",
          "state": {
            "_dom_classes": [],
            "_model_module": "@jupyter-widgets/controls",
            "_model_module_version": "1.5.0",
            "_model_name": "HBoxModel",
            "_view_count": null,
            "_view_module": "@jupyter-widgets/controls",
            "_view_module_version": "1.5.0",
            "_view_name": "HBoxView",
            "box_style": "",
            "children": [
              "IPY_MODEL_bc40c3fc529c4e0fa709dd30279388d1",
              "IPY_MODEL_87cce2938b9c41f48420cf99b55f2b50",
              "IPY_MODEL_44bac134351e4d9ab1f6f5911fea2178"
            ],
            "layout": "IPY_MODEL_c1d81367bd4147dd82acdee78d6ad77a"
          }
        },
        "bc40c3fc529c4e0fa709dd30279388d1": {
          "model_module": "@jupyter-widgets/controls",
          "model_name": "HTMLModel",
          "model_module_version": "1.5.0",
          "state": {
            "_dom_classes": [],
            "_model_module": "@jupyter-widgets/controls",
            "_model_module_version": "1.5.0",
            "_model_name": "HTMLModel",
            "_view_count": null,
            "_view_module": "@jupyter-widgets/controls",
            "_view_module_version": "1.5.0",
            "_view_name": "HTMLView",
            "description": "",
            "description_tooltip": null,
            "layout": "IPY_MODEL_13cf8a7964b2424d8ceedfb73aed0179",
            "placeholder": "​",
            "style": "IPY_MODEL_8dc4744a50bc4a44b9d771148cf242f4",
            "value": "Downloading: 100%"
          }
        },
        "87cce2938b9c41f48420cf99b55f2b50": {
          "model_module": "@jupyter-widgets/controls",
          "model_name": "FloatProgressModel",
          "model_module_version": "1.5.0",
          "state": {
            "_dom_classes": [],
            "_model_module": "@jupyter-widgets/controls",
            "_model_module_version": "1.5.0",
            "_model_name": "FloatProgressModel",
            "_view_count": null,
            "_view_module": "@jupyter-widgets/controls",
            "_view_module_version": "1.5.0",
            "_view_name": "ProgressView",
            "bar_style": "success",
            "description": "",
            "description_tooltip": null,
            "layout": "IPY_MODEL_213c1ee088f740a7bb8e9f679bd9eb7e",
            "max": 433,
            "min": 0,
            "orientation": "horizontal",
            "style": "IPY_MODEL_b8c951de306d42fea3c743f25e2cf1f8",
            "value": 433
          }
        },
        "44bac134351e4d9ab1f6f5911fea2178": {
          "model_module": "@jupyter-widgets/controls",
          "model_name": "HTMLModel",
          "model_module_version": "1.5.0",
          "state": {
            "_dom_classes": [],
            "_model_module": "@jupyter-widgets/controls",
            "_model_module_version": "1.5.0",
            "_model_name": "HTMLModel",
            "_view_count": null,
            "_view_module": "@jupyter-widgets/controls",
            "_view_module_version": "1.5.0",
            "_view_name": "HTMLView",
            "description": "",
            "description_tooltip": null,
            "layout": "IPY_MODEL_30892923d0a447c4a506007047146d38",
            "placeholder": "​",
            "style": "IPY_MODEL_1cab2adbc7a3498799147fd3bf37f817",
            "value": " 433/433 [00:00&lt;00:00, 14.6kB/s]"
          }
        },
        "c1d81367bd4147dd82acdee78d6ad77a": {
          "model_module": "@jupyter-widgets/base",
          "model_name": "LayoutModel",
          "model_module_version": "1.2.0",
          "state": {
            "_model_module": "@jupyter-widgets/base",
            "_model_module_version": "1.2.0",
            "_model_name": "LayoutModel",
            "_view_count": null,
            "_view_module": "@jupyter-widgets/base",
            "_view_module_version": "1.2.0",
            "_view_name": "LayoutView",
            "align_content": null,
            "align_items": null,
            "align_self": null,
            "border": null,
            "bottom": null,
            "display": null,
            "flex": null,
            "flex_flow": null,
            "grid_area": null,
            "grid_auto_columns": null,
            "grid_auto_flow": null,
            "grid_auto_rows": null,
            "grid_column": null,
            "grid_gap": null,
            "grid_row": null,
            "grid_template_areas": null,
            "grid_template_columns": null,
            "grid_template_rows": null,
            "height": null,
            "justify_content": null,
            "justify_items": null,
            "left": null,
            "margin": null,
            "max_height": null,
            "max_width": null,
            "min_height": null,
            "min_width": null,
            "object_fit": null,
            "object_position": null,
            "order": null,
            "overflow": null,
            "overflow_x": null,
            "overflow_y": null,
            "padding": null,
            "right": null,
            "top": null,
            "visibility": null,
            "width": null
          }
        },
        "13cf8a7964b2424d8ceedfb73aed0179": {
          "model_module": "@jupyter-widgets/base",
          "model_name": "LayoutModel",
          "model_module_version": "1.2.0",
          "state": {
            "_model_module": "@jupyter-widgets/base",
            "_model_module_version": "1.2.0",
            "_model_name": "LayoutModel",
            "_view_count": null,
            "_view_module": "@jupyter-widgets/base",
            "_view_module_version": "1.2.0",
            "_view_name": "LayoutView",
            "align_content": null,
            "align_items": null,
            "align_self": null,
            "border": null,
            "bottom": null,
            "display": null,
            "flex": null,
            "flex_flow": null,
            "grid_area": null,
            "grid_auto_columns": null,
            "grid_auto_flow": null,
            "grid_auto_rows": null,
            "grid_column": null,
            "grid_gap": null,
            "grid_row": null,
            "grid_template_areas": null,
            "grid_template_columns": null,
            "grid_template_rows": null,
            "height": null,
            "justify_content": null,
            "justify_items": null,
            "left": null,
            "margin": null,
            "max_height": null,
            "max_width": null,
            "min_height": null,
            "min_width": null,
            "object_fit": null,
            "object_position": null,
            "order": null,
            "overflow": null,
            "overflow_x": null,
            "overflow_y": null,
            "padding": null,
            "right": null,
            "top": null,
            "visibility": null,
            "width": null
          }
        },
        "8dc4744a50bc4a44b9d771148cf242f4": {
          "model_module": "@jupyter-widgets/controls",
          "model_name": "DescriptionStyleModel",
          "model_module_version": "1.5.0",
          "state": {
            "_model_module": "@jupyter-widgets/controls",
            "_model_module_version": "1.5.0",
            "_model_name": "DescriptionStyleModel",
            "_view_count": null,
            "_view_module": "@jupyter-widgets/base",
            "_view_module_version": "1.2.0",
            "_view_name": "StyleView",
            "description_width": ""
          }
        },
        "213c1ee088f740a7bb8e9f679bd9eb7e": {
          "model_module": "@jupyter-widgets/base",
          "model_name": "LayoutModel",
          "model_module_version": "1.2.0",
          "state": {
            "_model_module": "@jupyter-widgets/base",
            "_model_module_version": "1.2.0",
            "_model_name": "LayoutModel",
            "_view_count": null,
            "_view_module": "@jupyter-widgets/base",
            "_view_module_version": "1.2.0",
            "_view_name": "LayoutView",
            "align_content": null,
            "align_items": null,
            "align_self": null,
            "border": null,
            "bottom": null,
            "display": null,
            "flex": null,
            "flex_flow": null,
            "grid_area": null,
            "grid_auto_columns": null,
            "grid_auto_flow": null,
            "grid_auto_rows": null,
            "grid_column": null,
            "grid_gap": null,
            "grid_row": null,
            "grid_template_areas": null,
            "grid_template_columns": null,
            "grid_template_rows": null,
            "height": null,
            "justify_content": null,
            "justify_items": null,
            "left": null,
            "margin": null,
            "max_height": null,
            "max_width": null,
            "min_height": null,
            "min_width": null,
            "object_fit": null,
            "object_position": null,
            "order": null,
            "overflow": null,
            "overflow_x": null,
            "overflow_y": null,
            "padding": null,
            "right": null,
            "top": null,
            "visibility": null,
            "width": null
          }
        },
        "b8c951de306d42fea3c743f25e2cf1f8": {
          "model_module": "@jupyter-widgets/controls",
          "model_name": "ProgressStyleModel",
          "model_module_version": "1.5.0",
          "state": {
            "_model_module": "@jupyter-widgets/controls",
            "_model_module_version": "1.5.0",
            "_model_name": "ProgressStyleModel",
            "_view_count": null,
            "_view_module": "@jupyter-widgets/base",
            "_view_module_version": "1.2.0",
            "_view_name": "StyleView",
            "bar_color": null,
            "description_width": ""
          }
        },
        "30892923d0a447c4a506007047146d38": {
          "model_module": "@jupyter-widgets/base",
          "model_name": "LayoutModel",
          "model_module_version": "1.2.0",
          "state": {
            "_model_module": "@jupyter-widgets/base",
            "_model_module_version": "1.2.0",
            "_model_name": "LayoutModel",
            "_view_count": null,
            "_view_module": "@jupyter-widgets/base",
            "_view_module_version": "1.2.0",
            "_view_name": "LayoutView",
            "align_content": null,
            "align_items": null,
            "align_self": null,
            "border": null,
            "bottom": null,
            "display": null,
            "flex": null,
            "flex_flow": null,
            "grid_area": null,
            "grid_auto_columns": null,
            "grid_auto_flow": null,
            "grid_auto_rows": null,
            "grid_column": null,
            "grid_gap": null,
            "grid_row": null,
            "grid_template_areas": null,
            "grid_template_columns": null,
            "grid_template_rows": null,
            "height": null,
            "justify_content": null,
            "justify_items": null,
            "left": null,
            "margin": null,
            "max_height": null,
            "max_width": null,
            "min_height": null,
            "min_width": null,
            "object_fit": null,
            "object_position": null,
            "order": null,
            "overflow": null,
            "overflow_x": null,
            "overflow_y": null,
            "padding": null,
            "right": null,
            "top": null,
            "visibility": null,
            "width": null
          }
        },
        "1cab2adbc7a3498799147fd3bf37f817": {
          "model_module": "@jupyter-widgets/controls",
          "model_name": "DescriptionStyleModel",
          "model_module_version": "1.5.0",
          "state": {
            "_model_module": "@jupyter-widgets/controls",
            "_model_module_version": "1.5.0",
            "_model_name": "DescriptionStyleModel",
            "_view_count": null,
            "_view_module": "@jupyter-widgets/base",
            "_view_module_version": "1.2.0",
            "_view_name": "StyleView",
            "description_width": ""
          }
        },
        "e46da855d79d4d608a3d3c3f481f02aa": {
          "model_module": "@jupyter-widgets/controls",
          "model_name": "HBoxModel",
          "model_module_version": "1.5.0",
          "state": {
            "_dom_classes": [],
            "_model_module": "@jupyter-widgets/controls",
            "_model_module_version": "1.5.0",
            "_model_name": "HBoxModel",
            "_view_count": null,
            "_view_module": "@jupyter-widgets/controls",
            "_view_module_version": "1.5.0",
            "_view_name": "HBoxView",
            "box_style": "",
            "children": [
              "IPY_MODEL_7a167d05671645329089bab0cc38ca42",
              "IPY_MODEL_a5e3932b8bdb43a889fc6a622af9d364",
              "IPY_MODEL_cdd051ddcdc1455682cc49798deb487e"
            ],
            "layout": "IPY_MODEL_2d25982bbbb640eb8b0e3665feb8bc38"
          }
        },
        "7a167d05671645329089bab0cc38ca42": {
          "model_module": "@jupyter-widgets/controls",
          "model_name": "HTMLModel",
          "model_module_version": "1.5.0",
          "state": {
            "_dom_classes": [],
            "_model_module": "@jupyter-widgets/controls",
            "_model_module_version": "1.5.0",
            "_model_name": "HTMLModel",
            "_view_count": null,
            "_view_module": "@jupyter-widgets/controls",
            "_view_module_version": "1.5.0",
            "_view_name": "HTMLView",
            "description": "",
            "description_tooltip": null,
            "layout": "IPY_MODEL_06335d9453dd4220becd4f36c5949382",
            "placeholder": "​",
            "style": "IPY_MODEL_544291dafa7a4a2cbe39d70cb4558eaa",
            "value": "Downloading: 100%"
          }
        },
        "a5e3932b8bdb43a889fc6a622af9d364": {
          "model_module": "@jupyter-widgets/controls",
          "model_name": "FloatProgressModel",
          "model_module_version": "1.5.0",
          "state": {
            "_dom_classes": [],
            "_model_module": "@jupyter-widgets/controls",
            "_model_module_version": "1.5.0",
            "_model_name": "FloatProgressModel",
            "_view_count": null,
            "_view_module": "@jupyter-widgets/controls",
            "_view_module_version": "1.5.0",
            "_view_name": "ProgressView",
            "bar_style": "success",
            "description": "",
            "description_tooltip": null,
            "layout": "IPY_MODEL_e054d64a5bad4d979e2a2308c823d3b7",
            "max": 526681800,
            "min": 0,
            "orientation": "horizontal",
            "style": "IPY_MODEL_61a58256c41645ff9f33dbc9026a9017",
            "value": 526681800
          }
        },
        "cdd051ddcdc1455682cc49798deb487e": {
          "model_module": "@jupyter-widgets/controls",
          "model_name": "HTMLModel",
          "model_module_version": "1.5.0",
          "state": {
            "_dom_classes": [],
            "_model_module": "@jupyter-widgets/controls",
            "_model_module_version": "1.5.0",
            "_model_name": "HTMLModel",
            "_view_count": null,
            "_view_module": "@jupyter-widgets/controls",
            "_view_module_version": "1.5.0",
            "_view_name": "HTMLView",
            "description": "",
            "description_tooltip": null,
            "layout": "IPY_MODEL_d3deaf3e9f364bf6a1216c212220a823",
            "placeholder": "​",
            "style": "IPY_MODEL_52ebf73e2da8416ea4a3d60a25868e31",
            "value": " 527M/527M [00:07&lt;00:00, 67.7MB/s]"
          }
        },
        "2d25982bbbb640eb8b0e3665feb8bc38": {
          "model_module": "@jupyter-widgets/base",
          "model_name": "LayoutModel",
          "model_module_version": "1.2.0",
          "state": {
            "_model_module": "@jupyter-widgets/base",
            "_model_module_version": "1.2.0",
            "_model_name": "LayoutModel",
            "_view_count": null,
            "_view_module": "@jupyter-widgets/base",
            "_view_module_version": "1.2.0",
            "_view_name": "LayoutView",
            "align_content": null,
            "align_items": null,
            "align_self": null,
            "border": null,
            "bottom": null,
            "display": null,
            "flex": null,
            "flex_flow": null,
            "grid_area": null,
            "grid_auto_columns": null,
            "grid_auto_flow": null,
            "grid_auto_rows": null,
            "grid_column": null,
            "grid_gap": null,
            "grid_row": null,
            "grid_template_areas": null,
            "grid_template_columns": null,
            "grid_template_rows": null,
            "height": null,
            "justify_content": null,
            "justify_items": null,
            "left": null,
            "margin": null,
            "max_height": null,
            "max_width": null,
            "min_height": null,
            "min_width": null,
            "object_fit": null,
            "object_position": null,
            "order": null,
            "overflow": null,
            "overflow_x": null,
            "overflow_y": null,
            "padding": null,
            "right": null,
            "top": null,
            "visibility": null,
            "width": null
          }
        },
        "06335d9453dd4220becd4f36c5949382": {
          "model_module": "@jupyter-widgets/base",
          "model_name": "LayoutModel",
          "model_module_version": "1.2.0",
          "state": {
            "_model_module": "@jupyter-widgets/base",
            "_model_module_version": "1.2.0",
            "_model_name": "LayoutModel",
            "_view_count": null,
            "_view_module": "@jupyter-widgets/base",
            "_view_module_version": "1.2.0",
            "_view_name": "LayoutView",
            "align_content": null,
            "align_items": null,
            "align_self": null,
            "border": null,
            "bottom": null,
            "display": null,
            "flex": null,
            "flex_flow": null,
            "grid_area": null,
            "grid_auto_columns": null,
            "grid_auto_flow": null,
            "grid_auto_rows": null,
            "grid_column": null,
            "grid_gap": null,
            "grid_row": null,
            "grid_template_areas": null,
            "grid_template_columns": null,
            "grid_template_rows": null,
            "height": null,
            "justify_content": null,
            "justify_items": null,
            "left": null,
            "margin": null,
            "max_height": null,
            "max_width": null,
            "min_height": null,
            "min_width": null,
            "object_fit": null,
            "object_position": null,
            "order": null,
            "overflow": null,
            "overflow_x": null,
            "overflow_y": null,
            "padding": null,
            "right": null,
            "top": null,
            "visibility": null,
            "width": null
          }
        },
        "544291dafa7a4a2cbe39d70cb4558eaa": {
          "model_module": "@jupyter-widgets/controls",
          "model_name": "DescriptionStyleModel",
          "model_module_version": "1.5.0",
          "state": {
            "_model_module": "@jupyter-widgets/controls",
            "_model_module_version": "1.5.0",
            "_model_name": "DescriptionStyleModel",
            "_view_count": null,
            "_view_module": "@jupyter-widgets/base",
            "_view_module_version": "1.2.0",
            "_view_name": "StyleView",
            "description_width": ""
          }
        },
        "e054d64a5bad4d979e2a2308c823d3b7": {
          "model_module": "@jupyter-widgets/base",
          "model_name": "LayoutModel",
          "model_module_version": "1.2.0",
          "state": {
            "_model_module": "@jupyter-widgets/base",
            "_model_module_version": "1.2.0",
            "_model_name": "LayoutModel",
            "_view_count": null,
            "_view_module": "@jupyter-widgets/base",
            "_view_module_version": "1.2.0",
            "_view_name": "LayoutView",
            "align_content": null,
            "align_items": null,
            "align_self": null,
            "border": null,
            "bottom": null,
            "display": null,
            "flex": null,
            "flex_flow": null,
            "grid_area": null,
            "grid_auto_columns": null,
            "grid_auto_flow": null,
            "grid_auto_rows": null,
            "grid_column": null,
            "grid_gap": null,
            "grid_row": null,
            "grid_template_areas": null,
            "grid_template_columns": null,
            "grid_template_rows": null,
            "height": null,
            "justify_content": null,
            "justify_items": null,
            "left": null,
            "margin": null,
            "max_height": null,
            "max_width": null,
            "min_height": null,
            "min_width": null,
            "object_fit": null,
            "object_position": null,
            "order": null,
            "overflow": null,
            "overflow_x": null,
            "overflow_y": null,
            "padding": null,
            "right": null,
            "top": null,
            "visibility": null,
            "width": null
          }
        },
        "61a58256c41645ff9f33dbc9026a9017": {
          "model_module": "@jupyter-widgets/controls",
          "model_name": "ProgressStyleModel",
          "model_module_version": "1.5.0",
          "state": {
            "_model_module": "@jupyter-widgets/controls",
            "_model_module_version": "1.5.0",
            "_model_name": "ProgressStyleModel",
            "_view_count": null,
            "_view_module": "@jupyter-widgets/base",
            "_view_module_version": "1.2.0",
            "_view_name": "StyleView",
            "bar_color": null,
            "description_width": ""
          }
        },
        "d3deaf3e9f364bf6a1216c212220a823": {
          "model_module": "@jupyter-widgets/base",
          "model_name": "LayoutModel",
          "model_module_version": "1.2.0",
          "state": {
            "_model_module": "@jupyter-widgets/base",
            "_model_module_version": "1.2.0",
            "_model_name": "LayoutModel",
            "_view_count": null,
            "_view_module": "@jupyter-widgets/base",
            "_view_module_version": "1.2.0",
            "_view_name": "LayoutView",
            "align_content": null,
            "align_items": null,
            "align_self": null,
            "border": null,
            "bottom": null,
            "display": null,
            "flex": null,
            "flex_flow": null,
            "grid_area": null,
            "grid_auto_columns": null,
            "grid_auto_flow": null,
            "grid_auto_rows": null,
            "grid_column": null,
            "grid_gap": null,
            "grid_row": null,
            "grid_template_areas": null,
            "grid_template_columns": null,
            "grid_template_rows": null,
            "height": null,
            "justify_content": null,
            "justify_items": null,
            "left": null,
            "margin": null,
            "max_height": null,
            "max_width": null,
            "min_height": null,
            "min_width": null,
            "object_fit": null,
            "object_position": null,
            "order": null,
            "overflow": null,
            "overflow_x": null,
            "overflow_y": null,
            "padding": null,
            "right": null,
            "top": null,
            "visibility": null,
            "width": null
          }
        },
        "52ebf73e2da8416ea4a3d60a25868e31": {
          "model_module": "@jupyter-widgets/controls",
          "model_name": "DescriptionStyleModel",
          "model_module_version": "1.5.0",
          "state": {
            "_model_module": "@jupyter-widgets/controls",
            "_model_module_version": "1.5.0",
            "_model_name": "DescriptionStyleModel",
            "_view_count": null,
            "_view_module": "@jupyter-widgets/base",
            "_view_module_version": "1.2.0",
            "_view_name": "StyleView",
            "description_width": ""
          }
        }
      }
    }
  },
  "cells": [
    {
      "cell_type": "markdown",
      "metadata": {
        "id": "view-in-github",
        "colab_type": "text"
      },
      "source": [
        "<a href=\"https://colab.research.google.com/github/nahbos/AUT-Language-Understanding/blob/main/Ex02/bert_slot_intent.ipynb\" target=\"_parent\"><img src=\"https://colab.research.google.com/assets/colab-badge.svg\" alt=\"Open In Colab\"/></a>"
      ]
    },
    {
      "cell_type": "markdown",
      "source": [
        "# Sobhan Moradian Daghigh\n",
        "### **Ex 02: Slot Filling & Intent detection**"
      ],
      "metadata": {
        "id": "7knvZNdexVF1"
      }
    },
    {
      "cell_type": "code",
      "source": [
        "# Copyright @Steven Golovkine: available at [https://stevengolovkine.netlify.app/post/joint-intent-classification-slot-filling-with-transformers/]\n",
        "# Replicated by @SobhanMoradianDaghigh on 12-8-2022"
      ],
      "metadata": {
        "id": "xw7iVLxSDDK1"
      },
      "execution_count": 1,
      "outputs": []
    },
    {
      "cell_type": "code",
      "source": [
        "!pip install transformers==2.11.0"
      ],
      "metadata": {
        "colab": {
          "base_uri": "https://localhost:8080/"
        },
        "id": "QrbLIW6HC_gd",
        "outputId": "86135d98-6130-4e63-9e56-9520553c06ab"
      },
      "execution_count": 2,
      "outputs": [
        {
          "output_type": "stream",
          "name": "stdout",
          "text": [
            "Looking in indexes: https://pypi.org/simple, https://us-python.pkg.dev/colab-wheels/public/simple/\n",
            "Requirement already satisfied: transformers==2.11.0 in /usr/local/lib/python3.8/dist-packages (2.11.0)\n",
            "Requirement already satisfied: sacremoses in /usr/local/lib/python3.8/dist-packages (from transformers==2.11.0) (0.0.53)\n",
            "Requirement already satisfied: filelock in /usr/local/lib/python3.8/dist-packages (from transformers==2.11.0) (3.8.0)\n",
            "Requirement already satisfied: tokenizers==0.7.0 in /usr/local/lib/python3.8/dist-packages (from transformers==2.11.0) (0.7.0)\n",
            "Requirement already satisfied: requests in /usr/local/lib/python3.8/dist-packages (from transformers==2.11.0) (2.23.0)\n",
            "Requirement already satisfied: packaging in /usr/local/lib/python3.8/dist-packages (from transformers==2.11.0) (21.3)\n",
            "Requirement already satisfied: regex!=2019.12.17 in /usr/local/lib/python3.8/dist-packages (from transformers==2.11.0) (2022.6.2)\n",
            "Requirement already satisfied: tqdm>=4.27 in /usr/local/lib/python3.8/dist-packages (from transformers==2.11.0) (4.64.1)\n",
            "Requirement already satisfied: sentencepiece in /usr/local/lib/python3.8/dist-packages (from transformers==2.11.0) (0.1.97)\n",
            "Requirement already satisfied: numpy in /usr/local/lib/python3.8/dist-packages (from transformers==2.11.0) (1.21.6)\n",
            "Requirement already satisfied: pyparsing!=3.0.5,>=2.0.2 in /usr/local/lib/python3.8/dist-packages (from packaging->transformers==2.11.0) (3.0.9)\n",
            "Requirement already satisfied: urllib3!=1.25.0,!=1.25.1,<1.26,>=1.21.1 in /usr/local/lib/python3.8/dist-packages (from requests->transformers==2.11.0) (1.24.3)\n",
            "Requirement already satisfied: certifi>=2017.4.17 in /usr/local/lib/python3.8/dist-packages (from requests->transformers==2.11.0) (2022.9.24)\n",
            "Requirement already satisfied: idna<3,>=2.5 in /usr/local/lib/python3.8/dist-packages (from requests->transformers==2.11.0) (2.10)\n",
            "Requirement already satisfied: chardet<4,>=3.0.2 in /usr/local/lib/python3.8/dist-packages (from requests->transformers==2.11.0) (3.0.4)\n",
            "Requirement already satisfied: joblib in /usr/local/lib/python3.8/dist-packages (from sacremoses->transformers==2.11.0) (1.2.0)\n",
            "Requirement already satisfied: six in /usr/local/lib/python3.8/dist-packages (from sacremoses->transformers==2.11.0) (1.15.0)\n",
            "Requirement already satisfied: click in /usr/local/lib/python3.8/dist-packages (from sacremoses->transformers==2.11.0) (7.1.2)\n"
          ]
        }
      ]
    },
    {
      "cell_type": "code",
      "execution_count": 3,
      "metadata": {
        "id": "z_UalGsWrry_"
      },
      "outputs": [],
      "source": [
        "# Load packages\n",
        "import numpy as np\n",
        "import pandas as pd\n",
        "import matplotlib.pyplot as plt\n",
        "from tqdm import tqdm\n",
        "\n",
        "from pathlib import Path\n",
        "from transformers import BertTokenizer, TFBertModel\n",
        "from urllib.request import urlretrieve\n",
        "\n",
        "import tensorflow as tf\n",
        "from tensorflow.keras.layers import Dense, Dropout\n",
        "from tensorflow.keras.losses import SparseCategoricalCrossentropy\n",
        "from tensorflow.keras.metrics import SparseCategoricalAccuracy\n",
        "from tensorflow.keras.optimizers import Adam"
      ]
    },
    {
      "cell_type": "code",
      "source": [
        "!wget -nc https://raw.githubusercontent.com/nahbos/AUT-Language-Understanding/main/Ex02/dataset/development-en.conllu\n",
        "!wget -nc https://raw.githubusercontent.com/nahbos/AUT-Language-Understanding/main/Ex02/dataset/test-en.conllu\n",
        "!wget -nc https://raw.githubusercontent.com/nahbos/AUT-Language-Understanding/main/Ex02/dataset/train-en.conllu"
      ],
      "metadata": {
        "colab": {
          "base_uri": "https://localhost:8080/"
        },
        "id": "7VffDuJQx3L5",
        "outputId": "7f141ae1-ba1b-449f-b0a6-f37dfa437631"
      },
      "execution_count": 4,
      "outputs": [
        {
          "output_type": "stream",
          "name": "stdout",
          "text": [
            "File ‘development-en.conllu’ already there; not retrieving.\n",
            "\n",
            "File ‘test-en.conllu’ already there; not retrieving.\n",
            "\n",
            "File ‘train-en.conllu’ already there; not retrieving.\n",
            "\n"
          ]
        }
      ]
    },
    {
      "cell_type": "code",
      "source": [],
      "metadata": {
        "id": "4HGDYAGEx3JY"
      },
      "execution_count": 4,
      "outputs": []
    },
    {
      "cell_type": "markdown",
      "source": [
        "## Preparing data"
      ],
      "metadata": {
        "id": "XRL9tQlJm-GD"
      }
    },
    {
      "cell_type": "code",
      "source": [
        "def data_preparing(dataset_path):\n",
        "    prepared = []\n",
        "    intents = []\n",
        "    slots = []\n",
        "    data_list = set(Path(dataset_path).read_text('utf-8').strip().split('\\n\\n'))\n",
        "    for data in data_list:\n",
        "        data_dic = ''\n",
        "        for line in data.split('\\n')[3:]:\n",
        "            bio = line.split('\\t')[-1]    # BIO\n",
        "            bio = bio if bio != 'NoLabel' else 'O'\n",
        "            tokens = line.split('\\t')[1]  # tokens\n",
        "            intent = data.split('\\n')[1].split(':')[1].strip()  # intent\n",
        "            data_dic += (tokens + \":\" + bio + ' ')\n",
        "            intents.append(intent)\n",
        "            slots.append(bio)\n",
        "        data_dic += '<=> ' + intent\n",
        "        prepared.append(data_dic)\n",
        "    return prepared, intents, slots"
      ],
      "metadata": {
        "id": "2JIaagHux3Bj"
      },
      "execution_count": 5,
      "outputs": []
    },
    {
      "cell_type": "code",
      "source": [
        "train, intent_names_train, slots_train = data_preparing('./train-en.conllu')\n",
        "val, intent_names_val, slots_val       = data_preparing('./development-en.conllu')\n",
        "test, intent_names_test, slots_test    = data_preparing('./test-en.conllu')"
      ],
      "metadata": {
        "id": "FfnATgp9YtYf"
      },
      "execution_count": 6,
      "outputs": []
    },
    {
      "cell_type": "code",
      "source": [
        "train[:10]"
      ],
      "metadata": {
        "colab": {
          "base_uri": "https://localhost:8080/"
        },
        "id": "CH9V0CxrcFrR",
        "outputId": "6280ac4a-84f2-4b37-a85b-22afe9c9658b"
      },
      "execution_count": 7,
      "outputs": [
        {
          "output_type": "execute_result",
          "data": {
            "text/plain": [
              "['remind:O me:O for:O church:B-reminder/todo sunday:B-datetime <=> reminder/set_reminder',\n",
              " 'what:O is:O the:O temperature:B-weather/noun going:O to:O be:O in:O london:B-location tonight:B-datetime <=> weather/find',\n",
              " 'set:O my:O alarm:O for:B-datetime 30:I-datetime minutes:I-datetime .:O <=> alarm/set_alarm',\n",
              " 'set:O alarm:O for:B-datetime 12:I-datetime pm:I-datetime midnight:I-datetime <=> alarm/set_alarm',\n",
              " 'remind:O me:O that:O the:O game:B-reminder/todo is:I-reminder/todo on:I-reminder/todo at:B-datetime 7:I-datetime <=> reminder/set_reminder',\n",
              " 'is:O it:O a:O good:O weather:B-weather/noun day:O to:O go:O to:O the:O pool:O ?:O <=> weather/find',\n",
              " \"don't:O remind:O me:O to:O clean:B-reminder/todo the:I-reminder/todo bathroom:I-reminder/todo <=> reminder/cancel_reminder\",\n",
              " 'what:O time:O does:O the:O sun:O rise:O tomorrow:B-datetime morning:I-datetime <=> weather/checkSunrise',\n",
              " 'remind:O to:O buy:B-reminder/todo diapers:I-reminder/todo today:B-datetime <=> reminder/set_reminder',\n",
              " 'anything:O left:O on:O the:O reminder:B-reminder/noun ?:O <=> reminder/show_reminders']"
            ]
          },
          "metadata": {},
          "execution_count": 7
        }
      ]
    },
    {
      "cell_type": "code",
      "source": [
        "intent_names = list(set(intent_names_train + intent_names_val + intent_names_test))\n",
        "slots = list(set(slots_train + slots_val + slots_test))"
      ],
      "metadata": {
        "id": "tOIQkwCpdX4N"
      },
      "execution_count": 8,
      "outputs": []
    },
    {
      "cell_type": "code",
      "source": [],
      "metadata": {
        "id": "cT9Y0KhUqi6C"
      },
      "execution_count": 8,
      "outputs": []
    },
    {
      "cell_type": "code",
      "source": [
        "def parse_line(line):\n",
        "    utterance_data, intent_label = line.split(\" <=> \")\n",
        "    items = utterance_data.split()\n",
        "    words = [item.rsplit(':', 1)[0] for item in items]\n",
        "    word_labels = [item.rsplit(':', 1)[1] for item in items]\n",
        "    return {\n",
        "        'intent_label': intent_label,\n",
        "        'words': \" \".join(words),\n",
        "        'words_label': \" \".join(word_labels),\n",
        "        'length': len(words)\n",
        "    }"
      ],
      "metadata": {
        "id": "In7hpA8fdX1K"
      },
      "execution_count": 9,
      "outputs": []
    },
    {
      "cell_type": "code",
      "source": [
        "parse_line(train[0])"
      ],
      "metadata": {
        "colab": {
          "base_uri": "https://localhost:8080/"
        },
        "id": "HidLAwL3dXxw",
        "outputId": "1a2a11e5-cf74-4254-8bff-16495f462d16"
      },
      "execution_count": 10,
      "outputs": [
        {
          "output_type": "execute_result",
          "data": {
            "text/plain": [
              "{'intent_label': 'reminder/set_reminder',\n",
              " 'words': 'remind me for church sunday',\n",
              " 'words_label': 'O O O B-reminder/todo B-datetime',\n",
              " 'length': 5}"
            ]
          },
          "metadata": {},
          "execution_count": 10
        }
      ]
    },
    {
      "cell_type": "code",
      "source": [],
      "metadata": {
        "id": "0nwLbiFIx2rL"
      },
      "execution_count": 10,
      "outputs": []
    },
    {
      "cell_type": "code",
      "source": [
        "df_train = pd.DataFrame([parse_line(line) for line in train])\n",
        "df_validation = pd.DataFrame([parse_line(line) for line in val])\n",
        "df_test = pd.DataFrame([parse_line(line) for line in test])"
      ],
      "metadata": {
        "id": "2jVxDDulx2oN"
      },
      "execution_count": 11,
      "outputs": []
    },
    {
      "cell_type": "code",
      "source": [
        "df_train.head()"
      ],
      "metadata": {
        "colab": {
          "base_uri": "https://localhost:8080/",
          "height": 206
        },
        "id": "E0oc_fn1x2lW",
        "outputId": "d1358c1c-8231-4348-a633-90a822f79efd"
      },
      "execution_count": 12,
      "outputs": [
        {
          "output_type": "execute_result",
          "data": {
            "text/plain": [
              "            intent_label                                              words  \\\n",
              "0  reminder/set_reminder                        remind me for church sunday   \n",
              "1           weather/find  what is the temperature going to be in london ...   \n",
              "2        alarm/set_alarm                      set my alarm for 30 minutes .   \n",
              "3        alarm/set_alarm                       set alarm for 12 pm midnight   \n",
              "4  reminder/set_reminder                 remind me that the game is on at 7   \n",
              "\n",
              "                                         words_label  length  \n",
              "0                   O O O B-reminder/todo B-datetime       5  \n",
              "1  O O O B-weather/noun O O O O B-location B-date...      10  \n",
              "2           O O O B-datetime I-datetime I-datetime O       7  \n",
              "3    O O B-datetime I-datetime I-datetime I-datetime       6  \n",
              "4  O O O O B-reminder/todo I-reminder/todo I-remi...       9  "
            ],
            "text/html": [
              "\n",
              "  <div id=\"df-ad48d628-e540-4bf2-bce3-38a1e6d64964\">\n",
              "    <div class=\"colab-df-container\">\n",
              "      <div>\n",
              "<style scoped>\n",
              "    .dataframe tbody tr th:only-of-type {\n",
              "        vertical-align: middle;\n",
              "    }\n",
              "\n",
              "    .dataframe tbody tr th {\n",
              "        vertical-align: top;\n",
              "    }\n",
              "\n",
              "    .dataframe thead th {\n",
              "        text-align: right;\n",
              "    }\n",
              "</style>\n",
              "<table border=\"1\" class=\"dataframe\">\n",
              "  <thead>\n",
              "    <tr style=\"text-align: right;\">\n",
              "      <th></th>\n",
              "      <th>intent_label</th>\n",
              "      <th>words</th>\n",
              "      <th>words_label</th>\n",
              "      <th>length</th>\n",
              "    </tr>\n",
              "  </thead>\n",
              "  <tbody>\n",
              "    <tr>\n",
              "      <th>0</th>\n",
              "      <td>reminder/set_reminder</td>\n",
              "      <td>remind me for church sunday</td>\n",
              "      <td>O O O B-reminder/todo B-datetime</td>\n",
              "      <td>5</td>\n",
              "    </tr>\n",
              "    <tr>\n",
              "      <th>1</th>\n",
              "      <td>weather/find</td>\n",
              "      <td>what is the temperature going to be in london ...</td>\n",
              "      <td>O O O B-weather/noun O O O O B-location B-date...</td>\n",
              "      <td>10</td>\n",
              "    </tr>\n",
              "    <tr>\n",
              "      <th>2</th>\n",
              "      <td>alarm/set_alarm</td>\n",
              "      <td>set my alarm for 30 minutes .</td>\n",
              "      <td>O O O B-datetime I-datetime I-datetime O</td>\n",
              "      <td>7</td>\n",
              "    </tr>\n",
              "    <tr>\n",
              "      <th>3</th>\n",
              "      <td>alarm/set_alarm</td>\n",
              "      <td>set alarm for 12 pm midnight</td>\n",
              "      <td>O O B-datetime I-datetime I-datetime I-datetime</td>\n",
              "      <td>6</td>\n",
              "    </tr>\n",
              "    <tr>\n",
              "      <th>4</th>\n",
              "      <td>reminder/set_reminder</td>\n",
              "      <td>remind me that the game is on at 7</td>\n",
              "      <td>O O O O B-reminder/todo I-reminder/todo I-remi...</td>\n",
              "      <td>9</td>\n",
              "    </tr>\n",
              "  </tbody>\n",
              "</table>\n",
              "</div>\n",
              "      <button class=\"colab-df-convert\" onclick=\"convertToInteractive('df-ad48d628-e540-4bf2-bce3-38a1e6d64964')\"\n",
              "              title=\"Convert this dataframe to an interactive table.\"\n",
              "              style=\"display:none;\">\n",
              "        \n",
              "  <svg xmlns=\"http://www.w3.org/2000/svg\" height=\"24px\"viewBox=\"0 0 24 24\"\n",
              "       width=\"24px\">\n",
              "    <path d=\"M0 0h24v24H0V0z\" fill=\"none\"/>\n",
              "    <path d=\"M18.56 5.44l.94 2.06.94-2.06 2.06-.94-2.06-.94-.94-2.06-.94 2.06-2.06.94zm-11 1L8.5 8.5l.94-2.06 2.06-.94-2.06-.94L8.5 2.5l-.94 2.06-2.06.94zm10 10l.94 2.06.94-2.06 2.06-.94-2.06-.94-.94-2.06-.94 2.06-2.06.94z\"/><path d=\"M17.41 7.96l-1.37-1.37c-.4-.4-.92-.59-1.43-.59-.52 0-1.04.2-1.43.59L10.3 9.45l-7.72 7.72c-.78.78-.78 2.05 0 2.83L4 21.41c.39.39.9.59 1.41.59.51 0 1.02-.2 1.41-.59l7.78-7.78 2.81-2.81c.8-.78.8-2.07 0-2.86zM5.41 20L4 18.59l7.72-7.72 1.47 1.35L5.41 20z\"/>\n",
              "  </svg>\n",
              "      </button>\n",
              "      \n",
              "  <style>\n",
              "    .colab-df-container {\n",
              "      display:flex;\n",
              "      flex-wrap:wrap;\n",
              "      gap: 12px;\n",
              "    }\n",
              "\n",
              "    .colab-df-convert {\n",
              "      background-color: #E8F0FE;\n",
              "      border: none;\n",
              "      border-radius: 50%;\n",
              "      cursor: pointer;\n",
              "      display: none;\n",
              "      fill: #1967D2;\n",
              "      height: 32px;\n",
              "      padding: 0 0 0 0;\n",
              "      width: 32px;\n",
              "    }\n",
              "\n",
              "    .colab-df-convert:hover {\n",
              "      background-color: #E2EBFA;\n",
              "      box-shadow: 0px 1px 2px rgba(60, 64, 67, 0.3), 0px 1px 3px 1px rgba(60, 64, 67, 0.15);\n",
              "      fill: #174EA6;\n",
              "    }\n",
              "\n",
              "    [theme=dark] .colab-df-convert {\n",
              "      background-color: #3B4455;\n",
              "      fill: #D2E3FC;\n",
              "    }\n",
              "\n",
              "    [theme=dark] .colab-df-convert:hover {\n",
              "      background-color: #434B5C;\n",
              "      box-shadow: 0px 1px 3px 1px rgba(0, 0, 0, 0.15);\n",
              "      filter: drop-shadow(0px 1px 2px rgba(0, 0, 0, 0.3));\n",
              "      fill: #FFFFFF;\n",
              "    }\n",
              "  </style>\n",
              "\n",
              "      <script>\n",
              "        const buttonEl =\n",
              "          document.querySelector('#df-ad48d628-e540-4bf2-bce3-38a1e6d64964 button.colab-df-convert');\n",
              "        buttonEl.style.display =\n",
              "          google.colab.kernel.accessAllowed ? 'block' : 'none';\n",
              "\n",
              "        async function convertToInteractive(key) {\n",
              "          const element = document.querySelector('#df-ad48d628-e540-4bf2-bce3-38a1e6d64964');\n",
              "          const dataTable =\n",
              "            await google.colab.kernel.invokeFunction('convertToInteractive',\n",
              "                                                     [key], {});\n",
              "          if (!dataTable) return;\n",
              "\n",
              "          const docLinkHtml = 'Like what you see? Visit the ' +\n",
              "            '<a target=\"_blank\" href=https://colab.research.google.com/notebooks/data_table.ipynb>data table notebook</a>'\n",
              "            + ' to learn more about interactive tables.';\n",
              "          element.innerHTML = '';\n",
              "          dataTable['output_type'] = 'display_data';\n",
              "          await google.colab.output.renderOutput(dataTable, element);\n",
              "          const docLink = document.createElement('div');\n",
              "          docLink.innerHTML = docLinkHtml;\n",
              "          element.appendChild(docLink);\n",
              "        }\n",
              "      </script>\n",
              "    </div>\n",
              "  </div>\n",
              "  "
            ]
          },
          "metadata": {},
          "execution_count": 12
        }
      ]
    },
    {
      "cell_type": "code",
      "source": [],
      "metadata": {
        "id": "wy9wd1ntx2id"
      },
      "execution_count": 12,
      "outputs": []
    },
    {
      "cell_type": "markdown",
      "source": [
        "## Intent classification (sentence level)"
      ],
      "metadata": {
        "id": "qGDhCGvDm0OS"
      }
    },
    {
      "cell_type": "code",
      "source": [
        "model_name = 'bert-base-cased'\n",
        "tokenizer = BertTokenizer.from_pretrained(model_name)"
      ],
      "metadata": {
        "id": "AkrLu4jUx2fW"
      },
      "execution_count": 66,
      "outputs": []
    },
    {
      "cell_type": "code",
      "source": [
        "tokenizer.vocab_size"
      ],
      "metadata": {
        "colab": {
          "base_uri": "https://localhost:8080/"
        },
        "id": "y4XvkmCGx2V-",
        "outputId": "0a37b269-5b23-417b-9704-4d849fad079e"
      },
      "execution_count": 67,
      "outputs": [
        {
          "output_type": "execute_result",
          "data": {
            "text/plain": [
              "28996"
            ]
          },
          "metadata": {},
          "execution_count": 67
        }
      ]
    },
    {
      "cell_type": "code",
      "source": [
        "train_sequence_max_length = max([len(tokenizer.encode(text)) for text in df_train['words']])\n",
        "train_sequence_max_length"
      ],
      "metadata": {
        "colab": {
          "base_uri": "https://localhost:8080/"
        },
        "id": "9BDojPT9oqxA",
        "outputId": "fad5a990-c729-44d7-8525-96d12f006ba9"
      },
      "execution_count": 68,
      "outputs": [
        {
          "output_type": "execute_result",
          "data": {
            "text/plain": [
              "34"
            ]
          },
          "metadata": {},
          "execution_count": 68
        }
      ]
    },
    {
      "cell_type": "code",
      "source": [
        "def encode_dataset(tokenizer, text_sequences, max_length):\n",
        "    token_ids = np.zeros(shape=(len(text_sequences), max_length), dtype=np.int32)\n",
        "    for i, text_sequence in enumerate(text_sequences):\n",
        "        encoded = tokenizer.encode(text_sequence)\n",
        "        token_ids[i, 0:len(encoded)] = encoded\n",
        "    attention_masks = (token_ids != 0).astype(np.int32)\n",
        "    \n",
        "    return {'input_ids': token_ids, 'attention_masks': attention_masks}"
      ],
      "metadata": {
        "id": "-ufz0GHVoqua"
      },
      "execution_count": 16,
      "outputs": []
    },
    {
      "cell_type": "code",
      "source": [
        "encoded_train      = encode_dataset(tokenizer, df_train['words'], train_sequence_max_length)\n",
        "encoded_validation = encode_dataset(tokenizer, df_validation['words'], train_sequence_max_length)\n",
        "encoded_test       = encode_dataset(tokenizer, df_test['words'], train_sequence_max_length)"
      ],
      "metadata": {
        "id": "udyOfUADx2P4"
      },
      "execution_count": 17,
      "outputs": []
    },
    {
      "cell_type": "code",
      "source": [],
      "metadata": {
        "id": "zaDmpXc8x2Ms"
      },
      "execution_count": 17,
      "outputs": []
    },
    {
      "cell_type": "code",
      "source": [
        "intent_map = dict((label, idx) for idx, label in enumerate(intent_names))"
      ],
      "metadata": {
        "id": "YUOWWcckx2JW"
      },
      "execution_count": 18,
      "outputs": []
    },
    {
      "cell_type": "code",
      "source": [
        "intent_map"
      ],
      "metadata": {
        "colab": {
          "base_uri": "https://localhost:8080/"
        },
        "id": "ui7mojBOtzF1",
        "outputId": "9e437fbb-a69d-44ce-f5a8-55f980e4b1f4"
      },
      "execution_count": 19,
      "outputs": [
        {
          "output_type": "execute_result",
          "data": {
            "text/plain": [
              "{'weather/find': 0,\n",
              " 'weather/checkSunset': 1,\n",
              " 'reminder/cancel_reminder': 2,\n",
              " 'alarm/snooze_alarm': 3,\n",
              " 'alarm/modify_alarm': 4,\n",
              " 'alarm/show_alarms': 5,\n",
              " 'alarm/cancel_alarm': 6,\n",
              " 'alarm/set_alarm': 7,\n",
              " 'alarm/time_left_on_alarm': 8,\n",
              " 'reminder/show_reminders': 9,\n",
              " 'reminder/set_reminder': 10,\n",
              " 'weather/checkSunrise': 11}"
            ]
          },
          "metadata": {},
          "execution_count": 19
        }
      ]
    },
    {
      "cell_type": "code",
      "source": [
        "intent_train = df_train['intent_label'].map(intent_map).values\n",
        "intent_validation = df_validation['intent_label'].map(intent_map).values\n",
        "intent_test = df_test['intent_label'].map(intent_map).values"
      ],
      "metadata": {
        "id": "813NNUQNx2GN"
      },
      "execution_count": 20,
      "outputs": []
    },
    {
      "cell_type": "code",
      "source": [],
      "metadata": {
        "id": "_tDMqMIxx2C2"
      },
      "execution_count": 20,
      "outputs": []
    },
    {
      "cell_type": "markdown",
      "source": [
        "**Loading and feeding a pretrained BERT model**"
      ],
      "metadata": {
        "id": "vwvzsZHcq5aa"
      }
    },
    {
      "cell_type": "code",
      "source": [
        "base_bert_model = TFBertModel.from_pretrained('bert-base-cased')\n",
        "base_bert_model.summary()"
      ],
      "metadata": {
        "id": "VWtfCgNVx1_u",
        "colab": {
          "base_uri": "https://localhost:8080/",
          "height": 272,
          "referenced_widgets": [
            "d14713e75f634e079fb731cb1856bfcf",
            "bc40c3fc529c4e0fa709dd30279388d1",
            "87cce2938b9c41f48420cf99b55f2b50",
            "44bac134351e4d9ab1f6f5911fea2178",
            "c1d81367bd4147dd82acdee78d6ad77a",
            "13cf8a7964b2424d8ceedfb73aed0179",
            "8dc4744a50bc4a44b9d771148cf242f4",
            "213c1ee088f740a7bb8e9f679bd9eb7e",
            "b8c951de306d42fea3c743f25e2cf1f8",
            "30892923d0a447c4a506007047146d38",
            "1cab2adbc7a3498799147fd3bf37f817",
            "e46da855d79d4d608a3d3c3f481f02aa",
            "7a167d05671645329089bab0cc38ca42",
            "a5e3932b8bdb43a889fc6a622af9d364",
            "cdd051ddcdc1455682cc49798deb487e",
            "2d25982bbbb640eb8b0e3665feb8bc38",
            "06335d9453dd4220becd4f36c5949382",
            "544291dafa7a4a2cbe39d70cb4558eaa",
            "e054d64a5bad4d979e2a2308c823d3b7",
            "61a58256c41645ff9f33dbc9026a9017",
            "d3deaf3e9f364bf6a1216c212220a823",
            "52ebf73e2da8416ea4a3d60a25868e31"
          ]
        },
        "outputId": "46ce26e2-af46-4764-dc6b-f10a5ee41886"
      },
      "execution_count": 21,
      "outputs": [
        {
          "output_type": "display_data",
          "data": {
            "text/plain": [
              "Downloading:   0%|          | 0.00/433 [00:00<?, ?B/s]"
            ],
            "application/vnd.jupyter.widget-view+json": {
              "version_major": 2,
              "version_minor": 0,
              "model_id": "d14713e75f634e079fb731cb1856bfcf"
            }
          },
          "metadata": {}
        },
        {
          "output_type": "display_data",
          "data": {
            "text/plain": [
              "Downloading:   0%|          | 0.00/527M [00:00<?, ?B/s]"
            ],
            "application/vnd.jupyter.widget-view+json": {
              "version_major": 2,
              "version_minor": 0,
              "model_id": "e46da855d79d4d608a3d3c3f481f02aa"
            }
          },
          "metadata": {}
        },
        {
          "output_type": "stream",
          "name": "stdout",
          "text": [
            "Model: \"tf_bert_model\"\n",
            "_________________________________________________________________\n",
            " Layer (type)                Output Shape              Param #   \n",
            "=================================================================\n",
            " bert (TFBertMainLayer)      multiple                  108310272 \n",
            "                                                                 \n",
            "=================================================================\n",
            "Total params: 108,310,272\n",
            "Trainable params: 108,310,272\n",
            "Non-trainable params: 0\n",
            "_________________________________________________________________\n"
          ]
        }
      ]
    },
    {
      "cell_type": "code",
      "source": [],
      "metadata": {
        "id": "M9M0q0lXreDR"
      },
      "execution_count": 21,
      "outputs": []
    },
    {
      "cell_type": "code",
      "source": [
        "class IntentClassificationModel(tf.keras.Model):\n",
        "    def __init__(self, intent_num_labels=None, model_name='bert-base-cased', dropout_prob=0.1):\n",
        "        super().__init__(name='joint_intent_slot')\n",
        "        # Let's preload the pretrained model BERT in the constructor of our classifier model.\n",
        "        self.bert = TFBertModel.from_pretrained(model_name)\n",
        "        self.dropout = Dropout(dropout_prob)\n",
        "        \n",
        "        # Define a (Dense) classification layer to compute for each\n",
        "        # sequence in a batch of samples. The number of output classes\n",
        "        # is given by the intent_num_labels parameter.\n",
        "        # Use the default linear activation (no softmax) to compute\n",
        "        # logits. The softmax normalization will be computed in the\n",
        "        # loss function instead of the model itself.\n",
        "        self.intent_classifier = Dense(intent_num_labels)\n",
        "        \n",
        "    def call(self, inputs, **kwargs):\n",
        "        # Use the pretrained model to extract features from our encoded inputs.\n",
        "        sequence_output, pooled_output = self.bert(inputs, **kwargs)\n",
        "        \n",
        "        # The second output of the main BERT layer has shape:\n",
        "        # (batch_size, output_dim) and gives a \"pooled\" representation\n",
        "        # for the full sequence from the hidden state that corresponds\n",
        "        # to the \"[CLS]\" token.\n",
        "        pooled_output = self.dropout(pooled_output, training=kwargs.get('training', False))\n",
        "        \n",
        "        # Use the classifier layer to compute the logits from the pooled features.\n",
        "        intent_logits = self.intent_classifier(pooled_output)\n",
        "        return intent_logits"
      ],
      "metadata": {
        "id": "jjpVAkUDx18L"
      },
      "execution_count": 22,
      "outputs": []
    },
    {
      "cell_type": "code",
      "source": [
        "# Build the model\n",
        "intent_model = IntentClassificationModel(intent_num_labels=len(intent_map))\n",
        "\n",
        "intent_model.compile(optimizer=Adam(learning_rate=3e-5, epsilon=1e-08),\n",
        "                     loss=SparseCategoricalCrossentropy(from_logits=True),\n",
        "                     metrics=[SparseCategoricalAccuracy('accuracy')])"
      ],
      "metadata": {
        "id": "xA7iMPr8x15E"
      },
      "execution_count": 23,
      "outputs": []
    },
    {
      "cell_type": "code",
      "source": [
        "# Train the model\n",
        "history = intent_model.fit(encoded_train, intent_train,\n",
        "                           epochs=2, batch_size=32,\n",
        "                           validation_data=(encoded_validation, intent_validation))"
      ],
      "metadata": {
        "id": "cVNkM5SHx11s",
        "colab": {
          "base_uri": "https://localhost:8080/"
        },
        "outputId": "a2e1c685-0d9f-4a96-bbcf-f2473ddde455"
      },
      "execution_count": 24,
      "outputs": [
        {
          "output_type": "stream",
          "name": "stdout",
          "text": [
            "Epoch 1/2\n",
            "768/768 [==============================] - 220s 265ms/step - loss: 0.1564 - accuracy: 0.9574 - val_loss: 0.0379 - val_accuracy: 0.9900\n",
            "Epoch 2/2\n",
            "768/768 [==============================] - 205s 267ms/step - loss: 0.0447 - accuracy: 0.9878 - val_loss: 0.0414 - val_accuracy: 0.9887\n"
          ]
        }
      ]
    },
    {
      "cell_type": "code",
      "source": [],
      "metadata": {
        "id": "fbe8UGhVXyI5"
      },
      "execution_count": 24,
      "outputs": []
    },
    {
      "cell_type": "code",
      "source": [
        "def classify(text, tokenizerzer, model, intent_names):\n",
        "    inputs = tf.constant(tokenizer.encode(text))[None, :] # Batch size = 1\n",
        "    class_id = model(inputs).numpy().argmax(axis=1)[0]\n",
        "    return intent_names[class_id]"
      ],
      "metadata": {
        "id": "C5gtyMyex1yT"
      },
      "execution_count": 25,
      "outputs": []
    },
    {
      "cell_type": "code",
      "source": [
        "classify('Wake me up for the first job meeting?', tokenizer, intent_model, intent_names)"
      ],
      "metadata": {
        "id": "9IrCgmKVx1vD",
        "colab": {
          "base_uri": "https://localhost:8080/",
          "height": 35
        },
        "outputId": "b07cadf1-5286-4e5e-f614-7e6cba26b897"
      },
      "execution_count": 26,
      "outputs": [
        {
          "output_type": "execute_result",
          "data": {
            "text/plain": [
              "'alarm/set_alarm'"
            ],
            "application/vnd.google.colaboratory.intrinsic+json": {
              "type": "string"
            }
          },
          "metadata": {},
          "execution_count": 26
        }
      ]
    },
    {
      "cell_type": "markdown",
      "source": [
        "**WOW))**"
      ],
      "metadata": {
        "id": "Ph5PLeulYSAY"
      }
    },
    {
      "cell_type": "markdown",
      "source": [
        "## Adding Slot filling (word level) to Intent clf model"
      ],
      "metadata": {
        "id": "jJVMJO6vYZzY"
      }
    },
    {
      "cell_type": "code",
      "source": [
        "slot_names = [\"[PAD]\"]\n",
        "slot_names += list(slots)\n",
        "slot_map = {}\n",
        "for label in slot_names:\n",
        "    slot_map[label] = len(slot_map)"
      ],
      "metadata": {
        "id": "inE9TAiVx1rr"
      },
      "execution_count": 27,
      "outputs": []
    },
    {
      "cell_type": "code",
      "source": [
        "slot_map"
      ],
      "metadata": {
        "colab": {
          "base_uri": "https://localhost:8080/"
        },
        "id": "doxCTr0yx1h8",
        "outputId": "0875b9e7-a5a6-4100-a4e0-a06e2cc13289"
      },
      "execution_count": 28,
      "outputs": [
        {
          "output_type": "execute_result",
          "data": {
            "text/plain": [
              "{'[PAD]': 0,\n",
              " 'I-location': 1,\n",
              " 'B-demonstrative_reference': 2,\n",
              " 'I-weather/noun': 3,\n",
              " 'I-alarm/alarm_modifier': 4,\n",
              " 'B-location': 5,\n",
              " 'B-reminder/reference': 6,\n",
              " 'B-reminder/reminder_modifier': 7,\n",
              " 'I-datetime': 8,\n",
              " 'I-reminder/todo': 9,\n",
              " 'I-reminder/reference': 10,\n",
              " 'B-reminder/recurring_period': 11,\n",
              " 'B-alarm/alarm_modifier': 12,\n",
              " 'B-news/type': 13,\n",
              " 'B-timer/noun': 14,\n",
              " 'B-negation': 15,\n",
              " 'I-demonstrative_reference': 16,\n",
              " 'B-datetime': 17,\n",
              " 'I-reminder/reminder_modifier': 18,\n",
              " 'B-reminder/todo': 19,\n",
              " 'B-weather/temperatureUnit': 20,\n",
              " 'I-weather/attribute': 21,\n",
              " 'O': 22,\n",
              " 'B-timer/attributes': 23,\n",
              " 'B-reminder/noun': 24,\n",
              " 'B-weather/noun': 25,\n",
              " 'B-weather/attribute': 26,\n",
              " 'I-reminder/noun': 27,\n",
              " 'I-reminder/recurring_period': 28}"
            ]
          },
          "metadata": {},
          "execution_count": 28
        }
      ]
    },
    {
      "cell_type": "code",
      "source": [
        "len(df_train['words'])"
      ],
      "metadata": {
        "colab": {
          "base_uri": "https://localhost:8080/"
        },
        "id": "pHI3kMXNnpWg",
        "outputId": "523b4655-5e43-4931-e156-41b924b77445"
      },
      "execution_count": 54,
      "outputs": [
        {
          "output_type": "execute_result",
          "data": {
            "text/plain": [
              "24560"
            ]
          },
          "metadata": {},
          "execution_count": 54
        }
      ]
    },
    {
      "cell_type": "code",
      "source": [
        "def encode_token_labels(text_sequences, slot_names, tokenizer, slot_map, max_length):\n",
        "    encoded = np.zeros(shape=(len(text_sequences), max_length), dtype=np.int32)\n",
        "    for i, (text_sequence, word_labels) in enumerate(zip(text_sequences, slot_names)):\n",
        "        encoded_labels = []\n",
        "        for word, word_label in zip(text_sequence.split(), word_labels.split()):\n",
        "            tokens = tokenizer.tokenize(word)\n",
        "            encoded_labels.append(slot_map[word_label])\n",
        "            expand_label = word_label.replace(\"B-\", \"I-\")\n",
        "            if not expand_label in slot_map:\n",
        "                expand_label = word_label\n",
        "            encoded_labels.extend([slot_map[expand_label]] * (len(tokens) - 1))\n",
        "        encoded[i, 1:len(encoded_labels) + 1] = encoded_labels\n",
        "    return encoded"
      ],
      "metadata": {
        "id": "iAma2W8px1ek"
      },
      "execution_count": 29,
      "outputs": []
    },
    {
      "cell_type": "code",
      "source": [
        "slot_train = encode_token_labels(df_train['words'], df_train['words_label'], tokenizer, slot_map, train_sequence_max_length)\n",
        "slot_validation = encode_token_labels(df_validation['words'], df_validation['words_label'], tokenizer, slot_map, train_sequence_max_length)\n",
        "slot_test = encode_token_labels(df_test['words'], df_test['words_label'], tokenizer, slot_map, train_sequence_max_length)"
      ],
      "metadata": {
        "id": "tXpMrNIgaVtl"
      },
      "execution_count": 30,
      "outputs": []
    },
    {
      "cell_type": "code",
      "source": [
        "slot_test.shape"
      ],
      "metadata": {
        "colab": {
          "base_uri": "https://localhost:8080/"
        },
        "id": "w7Lqhc_1odhC",
        "outputId": "f1848e7a-160c-45e8-fe3f-777af5373bf8"
      },
      "execution_count": 59,
      "outputs": [
        {
          "output_type": "execute_result",
          "data": {
            "text/plain": [
              "(7801, 34)"
            ]
          },
          "metadata": {},
          "execution_count": 59
        }
      ]
    },
    {
      "cell_type": "code",
      "source": [
        "class JointIntentAndSlotFillingModel(tf.keras.Model):\n",
        "\n",
        "    def __init__(self, intent_num_labels=None, slot_num_labels=None, model_name=\"bert-base-cased\", dropout_prob=0.1):\n",
        "        super().__init__(name=\"joint_intent_slot\")\n",
        "        self.bert = TFBertModel.from_pretrained(model_name)\n",
        "        self.dropout = Dropout(dropout_prob)\n",
        "        self.intent_classifier = Dense(intent_num_labels, name=\"intent_classifier\")\n",
        "        self.slot_classifier = Dense(slot_num_labels, name=\"slot_classifier\")\n",
        "\n",
        "    def call(self, inputs, **kwargs):\n",
        "        sequence_output, pooled_output = self.bert(inputs, **kwargs)\n",
        "\n",
        "        # The first output of the main BERT layer has shape:\n",
        "        # (batch_size, max_length, output_dim)\n",
        "        sequence_output = self.dropout(sequence_output, training=kwargs.get(\"training\", False))\n",
        "        slot_logits = self.slot_classifier(sequence_output)\n",
        "\n",
        "        # The second output of the main BERT layer has shape:\n",
        "        # (batch_size, output_dim)\n",
        "        # and gives a \"pooled\" representation for the full sequence from the\n",
        "        # hidden state that corresponds to the \"[CLS]\" token.\n",
        "        pooled_output = self.dropout(pooled_output, training=kwargs.get(\"training\", False))\n",
        "        intent_logits = self.intent_classifier(pooled_output)\n",
        "\n",
        "        return slot_logits, intent_logits"
      ],
      "metadata": {
        "id": "CgutDUUEaVpC"
      },
      "execution_count": 31,
      "outputs": []
    },
    {
      "cell_type": "code",
      "source": [
        "joint_model = JointIntentAndSlotFillingModel(intent_num_labels=len(intent_map), slot_num_labels=len(slot_map))\n",
        "\n",
        "# Define one classification loss for each output:\n",
        "opt = Adam(learning_rate=3e-5, epsilon=1e-08)\n",
        "losses = [SparseCategoricalCrossentropy(from_logits=True), SparseCategoricalCrossentropy(from_logits=True)]\n",
        "metrics = [SparseCategoricalAccuracy('accuracy')]\n",
        "joint_model.compile(optimizer=opt, loss=losses, metrics=metrics)"
      ],
      "metadata": {
        "id": "WKN02S_RaVnn"
      },
      "execution_count": 32,
      "outputs": []
    },
    {
      "cell_type": "code",
      "source": [
        "history = joint_model.fit(\n",
        "    encoded_train, (slot_train, intent_train),\n",
        "    validation_data=(encoded_validation, (slot_validation, intent_validation)),\n",
        "    epochs=2, batch_size=32)"
      ],
      "metadata": {
        "colab": {
          "base_uri": "https://localhost:8080/"
        },
        "id": "YG9_L0gBaVjf",
        "outputId": "814d9911-a124-46ac-e771-f605ee47bac0"
      },
      "execution_count": 33,
      "outputs": [
        {
          "output_type": "stream",
          "name": "stdout",
          "text": [
            "Epoch 1/2\n",
            "768/768 [==============================] - 225s 273ms/step - loss: 0.2520 - output_1_loss: 0.0950 - output_2_loss: 0.1569 - output_1_accuracy: 0.9764 - output_2_accuracy: 0.9571 - val_loss: 0.0863 - val_output_1_loss: 0.0289 - val_output_2_loss: 0.0574 - val_output_1_accuracy: 0.9926 - val_output_2_accuracy: 0.9879\n",
            "Epoch 2/2\n",
            "768/768 [==============================] - 207s 269ms/step - loss: 0.0718 - output_1_loss: 0.0290 - output_2_loss: 0.0428 - output_1_accuracy: 0.9925 - output_2_accuracy: 0.9886 - val_loss: 0.0712 - val_output_1_loss: 0.0233 - val_output_2_loss: 0.0479 - val_output_1_accuracy: 0.9940 - val_output_2_accuracy: 0.9864\n"
          ]
        }
      ]
    },
    {
      "cell_type": "code",
      "source": [],
      "metadata": {
        "id": "kuL1YzI780Be"
      },
      "execution_count": 33,
      "outputs": []
    },
    {
      "cell_type": "code",
      "source": [
        "def show_predictions(text, tokenizer, model, intent_names, slot_names):\n",
        "    inputs = tf.constant(tokenizer.encode(text))[None, :]  # batch_size = 1\n",
        "    outputs = model(inputs)\n",
        "    slot_logits, intent_logits = outputs\n",
        "    slot_ids = slot_logits.numpy().argmax(axis=-1)[0, 1:-1]\n",
        "    intent_id = intent_logits.numpy().argmax(axis=-1)[0]\n",
        "    print(\"## Intent:\", intent_names[intent_id])\n",
        "    print(\"## Slots:\")\n",
        "    for token, slot_id in zip(tokenizer.tokenize(text), slot_ids):\n",
        "        print(f\"{token:>10} : {slot_names[slot_id]}\")"
      ],
      "metadata": {
        "id": "dHEb85MBaVeT"
      },
      "execution_count": 213,
      "outputs": []
    },
    {
      "cell_type": "code",
      "source": [
        "# Example of classification\n",
        "show_predictions('delete all reminders for this week', tokenizer, joint_model, intent_names, slot_names)"
      ],
      "metadata": {
        "colab": {
          "base_uri": "https://localhost:8080/"
        },
        "id": "TMv8UPIwaVbJ",
        "outputId": "f6a450bf-93c0-4d5d-d313-bf9c18d887df"
      },
      "execution_count": 214,
      "outputs": [
        {
          "output_type": "stream",
          "name": "stdout",
          "text": [
            "## Intent: reminder/cancel_reminder\n",
            "## Slots:\n",
            "       del : O\n",
            "     ##ete : O\n",
            "       all : O\n",
            "  reminder : B-reminder/noun\n",
            "       ##s : I-reminder/noun\n",
            "       for : B-datetime\n",
            "      this : I-datetime\n",
            "      week : I-datetime\n"
          ]
        }
      ]
    },
    {
      "cell_type": "code",
      "source": [
        "def decode_predictions(text, tokenizer, intent_names, slot_names, intent_id, slot_ids):\n",
        "    info = {\"intent\": intent_names[intent_id]}\n",
        "    collected_slots = {}\n",
        "    active_slot_words = []\n",
        "    slot_labels = []\n",
        "    active_slot_name = None\n",
        "    for word in text.split():\n",
        "        tokens = tokenizer.tokenize(word)\n",
        "        current_word_slot_ids = slot_ids[:len(tokens)]\n",
        "        slot_ids = slot_ids[len(tokens):]\n",
        "        current_word_slot_name = slot_names[current_word_slot_ids[0]]\n",
        "        slot_labels.append(current_word_slot_name)\n",
        "\n",
        "        if current_word_slot_name == \"O\":\n",
        "            if active_slot_name:\n",
        "                collected_slots[active_slot_name] = \" \".join(active_slot_words)\n",
        "                active_slot_words = []\n",
        "                active_slot_name = None\n",
        "        else:\n",
        "            # Naive BIO: handling: treat B- and I- the same...\n",
        "            new_slot_name = current_word_slot_name[2:]\n",
        "            if active_slot_name is None:\n",
        "                active_slot_words.append(word)\n",
        "                active_slot_name = new_slot_name\n",
        "            elif new_slot_name == active_slot_name:\n",
        "                active_slot_words.append(word)\n",
        "            else:\n",
        "                collected_slots[active_slot_name] = \" \".join(active_slot_words)\n",
        "                active_slot_words = [word]\n",
        "                active_slot_name = new_slot_name\n",
        "    if active_slot_name:\n",
        "        collected_slots[active_slot_name] = \" \".join(active_slot_words)\n",
        "    info[\"slots\"] = collected_slots\n",
        "    return info, slot_labels"
      ],
      "metadata": {
        "id": "QVbxbG-hiGGq"
      },
      "execution_count": 36,
      "outputs": []
    },
    {
      "cell_type": "code",
      "source": [
        "def nlu(text, tokenizer, model, intent_names, slot_names):\n",
        "    inputs = tf.constant(tokenizer.encode(text))[None, :]  # batch_size = 1\n",
        "    outputs = model(inputs)\n",
        "    slot_logits, intent_logits = outputs\n",
        "    slot_ids = slot_logits.numpy().argmax(axis=-1)[0, 1:-1]\n",
        "    intent_id = intent_logits.numpy().argmax(axis=-1)[0]\n",
        "\n",
        "    return decode_predictions(text, tokenizer, intent_names, slot_names, intent_id, slot_ids)"
      ],
      "metadata": {
        "id": "2VBTKlAGiGED"
      },
      "execution_count": 37,
      "outputs": []
    },
    {
      "cell_type": "code",
      "source": [],
      "metadata": {
        "id": "-bE9kJe6VxJ1"
      },
      "execution_count": 37,
      "outputs": []
    },
    {
      "cell_type": "code",
      "source": [
        "output, labels = nlu('delete all reminders for this week', tokenizer, joint_model, intent_names, slot_names)\n",
        "output"
      ],
      "metadata": {
        "colab": {
          "base_uri": "https://localhost:8080/"
        },
        "id": "PNRlTeqBiGBt",
        "outputId": "ee900021-e598-489d-e980-3795fff31c2f"
      },
      "execution_count": 38,
      "outputs": [
        {
          "output_type": "execute_result",
          "data": {
            "text/plain": [
              "{'intent': 'reminder/cancel_reminder',\n",
              " 'slots': {'reminder/noun': 'reminders', 'datetime': 'for this week'}}"
            ]
          },
          "metadata": {},
          "execution_count": 38
        }
      ]
    },
    {
      "cell_type": "code",
      "source": [
        "labels"
      ],
      "metadata": {
        "id": "dhfdpjVJiF9J",
        "colab": {
          "base_uri": "https://localhost:8080/"
        },
        "outputId": "b55b38c0-ae89-4ec8-a6d0-80b9f40f85a9"
      },
      "execution_count": 39,
      "outputs": [
        {
          "output_type": "execute_result",
          "data": {
            "text/plain": [
              "['O', 'O', 'B-reminder/noun', 'B-datetime', 'I-datetime', 'I-datetime']"
            ]
          },
          "metadata": {},
          "execution_count": 39
        }
      ]
    },
    {
      "cell_type": "code",
      "source": [],
      "metadata": {
        "id": "Sl-b2jWXoRaP"
      },
      "execution_count": 39,
      "outputs": []
    },
    {
      "cell_type": "code",
      "source": [
        "def decode_predictions_v2(text, tokenizer, intent_names, slot_names, intent_id, slot_ids):\n",
        "    slot_labels = []\n",
        "    for word in text.split():\n",
        "        tokens = tokenizer.tokenize(word)\n",
        "        current_word_slot_ids = slot_ids[:len(tokens)]\n",
        "        slot_ids = slot_ids[len(tokens):]\n",
        "        current_word_slot_name = slot_names[current_word_slot_ids[0]]\n",
        "        slot_labels.append(current_word_slot_name)\n",
        "    return slot_labels"
      ],
      "metadata": {
        "id": "q7XmsCx9Wa6P"
      },
      "execution_count": 226,
      "outputs": []
    },
    {
      "cell_type": "code",
      "source": [
        "def nlu_v2(text, tokenizer, model, intent_names, slot_names):\n",
        "    inputs = tf.constant(tokenizer.encode(text))[None, :]  # batch_size = 1\n",
        "    outputs = model(inputs)\n",
        "    slot_logits, intent_logits = outputs\n",
        "    slot_ids = slot_logits.numpy().argmax(axis=-1)[0, 1:-1]\n",
        "    intent_id = intent_logits.numpy().argmax(axis=-1)[0]\n",
        "\n",
        "    return decode_predictions_v2(text, tokenizer, intent_names, slot_names, intent_id, slot_ids)"
      ],
      "metadata": {
        "id": "Gmtj3ydAWa36"
      },
      "execution_count": 225,
      "outputs": []
    },
    {
      "cell_type": "code",
      "source": [
        "predicted_labels = []\n",
        "true_labels = []\n",
        "words_list = []\n",
        "for data in tqdm(list(df_test.iterrows())):\n",
        "    intent_label, words, words_label, _ = data[1]\n",
        "    predicted_label = nlu_v2(words, tokenizer, joint_model, intent_names, slot_names)\n",
        "\n",
        "    predicted_labels.append(predicted_label)\n",
        "    true_labels.append(words_label.split(' '))\n",
        "    words_list.append(words.split(' '))"
      ],
      "metadata": {
        "id": "ZgN7gY9LoRXY",
        "colab": {
          "base_uri": "https://localhost:8080/"
        },
        "outputId": "a8b42869-1c26-45f7-9d3f-85112a0903ad"
      },
      "execution_count": 42,
      "outputs": [
        {
          "output_type": "stream",
          "name": "stderr",
          "text": [
            "100%|██████████| 7801/7801 [20:21<00:00,  6.39it/s]\n"
          ]
        }
      ]
    },
    {
      "cell_type": "code",
      "source": [],
      "metadata": {
        "id": "XJxa7K28Zr2a"
      },
      "execution_count": 42,
      "outputs": []
    },
    {
      "cell_type": "markdown",
      "source": [
        "## Evaluation"
      ],
      "metadata": {
        "id": "X_mevN0NQzHj"
      }
    },
    {
      "cell_type": "code",
      "source": [
        "!wget https://www.comp.nus.edu.sg/%7Ekanmy/courses/practicalNLP_2008/packages/conlleval.pl"
      ],
      "metadata": {
        "id": "n8DZ9ZQSiF6k",
        "colab": {
          "base_uri": "https://localhost:8080/"
        },
        "outputId": "e566f618-6a6b-4e3b-9724-eebe0f35e0ec"
      },
      "execution_count": 43,
      "outputs": [
        {
          "output_type": "stream",
          "name": "stdout",
          "text": [
            "--2022-12-11 14:27:07--  https://www.comp.nus.edu.sg/%7Ekanmy/courses/practicalNLP_2008/packages/conlleval.pl\n",
            "Resolving www.comp.nus.edu.sg (www.comp.nus.edu.sg)... 45.60.31.225\n",
            "Connecting to www.comp.nus.edu.sg (www.comp.nus.edu.sg)|45.60.31.225|:443... connected.\n",
            "HTTP request sent, awaiting response... 200 OK\n",
            "Length: 12728 (12K)\n",
            "Saving to: ‘conlleval.pl’\n",
            "\n",
            "conlleval.pl        100%[===================>]  12.43K  --.-KB/s    in 0.01s   \n",
            "\n",
            "2022-12-11 14:27:08 (1.18 MB/s) - ‘conlleval.pl’ saved [12728/12728]\n",
            "\n"
          ]
        }
      ]
    },
    {
      "cell_type": "code",
      "source": [],
      "metadata": {
        "id": "zFpipdjFiF4K"
      },
      "execution_count": 43,
      "outputs": []
    },
    {
      "cell_type": "code",
      "source": [
        "import random\n",
        "import json\n",
        "import copy\n",
        "import os\n",
        "import stat\n",
        "import subprocess\n",
        "from os.path import isfile, join\n",
        "from os import chmod\n",
        "\n",
        "PREFIX = os.getenv('/your/path/', '') # you should define your perl code directory here\n",
        "\n",
        "\n",
        "def conlleval(p, g, w, filename):\n",
        "    '''\n",
        "    INPUT:\n",
        "    p :: predictions\n",
        "    g :: groundtruth\n",
        "    w :: corresponding words\n",
        "    OUTPUT:\n",
        "    filename :: name of the file where the predictions\n",
        "    are written. it will be the input of conlleval.pl script\n",
        "    for computing the performance in terms of precision\n",
        "    recall and f1 score\n",
        "    '''\n",
        "    out = ''\n",
        "    for sl, sp, sw in zip(g, p, w):\n",
        "        # print(w)\n",
        "        out += 'BOS O O\\n'\n",
        "        for wl, wp, w in zip(sl, sp, sw):\n",
        "            out += w + ' ' + wl + ' ' + wp + '\\n'\n",
        "        out += 'EOS O O\\n\\n'\n",
        "\n",
        "    f = open(filename, 'w')\n",
        "    f.writelines(out)\n",
        "    f.close()\n",
        "\n",
        "    return get_perf(filename)\n",
        "\n",
        "\n",
        "def get_perf(filename):\n",
        "    ''' run conlleval.pl perl script to obtain\n",
        "    precision/recall and F1 score '''\n",
        "    _conlleval = PREFIX + './conlleval.pl'\n",
        "    if not isfile(_conlleval):\n",
        "        # download('http://www-etud.iro.umontreal.ca/~mesnilgr/atis/conlleval.pl')\n",
        "        os.system('wget https://www.comp.nus.edu.sg/%7Ekanmy/courses/practicalNLP_2008/packages/conlleval.pl')\n",
        "        chmod('./conlleval.pl', stat.S_IRWXU)  # give the execute permissions\n",
        "\n",
        "    proc = subprocess.Popen([\"perl\", _conlleval], stdin=subprocess.PIPE, stdout=subprocess.PIPE)\n",
        "    stdout, _ = proc.communicate(open(filename, 'rb').read())\n",
        "    for line in stdout.decode(\"utf-8\").split('\\n'):\n",
        "        if 'accuracy' in line:\n",
        "            out = line.split()\n",
        "            break\n",
        "\n",
        "    # out = ['accuracy:', '16.26%;', 'precision:', '0.00%;', 'recall:', '0.00%;', 'FB1:', '0.00']\n",
        "\n",
        "    precision = float(out[3][:-2])\n",
        "    recall = float(out[5][:-2])\n",
        "    f1score = float(out[7])\n",
        "\n",
        "    return {'p': precision, 'r': recall, 'f1': f1score}\n",
        "\n",
        "\n",
        "def get_perfo(filename):\n",
        "    '''\n",
        "    work around for using a PERL script in python\n",
        "    dirty but still works.\n",
        "    '''\n",
        "    tempfile = str(random.randint(1, np.iinfo('i').max)) + '.txt'\n",
        "    if not isfile(PREFIX + './conlleval.pl'):\n",
        "        os.system('wget https://www.comp.nus.edu.sg/%7Ekanmy/courses/practicalNLP_2008/packages/conlleval.pl')\n",
        "        # download('http://www-etud.iro.umontreal.ca/~mesnilgr/atis/conlleval.pl')\n",
        "        chmod('conlleval.pl', stat.S_IRWXU)  # give the execute permissions\n",
        "    if len(PREFIX) > 0:\n",
        "        chmod(PREFIX + './conlleval.pl', stat.S_IRWXU)  # give the execute permissions\n",
        "        cmd = PREFIX + './conlleval.pl < %s | grep accuracy > %s' % (filename, tempfile)\n",
        "    else:\n",
        "        cmd = './conlleval.pl < %s | grep accuracy > %s' % (filename, tempfile)\n",
        "    print(cmd)\n",
        "    out = os.system(cmd)\n",
        "    out = open(tempfile).readlines()[0].split()\n",
        "    os.system('rm %s' % tempfile)\n",
        "    precision = float(out[6][:-2])\n",
        "    recall = float(out[8][:-2])\n",
        "    f1score = float(out[10])\n",
        "    return {'p': precision, 'r': recall, 'f1': f1score}"
      ],
      "metadata": {
        "id": "-Nq-gC74iF1k"
      },
      "execution_count": 44,
      "outputs": []
    },
    {
      "cell_type": "code",
      "source": [
        "conlleval(p=predicted_labels, g=true_labels, w=words_list, filename='./results.txt')"
      ],
      "metadata": {
        "colab": {
          "base_uri": "https://localhost:8080/"
        },
        "id": "7dcgloCpiFzO",
        "outputId": "082bf3fa-19e6-44c1-f13e-6171b5e37260"
      },
      "execution_count": 45,
      "outputs": [
        {
          "output_type": "execute_result",
          "data": {
            "text/plain": [
              "{'p': 94.11, 'r': 95.02, 'f1': 94.56}"
            ]
          },
          "metadata": {},
          "execution_count": 45
        }
      ]
    },
    {
      "cell_type": "code",
      "source": [],
      "metadata": {
        "id": "jj4QKF6MXV2r"
      },
      "execution_count": 45,
      "outputs": []
    },
    {
      "cell_type": "code",
      "source": [],
      "metadata": {
        "id": "wBu99HgPf8N8"
      },
      "execution_count": 45,
      "outputs": []
    },
    {
      "cell_type": "code",
      "source": [],
      "metadata": {
        "id": "RW1P4PzxChoE"
      },
      "execution_count": 45,
      "outputs": []
    },
    {
      "cell_type": "markdown",
      "source": [
        "## Now lets try another model like Roberta"
      ],
      "metadata": {
        "id": "cULC6Cs9CiSP"
      }
    },
    {
      "cell_type": "code",
      "source": [],
      "metadata": {
        "id": "Nyz-DFzwoYPr"
      },
      "execution_count": 45,
      "outputs": []
    },
    {
      "cell_type": "code",
      "source": [
        "from transformers import TFRobertaModel, RobertaTokenizer"
      ],
      "metadata": {
        "id": "L17t9Gu0ChlF"
      },
      "execution_count": 216,
      "outputs": []
    },
    {
      "cell_type": "code",
      "source": [
        "tokenizer = RobertaTokenizer.from_pretrained(\"roberta-base\")"
      ],
      "metadata": {
        "id": "7-5fCvZBboRt"
      },
      "execution_count": 187,
      "outputs": []
    },
    {
      "cell_type": "code",
      "source": [
        "encoded_train      = encode_dataset(tokenizer, df_train['words'], train_sequence_max_length)\n",
        "encoded_validation = encode_dataset(tokenizer, df_validation['words'], train_sequence_max_length)\n",
        "encoded_test       = encode_dataset(tokenizer, df_test['words'], train_sequence_max_length)"
      ],
      "metadata": {
        "id": "f3BydOhQboMk"
      },
      "execution_count": 218,
      "outputs": []
    },
    {
      "cell_type": "code",
      "source": [
        "slot_train = encode_token_labels(df_train['words'], df_train['words_label'], tokenizer, slot_map, train_sequence_max_length)\n",
        "slot_validation = encode_token_labels(df_validation['words'], df_validation['words_label'], tokenizer, slot_map, train_sequence_max_length)\n",
        "slot_test = encode_token_labels(df_test['words'], df_test['words_label'], tokenizer, slot_map, train_sequence_max_length)"
      ],
      "metadata": {
        "id": "UNwiu1yWcBuw"
      },
      "execution_count": 219,
      "outputs": []
    },
    {
      "cell_type": "code",
      "source": [
        "class JointIntentAndSlotFillingModelRoberta(tf.keras.Model):\n",
        "\n",
        "    def __init__(self, intent_num_labels=None, slot_num_labels=None, model_name=\"roberta-base\", dropout_prob=0.1):\n",
        "        super().__init__(name=\"joint_intent_slot2\")\n",
        "        self.roberta = TFRobertaModel.from_pretrained(model_name)\n",
        "        self.dropout = Dropout(dropout_prob)\n",
        "        self.intent_classifier = Dense(intent_num_labels, name=\"intent_classifier\")\n",
        "        self.slot_classifier = Dense(slot_num_labels, name=\"slot_classifier\")\n",
        "\n",
        "    def call(self, inputs, **kwargs):\n",
        "        sequence_output, pooled_output = self.roberta(inputs, **kwargs)\n",
        "        sequence_output = self.dropout(sequence_output, training=kwargs.get(\"training\", False))\n",
        "        slot_logits = self.slot_classifier(sequence_output)\n",
        "\n",
        "        pooled_output = self.dropout(pooled_output, training=kwargs.get(\"training\", False))\n",
        "        intent_logits = self.intent_classifier(pooled_output)\n",
        "\n",
        "        return slot_logits, intent_logits"
      ],
      "metadata": {
        "id": "U6Us3F-wCg8u"
      },
      "execution_count": 220,
      "outputs": []
    },
    {
      "cell_type": "code",
      "source": [],
      "metadata": {
        "id": "VD0q-5jYO8P3"
      },
      "execution_count": 127,
      "outputs": []
    },
    {
      "cell_type": "code",
      "source": [
        "joint_model_roberta = JointIntentAndSlotFillingModelRoberta(intent_num_labels=len(intent_map), slot_num_labels=len(slot_map))\n",
        "\n",
        "# Define one classification loss for each output:\n",
        "opt = Adam(learning_rate=3e-5, epsilon=1e-08)\n",
        "losses = [SparseCategoricalCrossentropy(from_logits=True), SparseCategoricalCrossentropy(from_logits=True)]\n",
        "metrics = [SparseCategoricalAccuracy('accuracy')]\n",
        "joint_model_roberta.compile(optimizer=opt, loss=losses, metrics=metrics)"
      ],
      "metadata": {
        "id": "sv3j_gBMiIP5"
      },
      "execution_count": 221,
      "outputs": []
    },
    {
      "cell_type": "code",
      "source": [
        "history = joint_model_roberta.fit(\n",
        "    encoded_train, (slot_train, intent_train),\n",
        "    validation_data=(encoded_validation, (slot_validation, intent_validation)),\n",
        "    epochs=2, batch_size=32)"
      ],
      "metadata": {
        "colab": {
          "base_uri": "https://localhost:8080/"
        },
        "id": "Q9nN8pX5i2p7",
        "outputId": "2511cca3-86cd-42e5-b3a2-5f170415f019"
      },
      "execution_count": 222,
      "outputs": [
        {
          "output_type": "stream",
          "name": "stdout",
          "text": [
            "Epoch 1/2\n",
            "768/768 [==============================] - 228s 276ms/step - loss: 0.4975 - output_1_loss: 0.2065 - output_2_loss: 0.2910 - output_1_accuracy: 0.9408 - output_2_accuracy: 0.9116 - val_loss: 0.1304 - val_output_1_loss: 0.0661 - val_output_2_loss: 0.0643 - val_output_1_accuracy: 0.9811 - val_output_2_accuracy: 0.9800\n",
            "Epoch 2/2\n",
            "768/768 [==============================] - 212s 276ms/step - loss: 0.1201 - output_1_loss: 0.0632 - output_2_loss: 0.0569 - output_1_accuracy: 0.9813 - output_2_accuracy: 0.9842 - val_loss: 0.0967 - val_output_1_loss: 0.0442 - val_output_2_loss: 0.0524 - val_output_1_accuracy: 0.9880 - val_output_2_accuracy: 0.9859\n"
          ]
        }
      ]
    },
    {
      "cell_type": "code",
      "source": [
        "# Example of classification\n",
        "show_predictions('Is it forecast to rain today?', tokenizer, joint_model_roberta, intent_names, slot_names)"
      ],
      "metadata": {
        "colab": {
          "base_uri": "https://localhost:8080/"
        },
        "id": "uXoXqapF-146",
        "outputId": "1ac3fb4a-ca92-4a95-9e0d-76b1e18f234d"
      },
      "execution_count": 223,
      "outputs": [
        {
          "output_type": "stream",
          "name": "stdout",
          "text": [
            "## Intent: weather/find\n",
            "## Slots:\n",
            "        Is : O\n",
            "        it : O\n",
            "  forecast : B-weather/noun\n",
            "        to : O\n",
            "      rain : B-weather/attribute\n",
            "     today : B-datetime\n",
            "         ? : O\n"
          ]
        }
      ]
    },
    {
      "cell_type": "code",
      "source": [
        "predicted_labels = []\n",
        "true_labels = []\n",
        "words_list = []\n",
        "for data in tqdm(list(df_test.iterrows())[1:]):\n",
        "    intent_label, words, words_label, _ = data[1]\n",
        "    predicted_label = nlu_v2(words, tokenizer, joint_model_roberta, intent_names, slot_names)\n",
        "    predicted_labels.append(predicted_label)\n",
        "    true_labels.append(words_label.split(' '))\n",
        "    words_list.append(words.split(' '))"
      ],
      "metadata": {
        "colab": {
          "base_uri": "https://localhost:8080/"
        },
        "id": "2qaOEmbyFYHC",
        "outputId": "bde41ae6-7acb-44e6-e41b-e4fd31cb6351"
      },
      "execution_count": 228,
      "outputs": [
        {
          "output_type": "stream",
          "name": "stderr",
          "text": [
            "100%|██████████| 7800/7800 [20:36<00:00,  6.31it/s]\n"
          ]
        }
      ]
    },
    {
      "cell_type": "code",
      "source": [
        "conlleval(p=predicted_labels, g=true_labels, w=words_list, filename='./results_roberta.txt')"
      ],
      "metadata": {
        "colab": {
          "base_uri": "https://localhost:8080/"
        },
        "id": "yb3gYalHFYEB",
        "outputId": "514fc14b-832a-4144-9c59-4ee6cfd27c52"
      },
      "execution_count": 229,
      "outputs": [
        {
          "output_type": "execute_result",
          "data": {
            "text/plain": [
              "{'p': 84.16, 'r': 86.94, 'f1': 85.53}"
            ]
          },
          "metadata": {},
          "execution_count": 229
        }
      ]
    },
    {
      "cell_type": "code",
      "source": [],
      "metadata": {
        "id": "bqM4-5eRqMfN"
      },
      "execution_count": 83,
      "outputs": []
    },
    {
      "cell_type": "markdown",
      "source": [
        "# Finito"
      ],
      "metadata": {
        "id": "0Cz2CA2pqcML"
      }
    }
  ]
}