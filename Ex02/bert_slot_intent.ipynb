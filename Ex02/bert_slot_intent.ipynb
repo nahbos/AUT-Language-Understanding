{
  "nbformat": 4,
  "nbformat_minor": 0,
  "metadata": {
    "colab": {
      "provenance": [],
      "toc_visible": true,
      "include_colab_link": true
    },
    "kernelspec": {
      "name": "python3",
      "display_name": "Python 3"
    },
    "language_info": {
      "name": "python"
    },
    "accelerator": "GPU",
    "gpuClass": "standard",
    "widgets": {
      "application/vnd.jupyter.widget-state+json": {
        "6dfcd3efb0704836bf5cd8917e46d25c": {
          "model_module": "@jupyter-widgets/controls",
          "model_name": "HBoxModel",
          "model_module_version": "1.5.0",
          "state": {
            "_dom_classes": [],
            "_model_module": "@jupyter-widgets/controls",
            "_model_module_version": "1.5.0",
            "_model_name": "HBoxModel",
            "_view_count": null,
            "_view_module": "@jupyter-widgets/controls",
            "_view_module_version": "1.5.0",
            "_view_name": "HBoxView",
            "box_style": "",
            "children": [
              "IPY_MODEL_e01cd7179efc401785963608f89ddfba",
              "IPY_MODEL_bb09b1055d974a5195c115cb3284085e",
              "IPY_MODEL_65015e18ea524d7997e8355eae43ba39"
            ],
            "layout": "IPY_MODEL_2aef52efc1f041c2864aba34a64aa40e"
          }
        },
        "e01cd7179efc401785963608f89ddfba": {
          "model_module": "@jupyter-widgets/controls",
          "model_name": "HTMLModel",
          "model_module_version": "1.5.0",
          "state": {
            "_dom_classes": [],
            "_model_module": "@jupyter-widgets/controls",
            "_model_module_version": "1.5.0",
            "_model_name": "HTMLModel",
            "_view_count": null,
            "_view_module": "@jupyter-widgets/controls",
            "_view_module_version": "1.5.0",
            "_view_name": "HTMLView",
            "description": "",
            "description_tooltip": null,
            "layout": "IPY_MODEL_50dfa676bc794b25876d5d0be73eb87f",
            "placeholder": "​",
            "style": "IPY_MODEL_a59edbf8259d404cb34f2229fdf0bfa3",
            "value": "Downloading: 100%"
          }
        },
        "bb09b1055d974a5195c115cb3284085e": {
          "model_module": "@jupyter-widgets/controls",
          "model_name": "FloatProgressModel",
          "model_module_version": "1.5.0",
          "state": {
            "_dom_classes": [],
            "_model_module": "@jupyter-widgets/controls",
            "_model_module_version": "1.5.0",
            "_model_name": "FloatProgressModel",
            "_view_count": null,
            "_view_module": "@jupyter-widgets/controls",
            "_view_module_version": "1.5.0",
            "_view_name": "ProgressView",
            "bar_style": "success",
            "description": "",
            "description_tooltip": null,
            "layout": "IPY_MODEL_104c7d66b9904f98887dc6bd174dbbc8",
            "max": 213450,
            "min": 0,
            "orientation": "horizontal",
            "style": "IPY_MODEL_33115a4a62014648b4637580999d2edb",
            "value": 213450
          }
        },
        "65015e18ea524d7997e8355eae43ba39": {
          "model_module": "@jupyter-widgets/controls",
          "model_name": "HTMLModel",
          "model_module_version": "1.5.0",
          "state": {
            "_dom_classes": [],
            "_model_module": "@jupyter-widgets/controls",
            "_model_module_version": "1.5.0",
            "_model_name": "HTMLModel",
            "_view_count": null,
            "_view_module": "@jupyter-widgets/controls",
            "_view_module_version": "1.5.0",
            "_view_name": "HTMLView",
            "description": "",
            "description_tooltip": null,
            "layout": "IPY_MODEL_24202f3126474e47a0cf9d3d9240e4f4",
            "placeholder": "​",
            "style": "IPY_MODEL_5513dd82582e4617a2ce2773a5b8fb09",
            "value": " 213k/213k [00:00&lt;00:00, 206kB/s]"
          }
        },
        "2aef52efc1f041c2864aba34a64aa40e": {
          "model_module": "@jupyter-widgets/base",
          "model_name": "LayoutModel",
          "model_module_version": "1.2.0",
          "state": {
            "_model_module": "@jupyter-widgets/base",
            "_model_module_version": "1.2.0",
            "_model_name": "LayoutModel",
            "_view_count": null,
            "_view_module": "@jupyter-widgets/base",
            "_view_module_version": "1.2.0",
            "_view_name": "LayoutView",
            "align_content": null,
            "align_items": null,
            "align_self": null,
            "border": null,
            "bottom": null,
            "display": null,
            "flex": null,
            "flex_flow": null,
            "grid_area": null,
            "grid_auto_columns": null,
            "grid_auto_flow": null,
            "grid_auto_rows": null,
            "grid_column": null,
            "grid_gap": null,
            "grid_row": null,
            "grid_template_areas": null,
            "grid_template_columns": null,
            "grid_template_rows": null,
            "height": null,
            "justify_content": null,
            "justify_items": null,
            "left": null,
            "margin": null,
            "max_height": null,
            "max_width": null,
            "min_height": null,
            "min_width": null,
            "object_fit": null,
            "object_position": null,
            "order": null,
            "overflow": null,
            "overflow_x": null,
            "overflow_y": null,
            "padding": null,
            "right": null,
            "top": null,
            "visibility": null,
            "width": null
          }
        },
        "50dfa676bc794b25876d5d0be73eb87f": {
          "model_module": "@jupyter-widgets/base",
          "model_name": "LayoutModel",
          "model_module_version": "1.2.0",
          "state": {
            "_model_module": "@jupyter-widgets/base",
            "_model_module_version": "1.2.0",
            "_model_name": "LayoutModel",
            "_view_count": null,
            "_view_module": "@jupyter-widgets/base",
            "_view_module_version": "1.2.0",
            "_view_name": "LayoutView",
            "align_content": null,
            "align_items": null,
            "align_self": null,
            "border": null,
            "bottom": null,
            "display": null,
            "flex": null,
            "flex_flow": null,
            "grid_area": null,
            "grid_auto_columns": null,
            "grid_auto_flow": null,
            "grid_auto_rows": null,
            "grid_column": null,
            "grid_gap": null,
            "grid_row": null,
            "grid_template_areas": null,
            "grid_template_columns": null,
            "grid_template_rows": null,
            "height": null,
            "justify_content": null,
            "justify_items": null,
            "left": null,
            "margin": null,
            "max_height": null,
            "max_width": null,
            "min_height": null,
            "min_width": null,
            "object_fit": null,
            "object_position": null,
            "order": null,
            "overflow": null,
            "overflow_x": null,
            "overflow_y": null,
            "padding": null,
            "right": null,
            "top": null,
            "visibility": null,
            "width": null
          }
        },
        "a59edbf8259d404cb34f2229fdf0bfa3": {
          "model_module": "@jupyter-widgets/controls",
          "model_name": "DescriptionStyleModel",
          "model_module_version": "1.5.0",
          "state": {
            "_model_module": "@jupyter-widgets/controls",
            "_model_module_version": "1.5.0",
            "_model_name": "DescriptionStyleModel",
            "_view_count": null,
            "_view_module": "@jupyter-widgets/base",
            "_view_module_version": "1.2.0",
            "_view_name": "StyleView",
            "description_width": ""
          }
        },
        "104c7d66b9904f98887dc6bd174dbbc8": {
          "model_module": "@jupyter-widgets/base",
          "model_name": "LayoutModel",
          "model_module_version": "1.2.0",
          "state": {
            "_model_module": "@jupyter-widgets/base",
            "_model_module_version": "1.2.0",
            "_model_name": "LayoutModel",
            "_view_count": null,
            "_view_module": "@jupyter-widgets/base",
            "_view_module_version": "1.2.0",
            "_view_name": "LayoutView",
            "align_content": null,
            "align_items": null,
            "align_self": null,
            "border": null,
            "bottom": null,
            "display": null,
            "flex": null,
            "flex_flow": null,
            "grid_area": null,
            "grid_auto_columns": null,
            "grid_auto_flow": null,
            "grid_auto_rows": null,
            "grid_column": null,
            "grid_gap": null,
            "grid_row": null,
            "grid_template_areas": null,
            "grid_template_columns": null,
            "grid_template_rows": null,
            "height": null,
            "justify_content": null,
            "justify_items": null,
            "left": null,
            "margin": null,
            "max_height": null,
            "max_width": null,
            "min_height": null,
            "min_width": null,
            "object_fit": null,
            "object_position": null,
            "order": null,
            "overflow": null,
            "overflow_x": null,
            "overflow_y": null,
            "padding": null,
            "right": null,
            "top": null,
            "visibility": null,
            "width": null
          }
        },
        "33115a4a62014648b4637580999d2edb": {
          "model_module": "@jupyter-widgets/controls",
          "model_name": "ProgressStyleModel",
          "model_module_version": "1.5.0",
          "state": {
            "_model_module": "@jupyter-widgets/controls",
            "_model_module_version": "1.5.0",
            "_model_name": "ProgressStyleModel",
            "_view_count": null,
            "_view_module": "@jupyter-widgets/base",
            "_view_module_version": "1.2.0",
            "_view_name": "StyleView",
            "bar_color": null,
            "description_width": ""
          }
        },
        "24202f3126474e47a0cf9d3d9240e4f4": {
          "model_module": "@jupyter-widgets/base",
          "model_name": "LayoutModel",
          "model_module_version": "1.2.0",
          "state": {
            "_model_module": "@jupyter-widgets/base",
            "_model_module_version": "1.2.0",
            "_model_name": "LayoutModel",
            "_view_count": null,
            "_view_module": "@jupyter-widgets/base",
            "_view_module_version": "1.2.0",
            "_view_name": "LayoutView",
            "align_content": null,
            "align_items": null,
            "align_self": null,
            "border": null,
            "bottom": null,
            "display": null,
            "flex": null,
            "flex_flow": null,
            "grid_area": null,
            "grid_auto_columns": null,
            "grid_auto_flow": null,
            "grid_auto_rows": null,
            "grid_column": null,
            "grid_gap": null,
            "grid_row": null,
            "grid_template_areas": null,
            "grid_template_columns": null,
            "grid_template_rows": null,
            "height": null,
            "justify_content": null,
            "justify_items": null,
            "left": null,
            "margin": null,
            "max_height": null,
            "max_width": null,
            "min_height": null,
            "min_width": null,
            "object_fit": null,
            "object_position": null,
            "order": null,
            "overflow": null,
            "overflow_x": null,
            "overflow_y": null,
            "padding": null,
            "right": null,
            "top": null,
            "visibility": null,
            "width": null
          }
        },
        "5513dd82582e4617a2ce2773a5b8fb09": {
          "model_module": "@jupyter-widgets/controls",
          "model_name": "DescriptionStyleModel",
          "model_module_version": "1.5.0",
          "state": {
            "_model_module": "@jupyter-widgets/controls",
            "_model_module_version": "1.5.0",
            "_model_name": "DescriptionStyleModel",
            "_view_count": null,
            "_view_module": "@jupyter-widgets/base",
            "_view_module_version": "1.2.0",
            "_view_name": "StyleView",
            "description_width": ""
          }
        },
        "d1805cbb339d45269d943c468631eb7e": {
          "model_module": "@jupyter-widgets/controls",
          "model_name": "HBoxModel",
          "model_module_version": "1.5.0",
          "state": {
            "_dom_classes": [],
            "_model_module": "@jupyter-widgets/controls",
            "_model_module_version": "1.5.0",
            "_model_name": "HBoxModel",
            "_view_count": null,
            "_view_module": "@jupyter-widgets/controls",
            "_view_module_version": "1.5.0",
            "_view_name": "HBoxView",
            "box_style": "",
            "children": [
              "IPY_MODEL_a78d3e6d638d4cfba5b2a810a8d28573",
              "IPY_MODEL_c7be0f85fd704e7281902e2d370e9636",
              "IPY_MODEL_93974e046068409fb9ae045b83f8b802"
            ],
            "layout": "IPY_MODEL_1dfd505d3bf849babfd2ef9693da84d6"
          }
        },
        "a78d3e6d638d4cfba5b2a810a8d28573": {
          "model_module": "@jupyter-widgets/controls",
          "model_name": "HTMLModel",
          "model_module_version": "1.5.0",
          "state": {
            "_dom_classes": [],
            "_model_module": "@jupyter-widgets/controls",
            "_model_module_version": "1.5.0",
            "_model_name": "HTMLModel",
            "_view_count": null,
            "_view_module": "@jupyter-widgets/controls",
            "_view_module_version": "1.5.0",
            "_view_name": "HTMLView",
            "description": "",
            "description_tooltip": null,
            "layout": "IPY_MODEL_3e8a59cbd1e446d7aabcb0c3b5c802b6",
            "placeholder": "​",
            "style": "IPY_MODEL_a92a1133767342f89e0b43b3815dba19",
            "value": "Downloading: 100%"
          }
        },
        "c7be0f85fd704e7281902e2d370e9636": {
          "model_module": "@jupyter-widgets/controls",
          "model_name": "FloatProgressModel",
          "model_module_version": "1.5.0",
          "state": {
            "_dom_classes": [],
            "_model_module": "@jupyter-widgets/controls",
            "_model_module_version": "1.5.0",
            "_model_name": "FloatProgressModel",
            "_view_count": null,
            "_view_module": "@jupyter-widgets/controls",
            "_view_module_version": "1.5.0",
            "_view_name": "ProgressView",
            "bar_style": "success",
            "description": "",
            "description_tooltip": null,
            "layout": "IPY_MODEL_540c469df0c34fd19ea08fa4ebac7d88",
            "max": 433,
            "min": 0,
            "orientation": "horizontal",
            "style": "IPY_MODEL_9bfe93b3aaef46ebafaeb335edbf82c1",
            "value": 433
          }
        },
        "93974e046068409fb9ae045b83f8b802": {
          "model_module": "@jupyter-widgets/controls",
          "model_name": "HTMLModel",
          "model_module_version": "1.5.0",
          "state": {
            "_dom_classes": [],
            "_model_module": "@jupyter-widgets/controls",
            "_model_module_version": "1.5.0",
            "_model_name": "HTMLModel",
            "_view_count": null,
            "_view_module": "@jupyter-widgets/controls",
            "_view_module_version": "1.5.0",
            "_view_name": "HTMLView",
            "description": "",
            "description_tooltip": null,
            "layout": "IPY_MODEL_169a0b8208ab4358a7c7e49e61d2f839",
            "placeholder": "​",
            "style": "IPY_MODEL_8ee95093cdc847bc9a9ef2618cece88f",
            "value": " 433/433 [00:00&lt;00:00, 14.9kB/s]"
          }
        },
        "1dfd505d3bf849babfd2ef9693da84d6": {
          "model_module": "@jupyter-widgets/base",
          "model_name": "LayoutModel",
          "model_module_version": "1.2.0",
          "state": {
            "_model_module": "@jupyter-widgets/base",
            "_model_module_version": "1.2.0",
            "_model_name": "LayoutModel",
            "_view_count": null,
            "_view_module": "@jupyter-widgets/base",
            "_view_module_version": "1.2.0",
            "_view_name": "LayoutView",
            "align_content": null,
            "align_items": null,
            "align_self": null,
            "border": null,
            "bottom": null,
            "display": null,
            "flex": null,
            "flex_flow": null,
            "grid_area": null,
            "grid_auto_columns": null,
            "grid_auto_flow": null,
            "grid_auto_rows": null,
            "grid_column": null,
            "grid_gap": null,
            "grid_row": null,
            "grid_template_areas": null,
            "grid_template_columns": null,
            "grid_template_rows": null,
            "height": null,
            "justify_content": null,
            "justify_items": null,
            "left": null,
            "margin": null,
            "max_height": null,
            "max_width": null,
            "min_height": null,
            "min_width": null,
            "object_fit": null,
            "object_position": null,
            "order": null,
            "overflow": null,
            "overflow_x": null,
            "overflow_y": null,
            "padding": null,
            "right": null,
            "top": null,
            "visibility": null,
            "width": null
          }
        },
        "3e8a59cbd1e446d7aabcb0c3b5c802b6": {
          "model_module": "@jupyter-widgets/base",
          "model_name": "LayoutModel",
          "model_module_version": "1.2.0",
          "state": {
            "_model_module": "@jupyter-widgets/base",
            "_model_module_version": "1.2.0",
            "_model_name": "LayoutModel",
            "_view_count": null,
            "_view_module": "@jupyter-widgets/base",
            "_view_module_version": "1.2.0",
            "_view_name": "LayoutView",
            "align_content": null,
            "align_items": null,
            "align_self": null,
            "border": null,
            "bottom": null,
            "display": null,
            "flex": null,
            "flex_flow": null,
            "grid_area": null,
            "grid_auto_columns": null,
            "grid_auto_flow": null,
            "grid_auto_rows": null,
            "grid_column": null,
            "grid_gap": null,
            "grid_row": null,
            "grid_template_areas": null,
            "grid_template_columns": null,
            "grid_template_rows": null,
            "height": null,
            "justify_content": null,
            "justify_items": null,
            "left": null,
            "margin": null,
            "max_height": null,
            "max_width": null,
            "min_height": null,
            "min_width": null,
            "object_fit": null,
            "object_position": null,
            "order": null,
            "overflow": null,
            "overflow_x": null,
            "overflow_y": null,
            "padding": null,
            "right": null,
            "top": null,
            "visibility": null,
            "width": null
          }
        },
        "a92a1133767342f89e0b43b3815dba19": {
          "model_module": "@jupyter-widgets/controls",
          "model_name": "DescriptionStyleModel",
          "model_module_version": "1.5.0",
          "state": {
            "_model_module": "@jupyter-widgets/controls",
            "_model_module_version": "1.5.0",
            "_model_name": "DescriptionStyleModel",
            "_view_count": null,
            "_view_module": "@jupyter-widgets/base",
            "_view_module_version": "1.2.0",
            "_view_name": "StyleView",
            "description_width": ""
          }
        },
        "540c469df0c34fd19ea08fa4ebac7d88": {
          "model_module": "@jupyter-widgets/base",
          "model_name": "LayoutModel",
          "model_module_version": "1.2.0",
          "state": {
            "_model_module": "@jupyter-widgets/base",
            "_model_module_version": "1.2.0",
            "_model_name": "LayoutModel",
            "_view_count": null,
            "_view_module": "@jupyter-widgets/base",
            "_view_module_version": "1.2.0",
            "_view_name": "LayoutView",
            "align_content": null,
            "align_items": null,
            "align_self": null,
            "border": null,
            "bottom": null,
            "display": null,
            "flex": null,
            "flex_flow": null,
            "grid_area": null,
            "grid_auto_columns": null,
            "grid_auto_flow": null,
            "grid_auto_rows": null,
            "grid_column": null,
            "grid_gap": null,
            "grid_row": null,
            "grid_template_areas": null,
            "grid_template_columns": null,
            "grid_template_rows": null,
            "height": null,
            "justify_content": null,
            "justify_items": null,
            "left": null,
            "margin": null,
            "max_height": null,
            "max_width": null,
            "min_height": null,
            "min_width": null,
            "object_fit": null,
            "object_position": null,
            "order": null,
            "overflow": null,
            "overflow_x": null,
            "overflow_y": null,
            "padding": null,
            "right": null,
            "top": null,
            "visibility": null,
            "width": null
          }
        },
        "9bfe93b3aaef46ebafaeb335edbf82c1": {
          "model_module": "@jupyter-widgets/controls",
          "model_name": "ProgressStyleModel",
          "model_module_version": "1.5.0",
          "state": {
            "_model_module": "@jupyter-widgets/controls",
            "_model_module_version": "1.5.0",
            "_model_name": "ProgressStyleModel",
            "_view_count": null,
            "_view_module": "@jupyter-widgets/base",
            "_view_module_version": "1.2.0",
            "_view_name": "StyleView",
            "bar_color": null,
            "description_width": ""
          }
        },
        "169a0b8208ab4358a7c7e49e61d2f839": {
          "model_module": "@jupyter-widgets/base",
          "model_name": "LayoutModel",
          "model_module_version": "1.2.0",
          "state": {
            "_model_module": "@jupyter-widgets/base",
            "_model_module_version": "1.2.0",
            "_model_name": "LayoutModel",
            "_view_count": null,
            "_view_module": "@jupyter-widgets/base",
            "_view_module_version": "1.2.0",
            "_view_name": "LayoutView",
            "align_content": null,
            "align_items": null,
            "align_self": null,
            "border": null,
            "bottom": null,
            "display": null,
            "flex": null,
            "flex_flow": null,
            "grid_area": null,
            "grid_auto_columns": null,
            "grid_auto_flow": null,
            "grid_auto_rows": null,
            "grid_column": null,
            "grid_gap": null,
            "grid_row": null,
            "grid_template_areas": null,
            "grid_template_columns": null,
            "grid_template_rows": null,
            "height": null,
            "justify_content": null,
            "justify_items": null,
            "left": null,
            "margin": null,
            "max_height": null,
            "max_width": null,
            "min_height": null,
            "min_width": null,
            "object_fit": null,
            "object_position": null,
            "order": null,
            "overflow": null,
            "overflow_x": null,
            "overflow_y": null,
            "padding": null,
            "right": null,
            "top": null,
            "visibility": null,
            "width": null
          }
        },
        "8ee95093cdc847bc9a9ef2618cece88f": {
          "model_module": "@jupyter-widgets/controls",
          "model_name": "DescriptionStyleModel",
          "model_module_version": "1.5.0",
          "state": {
            "_model_module": "@jupyter-widgets/controls",
            "_model_module_version": "1.5.0",
            "_model_name": "DescriptionStyleModel",
            "_view_count": null,
            "_view_module": "@jupyter-widgets/base",
            "_view_module_version": "1.2.0",
            "_view_name": "StyleView",
            "description_width": ""
          }
        },
        "5bdd211fda0148e8bbe4dc8232ce1f95": {
          "model_module": "@jupyter-widgets/controls",
          "model_name": "HBoxModel",
          "model_module_version": "1.5.0",
          "state": {
            "_dom_classes": [],
            "_model_module": "@jupyter-widgets/controls",
            "_model_module_version": "1.5.0",
            "_model_name": "HBoxModel",
            "_view_count": null,
            "_view_module": "@jupyter-widgets/controls",
            "_view_module_version": "1.5.0",
            "_view_name": "HBoxView",
            "box_style": "",
            "children": [
              "IPY_MODEL_b043b5d99c6c4912baf64e860dc6b8af",
              "IPY_MODEL_8f7f0a3e647a42e9b186637c1b6b5b5e",
              "IPY_MODEL_c4b6cd24f5ea47fbaadb8a6baa7f2a82"
            ],
            "layout": "IPY_MODEL_fea9dc5a9b0a4fa88bae5e65bef5bb28"
          }
        },
        "b043b5d99c6c4912baf64e860dc6b8af": {
          "model_module": "@jupyter-widgets/controls",
          "model_name": "HTMLModel",
          "model_module_version": "1.5.0",
          "state": {
            "_dom_classes": [],
            "_model_module": "@jupyter-widgets/controls",
            "_model_module_version": "1.5.0",
            "_model_name": "HTMLModel",
            "_view_count": null,
            "_view_module": "@jupyter-widgets/controls",
            "_view_module_version": "1.5.0",
            "_view_name": "HTMLView",
            "description": "",
            "description_tooltip": null,
            "layout": "IPY_MODEL_2c8cde7bb5b549b3b7c34628a23b26bc",
            "placeholder": "​",
            "style": "IPY_MODEL_ffbeb67a1f504d3d90b4021fcbf52cfc",
            "value": "Downloading: 100%"
          }
        },
        "8f7f0a3e647a42e9b186637c1b6b5b5e": {
          "model_module": "@jupyter-widgets/controls",
          "model_name": "FloatProgressModel",
          "model_module_version": "1.5.0",
          "state": {
            "_dom_classes": [],
            "_model_module": "@jupyter-widgets/controls",
            "_model_module_version": "1.5.0",
            "_model_name": "FloatProgressModel",
            "_view_count": null,
            "_view_module": "@jupyter-widgets/controls",
            "_view_module_version": "1.5.0",
            "_view_name": "ProgressView",
            "bar_style": "success",
            "description": "",
            "description_tooltip": null,
            "layout": "IPY_MODEL_452d9f6499fc4340a60648592b9afc48",
            "max": 526681800,
            "min": 0,
            "orientation": "horizontal",
            "style": "IPY_MODEL_d18065e3313443cba66a31d61c422bdb",
            "value": 526681800
          }
        },
        "c4b6cd24f5ea47fbaadb8a6baa7f2a82": {
          "model_module": "@jupyter-widgets/controls",
          "model_name": "HTMLModel",
          "model_module_version": "1.5.0",
          "state": {
            "_dom_classes": [],
            "_model_module": "@jupyter-widgets/controls",
            "_model_module_version": "1.5.0",
            "_model_name": "HTMLModel",
            "_view_count": null,
            "_view_module": "@jupyter-widgets/controls",
            "_view_module_version": "1.5.0",
            "_view_name": "HTMLView",
            "description": "",
            "description_tooltip": null,
            "layout": "IPY_MODEL_71d7443ae8c44ec6955f04c50cfcfc95",
            "placeholder": "​",
            "style": "IPY_MODEL_b8dccdcfd1474163a326f8cef04cae60",
            "value": " 527M/527M [00:06&lt;00:00, 75.4MB/s]"
          }
        },
        "fea9dc5a9b0a4fa88bae5e65bef5bb28": {
          "model_module": "@jupyter-widgets/base",
          "model_name": "LayoutModel",
          "model_module_version": "1.2.0",
          "state": {
            "_model_module": "@jupyter-widgets/base",
            "_model_module_version": "1.2.0",
            "_model_name": "LayoutModel",
            "_view_count": null,
            "_view_module": "@jupyter-widgets/base",
            "_view_module_version": "1.2.0",
            "_view_name": "LayoutView",
            "align_content": null,
            "align_items": null,
            "align_self": null,
            "border": null,
            "bottom": null,
            "display": null,
            "flex": null,
            "flex_flow": null,
            "grid_area": null,
            "grid_auto_columns": null,
            "grid_auto_flow": null,
            "grid_auto_rows": null,
            "grid_column": null,
            "grid_gap": null,
            "grid_row": null,
            "grid_template_areas": null,
            "grid_template_columns": null,
            "grid_template_rows": null,
            "height": null,
            "justify_content": null,
            "justify_items": null,
            "left": null,
            "margin": null,
            "max_height": null,
            "max_width": null,
            "min_height": null,
            "min_width": null,
            "object_fit": null,
            "object_position": null,
            "order": null,
            "overflow": null,
            "overflow_x": null,
            "overflow_y": null,
            "padding": null,
            "right": null,
            "top": null,
            "visibility": null,
            "width": null
          }
        },
        "2c8cde7bb5b549b3b7c34628a23b26bc": {
          "model_module": "@jupyter-widgets/base",
          "model_name": "LayoutModel",
          "model_module_version": "1.2.0",
          "state": {
            "_model_module": "@jupyter-widgets/base",
            "_model_module_version": "1.2.0",
            "_model_name": "LayoutModel",
            "_view_count": null,
            "_view_module": "@jupyter-widgets/base",
            "_view_module_version": "1.2.0",
            "_view_name": "LayoutView",
            "align_content": null,
            "align_items": null,
            "align_self": null,
            "border": null,
            "bottom": null,
            "display": null,
            "flex": null,
            "flex_flow": null,
            "grid_area": null,
            "grid_auto_columns": null,
            "grid_auto_flow": null,
            "grid_auto_rows": null,
            "grid_column": null,
            "grid_gap": null,
            "grid_row": null,
            "grid_template_areas": null,
            "grid_template_columns": null,
            "grid_template_rows": null,
            "height": null,
            "justify_content": null,
            "justify_items": null,
            "left": null,
            "margin": null,
            "max_height": null,
            "max_width": null,
            "min_height": null,
            "min_width": null,
            "object_fit": null,
            "object_position": null,
            "order": null,
            "overflow": null,
            "overflow_x": null,
            "overflow_y": null,
            "padding": null,
            "right": null,
            "top": null,
            "visibility": null,
            "width": null
          }
        },
        "ffbeb67a1f504d3d90b4021fcbf52cfc": {
          "model_module": "@jupyter-widgets/controls",
          "model_name": "DescriptionStyleModel",
          "model_module_version": "1.5.0",
          "state": {
            "_model_module": "@jupyter-widgets/controls",
            "_model_module_version": "1.5.0",
            "_model_name": "DescriptionStyleModel",
            "_view_count": null,
            "_view_module": "@jupyter-widgets/base",
            "_view_module_version": "1.2.0",
            "_view_name": "StyleView",
            "description_width": ""
          }
        },
        "452d9f6499fc4340a60648592b9afc48": {
          "model_module": "@jupyter-widgets/base",
          "model_name": "LayoutModel",
          "model_module_version": "1.2.0",
          "state": {
            "_model_module": "@jupyter-widgets/base",
            "_model_module_version": "1.2.0",
            "_model_name": "LayoutModel",
            "_view_count": null,
            "_view_module": "@jupyter-widgets/base",
            "_view_module_version": "1.2.0",
            "_view_name": "LayoutView",
            "align_content": null,
            "align_items": null,
            "align_self": null,
            "border": null,
            "bottom": null,
            "display": null,
            "flex": null,
            "flex_flow": null,
            "grid_area": null,
            "grid_auto_columns": null,
            "grid_auto_flow": null,
            "grid_auto_rows": null,
            "grid_column": null,
            "grid_gap": null,
            "grid_row": null,
            "grid_template_areas": null,
            "grid_template_columns": null,
            "grid_template_rows": null,
            "height": null,
            "justify_content": null,
            "justify_items": null,
            "left": null,
            "margin": null,
            "max_height": null,
            "max_width": null,
            "min_height": null,
            "min_width": null,
            "object_fit": null,
            "object_position": null,
            "order": null,
            "overflow": null,
            "overflow_x": null,
            "overflow_y": null,
            "padding": null,
            "right": null,
            "top": null,
            "visibility": null,
            "width": null
          }
        },
        "d18065e3313443cba66a31d61c422bdb": {
          "model_module": "@jupyter-widgets/controls",
          "model_name": "ProgressStyleModel",
          "model_module_version": "1.5.0",
          "state": {
            "_model_module": "@jupyter-widgets/controls",
            "_model_module_version": "1.5.0",
            "_model_name": "ProgressStyleModel",
            "_view_count": null,
            "_view_module": "@jupyter-widgets/base",
            "_view_module_version": "1.2.0",
            "_view_name": "StyleView",
            "bar_color": null,
            "description_width": ""
          }
        },
        "71d7443ae8c44ec6955f04c50cfcfc95": {
          "model_module": "@jupyter-widgets/base",
          "model_name": "LayoutModel",
          "model_module_version": "1.2.0",
          "state": {
            "_model_module": "@jupyter-widgets/base",
            "_model_module_version": "1.2.0",
            "_model_name": "LayoutModel",
            "_view_count": null,
            "_view_module": "@jupyter-widgets/base",
            "_view_module_version": "1.2.0",
            "_view_name": "LayoutView",
            "align_content": null,
            "align_items": null,
            "align_self": null,
            "border": null,
            "bottom": null,
            "display": null,
            "flex": null,
            "flex_flow": null,
            "grid_area": null,
            "grid_auto_columns": null,
            "grid_auto_flow": null,
            "grid_auto_rows": null,
            "grid_column": null,
            "grid_gap": null,
            "grid_row": null,
            "grid_template_areas": null,
            "grid_template_columns": null,
            "grid_template_rows": null,
            "height": null,
            "justify_content": null,
            "justify_items": null,
            "left": null,
            "margin": null,
            "max_height": null,
            "max_width": null,
            "min_height": null,
            "min_width": null,
            "object_fit": null,
            "object_position": null,
            "order": null,
            "overflow": null,
            "overflow_x": null,
            "overflow_y": null,
            "padding": null,
            "right": null,
            "top": null,
            "visibility": null,
            "width": null
          }
        },
        "b8dccdcfd1474163a326f8cef04cae60": {
          "model_module": "@jupyter-widgets/controls",
          "model_name": "DescriptionStyleModel",
          "model_module_version": "1.5.0",
          "state": {
            "_model_module": "@jupyter-widgets/controls",
            "_model_module_version": "1.5.0",
            "_model_name": "DescriptionStyleModel",
            "_view_count": null,
            "_view_module": "@jupyter-widgets/base",
            "_view_module_version": "1.2.0",
            "_view_name": "StyleView",
            "description_width": ""
          }
        }
      }
    }
  },
  "cells": [
    {
      "cell_type": "markdown",
      "metadata": {
        "id": "view-in-github",
        "colab_type": "text"
      },
      "source": [
        "<a href=\"https://colab.research.google.com/github/nahbos/AUT-Language-Understanding/blob/main/Ex02/bert_slot_intent.ipynb\" target=\"_parent\"><img src=\"https://colab.research.google.com/assets/colab-badge.svg\" alt=\"Open In Colab\"/></a>"
      ]
    },
    {
      "cell_type": "markdown",
      "source": [
        "# Sobhan Moradian Daghigh\n",
        "### **Ex 02: Slot Filling & Intent detection**"
      ],
      "metadata": {
        "id": "7knvZNdexVF1"
      }
    },
    {
      "cell_type": "code",
      "source": [
        "# Copyright @Steven Golovkine: available at [https://stevengolovkine.netlify.app/post/joint-intent-classification-slot-filling-with-transformers/]\n",
        "# Replicated by @SobhanMoradianDaghigh on 12-8-2022"
      ],
      "metadata": {
        "id": "xw7iVLxSDDK1"
      },
      "execution_count": 1,
      "outputs": []
    },
    {
      "cell_type": "code",
      "source": [
        "!pip install transformers==2.11.0"
      ],
      "metadata": {
        "colab": {
          "base_uri": "https://localhost:8080/"
        },
        "id": "QrbLIW6HC_gd",
        "outputId": "db9c1767-8d3a-446e-86f0-b53ab6afabdb"
      },
      "execution_count": 2,
      "outputs": [
        {
          "output_type": "stream",
          "name": "stdout",
          "text": [
            "Looking in indexes: https://pypi.org/simple, https://us-python.pkg.dev/colab-wheels/public/simple/\n",
            "Collecting transformers==2.11.0\n",
            "  Downloading transformers-2.11.0-py3-none-any.whl (674 kB)\n",
            "\u001b[K     |████████████████████████████████| 674 kB 19.5 MB/s \n",
            "\u001b[?25hRequirement already satisfied: requests in /usr/local/lib/python3.8/dist-packages (from transformers==2.11.0) (2.23.0)\n",
            "Requirement already satisfied: packaging in /usr/local/lib/python3.8/dist-packages (from transformers==2.11.0) (21.3)\n",
            "Requirement already satisfied: filelock in /usr/local/lib/python3.8/dist-packages (from transformers==2.11.0) (3.8.0)\n",
            "Requirement already satisfied: numpy in /usr/local/lib/python3.8/dist-packages (from transformers==2.11.0) (1.21.6)\n",
            "Requirement already satisfied: regex!=2019.12.17 in /usr/local/lib/python3.8/dist-packages (from transformers==2.11.0) (2022.6.2)\n",
            "Requirement already satisfied: tqdm>=4.27 in /usr/local/lib/python3.8/dist-packages (from transformers==2.11.0) (4.64.1)\n",
            "Collecting sacremoses\n",
            "  Downloading sacremoses-0.0.53.tar.gz (880 kB)\n",
            "\u001b[K     |████████████████████████████████| 880 kB 50.5 MB/s \n",
            "\u001b[?25hCollecting tokenizers==0.7.0\n",
            "  Downloading tokenizers-0.7.0-cp38-cp38-manylinux1_x86_64.whl (7.5 MB)\n",
            "\u001b[K     |████████████████████████████████| 7.5 MB 25.1 MB/s \n",
            "\u001b[?25hCollecting sentencepiece\n",
            "  Downloading sentencepiece-0.1.97-cp38-cp38-manylinux_2_17_x86_64.manylinux2014_x86_64.whl (1.3 MB)\n",
            "\u001b[K     |████████████████████████████████| 1.3 MB 63.7 MB/s \n",
            "\u001b[?25hRequirement already satisfied: pyparsing!=3.0.5,>=2.0.2 in /usr/local/lib/python3.8/dist-packages (from packaging->transformers==2.11.0) (3.0.9)\n",
            "Requirement already satisfied: urllib3!=1.25.0,!=1.25.1,<1.26,>=1.21.1 in /usr/local/lib/python3.8/dist-packages (from requests->transformers==2.11.0) (1.24.3)\n",
            "Requirement already satisfied: chardet<4,>=3.0.2 in /usr/local/lib/python3.8/dist-packages (from requests->transformers==2.11.0) (3.0.4)\n",
            "Requirement already satisfied: certifi>=2017.4.17 in /usr/local/lib/python3.8/dist-packages (from requests->transformers==2.11.0) (2022.9.24)\n",
            "Requirement already satisfied: idna<3,>=2.5 in /usr/local/lib/python3.8/dist-packages (from requests->transformers==2.11.0) (2.10)\n",
            "Requirement already satisfied: six in /usr/local/lib/python3.8/dist-packages (from sacremoses->transformers==2.11.0) (1.15.0)\n",
            "Requirement already satisfied: click in /usr/local/lib/python3.8/dist-packages (from sacremoses->transformers==2.11.0) (7.1.2)\n",
            "Requirement already satisfied: joblib in /usr/local/lib/python3.8/dist-packages (from sacremoses->transformers==2.11.0) (1.2.0)\n",
            "Building wheels for collected packages: sacremoses\n",
            "  Building wheel for sacremoses (setup.py) ... \u001b[?25l\u001b[?25hdone\n",
            "  Created wheel for sacremoses: filename=sacremoses-0.0.53-py3-none-any.whl size=895260 sha256=cc35babc6688f1d327a6362ec219134a297d0babb3a4c86b3414844bdada81d1\n",
            "  Stored in directory: /root/.cache/pip/wheels/82/ab/9b/c15899bf659ba74f623ac776e861cf2eb8608c1825ddec66a4\n",
            "Successfully built sacremoses\n",
            "Installing collected packages: tokenizers, sentencepiece, sacremoses, transformers\n",
            "Successfully installed sacremoses-0.0.53 sentencepiece-0.1.97 tokenizers-0.7.0 transformers-2.11.0\n"
          ]
        }
      ]
    },
    {
      "cell_type": "code",
      "execution_count": 123,
      "metadata": {
        "id": "z_UalGsWrry_"
      },
      "outputs": [],
      "source": [
        "# Load packages\n",
        "import numpy as np\n",
        "import pandas as pd\n",
        "import matplotlib.pyplot as plt\n",
        "from tqdm import tqdm\n",
        "\n",
        "from pathlib import Path\n",
        "from transformers import BertTokenizer, TFBertModel\n",
        "from urllib.request import urlretrieve\n",
        "\n",
        "import tensorflow as tf\n",
        "from tensorflow.keras.layers import Dense, Dropout\n",
        "from tensorflow.keras.losses import SparseCategoricalCrossentropy\n",
        "from tensorflow.keras.metrics import SparseCategoricalAccuracy\n",
        "from tensorflow.keras.optimizers import Adam"
      ]
    },
    {
      "cell_type": "code",
      "source": [
        "!wget -nc https://raw.githubusercontent.com/nahbos/AUT-Language-Understanding/main/Ex02/dataset/development-en.conllu\n",
        "!wget -nc https://raw.githubusercontent.com/nahbos/AUT-Language-Understanding/main/Ex02/dataset/test-en.conllu\n",
        "!wget -nc https://raw.githubusercontent.com/nahbos/AUT-Language-Understanding/main/Ex02/dataset/train-en.conllu"
      ],
      "metadata": {
        "colab": {
          "base_uri": "https://localhost:8080/"
        },
        "id": "7VffDuJQx3L5",
        "outputId": "b59c3aa2-8333-4a0d-9696-aab2db3b221c"
      },
      "execution_count": 4,
      "outputs": [
        {
          "output_type": "stream",
          "name": "stdout",
          "text": [
            "--2022-12-09 13:22:53--  https://raw.githubusercontent.com/nahbos/AUT-Language-Understanding/main/Ex02/dataset/development-en.conllu\n",
            "Resolving raw.githubusercontent.com (raw.githubusercontent.com)... 185.199.108.133, 185.199.109.133, 185.199.110.133, ...\n",
            "Connecting to raw.githubusercontent.com (raw.githubusercontent.com)|185.199.108.133|:443... connected.\n",
            "HTTP request sent, awaiting response... 200 OK\n",
            "Length: 1492856 (1.4M) [text/plain]\n",
            "Saving to: ‘development-en.conllu’\n",
            "\n",
            "development-en.conl 100%[===================>]   1.42M  --.-KB/s    in 0.007s  \n",
            "\n",
            "2022-12-09 13:22:54 (218 MB/s) - ‘development-en.conllu’ saved [1492856/1492856]\n",
            "\n",
            "--2022-12-09 13:22:54--  https://raw.githubusercontent.com/nahbos/AUT-Language-Understanding/main/Ex02/dataset/test-en.conllu\n",
            "Resolving raw.githubusercontent.com (raw.githubusercontent.com)... 185.199.108.133, 185.199.109.133, 185.199.110.133, ...\n",
            "Connecting to raw.githubusercontent.com (raw.githubusercontent.com)|185.199.108.133|:443... connected.\n",
            "HTTP request sent, awaiting response... 200 OK\n",
            "Length: 3084155 (2.9M) [text/plain]\n",
            "Saving to: ‘test-en.conllu’\n",
            "\n",
            "test-en.conllu      100%[===================>]   2.94M  --.-KB/s    in 0.01s   \n",
            "\n",
            "2022-12-09 13:22:55 (293 MB/s) - ‘test-en.conllu’ saved [3084155/3084155]\n",
            "\n",
            "--2022-12-09 13:22:55--  https://raw.githubusercontent.com/nahbos/AUT-Language-Understanding/main/Ex02/dataset/train-en.conllu\n",
            "Resolving raw.githubusercontent.com (raw.githubusercontent.com)... 185.199.110.133, 185.199.109.133, 185.199.111.133, ...\n",
            "Connecting to raw.githubusercontent.com (raw.githubusercontent.com)|185.199.110.133|:443... connected.\n",
            "HTTP request sent, awaiting response... 200 OK\n",
            "Length: 10915848 (10M) [text/plain]\n",
            "Saving to: ‘train-en.conllu’\n",
            "\n",
            "train-en.conllu     100%[===================>]  10.41M  --.-KB/s    in 0.04s   \n",
            "\n",
            "2022-12-09 13:22:58 (293 MB/s) - ‘train-en.conllu’ saved [10915848/10915848]\n",
            "\n"
          ]
        }
      ]
    },
    {
      "cell_type": "code",
      "source": [],
      "metadata": {
        "id": "4HGDYAGEx3JY"
      },
      "execution_count": 4,
      "outputs": []
    },
    {
      "cell_type": "markdown",
      "source": [
        "## Preparing data"
      ],
      "metadata": {
        "id": "XRL9tQlJm-GD"
      }
    },
    {
      "cell_type": "code",
      "source": [
        "def data_preparing(dataset_path):\n",
        "    prepared = []\n",
        "    intents = []\n",
        "    slots = []\n",
        "    data_list = set(Path(dataset_path).read_text('utf-8').strip().split('\\n\\n'))\n",
        "    for data in data_list:\n",
        "        data_dic = ''\n",
        "        for line in data.split('\\n')[3:]:\n",
        "            bio = line.split('\\t')[-1]    # BIO\n",
        "            bio = bio if bio != 'NoLabel' else 'O'\n",
        "            tokens = line.split('\\t')[1]  # tokens\n",
        "            intent = data.split('\\n')[1].split(':')[1].strip()  # intent\n",
        "            data_dic += (tokens + \":\" + bio + ' ')\n",
        "            intents.append(intent)\n",
        "            slots.append(bio)\n",
        "        data_dic += '<=> ' + intent\n",
        "        prepared.append(data_dic)\n",
        "    return prepared, intents, slots"
      ],
      "metadata": {
        "id": "2JIaagHux3Bj"
      },
      "execution_count": 5,
      "outputs": []
    },
    {
      "cell_type": "code",
      "source": [
        "train, intent_names_train, slots_train = data_preparing('./train-en.conllu')\n",
        "val, intent_names_val, slots_val       = data_preparing('./development-en.conllu')\n",
        "test, intent_names_test, slots_test    = data_preparing('./test-en.conllu')"
      ],
      "metadata": {
        "id": "FfnATgp9YtYf"
      },
      "execution_count": 6,
      "outputs": []
    },
    {
      "cell_type": "code",
      "source": [
        "train[:10]"
      ],
      "metadata": {
        "colab": {
          "base_uri": "https://localhost:8080/"
        },
        "id": "CH9V0CxrcFrR",
        "outputId": "9fff4384-8d23-46cd-bb27-9d044c685fd0"
      },
      "execution_count": 7,
      "outputs": [
        {
          "output_type": "execute_result",
          "data": {
            "text/plain": [
              "['delete:O a:O reminder:B-reminder/noun <=> reminder/cancel_reminder',\n",
              " 'is:O it:O going:O to:O rain:B-weather/attribute on:B-datetime tuesday:I-datetime <=> weather/find',\n",
              " 'is:O there:O rain:B-weather/attribute in:O the:O forecast:B-weather/noun this:B-datetime week:I-datetime <=> weather/find',\n",
              " 'set:O the:O alarm:O for:B-datetime am:I-datetime every:I-datetime day:I-datetime until:I-datetime friday:I-datetime <=> alarm/set_alarm',\n",
              " 'what:O will:O the:O high:O temperature:B-weather/noun be:O ?:O <=> weather/find',\n",
              " 'set:O alarm:O every:B-datetime fifteen:I-datetime minutes:I-datetime <=> alarm/set_alarm',\n",
              " 'is:O there:O a:O chance:O for:O storms:B-weather/attribute <=> weather/find',\n",
              " 'repeat:O my:O alarm:O weekly:B-datetime <=> alarm/modify_alarm',\n",
              " 'set:O alarm:O for:B-datetime 9am:I-datetime on:I-datetime weekends:I-datetime <=> alarm/set_alarm',\n",
              " 'whats:O weather:B-weather/noun like:O in:O texas:B-location <=> weather/find']"
            ]
          },
          "metadata": {},
          "execution_count": 7
        }
      ]
    },
    {
      "cell_type": "code",
      "source": [
        "intent_names = list(set(intent_names_train + intent_names_val + intent_names_test))\n",
        "slots = list(set(slots_train + slots_val + slots_test))"
      ],
      "metadata": {
        "id": "tOIQkwCpdX4N"
      },
      "execution_count": 8,
      "outputs": []
    },
    {
      "cell_type": "code",
      "source": [],
      "metadata": {
        "id": "cT9Y0KhUqi6C"
      },
      "execution_count": 8,
      "outputs": []
    },
    {
      "cell_type": "code",
      "source": [
        "def parse_line(line):\n",
        "    utterance_data, intent_label = line.split(\" <=> \")\n",
        "    items = utterance_data.split()\n",
        "    words = [item.rsplit(':', 1)[0] for item in items]\n",
        "    word_labels = [item.rsplit(':', 1)[1] for item in items]\n",
        "    return {\n",
        "        'intent_label': intent_label,\n",
        "        'words': \" \".join(words),\n",
        "        'words_label': \" \".join(word_labels),\n",
        "        'length': len(words)\n",
        "    }"
      ],
      "metadata": {
        "id": "In7hpA8fdX1K"
      },
      "execution_count": 9,
      "outputs": []
    },
    {
      "cell_type": "code",
      "source": [
        "parse_line(train[0])"
      ],
      "metadata": {
        "colab": {
          "base_uri": "https://localhost:8080/"
        },
        "id": "HidLAwL3dXxw",
        "outputId": "1f3704f6-bb6b-402c-d9e5-62bf3aeb633e"
      },
      "execution_count": 10,
      "outputs": [
        {
          "output_type": "execute_result",
          "data": {
            "text/plain": [
              "{'intent_label': 'reminder/cancel_reminder',\n",
              " 'words': 'delete a reminder',\n",
              " 'words_label': 'O O B-reminder/noun',\n",
              " 'length': 3}"
            ]
          },
          "metadata": {},
          "execution_count": 10
        }
      ]
    },
    {
      "cell_type": "code",
      "source": [],
      "metadata": {
        "id": "0nwLbiFIx2rL"
      },
      "execution_count": 10,
      "outputs": []
    },
    {
      "cell_type": "code",
      "source": [
        "df_train = pd.DataFrame([parse_line(line) for line in train])\n",
        "df_validation = pd.DataFrame([parse_line(line) for line in val])\n",
        "df_test = pd.DataFrame([parse_line(line) for line in test])"
      ],
      "metadata": {
        "id": "2jVxDDulx2oN"
      },
      "execution_count": 11,
      "outputs": []
    },
    {
      "cell_type": "code",
      "source": [
        "df_train.head()"
      ],
      "metadata": {
        "colab": {
          "base_uri": "https://localhost:8080/",
          "height": 206
        },
        "id": "E0oc_fn1x2lW",
        "outputId": "460d2ec9-385e-4f03-f34b-f95120a06ce5"
      },
      "execution_count": 12,
      "outputs": [
        {
          "output_type": "execute_result",
          "data": {
            "text/plain": [
              "               intent_label                                        words  \\\n",
              "0  reminder/cancel_reminder                            delete a reminder   \n",
              "1              weather/find               is it going to rain on tuesday   \n",
              "2              weather/find      is there rain in the forecast this week   \n",
              "3           alarm/set_alarm  set the alarm for am every day until friday   \n",
              "4              weather/find          what will the high temperature be ?   \n",
              "\n",
              "                                         words_label  length  \n",
              "0                                O O B-reminder/noun       3  \n",
              "1  O O O O B-weather/attribute B-datetime I-datetime       7  \n",
              "2  O O B-weather/attribute O O B-weather/noun B-d...       8  \n",
              "3  O O O B-datetime I-datetime I-datetime I-datet...       9  \n",
              "4                         O O O O B-weather/noun O O       7  "
            ],
            "text/html": [
              "\n",
              "  <div id=\"df-a1a009c0-3577-4a8d-9a86-4b709eeac2a9\">\n",
              "    <div class=\"colab-df-container\">\n",
              "      <div>\n",
              "<style scoped>\n",
              "    .dataframe tbody tr th:only-of-type {\n",
              "        vertical-align: middle;\n",
              "    }\n",
              "\n",
              "    .dataframe tbody tr th {\n",
              "        vertical-align: top;\n",
              "    }\n",
              "\n",
              "    .dataframe thead th {\n",
              "        text-align: right;\n",
              "    }\n",
              "</style>\n",
              "<table border=\"1\" class=\"dataframe\">\n",
              "  <thead>\n",
              "    <tr style=\"text-align: right;\">\n",
              "      <th></th>\n",
              "      <th>intent_label</th>\n",
              "      <th>words</th>\n",
              "      <th>words_label</th>\n",
              "      <th>length</th>\n",
              "    </tr>\n",
              "  </thead>\n",
              "  <tbody>\n",
              "    <tr>\n",
              "      <th>0</th>\n",
              "      <td>reminder/cancel_reminder</td>\n",
              "      <td>delete a reminder</td>\n",
              "      <td>O O B-reminder/noun</td>\n",
              "      <td>3</td>\n",
              "    </tr>\n",
              "    <tr>\n",
              "      <th>1</th>\n",
              "      <td>weather/find</td>\n",
              "      <td>is it going to rain on tuesday</td>\n",
              "      <td>O O O O B-weather/attribute B-datetime I-datetime</td>\n",
              "      <td>7</td>\n",
              "    </tr>\n",
              "    <tr>\n",
              "      <th>2</th>\n",
              "      <td>weather/find</td>\n",
              "      <td>is there rain in the forecast this week</td>\n",
              "      <td>O O B-weather/attribute O O B-weather/noun B-d...</td>\n",
              "      <td>8</td>\n",
              "    </tr>\n",
              "    <tr>\n",
              "      <th>3</th>\n",
              "      <td>alarm/set_alarm</td>\n",
              "      <td>set the alarm for am every day until friday</td>\n",
              "      <td>O O O B-datetime I-datetime I-datetime I-datet...</td>\n",
              "      <td>9</td>\n",
              "    </tr>\n",
              "    <tr>\n",
              "      <th>4</th>\n",
              "      <td>weather/find</td>\n",
              "      <td>what will the high temperature be ?</td>\n",
              "      <td>O O O O B-weather/noun O O</td>\n",
              "      <td>7</td>\n",
              "    </tr>\n",
              "  </tbody>\n",
              "</table>\n",
              "</div>\n",
              "      <button class=\"colab-df-convert\" onclick=\"convertToInteractive('df-a1a009c0-3577-4a8d-9a86-4b709eeac2a9')\"\n",
              "              title=\"Convert this dataframe to an interactive table.\"\n",
              "              style=\"display:none;\">\n",
              "        \n",
              "  <svg xmlns=\"http://www.w3.org/2000/svg\" height=\"24px\"viewBox=\"0 0 24 24\"\n",
              "       width=\"24px\">\n",
              "    <path d=\"M0 0h24v24H0V0z\" fill=\"none\"/>\n",
              "    <path d=\"M18.56 5.44l.94 2.06.94-2.06 2.06-.94-2.06-.94-.94-2.06-.94 2.06-2.06.94zm-11 1L8.5 8.5l.94-2.06 2.06-.94-2.06-.94L8.5 2.5l-.94 2.06-2.06.94zm10 10l.94 2.06.94-2.06 2.06-.94-2.06-.94-.94-2.06-.94 2.06-2.06.94z\"/><path d=\"M17.41 7.96l-1.37-1.37c-.4-.4-.92-.59-1.43-.59-.52 0-1.04.2-1.43.59L10.3 9.45l-7.72 7.72c-.78.78-.78 2.05 0 2.83L4 21.41c.39.39.9.59 1.41.59.51 0 1.02-.2 1.41-.59l7.78-7.78 2.81-2.81c.8-.78.8-2.07 0-2.86zM5.41 20L4 18.59l7.72-7.72 1.47 1.35L5.41 20z\"/>\n",
              "  </svg>\n",
              "      </button>\n",
              "      \n",
              "  <style>\n",
              "    .colab-df-container {\n",
              "      display:flex;\n",
              "      flex-wrap:wrap;\n",
              "      gap: 12px;\n",
              "    }\n",
              "\n",
              "    .colab-df-convert {\n",
              "      background-color: #E8F0FE;\n",
              "      border: none;\n",
              "      border-radius: 50%;\n",
              "      cursor: pointer;\n",
              "      display: none;\n",
              "      fill: #1967D2;\n",
              "      height: 32px;\n",
              "      padding: 0 0 0 0;\n",
              "      width: 32px;\n",
              "    }\n",
              "\n",
              "    .colab-df-convert:hover {\n",
              "      background-color: #E2EBFA;\n",
              "      box-shadow: 0px 1px 2px rgba(60, 64, 67, 0.3), 0px 1px 3px 1px rgba(60, 64, 67, 0.15);\n",
              "      fill: #174EA6;\n",
              "    }\n",
              "\n",
              "    [theme=dark] .colab-df-convert {\n",
              "      background-color: #3B4455;\n",
              "      fill: #D2E3FC;\n",
              "    }\n",
              "\n",
              "    [theme=dark] .colab-df-convert:hover {\n",
              "      background-color: #434B5C;\n",
              "      box-shadow: 0px 1px 3px 1px rgba(0, 0, 0, 0.15);\n",
              "      filter: drop-shadow(0px 1px 2px rgba(0, 0, 0, 0.3));\n",
              "      fill: #FFFFFF;\n",
              "    }\n",
              "  </style>\n",
              "\n",
              "      <script>\n",
              "        const buttonEl =\n",
              "          document.querySelector('#df-a1a009c0-3577-4a8d-9a86-4b709eeac2a9 button.colab-df-convert');\n",
              "        buttonEl.style.display =\n",
              "          google.colab.kernel.accessAllowed ? 'block' : 'none';\n",
              "\n",
              "        async function convertToInteractive(key) {\n",
              "          const element = document.querySelector('#df-a1a009c0-3577-4a8d-9a86-4b709eeac2a9');\n",
              "          const dataTable =\n",
              "            await google.colab.kernel.invokeFunction('convertToInteractive',\n",
              "                                                     [key], {});\n",
              "          if (!dataTable) return;\n",
              "\n",
              "          const docLinkHtml = 'Like what you see? Visit the ' +\n",
              "            '<a target=\"_blank\" href=https://colab.research.google.com/notebooks/data_table.ipynb>data table notebook</a>'\n",
              "            + ' to learn more about interactive tables.';\n",
              "          element.innerHTML = '';\n",
              "          dataTable['output_type'] = 'display_data';\n",
              "          await google.colab.output.renderOutput(dataTable, element);\n",
              "          const docLink = document.createElement('div');\n",
              "          docLink.innerHTML = docLinkHtml;\n",
              "          element.appendChild(docLink);\n",
              "        }\n",
              "      </script>\n",
              "    </div>\n",
              "  </div>\n",
              "  "
            ]
          },
          "metadata": {},
          "execution_count": 12
        }
      ]
    },
    {
      "cell_type": "code",
      "source": [],
      "metadata": {
        "id": "wy9wd1ntx2id"
      },
      "execution_count": 12,
      "outputs": []
    },
    {
      "cell_type": "markdown",
      "source": [
        "## Intent classification (sentence level)"
      ],
      "metadata": {
        "id": "qGDhCGvDm0OS"
      }
    },
    {
      "cell_type": "code",
      "source": [
        "model_name = 'bert-base-cased'\n",
        "tokenizer = BertTokenizer.from_pretrained(model_name)"
      ],
      "metadata": {
        "colab": {
          "base_uri": "https://localhost:8080/",
          "height": 49,
          "referenced_widgets": [
            "6dfcd3efb0704836bf5cd8917e46d25c",
            "e01cd7179efc401785963608f89ddfba",
            "bb09b1055d974a5195c115cb3284085e",
            "65015e18ea524d7997e8355eae43ba39",
            "2aef52efc1f041c2864aba34a64aa40e",
            "50dfa676bc794b25876d5d0be73eb87f",
            "a59edbf8259d404cb34f2229fdf0bfa3",
            "104c7d66b9904f98887dc6bd174dbbc8",
            "33115a4a62014648b4637580999d2edb",
            "24202f3126474e47a0cf9d3d9240e4f4",
            "5513dd82582e4617a2ce2773a5b8fb09"
          ]
        },
        "id": "AkrLu4jUx2fW",
        "outputId": "02c1c97b-24b7-4d37-dfe5-8de9f1b8de0c"
      },
      "execution_count": 13,
      "outputs": [
        {
          "output_type": "display_data",
          "data": {
            "text/plain": [
              "Downloading:   0%|          | 0.00/213k [00:00<?, ?B/s]"
            ],
            "application/vnd.jupyter.widget-view+json": {
              "version_major": 2,
              "version_minor": 0,
              "model_id": "6dfcd3efb0704836bf5cd8917e46d25c"
            }
          },
          "metadata": {}
        }
      ]
    },
    {
      "cell_type": "code",
      "source": [
        "tokenizer.vocab_size"
      ],
      "metadata": {
        "colab": {
          "base_uri": "https://localhost:8080/"
        },
        "id": "y4XvkmCGx2V-",
        "outputId": "88b7840e-448d-4061-86a2-f7f196dc42c8"
      },
      "execution_count": 14,
      "outputs": [
        {
          "output_type": "execute_result",
          "data": {
            "text/plain": [
              "28996"
            ]
          },
          "metadata": {},
          "execution_count": 14
        }
      ]
    },
    {
      "cell_type": "code",
      "source": [
        "train_sequence_max_length = max([len(tokenizer.encode(text)) for text in df_train['words']])\n",
        "train_sequence_max_length"
      ],
      "metadata": {
        "colab": {
          "base_uri": "https://localhost:8080/"
        },
        "id": "9BDojPT9oqxA",
        "outputId": "6e3e017d-5cd7-4443-e88c-081b27309e79"
      },
      "execution_count": 15,
      "outputs": [
        {
          "output_type": "execute_result",
          "data": {
            "text/plain": [
              "34"
            ]
          },
          "metadata": {},
          "execution_count": 15
        }
      ]
    },
    {
      "cell_type": "code",
      "source": [
        "def encode_dataset(tokenizer, text_sequences, max_length):\n",
        "    token_ids = np.zeros(shape=(len(text_sequences), max_length), dtype=np.int32)\n",
        "    for i, text_sequence in enumerate(text_sequences):\n",
        "        encoded = tokenizer.encode(text_sequence)\n",
        "        token_ids[i, 0:len(encoded)] = encoded\n",
        "    attention_masks = (token_ids != 0).astype(np.int32)\n",
        "    \n",
        "    return {'input_ids': token_ids, 'attention_masks': attention_masks}"
      ],
      "metadata": {
        "id": "-ufz0GHVoqua"
      },
      "execution_count": 16,
      "outputs": []
    },
    {
      "cell_type": "code",
      "source": [
        "encoded_train      = encode_dataset(tokenizer, df_train['words'], train_sequence_max_length)\n",
        "encoded_validation = encode_dataset(tokenizer, df_validation['words'], train_sequence_max_length)\n",
        "encoded_test       = encode_dataset(tokenizer, df_test['words'], train_sequence_max_length)"
      ],
      "metadata": {
        "id": "udyOfUADx2P4"
      },
      "execution_count": 17,
      "outputs": []
    },
    {
      "cell_type": "code",
      "source": [],
      "metadata": {
        "id": "zaDmpXc8x2Ms"
      },
      "execution_count": 17,
      "outputs": []
    },
    {
      "cell_type": "code",
      "source": [
        "intent_map = dict((label, idx) for idx, label in enumerate(intent_names))"
      ],
      "metadata": {
        "id": "YUOWWcckx2JW"
      },
      "execution_count": 18,
      "outputs": []
    },
    {
      "cell_type": "code",
      "source": [
        "intent_map"
      ],
      "metadata": {
        "colab": {
          "base_uri": "https://localhost:8080/"
        },
        "id": "ui7mojBOtzF1",
        "outputId": "2bcb99a3-0c84-4d2d-d53c-760153a8ac99"
      },
      "execution_count": 19,
      "outputs": [
        {
          "output_type": "execute_result",
          "data": {
            "text/plain": [
              "{'reminder/set_reminder': 0,\n",
              " 'weather/checkSunset': 1,\n",
              " 'alarm/set_alarm': 2,\n",
              " 'reminder/cancel_reminder': 3,\n",
              " 'alarm/snooze_alarm': 4,\n",
              " 'weather/find': 5,\n",
              " 'weather/checkSunrise': 6,\n",
              " 'alarm/modify_alarm': 7,\n",
              " 'alarm/cancel_alarm': 8,\n",
              " 'reminder/show_reminders': 9,\n",
              " 'alarm/show_alarms': 10,\n",
              " 'alarm/time_left_on_alarm': 11}"
            ]
          },
          "metadata": {},
          "execution_count": 19
        }
      ]
    },
    {
      "cell_type": "code",
      "source": [
        "intent_train = df_train['intent_label'].map(intent_map).values\n",
        "intent_validation = df_validation['intent_label'].map(intent_map).values\n",
        "intent_test = df_test['intent_label'].map(intent_map).values"
      ],
      "metadata": {
        "id": "813NNUQNx2GN"
      },
      "execution_count": 20,
      "outputs": []
    },
    {
      "cell_type": "code",
      "source": [],
      "metadata": {
        "id": "_tDMqMIxx2C2"
      },
      "execution_count": null,
      "outputs": []
    },
    {
      "cell_type": "markdown",
      "source": [
        "**Loading and feeding a pretrained BERT model**"
      ],
      "metadata": {
        "id": "vwvzsZHcq5aa"
      }
    },
    {
      "cell_type": "code",
      "source": [
        "base_bert_model = TFBertModel.from_pretrained('bert-base-cased')\n",
        "base_bert_model.summary()"
      ],
      "metadata": {
        "id": "VWtfCgNVx1_u"
      },
      "execution_count": null,
      "outputs": []
    },
    {
      "cell_type": "code",
      "source": [],
      "metadata": {
        "id": "M9M0q0lXreDR"
      },
      "execution_count": null,
      "outputs": []
    },
    {
      "cell_type": "code",
      "source": [
        "class IntentClassificationModel(tf.keras.Model):\n",
        "    def __init__(self, intent_num_labels=None, model_name='bert-base-cased', dropout_prob=0.1):\n",
        "        super().__init__(name='joint_intent_slot')\n",
        "        # Let's preload the pretrained model BERT in the constructor of our classifier model.\n",
        "        self.bert = TFBertModel.from_pretrained(model_name)\n",
        "        self.dropout = Dropout(dropout_prob)\n",
        "        \n",
        "        # Define a (Dense) classification layer to compute for each\n",
        "        # sequence in a batch of samples. The number of output classes\n",
        "        # is given by the intent_num_labels parameter.\n",
        "        # Use the default linear activation (no softmax) to compute\n",
        "        # logits. The softmax normalization will be computed in the\n",
        "        # loss function instead of the model itself.\n",
        "        self.intent_classifier = Dense(intent_num_labels)\n",
        "        \n",
        "    def call(self, inputs, **kwargs):\n",
        "        # Use the pretrained model to extract features from our encoded inputs.\n",
        "        sequence_output, pooled_output = self.bert(inputs, **kwargs)\n",
        "        \n",
        "        # The second output of the main BERT layer has shape:\n",
        "        # (batch_size, output_dim) and gives a \"pooled\" representation\n",
        "        # for the full sequence from the hidden state that corresponds\n",
        "        # to the \"[CLS]\" token.\n",
        "        pooled_output = self.dropout(pooled_output, training=kwargs.get('training', False))\n",
        "        \n",
        "        # Use the classifier layer to compute the logits from the pooled features.\n",
        "        intent_logits = self.intent_classifier(pooled_output)\n",
        "        return intent_logits"
      ],
      "metadata": {
        "id": "jjpVAkUDx18L"
      },
      "execution_count": null,
      "outputs": []
    },
    {
      "cell_type": "code",
      "source": [
        "# Build the model\n",
        "intent_model = IntentClassificationModel(intent_num_labels=len(intent_map))\n",
        "\n",
        "intent_model.compile(optimizer=Adam(learning_rate=3e-5, epsilon=1e-08),\n",
        "                     loss=SparseCategoricalCrossentropy(from_logits=True),\n",
        "                     metrics=[SparseCategoricalAccuracy('accuracy')])"
      ],
      "metadata": {
        "id": "xA7iMPr8x15E"
      },
      "execution_count": null,
      "outputs": []
    },
    {
      "cell_type": "code",
      "source": [
        "# Train the model\n",
        "history = intent_model.fit(encoded_train, intent_train,\n",
        "                           epochs=2, batch_size=32,\n",
        "                           validation_data=(encoded_validation, intent_validation))"
      ],
      "metadata": {
        "id": "cVNkM5SHx11s"
      },
      "execution_count": null,
      "outputs": []
    },
    {
      "cell_type": "code",
      "source": [],
      "metadata": {
        "id": "fbe8UGhVXyI5"
      },
      "execution_count": null,
      "outputs": []
    },
    {
      "cell_type": "code",
      "source": [
        "def classify(text, tokenizerzer, model, intent_names):\n",
        "    inputs = tf.constant(tokenizer.encode(text))[None, :] # Batch size = 1\n",
        "    class_id = model(inputs).numpy().argmax(axis=1)[0]\n",
        "    return intent_names[class_id]"
      ],
      "metadata": {
        "id": "C5gtyMyex1yT"
      },
      "execution_count": null,
      "outputs": []
    },
    {
      "cell_type": "code",
      "source": [
        "classify('Wake me up for the first job meeting?', tokenizer, intent_model, intent_names)"
      ],
      "metadata": {
        "id": "9IrCgmKVx1vD"
      },
      "execution_count": null,
      "outputs": []
    },
    {
      "cell_type": "markdown",
      "source": [
        "**WOW))**"
      ],
      "metadata": {
        "id": "Ph5PLeulYSAY"
      }
    },
    {
      "cell_type": "markdown",
      "source": [
        "## Adding Slot filling (word level) to Intent clf model"
      ],
      "metadata": {
        "id": "jJVMJO6vYZzY"
      }
    },
    {
      "cell_type": "code",
      "source": [
        "slot_names = [\"[PAD]\"]\n",
        "slot_names += list(slots)\n",
        "slot_map = {}\n",
        "for label in slot_names:\n",
        "    slot_map[label] = len(slot_map)"
      ],
      "metadata": {
        "id": "inE9TAiVx1rr"
      },
      "execution_count": 21,
      "outputs": []
    },
    {
      "cell_type": "code",
      "source": [
        "slot_map"
      ],
      "metadata": {
        "colab": {
          "base_uri": "https://localhost:8080/"
        },
        "id": "doxCTr0yx1h8",
        "outputId": "cc8cdd7a-5a31-4026-c82e-6d5fd25a1908"
      },
      "execution_count": 22,
      "outputs": [
        {
          "output_type": "execute_result",
          "data": {
            "text/plain": [
              "{'[PAD]': 0,\n",
              " 'B-weather/noun': 1,\n",
              " 'I-weather/noun': 2,\n",
              " 'I-datetime': 3,\n",
              " 'B-alarm/alarm_modifier': 4,\n",
              " 'B-datetime': 5,\n",
              " 'B-reminder/recurring_period': 6,\n",
              " 'B-timer/noun': 7,\n",
              " 'B-reminder/todo': 8,\n",
              " 'I-alarm/alarm_modifier': 9,\n",
              " 'B-news/type': 10,\n",
              " 'I-location': 11,\n",
              " 'B-reminder/noun': 12,\n",
              " 'B-location': 13,\n",
              " 'I-reminder/reminder_modifier': 14,\n",
              " 'I-reminder/recurring_period': 15,\n",
              " 'B-weather/attribute': 16,\n",
              " 'B-weather/temperatureUnit': 17,\n",
              " 'B-demonstrative_reference': 18,\n",
              " 'O': 19,\n",
              " 'B-reminder/reminder_modifier': 20,\n",
              " 'I-demonstrative_reference': 21,\n",
              " 'B-timer/attributes': 22,\n",
              " 'B-reminder/reference': 23,\n",
              " 'I-reminder/reference': 24,\n",
              " 'B-negation': 25,\n",
              " 'I-weather/attribute': 26,\n",
              " 'I-reminder/todo': 27,\n",
              " 'I-reminder/noun': 28}"
            ]
          },
          "metadata": {},
          "execution_count": 22
        }
      ]
    },
    {
      "cell_type": "code",
      "source": [
        "def encode_token_labels(text_sequences, slot_names, tokenizer, slot_map, max_length):\n",
        "    encoded = np.zeros(shape=(len(text_sequences), max_length), dtype=np.int32)\n",
        "    for i, (text_sequence, word_labels) in enumerate(zip(text_sequences, slot_names)):\n",
        "        encoded_labels = []\n",
        "        for word, word_label in zip(text_sequence.split(), word_labels.split()):\n",
        "            tokens = tokenizer.tokenize(word)\n",
        "            encoded_labels.append(slot_map[word_label])\n",
        "            expand_label = word_label.replace(\"B-\", \"I-\")\n",
        "            if not expand_label in slot_map:\n",
        "                expand_label = word_label\n",
        "            encoded_labels.extend([slot_map[expand_label]] * (len(tokens) - 1))\n",
        "        encoded[i, 1:len(encoded_labels) + 1] = encoded_labels\n",
        "    return encoded"
      ],
      "metadata": {
        "id": "iAma2W8px1ek"
      },
      "execution_count": 23,
      "outputs": []
    },
    {
      "cell_type": "code",
      "source": [
        "slot_train = encode_token_labels(df_train['words'], df_train['words_label'], tokenizer, slot_map, train_sequence_max_length)\n",
        "slot_validation = encode_token_labels(df_validation['words'], df_validation['words_label'], tokenizer, slot_map, train_sequence_max_length)\n",
        "slot_test = encode_token_labels(df_test['words'], df_test['words_label'], tokenizer, slot_map, train_sequence_max_length)"
      ],
      "metadata": {
        "id": "tXpMrNIgaVtl"
      },
      "execution_count": 24,
      "outputs": []
    },
    {
      "cell_type": "code",
      "source": [
        "class JointIntentAndSlotFillingModel(tf.keras.Model):\n",
        "\n",
        "    def __init__(self, intent_num_labels=None, slot_num_labels=None, model_name=\"bert-base-cased\", dropout_prob=0.1):\n",
        "        super().__init__(name=\"joint_intent_slot\")\n",
        "        self.bert = TFBertModel.from_pretrained(model_name)\n",
        "        self.dropout = Dropout(dropout_prob)\n",
        "        self.intent_classifier = Dense(intent_num_labels, name=\"intent_classifier\")\n",
        "        self.slot_classifier = Dense(slot_num_labels, name=\"slot_classifier\")\n",
        "\n",
        "    def call(self, inputs, **kwargs):\n",
        "        sequence_output, pooled_output = self.bert(inputs, **kwargs)\n",
        "\n",
        "        # The first output of the main BERT layer has shape:\n",
        "        # (batch_size, max_length, output_dim)\n",
        "        sequence_output = self.dropout(sequence_output, training=kwargs.get(\"training\", False))\n",
        "        slot_logits = self.slot_classifier(sequence_output)\n",
        "\n",
        "        # The second output of the main BERT layer has shape:\n",
        "        # (batch_size, output_dim)\n",
        "        # and gives a \"pooled\" representation for the full sequence from the\n",
        "        # hidden state that corresponds to the \"[CLS]\" token.\n",
        "        pooled_output = self.dropout(pooled_output, training=kwargs.get(\"training\", False))\n",
        "        intent_logits = self.intent_classifier(pooled_output)\n",
        "\n",
        "        return slot_logits, intent_logits"
      ],
      "metadata": {
        "id": "CgutDUUEaVpC"
      },
      "execution_count": 25,
      "outputs": []
    },
    {
      "cell_type": "code",
      "source": [
        "joint_model = JointIntentAndSlotFillingModel(intent_num_labels=len(intent_map), slot_num_labels=len(slot_map))\n",
        "\n",
        "# Define one classification loss for each output:\n",
        "opt = Adam(learning_rate=3e-5, epsilon=1e-08)\n",
        "losses = [SparseCategoricalCrossentropy(from_logits=True), SparseCategoricalCrossentropy(from_logits=True)]\n",
        "metrics = [SparseCategoricalAccuracy('accuracy')]\n",
        "joint_model.compile(optimizer=opt, loss=losses, metrics=metrics)"
      ],
      "metadata": {
        "colab": {
          "base_uri": "https://localhost:8080/",
          "height": 81,
          "referenced_widgets": [
            "d1805cbb339d45269d943c468631eb7e",
            "a78d3e6d638d4cfba5b2a810a8d28573",
            "c7be0f85fd704e7281902e2d370e9636",
            "93974e046068409fb9ae045b83f8b802",
            "1dfd505d3bf849babfd2ef9693da84d6",
            "3e8a59cbd1e446d7aabcb0c3b5c802b6",
            "a92a1133767342f89e0b43b3815dba19",
            "540c469df0c34fd19ea08fa4ebac7d88",
            "9bfe93b3aaef46ebafaeb335edbf82c1",
            "169a0b8208ab4358a7c7e49e61d2f839",
            "8ee95093cdc847bc9a9ef2618cece88f",
            "5bdd211fda0148e8bbe4dc8232ce1f95",
            "b043b5d99c6c4912baf64e860dc6b8af",
            "8f7f0a3e647a42e9b186637c1b6b5b5e",
            "c4b6cd24f5ea47fbaadb8a6baa7f2a82",
            "fea9dc5a9b0a4fa88bae5e65bef5bb28",
            "2c8cde7bb5b549b3b7c34628a23b26bc",
            "ffbeb67a1f504d3d90b4021fcbf52cfc",
            "452d9f6499fc4340a60648592b9afc48",
            "d18065e3313443cba66a31d61c422bdb",
            "71d7443ae8c44ec6955f04c50cfcfc95",
            "b8dccdcfd1474163a326f8cef04cae60"
          ]
        },
        "id": "WKN02S_RaVnn",
        "outputId": "51360224-12f1-4656-eb6f-9b9a4614bc55"
      },
      "execution_count": 26,
      "outputs": [
        {
          "output_type": "display_data",
          "data": {
            "text/plain": [
              "Downloading:   0%|          | 0.00/433 [00:00<?, ?B/s]"
            ],
            "application/vnd.jupyter.widget-view+json": {
              "version_major": 2,
              "version_minor": 0,
              "model_id": "d1805cbb339d45269d943c468631eb7e"
            }
          },
          "metadata": {}
        },
        {
          "output_type": "display_data",
          "data": {
            "text/plain": [
              "Downloading:   0%|          | 0.00/527M [00:00<?, ?B/s]"
            ],
            "application/vnd.jupyter.widget-view+json": {
              "version_major": 2,
              "version_minor": 0,
              "model_id": "5bdd211fda0148e8bbe4dc8232ce1f95"
            }
          },
          "metadata": {}
        }
      ]
    },
    {
      "cell_type": "code",
      "source": [
        "history = joint_model.fit(\n",
        "    encoded_train, (slot_train, intent_train),\n",
        "    validation_data=(encoded_validation, (slot_validation, intent_validation)),\n",
        "    epochs=2, batch_size=32)"
      ],
      "metadata": {
        "colab": {
          "base_uri": "https://localhost:8080/"
        },
        "id": "YG9_L0gBaVjf",
        "outputId": "bb205c46-690c-4c72-abaa-21c03e49ac5c"
      },
      "execution_count": 27,
      "outputs": [
        {
          "output_type": "stream",
          "name": "stdout",
          "text": [
            "Epoch 1/2\n",
            "768/768 [==============================] - 215s 256ms/step - loss: 0.2878 - output_1_loss: 0.1046 - output_2_loss: 0.1832 - output_1_accuracy: 0.9727 - output_2_accuracy: 0.9512 - val_loss: 0.0845 - val_output_1_loss: 0.0306 - val_output_2_loss: 0.0539 - val_output_1_accuracy: 0.9920 - val_output_2_accuracy: 0.9843\n",
            "Epoch 2/2\n",
            "768/768 [==============================] - 196s 255ms/step - loss: 0.0744 - output_1_loss: 0.0304 - output_2_loss: 0.0441 - output_1_accuracy: 0.9918 - output_2_accuracy: 0.9884 - val_loss: 0.0718 - val_output_1_loss: 0.0242 - val_output_2_loss: 0.0476 - val_output_1_accuracy: 0.9936 - val_output_2_accuracy: 0.9882\n"
          ]
        }
      ]
    },
    {
      "cell_type": "code",
      "source": [],
      "metadata": {
        "id": "kuL1YzI780Be"
      },
      "execution_count": null,
      "outputs": []
    },
    {
      "cell_type": "code",
      "source": [
        "def show_predictions(text, tokenizer, model, intent_names, slot_names):\n",
        "    inputs = tf.constant(tokenizer.encode(text))[None, :]  # batch_size = 1\n",
        "    outputs = model(inputs)\n",
        "    slot_logits, intent_logits = outputs\n",
        "    slot_ids = slot_logits.numpy().argmax(axis=-1)[0, 1:-1]\n",
        "    intent_id = intent_logits.numpy().argmax(axis=-1)[0]\n",
        "    print(\"## Intent:\", intent_names[intent_id])\n",
        "    print(\"## Slots:\")\n",
        "    for token, slot_id in zip(tokenizer.tokenize(text), slot_ids):\n",
        "        print(f\"{token:>10} : {slot_names[slot_id]}\")"
      ],
      "metadata": {
        "id": "dHEb85MBaVeT"
      },
      "execution_count": 43,
      "outputs": []
    },
    {
      "cell_type": "code",
      "source": [
        "# Example of classification\n",
        "show_predictions('delete all reminders for this week', tokenizer, joint_model, intent_names, slot_names)"
      ],
      "metadata": {
        "colab": {
          "base_uri": "https://localhost:8080/"
        },
        "id": "TMv8UPIwaVbJ",
        "outputId": "7495e0cb-218a-4a95-8bcc-ca4506e1c0fd"
      },
      "execution_count": 44,
      "outputs": [
        {
          "output_type": "stream",
          "name": "stdout",
          "text": [
            "## Intent: reminder/cancel_reminder\n",
            "## Slots:\n",
            "       del : O\n",
            "     ##ete : O\n",
            "       all : O\n",
            "  reminder : B-reminder/noun\n",
            "       ##s : I-reminder/noun\n",
            "       for : B-datetime\n",
            "      this : I-datetime\n",
            "      week : I-datetime\n"
          ]
        }
      ]
    },
    {
      "cell_type": "code",
      "source": [
        "def decode_predictions(text, tokenizer, intent_names, slot_names, intent_id, slot_ids):\n",
        "    info = {\"intent\": intent_names[intent_id]}\n",
        "    collected_slots = {}\n",
        "    active_slot_words = []\n",
        "    slot_labels = []\n",
        "    active_slot_name = None\n",
        "    for word in text.split():\n",
        "        tokens = tokenizer.tokenize(word)\n",
        "        current_word_slot_ids = slot_ids[:len(tokens)]\n",
        "        slot_ids = slot_ids[len(tokens):]\n",
        "        current_word_slot_name = slot_names[current_word_slot_ids[0]]\n",
        "        slot_labels.append(current_word_slot_name)\n",
        "\n",
        "        if current_word_slot_name == \"O\":\n",
        "            if active_slot_name:\n",
        "                collected_slots[active_slot_name] = \" \".join(active_slot_words)\n",
        "                active_slot_words = []\n",
        "                active_slot_name = None\n",
        "        else:\n",
        "            # Naive BIO: handling: treat B- and I- the same...\n",
        "            new_slot_name = current_word_slot_name[2:]\n",
        "            if active_slot_name is None:\n",
        "                active_slot_words.append(word)\n",
        "                active_slot_name = new_slot_name\n",
        "            elif new_slot_name == active_slot_name:\n",
        "                active_slot_words.append(word)\n",
        "            else:\n",
        "                collected_slots[active_slot_name] = \" \".join(active_slot_words)\n",
        "                active_slot_words = [word]\n",
        "                active_slot_name = new_slot_name\n",
        "    if active_slot_name:\n",
        "        collected_slots[active_slot_name] = \" \".join(active_slot_words)\n",
        "    info[\"slots\"] = collected_slots\n",
        "    return info, slot_labels"
      ],
      "metadata": {
        "id": "QVbxbG-hiGGq"
      },
      "execution_count": 97,
      "outputs": []
    },
    {
      "cell_type": "code",
      "source": [
        "def nlu(text, tokenizer, model, intent_names, slot_names):\n",
        "    inputs = tf.constant(tokenizer.encode(text))[None, :]  # batch_size = 1\n",
        "    outputs = model(inputs)\n",
        "    slot_logits, intent_logits = outputs\n",
        "    slot_ids = slot_logits.numpy().argmax(axis=-1)[0, 1:-1]\n",
        "    intent_id = intent_logits.numpy().argmax(axis=-1)[0]\n",
        "\n",
        "    return decode_predictions(text, tokenizer, intent_names, slot_names, intent_id, slot_ids)"
      ],
      "metadata": {
        "id": "2VBTKlAGiGED"
      },
      "execution_count": 98,
      "outputs": []
    },
    {
      "cell_type": "code",
      "source": [],
      "metadata": {
        "id": "-bE9kJe6VxJ1"
      },
      "execution_count": 96,
      "outputs": []
    },
    {
      "cell_type": "code",
      "source": [
        "output, labels = nlu('delete all reminders for this week', tokenizer, joint_model, intent_names, slot_names)\n",
        "output"
      ],
      "metadata": {
        "colab": {
          "base_uri": "https://localhost:8080/"
        },
        "id": "PNRlTeqBiGBt",
        "outputId": "062ba15f-e240-4736-e602-66f6cca6b251"
      },
      "execution_count": 57,
      "outputs": [
        {
          "output_type": "execute_result",
          "data": {
            "text/plain": [
              "{'intent': 'reminder/cancel_reminder',\n",
              " 'slots': {'reminder/noun': 'reminders', 'datetime': 'for this week'}}"
            ]
          },
          "metadata": {},
          "execution_count": 57
        }
      ]
    },
    {
      "cell_type": "code",
      "source": [
        "labels"
      ],
      "metadata": {
        "id": "dhfdpjVJiF9J",
        "colab": {
          "base_uri": "https://localhost:8080/"
        },
        "outputId": "a1d27b89-51ce-4eff-8ee8-40705e7e9f15"
      },
      "execution_count": 82,
      "outputs": [
        {
          "output_type": "execute_result",
          "data": {
            "text/plain": [
              "['O', 'O', 'B-reminder/noun', 'B-datetime', 'I-datetime', 'I-datetime']"
            ]
          },
          "metadata": {},
          "execution_count": 82
        }
      ]
    },
    {
      "cell_type": "code",
      "source": [],
      "metadata": {
        "id": "Sl-b2jWXoRaP"
      },
      "execution_count": null,
      "outputs": []
    },
    {
      "cell_type": "code",
      "source": [
        "def decode_predictions_v2(text, tokenizer, intent_names, slot_names, intent_id, slot_ids):\n",
        "    slot_labels = []\n",
        "    for word in text.split():\n",
        "        tokens = tokenizer.tokenize(word)\n",
        "        current_word_slot_ids = slot_ids[:len(tokens)]\n",
        "        slot_ids = slot_ids[len(tokens):]\n",
        "        current_word_slot_name = slot_names[current_word_slot_ids[0]]\n",
        "        slot_labels.append(current_word_slot_name)\n",
        "    return slot_labels"
      ],
      "metadata": {
        "id": "q7XmsCx9Wa6P"
      },
      "execution_count": 100,
      "outputs": []
    },
    {
      "cell_type": "code",
      "source": [
        "def nlu_v2(text, tokenizer, model, intent_names, slot_names):\n",
        "    inputs = tf.constant(tokenizer.encode(text))[None, :]  # batch_size = 1\n",
        "    outputs = model(inputs)\n",
        "    slot_logits, intent_logits = outputs\n",
        "    slot_ids = slot_logits.numpy().argmax(axis=-1)[0, 1:-1]\n",
        "    intent_id = intent_logits.numpy().argmax(axis=-1)[0]\n",
        "\n",
        "    return decode_predictions_v2(text, tokenizer, intent_names, slot_names, intent_id, slot_ids)"
      ],
      "metadata": {
        "id": "Gmtj3ydAWa36"
      },
      "execution_count": 126,
      "outputs": []
    },
    {
      "cell_type": "code",
      "source": [
        "predicted_labels = []\n",
        "true_labels = []\n",
        "words_list = []\n",
        "for data in tqdm(list(df_test.iterrows())):\n",
        "    intent_label, words, words_label, _ = data[1]\n",
        "    predicted_label = nlu_v2(words, tokenizer, joint_model, intent_names, slot_names)\n",
        "\n",
        "    predicted_labels.append(predicted_label)\n",
        "    true_labels.append(words_label.split(' '))\n",
        "    words_list.append(words.split(' '))"
      ],
      "metadata": {
        "id": "ZgN7gY9LoRXY",
        "colab": {
          "base_uri": "https://localhost:8080/"
        },
        "outputId": "eae5dec8-2dbf-4c87-f3d1-109365af1e09"
      },
      "execution_count": 129,
      "outputs": [
        {
          "output_type": "stream",
          "name": "stderr",
          "text": [
            "100%|██████████| 7801/7801 [19:34<00:00,  6.64it/s]\n"
          ]
        }
      ]
    },
    {
      "cell_type": "code",
      "source": [],
      "metadata": {
        "id": "XJxa7K28Zr2a"
      },
      "execution_count": null,
      "outputs": []
    },
    {
      "cell_type": "markdown",
      "source": [
        "## Evaluation"
      ],
      "metadata": {
        "id": "X_mevN0NQzHj"
      }
    },
    {
      "cell_type": "code",
      "source": [
        "!wget https://www.comp.nus.edu.sg/%7Ekanmy/courses/practicalNLP_2008/packages/conlleval.pl"
      ],
      "metadata": {
        "id": "n8DZ9ZQSiF6k",
        "colab": {
          "base_uri": "https://localhost:8080/"
        },
        "outputId": "5351d64d-d3fc-4084-dbde-648618e4e72d"
      },
      "execution_count": 106,
      "outputs": [
        {
          "output_type": "stream",
          "name": "stdout",
          "text": [
            "--2022-12-09 14:48:07--  https://www.comp.nus.edu.sg/%7Ekanmy/courses/practicalNLP_2008/packages/conlleval.pl\n",
            "Resolving www.comp.nus.edu.sg (www.comp.nus.edu.sg)... 45.60.35.225\n",
            "Connecting to www.comp.nus.edu.sg (www.comp.nus.edu.sg)|45.60.35.225|:443... connected.\n",
            "HTTP request sent, awaiting response... 200 OK\n",
            "Length: 12728 (12K)\n",
            "Saving to: ‘conlleval.pl’\n",
            "\n",
            "\rconlleval.pl          0%[                    ]       0  --.-KB/s               \rconlleval.pl        100%[===================>]  12.43K  --.-KB/s    in 0.001s  \n",
            "\n",
            "2022-12-09 14:48:07 (12.0 MB/s) - ‘conlleval.pl’ saved [12728/12728]\n",
            "\n"
          ]
        }
      ]
    },
    {
      "cell_type": "code",
      "source": [],
      "metadata": {
        "id": "zFpipdjFiF4K"
      },
      "execution_count": 106,
      "outputs": []
    },
    {
      "cell_type": "code",
      "source": [
        "import random\n",
        "import json\n",
        "import copy\n",
        "import os\n",
        "import stat\n",
        "import subprocess\n",
        "from os.path import isfile, join\n",
        "from os import chmod\n",
        "\n",
        "PREFIX = os.getenv('/your/path/', '') # you should define your perl code directory here\n",
        "\n",
        "\n",
        "def conlleval(p, g, w, filename):\n",
        "    '''\n",
        "    INPUT:\n",
        "    p :: predictions\n",
        "    g :: groundtruth\n",
        "    w :: corresponding words\n",
        "    OUTPUT:\n",
        "    filename :: name of the file where the predictions\n",
        "    are written. it will be the input of conlleval.pl script\n",
        "    for computing the performance in terms of precision\n",
        "    recall and f1 score\n",
        "    '''\n",
        "    out = ''\n",
        "    for sl, sp, sw in zip(g, p, w):\n",
        "        # print(w)\n",
        "        out += 'BOS O O\\n'\n",
        "        for wl, wp, w in zip(sl, sp, sw):\n",
        "            out += w + ' ' + wl + ' ' + wp + '\\n'\n",
        "        out += 'EOS O O\\n\\n'\n",
        "\n",
        "    f = open(filename, 'w')\n",
        "    f.writelines(out)\n",
        "    f.close()\n",
        "\n",
        "    return get_perf(filename)\n",
        "\n",
        "\n",
        "def get_perf(filename):\n",
        "    ''' run conlleval.pl perl script to obtain\n",
        "    precision/recall and F1 score '''\n",
        "    _conlleval = PREFIX + './conlleval.pl'\n",
        "    if not isfile(_conlleval):\n",
        "        # download('http://www-etud.iro.umontreal.ca/~mesnilgr/atis/conlleval.pl')\n",
        "        os.system('wget https://www.comp.nus.edu.sg/%7Ekanmy/courses/practicalNLP_2008/packages/conlleval.pl')\n",
        "        chmod('./conlleval.pl', stat.S_IRWXU)  # give the execute permissions\n",
        "\n",
        "    proc = subprocess.Popen([\"perl\", _conlleval], stdin=subprocess.PIPE, stdout=subprocess.PIPE)\n",
        "    stdout, _ = proc.communicate(open(filename, 'rb').read())\n",
        "    for line in stdout.decode(\"utf-8\").split('\\n'):\n",
        "        if 'accuracy' in line:\n",
        "            out = line.split()\n",
        "            break\n",
        "\n",
        "    # out = ['accuracy:', '16.26%;', 'precision:', '0.00%;', 'recall:', '0.00%;', 'FB1:', '0.00']\n",
        "\n",
        "    precision = float(out[3][:-2])\n",
        "    recall = float(out[5][:-2])\n",
        "    f1score = float(out[7])\n",
        "\n",
        "    return {'p': precision, 'r': recall, 'f1': f1score}\n",
        "\n",
        "\n",
        "def get_perfo(filename):\n",
        "    '''\n",
        "    work around for using a PERL script in python\n",
        "    dirty but still works.\n",
        "    '''\n",
        "    tempfile = str(random.randint(1, np.iinfo('i').max)) + '.txt'\n",
        "    if not isfile(PREFIX + './conlleval.pl'):\n",
        "        os.system('wget https://www.comp.nus.edu.sg/%7Ekanmy/courses/practicalNLP_2008/packages/conlleval.pl')\n",
        "        # download('http://www-etud.iro.umontreal.ca/~mesnilgr/atis/conlleval.pl')\n",
        "        chmod('conlleval.pl', stat.S_IRWXU)  # give the execute permissions\n",
        "    if len(PREFIX) > 0:\n",
        "        chmod(PREFIX + './conlleval.pl', stat.S_IRWXU)  # give the execute permissions\n",
        "        cmd = PREFIX + './conlleval.pl < %s | grep accuracy > %s' % (filename, tempfile)\n",
        "    else:\n",
        "        cmd = './conlleval.pl < %s | grep accuracy > %s' % (filename, tempfile)\n",
        "    print(cmd)\n",
        "    out = os.system(cmd)\n",
        "    out = open(tempfile).readlines()[0].split()\n",
        "    os.system('rm %s' % tempfile)\n",
        "    precision = float(out[6][:-2])\n",
        "    recall = float(out[8][:-2])\n",
        "    f1score = float(out[10])\n",
        "    return {'p': precision, 'r': recall, 'f1': f1score}"
      ],
      "metadata": {
        "id": "-Nq-gC74iF1k"
      },
      "execution_count": 107,
      "outputs": []
    },
    {
      "cell_type": "code",
      "source": [
        "conlleval(p=predicted_labels, g=true_labels, w=words_list, filename='./results.txt')"
      ],
      "metadata": {
        "colab": {
          "base_uri": "https://localhost:8080/"
        },
        "id": "7dcgloCpiFzO",
        "outputId": "6cd8c8ab-58b4-4406-a629-0ad4b5192a61"
      },
      "execution_count": 130,
      "outputs": [
        {
          "output_type": "execute_result",
          "data": {
            "text/plain": [
              "{'p': 93.34, 'r': 93.53, 'f1': 93.44}"
            ]
          },
          "metadata": {},
          "execution_count": 130
        }
      ]
    },
    {
      "cell_type": "code",
      "source": [],
      "metadata": {
        "id": "jj4QKF6MXV2r"
      },
      "execution_count": null,
      "outputs": []
    },
    {
      "cell_type": "code",
      "source": [],
      "metadata": {
        "id": "wBu99HgPf8N8"
      },
      "execution_count": null,
      "outputs": []
    },
    {
      "cell_type": "markdown",
      "source": [
        "Finito"
      ],
      "metadata": {
        "id": "0JMbOFdzf9QY"
      }
    }
  ]
}