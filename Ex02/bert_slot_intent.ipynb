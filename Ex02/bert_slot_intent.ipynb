{
  "nbformat": 4,
  "nbformat_minor": 0,
  "metadata": {
    "colab": {
      "provenance": [],
      "authorship_tag": "ABX9TyPtieM8VeHoJvZWiG8tgct5",
      "include_colab_link": true
    },
    "kernelspec": {
      "name": "python3",
      "display_name": "Python 3"
    },
    "language_info": {
      "name": "python"
    }
  },
  "cells": [
    {
      "cell_type": "markdown",
      "metadata": {
        "id": "view-in-github",
        "colab_type": "text"
      },
      "source": [
        "<a href=\"https://colab.research.google.com/github/nahbos/AUT-Language-Understanding/blob/main/Ex02/bert_slot_intent.ipynb\" target=\"_parent\"><img src=\"https://colab.research.google.com/assets/colab-badge.svg\" alt=\"Open In Colab\"/></a>"
      ]
    },
    {
      "cell_type": "markdown",
      "source": [
        "# Sobhan Moradian Daghigh\n",
        "### **Ex 02: Slot Filling & Intent detection**"
      ],
      "metadata": {
        "id": "7knvZNdexVF1"
      }
    },
    {
      "cell_type": "code",
      "source": [],
      "metadata": {
        "id": "xw7iVLxSDDK1"
      },
      "execution_count": null,
      "outputs": []
    },
    {
      "cell_type": "code",
      "source": [
        "!pip install transformers"
      ],
      "metadata": {
        "colab": {
          "base_uri": "https://localhost:8080/"
        },
        "id": "QrbLIW6HC_gd",
        "outputId": "69277011-be27-44c9-9072-1c778c0fa955"
      },
      "execution_count": 5,
      "outputs": [
        {
          "output_type": "stream",
          "name": "stdout",
          "text": [
            "Looking in indexes: https://pypi.org/simple, https://us-python.pkg.dev/colab-wheels/public/simple/\n",
            "Collecting transformers\n",
            "  Downloading transformers-4.25.1-py3-none-any.whl (5.8 MB)\n",
            "\u001b[K     |████████████████████████████████| 5.8 MB 15.7 MB/s \n",
            "\u001b[?25hRequirement already satisfied: pyyaml>=5.1 in /usr/local/lib/python3.8/dist-packages (from transformers) (6.0)\n",
            "Requirement already satisfied: filelock in /usr/local/lib/python3.8/dist-packages (from transformers) (3.8.0)\n",
            "Collecting huggingface-hub<1.0,>=0.10.0\n",
            "  Downloading huggingface_hub-0.11.1-py3-none-any.whl (182 kB)\n",
            "\u001b[K     |████████████████████████████████| 182 kB 60.2 MB/s \n",
            "\u001b[?25hRequirement already satisfied: regex!=2019.12.17 in /usr/local/lib/python3.8/dist-packages (from transformers) (2022.6.2)\n",
            "Requirement already satisfied: requests in /usr/local/lib/python3.8/dist-packages (from transformers) (2.23.0)\n",
            "Requirement already satisfied: tqdm>=4.27 in /usr/local/lib/python3.8/dist-packages (from transformers) (4.64.1)\n",
            "Collecting tokenizers!=0.11.3,<0.14,>=0.11.1\n",
            "  Downloading tokenizers-0.13.2-cp38-cp38-manylinux_2_17_x86_64.manylinux2014_x86_64.whl (7.6 MB)\n",
            "\u001b[K     |████████████████████████████████| 7.6 MB 49.9 MB/s \n",
            "\u001b[?25hRequirement already satisfied: packaging>=20.0 in /usr/local/lib/python3.8/dist-packages (from transformers) (21.3)\n",
            "Requirement already satisfied: numpy>=1.17 in /usr/local/lib/python3.8/dist-packages (from transformers) (1.21.6)\n",
            "Requirement already satisfied: typing-extensions>=3.7.4.3 in /usr/local/lib/python3.8/dist-packages (from huggingface-hub<1.0,>=0.10.0->transformers) (4.4.0)\n",
            "Requirement already satisfied: pyparsing!=3.0.5,>=2.0.2 in /usr/local/lib/python3.8/dist-packages (from packaging>=20.0->transformers) (3.0.9)\n",
            "Requirement already satisfied: chardet<4,>=3.0.2 in /usr/local/lib/python3.8/dist-packages (from requests->transformers) (3.0.4)\n",
            "Requirement already satisfied: certifi>=2017.4.17 in /usr/local/lib/python3.8/dist-packages (from requests->transformers) (2022.9.24)\n",
            "Requirement already satisfied: urllib3!=1.25.0,!=1.25.1,<1.26,>=1.21.1 in /usr/local/lib/python3.8/dist-packages (from requests->transformers) (1.24.3)\n",
            "Requirement already satisfied: idna<3,>=2.5 in /usr/local/lib/python3.8/dist-packages (from requests->transformers) (2.10)\n",
            "Installing collected packages: tokenizers, huggingface-hub, transformers\n",
            "Successfully installed huggingface-hub-0.11.1 tokenizers-0.13.2 transformers-4.25.1\n"
          ]
        }
      ]
    },
    {
      "cell_type": "code",
      "execution_count": 6,
      "metadata": {
        "id": "z_UalGsWrry_"
      },
      "outputs": [],
      "source": [
        "# Load packages\n",
        "import numpy as np\n",
        "import pandas as pd\n",
        "import matplotlib.pyplot as plt\n",
        "\n",
        "from pathlib import Path\n",
        "from transformers import BertTokenizer, TFBertModel\n",
        "from urllib.request import urlretrieve\n",
        "\n",
        "import tensorflow as tf\n",
        "from tensorflow.keras.layers import Dense, Dropout\n",
        "from tensorflow.keras.losses import SparseCategoricalCrossentropy\n",
        "from tensorflow.keras.metrics import SparseCategoricalAccuracy\n",
        "from tensorflow.keras.optimizers import Adam"
      ]
    },
    {
      "cell_type": "code",
      "source": [
        "!wget -nc https://raw.githubusercontent.com/nahbos/AUT-Language-Understanding/main/Ex02/dataset/development-en.conllu\n",
        "!wget -nc https://raw.githubusercontent.com/nahbos/AUT-Language-Understanding/main/Ex02/dataset/test-en.conllu\n",
        "!wget -nc https://raw.githubusercontent.com/nahbos/AUT-Language-Understanding/main/Ex02/dataset/train-en.conllu"
      ],
      "metadata": {
        "colab": {
          "base_uri": "https://localhost:8080/"
        },
        "id": "7VffDuJQx3L5",
        "outputId": "484cb277-bbc5-4c36-e9ab-b0e6d872ae2b"
      },
      "execution_count": 1,
      "outputs": [
        {
          "output_type": "stream",
          "name": "stdout",
          "text": [
            "--2022-12-08 13:49:18--  https://raw.githubusercontent.com/nahbos/AUT-Language-Understanding/main/Ex02/dataset/development-en.conllu\n",
            "Resolving raw.githubusercontent.com (raw.githubusercontent.com)... 185.199.111.133, 185.199.109.133, 185.199.110.133, ...\n",
            "Connecting to raw.githubusercontent.com (raw.githubusercontent.com)|185.199.111.133|:443... connected.\n",
            "HTTP request sent, awaiting response... 200 OK\n",
            "Length: 1492856 (1.4M) [text/plain]\n",
            "Saving to: ‘development-en.conllu’\n",
            "\n",
            "development-en.conl 100%[===================>]   1.42M  --.-KB/s    in 0.02s   \n",
            "\n",
            "2022-12-08 13:49:18 (69.5 MB/s) - ‘development-en.conllu’ saved [1492856/1492856]\n",
            "\n",
            "--2022-12-08 13:49:18--  https://raw.githubusercontent.com/nahbos/AUT-Language-Understanding/main/Ex02/dataset/test-en.conllu\n",
            "Resolving raw.githubusercontent.com (raw.githubusercontent.com)... 185.199.110.133, 185.199.108.133, 185.199.109.133, ...\n",
            "Connecting to raw.githubusercontent.com (raw.githubusercontent.com)|185.199.110.133|:443... connected.\n",
            "HTTP request sent, awaiting response... 200 OK\n",
            "Length: 3084155 (2.9M) [text/plain]\n",
            "Saving to: ‘test-en.conllu’\n",
            "\n",
            "test-en.conllu      100%[===================>]   2.94M  --.-KB/s    in 0.02s   \n",
            "\n",
            "2022-12-08 13:49:19 (118 MB/s) - ‘test-en.conllu’ saved [3084155/3084155]\n",
            "\n",
            "--2022-12-08 13:49:19--  https://raw.githubusercontent.com/nahbos/AUT-Language-Understanding/main/Ex02/dataset/train-en.conllu\n",
            "Resolving raw.githubusercontent.com (raw.githubusercontent.com)... 185.199.108.133, 185.199.109.133, 185.199.110.133, ...\n",
            "Connecting to raw.githubusercontent.com (raw.githubusercontent.com)|185.199.108.133|:443... connected.\n",
            "HTTP request sent, awaiting response... 200 OK\n",
            "Length: 10915848 (10M) [text/plain]\n",
            "Saving to: ‘train-en.conllu’\n",
            "\n",
            "train-en.conllu     100%[===================>]  10.41M  --.-KB/s    in 0.05s   \n",
            "\n",
            "2022-12-08 13:49:19 (198 MB/s) - ‘train-en.conllu’ saved [10915848/10915848]\n",
            "\n"
          ]
        }
      ]
    },
    {
      "cell_type": "code",
      "source": [],
      "metadata": {
        "id": "4HGDYAGEx3JY"
      },
      "execution_count": null,
      "outputs": []
    },
    {
      "cell_type": "code",
      "source": [
        "lines_train = Path('./train-en.conllu').read_text('utf-8').strip().splitlines()"
      ],
      "metadata": {
        "id": "QGHIm46_x3G_"
      },
      "execution_count": 7,
      "outputs": []
    },
    {
      "cell_type": "code",
      "source": [
        "print(lines_train[0])"
      ],
      "metadata": {
        "colab": {
          "base_uri": "https://localhost:8080/"
        },
        "id": "Cu_3Yt0gx3EL",
        "outputId": "2b0a5f43-9ec7-4df0-8ba9-9e1b3813ff2f"
      },
      "execution_count": 10,
      "outputs": [
        {
          "output_type": "stream",
          "name": "stdout",
          "text": [
            "# text: tell me the weather report for half moon bay\n"
          ]
        }
      ]
    },
    {
      "cell_type": "code",
      "source": [
        "def data_preparing(dataset_path):\n",
        "    prepared = []\n",
        "    data_list = set(Path(dataset_path).read_text('utf-8').strip().split('\\n\\n'))\n",
        "    for data in data_list:\n",
        "        data_dic = ''\n",
        "        for line in data.split('\\n')[3:]:\n",
        "            bio = line.split('\\t')[-1]    # BIO\n",
        "            bio = bio if bio != 'NoLabel' else 'O'\n",
        "            tokens = line.split('\\t')[1]  # tokens\n",
        "            intent = data.split('\\n')[1].split(':')[1].strip()  # intent\n",
        "            data_dic += (tokens + \":\" + bio + ' ')\n",
        "        data_dic += '<=> ' + intent\n",
        "        prepared.append(data_dic)\n",
        "    return prepared"
      ],
      "metadata": {
        "id": "2JIaagHux3Bj"
      },
      "execution_count": 50,
      "outputs": []
    },
    {
      "cell_type": "code",
      "source": [
        "train = data_preparing('./train-en.conllu')\n",
        "val   = data_preparing('./development-en.conllu')\n",
        "test  = data_preparing('./test-en.conllu')"
      ],
      "metadata": {
        "id": "FfnATgp9YtYf"
      },
      "execution_count": 54,
      "outputs": []
    },
    {
      "cell_type": "code",
      "source": [
        "train[:10]"
      ],
      "metadata": {
        "colab": {
          "base_uri": "https://localhost:8080/"
        },
        "id": "CH9V0CxrcFrR",
        "outputId": "4757c408-70c6-4a6c-cdc5-c826dcf51f3c"
      },
      "execution_count": 55,
      "outputs": [
        {
          "output_type": "execute_result",
          "data": {
            "text/plain": [
              "['cancel:O reminder:B-reminder/noun for:O school:B-reminder/todo meeting:I-reminder/todo <=> reminder/cancel_reminder',\n",
              " 'set:O an:O alarm:O for:B-datetime 3:I-datetime pm:I-datetime every:I-datetime work:I-datetime day:I-datetime <=> alarm/set_alarm',\n",
              " 'what:O is:O the:O weather:B-weather/noun in:O clearwater:B-location <=> weather/find',\n",
              " 'set:O the:O alarm:O for:B-datetime 20:I-datetime minutes:I-datetime from:I-datetime now:I-datetime <=> alarm/set_alarm',\n",
              " 'delete:O 8:B-datetime a.m:I-datetime alarm:O .:O <=> alarm/cancel_alarm',\n",
              " 'what:O kind:O of:O weather:B-weather/noun am:O i:O going:O to:O have:O in:O san:B-location diego:I-location this:B-datetime weekend:I-datetime <=> weather/find',\n",
              " 'is:O it:O going:O to:O be:O hot:B-weather/attribute this:B-datetime evening:I-datetime ?:O <=> weather/find',\n",
              " 'set:O alarm:O every:B-datetime minute:I-datetime for:I-datetime 30:I-datetime minutes:I-datetime <=> alarm/set_alarm',\n",
              " 'set:O two:O alarms:O .:O one:O for:B-datetime 8:I-datetime ::I-datetime 30am:I-datetime and:O one:O for:B-datetime 8:I-datetime ::I-datetime 45am:I-datetime .:O <=> alarm/set_alarm',\n",
              " \"cancel:O tuesday's:B-datetime alarms:O <=> alarm/cancel_alarm\"]"
            ]
          },
          "metadata": {},
          "execution_count": 55
        }
      ]
    },
    {
      "cell_type": "code",
      "source": [],
      "metadata": {
        "id": "tOIQkwCpdX4N"
      },
      "execution_count": null,
      "outputs": []
    },
    {
      "cell_type": "code",
      "source": [],
      "metadata": {
        "id": "In7hpA8fdX1K"
      },
      "execution_count": null,
      "outputs": []
    },
    {
      "cell_type": "code",
      "source": [],
      "metadata": {
        "id": "HidLAwL3dXxw"
      },
      "execution_count": null,
      "outputs": []
    },
    {
      "cell_type": "code",
      "source": [
        "tt = Path('./train-en.conllu').read_text('utf-8').strip().split('\\n\\n')"
      ],
      "metadata": {
        "id": "5CBvCizMx2-7"
      },
      "execution_count": 19,
      "outputs": []
    },
    {
      "cell_type": "code",
      "source": [
        "tt[0].split('\\n')"
      ],
      "metadata": {
        "colab": {
          "base_uri": "https://localhost:8080/"
        },
        "id": "4i3a8XktX2hI",
        "outputId": "5509e4c0-0922-460d-8097-e97746b9f1fe"
      },
      "execution_count": 24,
      "outputs": [
        {
          "output_type": "execute_result",
          "data": {
            "text/plain": [
              "['# text: tell me the weather report for half moon bay',\n",
              " '# intent: weather/find',\n",
              " '# slots: 12:26:weather/noun,31:44:location',\n",
              " '1\\ttell\\tweather/find\\tNoLabel',\n",
              " '2\\tme\\tweather/find\\tNoLabel',\n",
              " '3\\tthe\\tweather/find\\tNoLabel',\n",
              " '4\\tweather\\tweather/find\\tB-weather/noun',\n",
              " '5\\treport\\tweather/find\\tI-weather/noun',\n",
              " '6\\tfor\\tweather/find\\tNoLabel',\n",
              " '7\\thalf\\tweather/find\\tB-location',\n",
              " '8\\tmoon\\tweather/find\\tI-location',\n",
              " '9\\tbay\\tweather/find\\tI-location']"
            ]
          },
          "metadata": {},
          "execution_count": 24
        }
      ]
    },
    {
      "cell_type": "code",
      "source": [
        "lis = []\n",
        "for line in tt[0].split('\\n')[3:]:\n",
        "    bio = line.split('\\t')[-1]\n",
        "    lis.append(bio)"
      ],
      "metadata": {
        "id": "6yuBq_2ex28U"
      },
      "execution_count": 31,
      "outputs": []
    },
    {
      "cell_type": "code",
      "source": [
        "for line in tt[0].split('\\n')[3:]:\n",
        "    tokens = line.split('\\t')[1] # tokens\n",
        "    print(bio)"
      ],
      "metadata": {
        "colab": {
          "base_uri": "https://localhost:8080/"
        },
        "id": "XkhyA9ZPx25h",
        "outputId": "b35ad989-bd37-4ac3-e5d0-8540a0b5463c"
      },
      "execution_count": 34,
      "outputs": [
        {
          "output_type": "stream",
          "name": "stdout",
          "text": [
            "tell\n",
            "me\n",
            "the\n",
            "weather\n",
            "report\n",
            "for\n",
            "half\n",
            "moon\n",
            "bay\n"
          ]
        }
      ]
    },
    {
      "cell_type": "code",
      "source": [
        "data_list = set(Path('./train-en.conllu').read_text('utf-8').strip().split('\\n\\n'))"
      ],
      "metadata": {
        "id": "RluGW3YNx22t"
      },
      "execution_count": 46,
      "outputs": []
    },
    {
      "cell_type": "code",
      "source": [
        "data_list = Path('./train-en.conllu').read_text('utf-8').strip().split('\\n\\n')\n"
      ],
      "metadata": {
        "id": "pTyUHsGNcyho"
      },
      "execution_count": 48,
      "outputs": []
    },
    {
      "cell_type": "code",
      "source": [
        "len(data_list)"
      ],
      "metadata": {
        "colab": {
          "base_uri": "https://localhost:8080/"
        },
        "id": "WKHLnwMjx2xI",
        "outputId": "f9892f5c-071a-4285-fd92-cf4c50dccc32"
      },
      "execution_count": 49,
      "outputs": [
        {
          "output_type": "execute_result",
          "data": {
            "text/plain": [
              "30521"
            ]
          },
          "metadata": {},
          "execution_count": 49
        }
      ]
    },
    {
      "cell_type": "code",
      "source": [],
      "metadata": {
        "id": "BoDrG4ytx2uP"
      },
      "execution_count": null,
      "outputs": []
    },
    {
      "cell_type": "code",
      "source": [],
      "metadata": {
        "id": "0nwLbiFIx2rL"
      },
      "execution_count": null,
      "outputs": []
    },
    {
      "cell_type": "code",
      "source": [],
      "metadata": {
        "id": "2jVxDDulx2oN"
      },
      "execution_count": null,
      "outputs": []
    },
    {
      "cell_type": "code",
      "source": [],
      "metadata": {
        "id": "E0oc_fn1x2lW"
      },
      "execution_count": null,
      "outputs": []
    },
    {
      "cell_type": "code",
      "source": [],
      "metadata": {
        "id": "wy9wd1ntx2id"
      },
      "execution_count": null,
      "outputs": []
    },
    {
      "cell_type": "code",
      "source": [],
      "metadata": {
        "id": "AkrLu4jUx2fW"
      },
      "execution_count": null,
      "outputs": []
    },
    {
      "cell_type": "code",
      "source": [],
      "metadata": {
        "id": "XW1Mb2gsx2cN"
      },
      "execution_count": null,
      "outputs": []
    },
    {
      "cell_type": "code",
      "source": [],
      "metadata": {
        "id": "NsGwdeXgx2ZG"
      },
      "execution_count": null,
      "outputs": []
    },
    {
      "cell_type": "code",
      "source": [],
      "metadata": {
        "id": "y4XvkmCGx2V-"
      },
      "execution_count": null,
      "outputs": []
    },
    {
      "cell_type": "code",
      "source": [],
      "metadata": {
        "id": "B5tHo1NPx2S7"
      },
      "execution_count": null,
      "outputs": []
    },
    {
      "cell_type": "code",
      "source": [],
      "metadata": {
        "id": "udyOfUADx2P4"
      },
      "execution_count": null,
      "outputs": []
    },
    {
      "cell_type": "code",
      "source": [],
      "metadata": {
        "id": "zaDmpXc8x2Ms"
      },
      "execution_count": null,
      "outputs": []
    },
    {
      "cell_type": "code",
      "source": [],
      "metadata": {
        "id": "YUOWWcckx2JW"
      },
      "execution_count": null,
      "outputs": []
    },
    {
      "cell_type": "code",
      "source": [],
      "metadata": {
        "id": "813NNUQNx2GN"
      },
      "execution_count": null,
      "outputs": []
    },
    {
      "cell_type": "code",
      "source": [],
      "metadata": {
        "id": "_tDMqMIxx2C2"
      },
      "execution_count": null,
      "outputs": []
    },
    {
      "cell_type": "code",
      "source": [],
      "metadata": {
        "id": "VWtfCgNVx1_u"
      },
      "execution_count": null,
      "outputs": []
    },
    {
      "cell_type": "code",
      "source": [],
      "metadata": {
        "id": "jjpVAkUDx18L"
      },
      "execution_count": null,
      "outputs": []
    },
    {
      "cell_type": "code",
      "source": [],
      "metadata": {
        "id": "xA7iMPr8x15E"
      },
      "execution_count": null,
      "outputs": []
    },
    {
      "cell_type": "code",
      "source": [],
      "metadata": {
        "id": "cVNkM5SHx11s"
      },
      "execution_count": null,
      "outputs": []
    },
    {
      "cell_type": "code",
      "source": [],
      "metadata": {
        "id": "C5gtyMyex1yT"
      },
      "execution_count": null,
      "outputs": []
    },
    {
      "cell_type": "code",
      "source": [],
      "metadata": {
        "id": "9IrCgmKVx1vD"
      },
      "execution_count": null,
      "outputs": []
    },
    {
      "cell_type": "code",
      "source": [],
      "metadata": {
        "id": "inE9TAiVx1rr"
      },
      "execution_count": null,
      "outputs": []
    },
    {
      "cell_type": "code",
      "source": [],
      "metadata": {
        "id": "iFrHAOLbx1lL"
      },
      "execution_count": null,
      "outputs": []
    },
    {
      "cell_type": "code",
      "source": [],
      "metadata": {
        "id": "doxCTr0yx1h8"
      },
      "execution_count": null,
      "outputs": []
    },
    {
      "cell_type": "code",
      "source": [],
      "metadata": {
        "id": "iAma2W8px1ek"
      },
      "execution_count": null,
      "outputs": []
    }
  ]
}